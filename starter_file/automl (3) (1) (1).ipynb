{
  "cells": [
    {
      "cell_type": "markdown",
      "source": [
        "# Automated ML\n",
        "\n",
        "TODO: Import Dependencies. In the cell below, import all the dependencies that you will need to complete the project."
      ],
      "metadata": {}
    },
    {
      "cell_type": "code",
      "source": [
        "import json\r\n",
        "import azureml.core\r\n",
        "from azureml.data.dataset_factory import TabularDatasetFactory\r\n",
        "from azureml.core.model import Model\r\n",
        "from azureml.core import Workspace, Experiment, Model, Dataset\r\n",
        "from azureml.core.compute import ComputeTarget, AmlCompute\r\n",
        "# from azureml.core.compute_target import ComputeTargetException\r\n",
        "from azureml.widgets import RunDetails\r\n",
        "from azureml.train.automl import AutoMLConfig\r\n",
        "from azureml.core.environment import Environment\r\n",
        "from azureml.core.model import InferenceConfig\r\n",
        "from azureml.core.webservice import AciWebservice, Webservice\r\n",
        "import os\r\n",
        "import pandas as pd\r\n",
        "import numpy as np\r\n",
        "import json\r\n",
        "import requests\r\n",
        "import joblib\r\n",
        "from sklearn.metrics import confusion_matrix\r\n",
        "import itertools\r\n",
        "\r\n"
      ],
      "outputs": [],
      "execution_count": 2,
      "metadata": {
        "gather": {
          "logged": 1612727528060
        },
        "jupyter": {
          "outputs_hidden": false,
          "source_hidden": false
        },
        "nteract": {
          "transient": {
            "deleting": false
          }
        }
      }
    },
    {
      "cell_type": "markdown",
      "source": [
        "## Dataset\n",
        "\n",
        "### Overview\n",
        "TODO: In this markdown cell, give an overview of the dataset you are using. Also mention the task you will be performing.\n",
        "\n",
        "I got this dataset from Kaggle. In this dataset there are 12 features that can be used to predict mortality by heart failure, and the target is the DEATH_EVENT column that has two values; 1 means the patient died during the follow-up period and 0 means the person still alive/dropped out of the study. The dataset consists of 300 records/rows and 12 features/columns.\n",
        "And the task is Classification\n",
        "\n",
        "\n",
        "TODO: Get data. In the cell below, write code to access the data you will be using in this project. Remember that the dataset needs to be external."
      ],
      "metadata": {}
    },
    {
      "cell_type": "code",
      "source": [
        "ws = Workspace.from_config()\n",
        "\n",
        "# choose a name for experiment\n",
        "experiment_name = 'auto-ml-exp'\n",
        "\n",
        "experiment=Experiment(ws, experiment_name)"
      ],
      "outputs": [
        {
          "output_type": "stream",
          "name": "stdout",
          "text": [
            "Performing interactive authentication. Please follow the instructions on the terminal.\n",
            "To sign in, use a web browser to open the page https://microsoft.com/devicelogin and enter the code A5UU8QH44 to authenticate.\n",
            "You have logged in. Now let us find all the subscriptions to which you have access...\n",
            "Interactive authentication successfully completed.\n"
          ]
        }
      ],
      "execution_count": 3,
      "metadata": {
        "gather": {
          "logged": 1612727559499
        },
        "jupyter": {
          "outputs_hidden": false,
          "source_hidden": false
        },
        "nteract": {
          "transient": {
            "deleting": false
          }
        }
      }
    },
    {
      "cell_type": "code",
      "source": [
        "from azureml.core.compute_target import ComputeTargetException\r\n",
        "from azureml.core.compute import ComputeTarget, AmlCompute\r\n",
        "\r\n",
        "\r\n",
        "aml_compute_cluster = \"heart-compute\" #can not be more than 16 chars\r\n",
        "\r\n",
        "# Verify that cluster does not exist already\r\n",
        "try:\r\n",
        "    compute_target = ComputeTarget(workspace=ws, name=aml_compute_cluster)\r\n",
        "    print('Found existing cluster, use it.')\r\n",
        "except ComputeTargetException: \r\n",
        "    compute_config = AmlCompute.provisioning_configuration(vm_size='Standard_D2_V2', min_nodes=1,max_nodes=4)\r\n",
        "    compute_target = ComputeTarget.create(ws, aml_compute_cluster, compute_config)\r\n",
        "\r\n",
        "compute_target.wait_for_completion(show_output=True, min_node_count = 1, timeout_in_minutes = 10)\r\n",
        "print(compute_target.get_status().serialize())"
      ],
      "outputs": [
        {
          "output_type": "stream",
          "name": "stdout",
          "text": [
            "Found existing cluster, use it.\n",
            "Succeeded\n",
            "AmlCompute wait for completion finished\n",
            "\n",
            "Minimum number of nodes requested have been provisioned\n",
            "{'currentNodeCount': 1, 'targetNodeCount': 1, 'nodeStateCounts': {'preparingNodeCount': 1, 'runningNodeCount': 0, 'idleNodeCount': 0, 'unusableNodeCount': 0, 'leavingNodeCount': 0, 'preemptedNodeCount': 0}, 'allocationState': 'Steady', 'allocationStateTransitionTime': '2021-02-07T19:55:40.723000+00:00', 'errors': None, 'creationTime': '2021-02-07T19:53:20.699566+00:00', 'modifiedTime': '2021-02-07T19:53:36.613645+00:00', 'provisioningState': 'Succeeded', 'provisioningStateTransitionTime': None, 'scaleSettings': {'minNodeCount': 1, 'maxNodeCount': 4, 'nodeIdleTimeBeforeScaleDown': 'PT120S'}, 'vmPriority': 'Dedicated', 'vmSize': 'STANDARD_D2_V2'}\n"
          ]
        }
      ],
      "execution_count": 5,
      "metadata": {
        "collapsed": true,
        "jupyter": {
          "source_hidden": false,
          "outputs_hidden": false
        },
        "nteract": {
          "transient": {
            "deleting": false
          }
        },
        "gather": {
          "logged": 1612727798656
        }
      }
    },
    {
      "cell_type": "code",
      "source": [
        "\r\n",
        "key = \"HeartFailure-Dataset\"\r\n",
        "\r\n",
        "dataset = ws.datasets[key]\r\n",
        "\r\n",
        "df = dataset.to_pandas_dataframe()\r\n",
        "df.describe()"
      ],
      "outputs": [
        {
          "output_type": "execute_result",
          "execution_count": 7,
          "data": {
            "text/plain": "              age     anaemia  creatinine_phosphokinase    diabetes  \\\ncount  299.000000  299.000000                299.000000  299.000000   \nmean    60.833893    0.431438                581.839465    0.418060   \nstd     11.894809    0.496107                970.287881    0.494067   \nmin     40.000000    0.000000                 23.000000    0.000000   \n25%     51.000000    0.000000                116.500000    0.000000   \n50%     60.000000    0.000000                250.000000    0.000000   \n75%     70.000000    1.000000                582.000000    1.000000   \nmax     95.000000    1.000000               7861.000000    1.000000   \n\n       ejection_fraction  high_blood_pressure      platelets  \\\ncount         299.000000           299.000000     299.000000   \nmean           38.083612             0.351171  263358.029264   \nstd            11.834841             0.478136   97804.236869   \nmin            14.000000             0.000000   25100.000000   \n25%            30.000000             0.000000  212500.000000   \n50%            38.000000             0.000000  262000.000000   \n75%            45.000000             1.000000  303500.000000   \nmax            80.000000             1.000000  850000.000000   \n\n       serum_creatinine  serum_sodium         sex    smoking        time  \\\ncount         299.00000    299.000000  299.000000  299.00000  299.000000   \nmean            1.39388    136.625418    0.648829    0.32107  130.260870   \nstd             1.03451      4.412477    0.478136    0.46767   77.614208   \nmin             0.50000    113.000000    0.000000    0.00000    4.000000   \n25%             0.90000    134.000000    0.000000    0.00000   73.000000   \n50%             1.10000    137.000000    1.000000    0.00000  115.000000   \n75%             1.40000    140.000000    1.000000    1.00000  203.000000   \nmax             9.40000    148.000000    1.000000    1.00000  285.000000   \n\n       DEATH_EVENT  \ncount    299.00000  \nmean       0.32107  \nstd        0.46767  \nmin        0.00000  \n25%        0.00000  \n50%        0.00000  \n75%        1.00000  \nmax        1.00000  ",
            "text/html": "<div>\n<style scoped>\n    .dataframe tbody tr th:only-of-type {\n        vertical-align: middle;\n    }\n\n    .dataframe tbody tr th {\n        vertical-align: top;\n    }\n\n    .dataframe thead th {\n        text-align: right;\n    }\n</style>\n<table border=\"1\" class=\"dataframe\">\n  <thead>\n    <tr style=\"text-align: right;\">\n      <th></th>\n      <th>age</th>\n      <th>anaemia</th>\n      <th>creatinine_phosphokinase</th>\n      <th>diabetes</th>\n      <th>ejection_fraction</th>\n      <th>high_blood_pressure</th>\n      <th>platelets</th>\n      <th>serum_creatinine</th>\n      <th>serum_sodium</th>\n      <th>sex</th>\n      <th>smoking</th>\n      <th>time</th>\n      <th>DEATH_EVENT</th>\n    </tr>\n  </thead>\n  <tbody>\n    <tr>\n      <th>count</th>\n      <td>299.000000</td>\n      <td>299.000000</td>\n      <td>299.000000</td>\n      <td>299.000000</td>\n      <td>299.000000</td>\n      <td>299.000000</td>\n      <td>299.000000</td>\n      <td>299.00000</td>\n      <td>299.000000</td>\n      <td>299.000000</td>\n      <td>299.00000</td>\n      <td>299.000000</td>\n      <td>299.00000</td>\n    </tr>\n    <tr>\n      <th>mean</th>\n      <td>60.833893</td>\n      <td>0.431438</td>\n      <td>581.839465</td>\n      <td>0.418060</td>\n      <td>38.083612</td>\n      <td>0.351171</td>\n      <td>263358.029264</td>\n      <td>1.39388</td>\n      <td>136.625418</td>\n      <td>0.648829</td>\n      <td>0.32107</td>\n      <td>130.260870</td>\n      <td>0.32107</td>\n    </tr>\n    <tr>\n      <th>std</th>\n      <td>11.894809</td>\n      <td>0.496107</td>\n      <td>970.287881</td>\n      <td>0.494067</td>\n      <td>11.834841</td>\n      <td>0.478136</td>\n      <td>97804.236869</td>\n      <td>1.03451</td>\n      <td>4.412477</td>\n      <td>0.478136</td>\n      <td>0.46767</td>\n      <td>77.614208</td>\n      <td>0.46767</td>\n    </tr>\n    <tr>\n      <th>min</th>\n      <td>40.000000</td>\n      <td>0.000000</td>\n      <td>23.000000</td>\n      <td>0.000000</td>\n      <td>14.000000</td>\n      <td>0.000000</td>\n      <td>25100.000000</td>\n      <td>0.50000</td>\n      <td>113.000000</td>\n      <td>0.000000</td>\n      <td>0.00000</td>\n      <td>4.000000</td>\n      <td>0.00000</td>\n    </tr>\n    <tr>\n      <th>25%</th>\n      <td>51.000000</td>\n      <td>0.000000</td>\n      <td>116.500000</td>\n      <td>0.000000</td>\n      <td>30.000000</td>\n      <td>0.000000</td>\n      <td>212500.000000</td>\n      <td>0.90000</td>\n      <td>134.000000</td>\n      <td>0.000000</td>\n      <td>0.00000</td>\n      <td>73.000000</td>\n      <td>0.00000</td>\n    </tr>\n    <tr>\n      <th>50%</th>\n      <td>60.000000</td>\n      <td>0.000000</td>\n      <td>250.000000</td>\n      <td>0.000000</td>\n      <td>38.000000</td>\n      <td>0.000000</td>\n      <td>262000.000000</td>\n      <td>1.10000</td>\n      <td>137.000000</td>\n      <td>1.000000</td>\n      <td>0.00000</td>\n      <td>115.000000</td>\n      <td>0.00000</td>\n    </tr>\n    <tr>\n      <th>75%</th>\n      <td>70.000000</td>\n      <td>1.000000</td>\n      <td>582.000000</td>\n      <td>1.000000</td>\n      <td>45.000000</td>\n      <td>1.000000</td>\n      <td>303500.000000</td>\n      <td>1.40000</td>\n      <td>140.000000</td>\n      <td>1.000000</td>\n      <td>1.00000</td>\n      <td>203.000000</td>\n      <td>1.00000</td>\n    </tr>\n    <tr>\n      <th>max</th>\n      <td>95.000000</td>\n      <td>1.000000</td>\n      <td>7861.000000</td>\n      <td>1.000000</td>\n      <td>80.000000</td>\n      <td>1.000000</td>\n      <td>850000.000000</td>\n      <td>9.40000</td>\n      <td>148.000000</td>\n      <td>1.000000</td>\n      <td>1.00000</td>\n      <td>285.000000</td>\n      <td>1.00000</td>\n    </tr>\n  </tbody>\n</table>\n</div>"
          },
          "metadata": {}
        }
      ],
      "execution_count": 7,
      "metadata": {
        "collapsed": true,
        "jupyter": {
          "source_hidden": false,
          "outputs_hidden": false
        },
        "nteract": {
          "transient": {
            "deleting": false
          }
        },
        "gather": {
          "logged": 1612727926548
        }
      }
    },
    {
      "cell_type": "markdown",
      "source": [
        "## AutoML Configuration\n",
        "\n",
        "TODO: Explain why you chose the automl settings and cofiguration you used below.\n",
        "\n",
        "**experiment_timeout_minutes**: 20 -> The amount of time the experiment takes before it terminates\n",
        "\n",
        "**max_concurrent_iterations**: 4 -> The max number of iteration that can be executed in parallel \n",
        "\n",
        "**n_cross_validations**: 3 -> To avoid falling in overfitting\n",
        "\n",
        "**primary_metric** : 'accuracy' -> The metric that will be optimized for model selection\n",
        "\n",
        "**compute target**: used to run the experiment on\n",
        "\n",
        "**task**: Classification since I will be having binary predictions"
      ],
      "metadata": {}
    },
    {
      "cell_type": "code",
      "source": [
        "# TODO: Put your automl settings here\n",
        "automl_settings = {\n",
        "    \"experiment_timeout_minutes\": 20,\n",
        "    \"max_concurrent_iterations\": 4,\n",
        "    \"n_cross_validations\": 3,\n",
        "    \"primary_metric\" : 'accuracy'\n",
        "}\n",
        "\n",
        "# TODO: Put your automl config here\n",
        "automl_config = AutoMLConfig(\n",
        "                             compute_target=compute_target,\n",
        "                             task = \"classification\",\n",
        "                             training_data=dataset,\n",
        "                             label_column_name=\"DEATH_EVENT\", \n",
        "                             enable_early_stopping= True,\n",
        "                             **automl_settings\n",
        ")"
      ],
      "outputs": [],
      "execution_count": 8,
      "metadata": {
        "gather": {
          "logged": 1612728000847
        },
        "jupyter": {
          "outputs_hidden": false,
          "source_hidden": false
        },
        "nteract": {
          "transient": {
            "deleting": false
          }
        }
      }
    },
    {
      "cell_type": "code",
      "source": [
        "# TODO: Submit your experiment\n",
        "remote_run = experiment.submit(automl_config, show_output=True)"
      ],
      "outputs": [
        {
          "output_type": "stream",
          "name": "stdout",
          "text": [
            "Running on remote.\n",
            "No run_configuration provided, running on heart-compute with default configuration\n",
            "Running on remote compute: heart-compute\n",
            "Parent Run ID: AutoML_da0f5073-4f86-43a2-b902-0d62d74e6569\n",
            "\n",
            "Current status: FeaturesGeneration. Generating features for the dataset.\n",
            "Current status: ModelSelection. Beginning model selection.\n",
            "\n",
            "****************************************************************************************************\n",
            "DATA GUARDRAILS: \n",
            "\n",
            "TYPE:         Class balancing detection\n",
            "STATUS:       PASSED\n",
            "DESCRIPTION:  Your inputs were analyzed, and all classes are balanced in your training data.\n",
            "              Learn more about imbalanced data: https://aka.ms/AutomatedMLImbalancedData\n",
            "\n",
            "****************************************************************************************************\n",
            "\n",
            "TYPE:         Missing feature values imputation\n",
            "STATUS:       PASSED\n",
            "DESCRIPTION:  No feature missing values were detected in the training data.\n",
            "              Learn more about missing value imputation: https://aka.ms/AutomatedMLFeaturization\n",
            "\n",
            "****************************************************************************************************\n",
            "\n",
            "TYPE:         High cardinality feature detection\n",
            "STATUS:       PASSED\n",
            "DESCRIPTION:  Your inputs were analyzed, and no high cardinality features were detected.\n",
            "              Learn more about high cardinality feature handling: https://aka.ms/AutomatedMLFeaturization\n",
            "\n",
            "****************************************************************************************************\n",
            "\n",
            "****************************************************************************************************\n",
            "ITERATION: The iteration being evaluated.\n",
            "PIPELINE: A summary description of the pipeline being evaluated.\n",
            "DURATION: Time taken for the current iteration.\n",
            "METRIC: The result of computing score on the fitted pipeline.\n",
            "BEST: The best observed score thus far.\n",
            "****************************************************************************************************\n",
            "\n",
            " ITERATION   PIPELINE                                       DURATION      METRIC      BEST\n",
            "         1   MaxAbsScaler XGBoostClassifier                 0:01:00       0.8193    0.8193\n",
            "         3   MinMaxScaler RandomForest                      0:00:55       0.8159    0.8193\n",
            "         0   MaxAbsScaler LightGBM                          0:03:23       0.8025    0.8193\n",
            "         2   MinMaxScaler RandomForest                      0:03:14       0.8159    0.8193\n",
            "         4   MinMaxScaler RandomForest                      0:00:50       0.8326    0.8326\n",
            "         5   MaxAbsScaler LightGBM                          0:00:51       0.8093    0.8326\n",
            "         6   SparseNormalizer XGBoostClassifier             0:01:00       0.8327    0.8327\n",
            "         7   MinMaxScaler SVM                               0:00:57       0.7090    0.8327\n",
            "         8   SparseNormalizer XGBoostClassifier             0:00:53       0.8261    0.8327\n",
            "         9   SparseNormalizer XGBoostClassifier             0:01:02       0.7994    0.8327\n",
            "        10   MaxAbsScaler GradientBoosting                  0:01:00       0.8260    0.8327\n",
            "        11   StandardScalerWrapper LogisticRegression       0:00:51       0.8025    0.8327\n",
            "        12   StandardScalerWrapper RandomForest             0:00:52       0.8293    0.8327\n",
            "        13   MaxAbsScaler ExtremeRandomTrees                0:00:57       0.8294    0.8327\n",
            "        15   StandardScalerWrapper LightGBM                 0:00:53       0.8160    0.8327\n",
            "        14   SparseNormalizer XGBoostClassifier             0:01:03       0.8294    0.8327\n",
            "        16   MaxAbsScaler LightGBM                          0:00:55       0.7224    0.8327\n",
            "        17   StandardScalerWrapper LightGBM                 0:00:54       0.7959    0.8327\n",
            "        18   MinMaxScaler LightGBM                          0:00:48       0.8361    0.8361\n",
            "        19   SparseNormalizer LightGBM                      0:00:52       0.8260    0.8361\n",
            "        20   StandardScalerWrapper LogisticRegression       0:00:55       0.8025    0.8361\n",
            "        21   StandardScalerWrapper XGBoostClassifier        0:00:55       0.8293    0.8361\n",
            "        22   MaxAbsScaler LightGBM                          0:00:48       0.8126    0.8361\n",
            "        23   SparseNormalizer XGBoostClassifier             0:00:54       0.8128    0.8361\n",
            "        24   MaxAbsScaler LightGBM                          0:00:52       0.8193    0.8361\n",
            "        25   MaxAbsScaler LightGBM                          0:01:04       0.6790    0.8361\n",
            "        26   SparseNormalizer ExtremeRandomTrees            0:00:51       0.7525    0.8361\n",
            "        27   StandardScalerWrapper RandomForest             0:00:53       0.8092    0.8361\n",
            "        28   MaxAbsScaler ExtremeRandomTrees                0:00:50       0.7959    0.8361\n",
            "        29   SparseNormalizer ExtremeRandomTrees            0:01:02       0.7591    0.8361\n",
            "        30   SparseNormalizer LightGBM                      0:00:55       0.7426    0.8361\n",
            "        31   SparseNormalizer XGBoostClassifier             0:00:49       0.7894    0.8361\n",
            "        32   SparseNormalizer XGBoostClassifier             0:00:49       0.7794    0.8361\n",
            "        33                                                  0:00:14          nan    0.8361\n",
            "        34                                                  0:00:08          nan    0.8361\n",
            "        35                                                  0:00:03          nan    0.8361\n",
            "ERROR: {\n",
            "    \"additional_properties\": {},\n",
            "    \"error\": {\n",
            "        \"additional_properties\": {\n",
            "            \"debugInfo\": null\n",
            "        },\n",
            "        \"code\": \"UserError\",\n",
            "        \"severity\": null,\n",
            "        \"message\": \"AzureMLCompute job AutoML_da0f5073-4f86-43a2-b902-0d62d74e6569_35 does not exist.\",\n",
            "        \"message_format\": \"{Component} job {RunId} does not exist.\",\n",
            "        \"message_parameters\": {\n",
            "            \"Component\": \"AzureMLCompute\",\n",
            "            \"RunId\": \"AutoML_da0f5073-4f86-43a2-b902-0d62d74e6569_35\"\n",
            "        },\n",
            "        \"reference_code\": null,\n",
            "        \"details_uri\": null,\n",
            "        \"target\": \"CancelUnderlyingJob\",\n",
            "        \"details\": [],\n",
            "        \"inner_error\": {\n",
            "            \"additional_properties\": {},\n",
            "            \"code\": \"BadArgument\",\n",
            "            \"inner_error\": {\n",
            "                \"additional_properties\": {},\n",
            "                \"code\": \"JobNotFound\",\n",
            "                \"inner_error\": null\n",
            "            }\n",
            "        }\n",
            "    },\n",
            "    \"correlation\": {\n",
            "        \"operation\": null,\n",
            "        \"request\": \"660145522094a934\"\n",
            "    },\n",
            "    \"environment\": \"southcentralus\",\n",
            "    \"location\": \"southcentralus\",\n",
            "    \"time\": {},\n",
            "    \"component_name\": \"execution-worker\"\n",
            "}\n",
            "        37    StackEnsemble                                 0:01:22       0.8326    0.8361\n",
            "        36    VotingEnsemble                                0:01:29       0.8594    0.8594\n"
          ]
        }
      ],
      "execution_count": 9,
      "metadata": {
        "gather": {
          "logged": 1612729593602
        },
        "jupyter": {
          "outputs_hidden": false,
          "source_hidden": false
        },
        "nteract": {
          "transient": {
            "deleting": false
          }
        }
      }
    },
    {
      "cell_type": "markdown",
      "source": [
        "## Run Details\n",
        "\n",
        "OPTIONAL: Write about the different models trained and their performance. Why do you think some models did better than others?\n",
        "\n",
        "TODO: In the cell below, use the `RunDetails` widget to show the different experiments."
      ],
      "metadata": {}
    },
    {
      "cell_type": "code",
      "source": [
        "from azureml.widgets import RunDetails\r\n",
        "\r\n",
        "RunDetails(remote_run).show()"
      ],
      "outputs": [
        {
          "output_type": "display_data",
          "data": {
            "text/plain": "_AutoMLWidget(widget_settings={'childWidgetDisplay': 'popup', 'send_telemetry': False, 'log_level': 'INFO', 's…",
            "application/vnd.jupyter.widget-view+json": {
              "version_major": 2,
              "version_minor": 0,
              "model_id": "3a22343a14fc4acb94b98a43a5ea6cda"
            }
          },
          "metadata": {}
        },
        {
          "output_type": "display_data",
          "data": {
            "application/aml.mini.widget.v1": "{\"status\": \"Completed\", \"workbench_run_details_uri\": \"https://ml.azure.com/experiments/auto-ml-exp/runs/AutoML_da0f5073-4f86-43a2-b902-0d62d74e6569?wsid=/subscriptions/cdbe0b43-92a0-4715-838a-f2648cc7ad21/resourcegroups/aml-quickstarts-137998/workspaces/quick-starts-ws-137998\", \"run_id\": \"AutoML_da0f5073-4f86-43a2-b902-0d62d74e6569\", \"run_properties\": {\"run_id\": \"AutoML_da0f5073-4f86-43a2-b902-0d62d74e6569\", \"created_utc\": \"2021-02-07T20:00:08.965616Z\", \"properties\": {\"num_iterations\": \"1000\", \"training_type\": \"TrainFull\", \"acquisition_function\": \"EI\", \"primary_metric\": \"accuracy\", \"train_split\": \"0\", \"acquisition_parameter\": \"0\", \"num_cross_validation\": \"3\", \"target\": \"heart-compute\", \"AMLSettingsJsonString\": \"{\\\"path\\\":null,\\\"name\\\":\\\"auto-ml-exp\\\",\\\"subscription_id\\\":\\\"cdbe0b43-92a0-4715-838a-f2648cc7ad21\\\",\\\"resource_group\\\":\\\"aml-quickstarts-137998\\\",\\\"workspace_name\\\":\\\"quick-starts-ws-137998\\\",\\\"region\\\":\\\"southcentralus\\\",\\\"compute_target\\\":\\\"heart-compute\\\",\\\"spark_service\\\":null,\\\"azure_service\\\":\\\"remote\\\",\\\"many_models\\\":false,\\\"pipeline_fetch_max_batch_size\\\":1,\\\"iterations\\\":1000,\\\"primary_metric\\\":\\\"accuracy\\\",\\\"task_type\\\":\\\"classification\\\",\\\"data_script\\\":null,\\\"validation_size\\\":0.0,\\\"n_cross_validations\\\":3,\\\"y_min\\\":null,\\\"y_max\\\":null,\\\"num_classes\\\":null,\\\"featurization\\\":\\\"auto\\\",\\\"_ignore_package_version_incompatibilities\\\":false,\\\"is_timeseries\\\":false,\\\"max_cores_per_iteration\\\":1,\\\"max_concurrent_iterations\\\":4,\\\"iteration_timeout_minutes\\\":null,\\\"mem_in_mb\\\":null,\\\"enforce_time_on_windows\\\":false,\\\"experiment_timeout_minutes\\\":20,\\\"experiment_exit_score\\\":null,\\\"whitelist_models\\\":null,\\\"blacklist_algos\\\":[\\\"TensorFlowLinearClassifier\\\",\\\"TensorFlowDNN\\\"],\\\"supported_models\\\":[\\\"TensorFlowLinearClassifier\\\",\\\"AveragedPerceptronClassifier\\\",\\\"MultinomialNaiveBayes\\\",\\\"BernoulliNaiveBayes\\\",\\\"LogisticRegression\\\",\\\"RandomForest\\\",\\\"ExtremeRandomTrees\\\",\\\"LightGBM\\\",\\\"KNN\\\",\\\"XGBoostClassifier\\\",\\\"GradientBoosting\\\",\\\"LinearSVM\\\",\\\"DecisionTree\\\",\\\"SGD\\\",\\\"TensorFlowDNN\\\",\\\"SVM\\\"],\\\"auto_blacklist\\\":true,\\\"blacklist_samples_reached\\\":false,\\\"exclude_nan_labels\\\":true,\\\"verbosity\\\":20,\\\"_debug_log\\\":\\\"azureml_automl.log\\\",\\\"show_warnings\\\":false,\\\"model_explainability\\\":true,\\\"service_url\\\":null,\\\"sdk_url\\\":null,\\\"sdk_packages\\\":null,\\\"enable_onnx_compatible_models\\\":false,\\\"enable_split_onnx_featurizer_estimator_models\\\":false,\\\"vm_type\\\":\\\"STANDARD_D2_V2\\\",\\\"telemetry_verbosity\\\":20,\\\"send_telemetry\\\":true,\\\"enable_dnn\\\":false,\\\"scenario\\\":\\\"SDK-1.13.0\\\",\\\"environment_label\\\":null,\\\"force_text_dnn\\\":false,\\\"enable_feature_sweeping\\\":true,\\\"enable_early_stopping\\\":true,\\\"early_stopping_n_iters\\\":10,\\\"metrics\\\":null,\\\"enable_ensembling\\\":true,\\\"enable_stack_ensembling\\\":true,\\\"ensemble_iterations\\\":15,\\\"enable_tf\\\":false,\\\"enable_subsampling\\\":null,\\\"subsample_seed\\\":null,\\\"enable_nimbusml\\\":false,\\\"enable_streaming\\\":false,\\\"force_streaming\\\":false,\\\"track_child_runs\\\":true,\\\"allowed_private_models\\\":[],\\\"label_column_name\\\":\\\"DEATH_EVENT\\\",\\\"weight_column_name\\\":null,\\\"cv_split_column_names\\\":null,\\\"enable_local_managed\\\":false,\\\"_local_managed_run_id\\\":null,\\\"cost_mode\\\":1,\\\"lag_length\\\":0,\\\"metric_operation\\\":\\\"maximize\\\",\\\"preprocess\\\":true}\", \"DataPrepJsonString\": \"{\\\\\\\"training_data\\\\\\\": \\\\\\\"{\\\\\\\\\\\\\\\"blocks\\\\\\\\\\\\\\\": [{\\\\\\\\\\\\\\\"id\\\\\\\\\\\\\\\": \\\\\\\\\\\\\\\"9ca35081-3f76-43f2-a4df-10278e9c7e99\\\\\\\\\\\\\\\", \\\\\\\\\\\\\\\"type\\\\\\\\\\\\\\\": \\\\\\\\\\\\\\\"Microsoft.DPrep.GetDatastoreFilesBlock\\\\\\\\\\\\\\\", \\\\\\\\\\\\\\\"arguments\\\\\\\\\\\\\\\": {\\\\\\\\\\\\\\\"datastores\\\\\\\\\\\\\\\": [{\\\\\\\\\\\\\\\"datastoreName\\\\\\\\\\\\\\\": \\\\\\\\\\\\\\\"workspaceblobstore\\\\\\\\\\\\\\\", \\\\\\\\\\\\\\\"path\\\\\\\\\\\\\\\": \\\\\\\\\\\\\\\"UI/02-07-2021_075753_UTC/heart_failure_clinical_records_dataset[1].csv\\\\\\\\\\\\\\\", \\\\\\\\\\\\\\\"resourceGroup\\\\\\\\\\\\\\\": \\\\\\\\\\\\\\\"aml-quickstarts-137998\\\\\\\\\\\\\\\", \\\\\\\\\\\\\\\"subscription\\\\\\\\\\\\\\\": \\\\\\\\\\\\\\\"cdbe0b43-92a0-4715-838a-f2648cc7ad21\\\\\\\\\\\\\\\", \\\\\\\\\\\\\\\"workspaceName\\\\\\\\\\\\\\\": \\\\\\\\\\\\\\\"quick-starts-ws-137998\\\\\\\\\\\\\\\"}]}, \\\\\\\\\\\\\\\"localData\\\\\\\\\\\\\\\": {}, \\\\\\\\\\\\\\\"isEnabled\\\\\\\\\\\\\\\": true, \\\\\\\\\\\\\\\"name\\\\\\\\\\\\\\\": null, \\\\\\\\\\\\\\\"annotation\\\\\\\\\\\\\\\": null}, {\\\\\\\\\\\\\\\"id\\\\\\\\\\\\\\\": \\\\\\\\\\\\\\\"58a6c1c4-8586-4aac-8ee8-d23abcd92663\\\\\\\\\\\\\\\", \\\\\\\\\\\\\\\"type\\\\\\\\\\\\\\\": \\\\\\\\\\\\\\\"Microsoft.DPrep.ParseDelimitedBlock\\\\\\\\\\\\\\\", \\\\\\\\\\\\\\\"arguments\\\\\\\\\\\\\\\": {\\\\\\\\\\\\\\\"columnHeadersMode\\\\\\\\\\\\\\\": 1, \\\\\\\\\\\\\\\"fileEncoding\\\\\\\\\\\\\\\": 0, \\\\\\\\\\\\\\\"handleQuotedLineBreaks\\\\\\\\\\\\\\\": false, \\\\\\\\\\\\\\\"preview\\\\\\\\\\\\\\\": false, \\\\\\\\\\\\\\\"separator\\\\\\\\\\\\\\\": \\\\\\\\\\\\\\\",\\\\\\\\\\\\\\\", \\\\\\\\\\\\\\\"skipRows\\\\\\\\\\\\\\\": 0, \\\\\\\\\\\\\\\"skipRowsMode\\\\\\\\\\\\\\\": 0}, \\\\\\\\\\\\\\\"localData\\\\\\\\\\\\\\\": {}, \\\\\\\\\\\\\\\"isEnabled\\\\\\\\\\\\\\\": true, \\\\\\\\\\\\\\\"name\\\\\\\\\\\\\\\": null, \\\\\\\\\\\\\\\"annotation\\\\\\\\\\\\\\\": null}, {\\\\\\\\\\\\\\\"id\\\\\\\\\\\\\\\": \\\\\\\\\\\\\\\"e301c7fe-ec4c-4d88-9041-35ed8f735d38\\\\\\\\\\\\\\\", \\\\\\\\\\\\\\\"type\\\\\\\\\\\\\\\": \\\\\\\\\\\\\\\"Microsoft.DPrep.DropColumnsBlock\\\\\\\\\\\\\\\", \\\\\\\\\\\\\\\"arguments\\\\\\\\\\\\\\\": {\\\\\\\\\\\\\\\"columns\\\\\\\\\\\\\\\": {\\\\\\\\\\\\\\\"type\\\\\\\\\\\\\\\": 0, \\\\\\\\\\\\\\\"details\\\\\\\\\\\\\\\": {\\\\\\\\\\\\\\\"selectedColumns\\\\\\\\\\\\\\\": [\\\\\\\\\\\\\\\"Path\\\\\\\\\\\\\\\"]}}}, \\\\\\\\\\\\\\\"localData\\\\\\\\\\\\\\\": {}, \\\\\\\\\\\\\\\"isEnabled\\\\\\\\\\\\\\\": true, \\\\\\\\\\\\\\\"name\\\\\\\\\\\\\\\": null, \\\\\\\\\\\\\\\"annotation\\\\\\\\\\\\\\\": null}, {\\\\\\\\\\\\\\\"id\\\\\\\\\\\\\\\": \\\\\\\\\\\\\\\"8fe0d6b4-c9a8-4437-ab6c-84789e8b578b\\\\\\\\\\\\\\\", \\\\\\\\\\\\\\\"type\\\\\\\\\\\\\\\": \\\\\\\\\\\\\\\"Microsoft.DPrep.SetColumnTypesBlock\\\\\\\\\\\\\\\", \\\\\\\\\\\\\\\"arguments\\\\\\\\\\\\\\\": {\\\\\\\\\\\\\\\"columnConversion\\\\\\\\\\\\\\\": [{\\\\\\\\\\\\\\\"column\\\\\\\\\\\\\\\": {\\\\\\\\\\\\\\\"type\\\\\\\\\\\\\\\": 2, \\\\\\\\\\\\\\\"details\\\\\\\\\\\\\\\": {\\\\\\\\\\\\\\\"selectedColumn\\\\\\\\\\\\\\\": \\\\\\\\\\\\\\\"Path\\\\\\\\\\\\\\\"}}, \\\\\\\\\\\\\\\"typeProperty\\\\\\\\\\\\\\\": 0}, {\\\\\\\\\\\\\\\"column\\\\\\\\\\\\\\\": {\\\\\\\\\\\\\\\"type\\\\\\\\\\\\\\\": 2, \\\\\\\\\\\\\\\"details\\\\\\\\\\\\\\\": {\\\\\\\\\\\\\\\"selectedColumn\\\\\\\\\\\\\\\": \\\\\\\\\\\\\\\"age\\\\\\\\\\\\\\\"}}, \\\\\\\\\\\\\\\"typeProperty\\\\\\\\\\\\\\\": 3}, {\\\\\\\\\\\\\\\"column\\\\\\\\\\\\\\\": {\\\\\\\\\\\\\\\"type\\\\\\\\\\\\\\\": 2, \\\\\\\\\\\\\\\"details\\\\\\\\\\\\\\\": {\\\\\\\\\\\\\\\"selectedColumn\\\\\\\\\\\\\\\": \\\\\\\\\\\\\\\"anaemia\\\\\\\\\\\\\\\"}}, \\\\\\\\\\\\\\\"typeProperty\\\\\\\\\\\\\\\": 2}, {\\\\\\\\\\\\\\\"column\\\\\\\\\\\\\\\": {\\\\\\\\\\\\\\\"type\\\\\\\\\\\\\\\": 2, \\\\\\\\\\\\\\\"details\\\\\\\\\\\\\\\": {\\\\\\\\\\\\\\\"selectedColumn\\\\\\\\\\\\\\\": \\\\\\\\\\\\\\\"creatinine_phosphokinase\\\\\\\\\\\\\\\"}}, \\\\\\\\\\\\\\\"typeProperty\\\\\\\\\\\\\\\": 2}, {\\\\\\\\\\\\\\\"column\\\\\\\\\\\\\\\": {\\\\\\\\\\\\\\\"type\\\\\\\\\\\\\\\": 2, \\\\\\\\\\\\\\\"details\\\\\\\\\\\\\\\": {\\\\\\\\\\\\\\\"selectedColumn\\\\\\\\\\\\\\\": \\\\\\\\\\\\\\\"diabetes\\\\\\\\\\\\\\\"}}, \\\\\\\\\\\\\\\"typeProperty\\\\\\\\\\\\\\\": 2}, {\\\\\\\\\\\\\\\"column\\\\\\\\\\\\\\\": {\\\\\\\\\\\\\\\"type\\\\\\\\\\\\\\\": 2, \\\\\\\\\\\\\\\"details\\\\\\\\\\\\\\\": {\\\\\\\\\\\\\\\"selectedColumn\\\\\\\\\\\\\\\": \\\\\\\\\\\\\\\"ejection_fraction\\\\\\\\\\\\\\\"}}, \\\\\\\\\\\\\\\"typeProperty\\\\\\\\\\\\\\\": 2}, {\\\\\\\\\\\\\\\"column\\\\\\\\\\\\\\\": {\\\\\\\\\\\\\\\"type\\\\\\\\\\\\\\\": 2, \\\\\\\\\\\\\\\"details\\\\\\\\\\\\\\\": {\\\\\\\\\\\\\\\"selectedColumn\\\\\\\\\\\\\\\": \\\\\\\\\\\\\\\"high_blood_pressure\\\\\\\\\\\\\\\"}}, \\\\\\\\\\\\\\\"typeProperty\\\\\\\\\\\\\\\": 2}, {\\\\\\\\\\\\\\\"column\\\\\\\\\\\\\\\": {\\\\\\\\\\\\\\\"type\\\\\\\\\\\\\\\": 2, \\\\\\\\\\\\\\\"details\\\\\\\\\\\\\\\": {\\\\\\\\\\\\\\\"selectedColumn\\\\\\\\\\\\\\\": \\\\\\\\\\\\\\\"platelets\\\\\\\\\\\\\\\"}}, \\\\\\\\\\\\\\\"typeProperty\\\\\\\\\\\\\\\": 3}, {\\\\\\\\\\\\\\\"column\\\\\\\\\\\\\\\": {\\\\\\\\\\\\\\\"type\\\\\\\\\\\\\\\": 2, \\\\\\\\\\\\\\\"details\\\\\\\\\\\\\\\": {\\\\\\\\\\\\\\\"selectedColumn\\\\\\\\\\\\\\\": \\\\\\\\\\\\\\\"serum_creatinine\\\\\\\\\\\\\\\"}}, \\\\\\\\\\\\\\\"typeProperty\\\\\\\\\\\\\\\": 3}, {\\\\\\\\\\\\\\\"column\\\\\\\\\\\\\\\": {\\\\\\\\\\\\\\\"type\\\\\\\\\\\\\\\": 2, \\\\\\\\\\\\\\\"details\\\\\\\\\\\\\\\": {\\\\\\\\\\\\\\\"selectedColumn\\\\\\\\\\\\\\\": \\\\\\\\\\\\\\\"serum_sodium\\\\\\\\\\\\\\\"}}, \\\\\\\\\\\\\\\"typeProperty\\\\\\\\\\\\\\\": 2}, {\\\\\\\\\\\\\\\"column\\\\\\\\\\\\\\\": {\\\\\\\\\\\\\\\"type\\\\\\\\\\\\\\\": 2, \\\\\\\\\\\\\\\"details\\\\\\\\\\\\\\\": {\\\\\\\\\\\\\\\"selectedColumn\\\\\\\\\\\\\\\": \\\\\\\\\\\\\\\"sex\\\\\\\\\\\\\\\"}}, \\\\\\\\\\\\\\\"typeProperty\\\\\\\\\\\\\\\": 2}, {\\\\\\\\\\\\\\\"column\\\\\\\\\\\\\\\": {\\\\\\\\\\\\\\\"type\\\\\\\\\\\\\\\": 2, \\\\\\\\\\\\\\\"details\\\\\\\\\\\\\\\": {\\\\\\\\\\\\\\\"selectedColumn\\\\\\\\\\\\\\\": \\\\\\\\\\\\\\\"smoking\\\\\\\\\\\\\\\"}}, \\\\\\\\\\\\\\\"typeProperty\\\\\\\\\\\\\\\": 2}, {\\\\\\\\\\\\\\\"column\\\\\\\\\\\\\\\": {\\\\\\\\\\\\\\\"type\\\\\\\\\\\\\\\": 2, \\\\\\\\\\\\\\\"details\\\\\\\\\\\\\\\": {\\\\\\\\\\\\\\\"selectedColumn\\\\\\\\\\\\\\\": \\\\\\\\\\\\\\\"time\\\\\\\\\\\\\\\"}}, \\\\\\\\\\\\\\\"typeProperty\\\\\\\\\\\\\\\": 2}, {\\\\\\\\\\\\\\\"column\\\\\\\\\\\\\\\": {\\\\\\\\\\\\\\\"type\\\\\\\\\\\\\\\": 2, \\\\\\\\\\\\\\\"details\\\\\\\\\\\\\\\": {\\\\\\\\\\\\\\\"selectedColumn\\\\\\\\\\\\\\\": \\\\\\\\\\\\\\\"DEATH_EVENT\\\\\\\\\\\\\\\"}}, \\\\\\\\\\\\\\\"typeProperty\\\\\\\\\\\\\\\": 2}]}, \\\\\\\\\\\\\\\"localData\\\\\\\\\\\\\\\": {}, \\\\\\\\\\\\\\\"isEnabled\\\\\\\\\\\\\\\": true, \\\\\\\\\\\\\\\"name\\\\\\\\\\\\\\\": null, \\\\\\\\\\\\\\\"annotation\\\\\\\\\\\\\\\": null}], \\\\\\\\\\\\\\\"inspectors\\\\\\\\\\\\\\\": [], \\\\\\\\\\\\\\\"meta\\\\\\\\\\\\\\\": {\\\\\\\\\\\\\\\"savedDatasetId\\\\\\\\\\\\\\\": \\\\\\\\\\\\\\\"7e95a688-383b-472e-8268-ce9ee4a5b5f6\\\\\\\\\\\\\\\", \\\\\\\\\\\\\\\"datasetType\\\\\\\\\\\\\\\": \\\\\\\\\\\\\\\"tabular\\\\\\\\\\\\\\\", \\\\\\\\\\\\\\\"subscriptionId\\\\\\\\\\\\\\\": \\\\\\\\\\\\\\\"cdbe0b43-92a0-4715-838a-f2648cc7ad21\\\\\\\\\\\\\\\", \\\\\\\\\\\\\\\"workspaceId\\\\\\\\\\\\\\\": \\\\\\\\\\\\\\\"613475fd-c7e6-4be3-acf8-7b72cf22b4aa\\\\\\\\\\\\\\\", \\\\\\\\\\\\\\\"workspaceLocation\\\\\\\\\\\\\\\": \\\\\\\\\\\\\\\"southcentralus\\\\\\\\\\\\\\\"}}\\\\\\\", \\\\\\\"activities\\\\\\\": 0}\", \"EnableSubsampling\": null, \"runTemplate\": \"AutoML\", \"azureml.runsource\": \"automl\", \"display_task_type\": \"classification\", \"dependencies_versions\": \"{\\\"azureml-widgets\\\": \\\"1.20.0\\\", \\\"azureml-train\\\": \\\"1.20.0\\\", \\\"azureml-train-restclients-hyperdrive\\\": \\\"1.20.0\\\", \\\"azureml-train-core\\\": \\\"1.20.0\\\", \\\"azureml-train-automl\\\": \\\"1.20.0\\\", \\\"azureml-train-automl-runtime\\\": \\\"1.20.0\\\", \\\"azureml-train-automl-client\\\": \\\"1.20.0\\\", \\\"azureml-tensorboard\\\": \\\"1.20.0\\\", \\\"azureml-telemetry\\\": \\\"1.20.0\\\", \\\"azureml-sdk\\\": \\\"1.20.0\\\", \\\"azureml-samples\\\": \\\"0+unknown\\\", \\\"azureml-pipeline\\\": \\\"1.20.0\\\", \\\"azureml-pipeline-steps\\\": \\\"1.20.0\\\", \\\"azureml-pipeline-core\\\": \\\"1.20.0\\\", \\\"azureml-opendatasets\\\": \\\"1.20.0\\\", \\\"azureml-model-management-sdk\\\": \\\"1.0.1b6.post1\\\", \\\"azureml-mlflow\\\": \\\"1.20.0.post1\\\", \\\"azureml-interpret\\\": \\\"1.20.0\\\", \\\"azureml-explain-model\\\": \\\"1.20.0\\\", \\\"azureml-defaults\\\": \\\"1.20.0\\\", \\\"azureml-dataset-runtime\\\": \\\"1.20.0\\\", \\\"azureml-dataprep\\\": \\\"2.7.3\\\", \\\"azureml-dataprep-rslex\\\": \\\"1.5.0\\\", \\\"azureml-dataprep-native\\\": \\\"27.0.0\\\", \\\"azureml-datadrift\\\": \\\"1.20.0\\\", \\\"azureml-core\\\": \\\"1.20.0\\\", \\\"azureml-contrib-services\\\": \\\"1.20.0\\\", \\\"azureml-contrib-server\\\": \\\"1.20.0\\\", \\\"azureml-contrib-reinforcementlearning\\\": \\\"1.20.0\\\", \\\"azureml-contrib-pipeline-steps\\\": \\\"1.20.0\\\", \\\"azureml-contrib-notebook\\\": \\\"1.20.0\\\", \\\"azureml-contrib-interpret\\\": \\\"1.20.0\\\", \\\"azureml-contrib-gbdt\\\": \\\"1.20.0\\\", \\\"azureml-contrib-fairness\\\": \\\"1.20.0\\\", \\\"azureml-contrib-dataset\\\": \\\"1.20.0\\\", \\\"azureml-cli-common\\\": \\\"1.20.0\\\", \\\"azureml-automl-runtime\\\": \\\"1.20.0\\\", \\\"azureml-automl-core\\\": \\\"1.20.0\\\", \\\"azureml-accel-models\\\": \\\"1.20.0\\\"}\", \"_aml_system_scenario_identification\": \"Remote.Parent\", \"ClientType\": \"SDK\", \"environment_cpu_name\": \"AzureML-AutoML\", \"environment_cpu_label\": \"prod\", \"environment_gpu_name\": \"AzureML-AutoML-GPU\", \"environment_gpu_label\": \"prod\", \"root_attribution\": \"automl\", \"attribution\": \"AutoML\", \"Orchestrator\": \"AutoML\", \"CancelUri\": \"https://southcentralus.experiments.azureml.net/jasmine/v1.0/subscriptions/cdbe0b43-92a0-4715-838a-f2648cc7ad21/resourceGroups/aml-quickstarts-137998/providers/Microsoft.MachineLearningServices/workspaces/quick-starts-ws-137998/experimentids/9dd5cdbe-0110-4899-bc61-ab256b611190/cancel/AutoML_da0f5073-4f86-43a2-b902-0d62d74e6569\", \"ClientSdkVersion\": \"1.21.0\", \"snapshotId\": \"00000000-0000-0000-0000-000000000000\", \"SetupRunId\": \"AutoML_da0f5073-4f86-43a2-b902-0d62d74e6569_setup\", \"SetupRunContainerId\": \"dcid.AutoML_da0f5073-4f86-43a2-b902-0d62d74e6569_setup\", \"FeaturizationRunJsonPath\": \"featurizer_container.json\", \"FeaturizationRunId\": \"AutoML_da0f5073-4f86-43a2-b902-0d62d74e6569_featurize\", \"ProblemInfoJsonString\": \"{\\\"dataset_num_categorical\\\": 0, \\\"is_sparse\\\": false, \\\"subsampling\\\": false, \\\"dataset_classes\\\": 2, \\\"dataset_features\\\": 12, \\\"dataset_samples\\\": 299, \\\"single_frequency_class_detected\\\": false}\", \"ModelExplainRunId\": \"AutoML_da0f5073-4f86-43a2-b902-0d62d74e6569_ModelExplain\"}, \"tags\": {\"model_explain_run\": \"best_run\", \"_aml_system_azureml.automlComponent\": \"AutoML\", \"pipeline_id\": \"\", \"score\": \"\", \"predicted_cost\": \"\", \"fit_time\": \"\", \"training_percent\": \"\", \"iteration\": \"\", \"run_preprocessor\": \"\", \"run_algorithm\": \"\", \"dynamic_whitelisting_iterations\": \"<25>;<30>;<35>;\", \"automl_best_child_run_id\": \"AutoML_da0f5073-4f86-43a2-b902-0d62d74e6569_36\", \"model_explain_best_run_child_id\": \"AutoML_da0f5073-4f86-43a2-b902-0d62d74e6569_36\"}, \"end_time_utc\": \"2021-02-07T20:26:17.295631Z\", \"status\": \"Completed\", \"log_files\": {}, \"log_groups\": [], \"run_duration\": \"0:26:08\"}, \"child_runs\": [{\"run_id\": \"AutoML_da0f5073-4f86-43a2-b902-0d62d74e6569_0\", \"run_number\": 5, \"metric\": null, \"status\": \"Completed\", \"run_type\": \"azureml.scriptrun\", \"training_percent\": \"100\", \"start_time\": \"2021-02-07T20:11:29.589053Z\", \"end_time\": \"2021-02-07T20:14:52.14181Z\", \"created_time\": \"2021-02-07T20:11:19.22039Z\", \"created_time_dt\": \"2021-02-07T20:11:19.22039Z\", \"duration\": \"0:03:32\", \"iteration\": \"0\", \"goal\": \"accuracy_max\", \"run_name\": \"MaxAbsScaler, LightGBM\", \"run_properties\": \"copy=True\", \"primary_metric\": 0.80252525, \"best_metric\": 0.80252525}, {\"run_id\": \"AutoML_da0f5073-4f86-43a2-b902-0d62d74e6569_2\", \"run_number\": 6, \"metric\": null, \"status\": \"Completed\", \"run_type\": \"azureml.scriptrun\", \"training_percent\": \"100\", \"start_time\": \"2021-02-07T20:12:20.786755Z\", \"end_time\": \"2021-02-07T20:15:35.153839Z\", \"created_time\": \"2021-02-07T20:11:19.229367Z\", \"created_time_dt\": \"2021-02-07T20:11:19.229367Z\", \"duration\": \"0:04:15\", \"iteration\": \"2\", \"goal\": \"accuracy_max\", \"run_name\": \"MinMaxScaler, RandomForest\", \"run_properties\": \"copy=True, feature_range=(0, 1\", \"primary_metric\": 0.81592593, \"best_metric\": 0.81929293}, {\"run_id\": \"AutoML_da0f5073-4f86-43a2-b902-0d62d74e6569_1\", \"run_number\": 7, \"metric\": null, \"status\": \"Completed\", \"run_type\": \"azureml.scriptrun\", \"training_percent\": \"100\", \"start_time\": \"2021-02-07T20:11:55.898283Z\", \"end_time\": \"2021-02-07T20:12:55.810185Z\", \"created_time\": \"2021-02-07T20:11:19.246538Z\", \"created_time_dt\": \"2021-02-07T20:11:19.246538Z\", \"duration\": \"0:01:36\", \"iteration\": \"1\", \"goal\": \"accuracy_max\", \"run_name\": \"MaxAbsScaler, XGBoostClassifier\", \"run_properties\": \"copy=True\", \"primary_metric\": 0.81929293, \"best_metric\": 0.81929293}, {\"run_id\": \"AutoML_da0f5073-4f86-43a2-b902-0d62d74e6569_3\", \"run_number\": 8, \"metric\": null, \"status\": \"Completed\", \"run_type\": \"azureml.scriptrun\", \"training_percent\": \"100\", \"start_time\": \"2021-02-07T20:12:59.836431Z\", \"end_time\": \"2021-02-07T20:13:54.900085Z\", \"created_time\": \"2021-02-07T20:11:19.249056Z\", \"created_time_dt\": \"2021-02-07T20:11:19.249056Z\", \"duration\": \"0:02:35\", \"iteration\": \"3\", \"goal\": \"accuracy_max\", \"run_name\": \"MinMaxScaler, RandomForest\", \"run_properties\": \"copy=True, feature_range=(0, 1\", \"primary_metric\": 0.81585859, \"best_metric\": 0.81929293}, {\"run_id\": \"AutoML_da0f5073-4f86-43a2-b902-0d62d74e6569_4\", \"run_number\": 9, \"metric\": null, \"status\": \"Completed\", \"run_type\": \"azureml.scriptrun\", \"training_percent\": \"100\", \"start_time\": \"2021-02-07T20:14:52.30326Z\", \"end_time\": \"2021-02-07T20:15:42.262367Z\", \"created_time\": \"2021-02-07T20:12:57.14381Z\", \"created_time_dt\": \"2021-02-07T20:12:57.14381Z\", \"duration\": \"0:02:45\", \"iteration\": \"4\", \"goal\": \"accuracy_max\", \"run_name\": \"MinMaxScaler, RandomForest\", \"run_properties\": \"copy=True, feature_range=(0, 1\", \"primary_metric\": 0.83262626, \"best_metric\": 0.83262626}, {\"run_id\": \"AutoML_da0f5073-4f86-43a2-b902-0d62d74e6569_5\", \"run_number\": 10, \"metric\": null, \"status\": \"Completed\", \"run_type\": \"azureml.scriptrun\", \"training_percent\": \"100\", \"start_time\": \"2021-02-07T20:15:40.453415Z\", \"end_time\": \"2021-02-07T20:16:31.601666Z\", \"created_time\": \"2021-02-07T20:14:00.048169Z\", \"created_time_dt\": \"2021-02-07T20:14:00.048169Z\", \"duration\": \"0:02:31\", \"iteration\": \"5\", \"goal\": \"accuracy_max\", \"run_name\": \"MaxAbsScaler, LightGBM\", \"run_properties\": \"copy=True\", \"primary_metric\": 0.8093266, \"best_metric\": 0.83262626}, {\"run_id\": \"AutoML_da0f5073-4f86-43a2-b902-0d62d74e6569_6\", \"run_number\": 11, \"metric\": null, \"status\": \"Completed\", \"run_type\": \"azureml.scriptrun\", \"training_percent\": \"100\", \"start_time\": \"2021-02-07T20:15:38.232367Z\", \"end_time\": \"2021-02-07T20:16:37.81385Z\", \"created_time\": \"2021-02-07T20:14:54.807292Z\", \"created_time_dt\": \"2021-02-07T20:14:54.807292Z\", \"duration\": \"0:01:43\", \"iteration\": \"6\", \"goal\": \"accuracy_max\", \"run_name\": \"SparseNormalizer, XGBoostClassifier\", \"run_properties\": \"<azureml.automl.runtime.shared.model_wrappers.SparseNormalizer object at 0x7fa7b82158d0\", \"primary_metric\": 0.83272727, \"best_metric\": 0.83272727}, {\"run_id\": \"AutoML_da0f5073-4f86-43a2-b902-0d62d74e6569_7\", \"run_number\": 12, \"metric\": null, \"status\": \"Completed\", \"run_type\": \"azureml.scriptrun\", \"training_percent\": \"100\", \"start_time\": \"2021-02-07T20:16:36.319463Z\", \"end_time\": \"2021-02-07T20:17:32.825741Z\", \"created_time\": \"2021-02-07T20:15:38.192762Z\", \"created_time_dt\": \"2021-02-07T20:15:38.192762Z\", \"duration\": \"0:01:54\", \"iteration\": \"7\", \"goal\": \"accuracy_max\", \"run_name\": \"MinMaxScaler, SVM\", \"run_properties\": \"copy=True, feature_range=(0, 1\", \"primary_metric\": 0.7089899, \"best_metric\": 0.83272727}, {\"run_id\": \"AutoML_da0f5073-4f86-43a2-b902-0d62d74e6569_8\", \"run_number\": 13, \"metric\": null, \"status\": \"Completed\", \"run_type\": \"azureml.scriptrun\", \"training_percent\": \"100\", \"start_time\": \"2021-02-07T20:16:38.901762Z\", \"end_time\": \"2021-02-07T20:17:31.426467Z\", \"created_time\": \"2021-02-07T20:15:44.043218Z\", \"created_time_dt\": \"2021-02-07T20:15:44.043218Z\", \"duration\": \"0:01:47\", \"iteration\": \"8\", \"goal\": \"accuracy_max\", \"run_name\": \"SparseNormalizer, XGBoostClassifier\", \"run_properties\": \"<azureml.automl.runtime.shared.model_wrappers.SparseNormalizer object at 0x7f7f00cedb70\", \"primary_metric\": 0.82609428, \"best_metric\": 0.83272727}, {\"run_id\": \"AutoML_da0f5073-4f86-43a2-b902-0d62d74e6569_9\", \"run_number\": 14, \"metric\": null, \"status\": \"Completed\", \"run_type\": \"azureml.scriptrun\", \"training_percent\": \"100\", \"start_time\": \"2021-02-07T20:16:58.036767Z\", \"end_time\": \"2021-02-07T20:18:00.380959Z\", \"created_time\": \"2021-02-07T20:16:33.439578Z\", \"created_time_dt\": \"2021-02-07T20:16:33.439578Z\", \"duration\": \"0:01:26\", \"iteration\": \"9\", \"goal\": \"accuracy_max\", \"run_name\": \"SparseNormalizer, XGBoostClassifier\", \"run_properties\": \"<azureml.automl.runtime.shared.model_wrappers.SparseNormalizer object at 0x7f1eaa5ce240\", \"primary_metric\": 0.79936027, \"best_metric\": 0.83272727}, {\"run_id\": \"AutoML_da0f5073-4f86-43a2-b902-0d62d74e6569_10\", \"run_number\": 15, \"metric\": null, \"status\": \"Completed\", \"run_type\": \"azureml.scriptrun\", \"training_percent\": \"100\", \"start_time\": \"2021-02-07T20:17:35.23316Z\", \"end_time\": \"2021-02-07T20:18:34.829122Z\", \"created_time\": \"2021-02-07T20:16:39.608138Z\", \"created_time_dt\": \"2021-02-07T20:16:39.608138Z\", \"duration\": \"0:01:55\", \"iteration\": \"10\", \"goal\": \"accuracy_max\", \"run_name\": \"MaxAbsScaler, GradientBoosting\", \"run_properties\": \"copy=True\", \"primary_metric\": 0.82602694, \"best_metric\": 0.83272727}, {\"run_id\": \"AutoML_da0f5073-4f86-43a2-b902-0d62d74e6569_11\", \"run_number\": 16, \"metric\": null, \"status\": \"Completed\", \"run_type\": \"azureml.scriptrun\", \"training_percent\": \"100\", \"start_time\": \"2021-02-07T20:17:44.621626Z\", \"end_time\": \"2021-02-07T20:18:35.996494Z\", \"created_time\": \"2021-02-07T20:17:33.786376Z\", \"created_time_dt\": \"2021-02-07T20:17:33.786376Z\", \"duration\": \"0:01:02\", \"iteration\": \"11\", \"goal\": \"accuracy_max\", \"run_name\": \"StandardScalerWrapper, LogisticRegression\", \"run_properties\": \"<azureml.automl.runtime.shared.model_wrappers.StandardScalerWrapper object at 0x7f74a35e81d0\", \"primary_metric\": 0.80252525, \"best_metric\": 0.83272727}, {\"run_id\": \"AutoML_da0f5073-4f86-43a2-b902-0d62d74e6569_12\", \"run_number\": 17, \"metric\": null, \"status\": \"Completed\", \"run_type\": \"azureml.scriptrun\", \"training_percent\": \"100\", \"start_time\": \"2021-02-07T20:17:49.133912Z\", \"end_time\": \"2021-02-07T20:18:40.910259Z\", \"created_time\": \"2021-02-07T20:17:37.310879Z\", \"created_time_dt\": \"2021-02-07T20:17:37.310879Z\", \"duration\": \"0:01:03\", \"iteration\": \"12\", \"goal\": \"accuracy_max\", \"run_name\": \"StandardScalerWrapper, RandomForest\", \"run_properties\": \"<azureml.automl.runtime.shared.model_wrappers.StandardScalerWrapper object at 0x7f51c1504dd8\", \"primary_metric\": 0.8293266, \"best_metric\": 0.83272727}, {\"run_id\": \"AutoML_da0f5073-4f86-43a2-b902-0d62d74e6569_13\", \"run_number\": 18, \"metric\": null, \"status\": \"Completed\", \"run_type\": \"azureml.scriptrun\", \"training_percent\": \"100\", \"start_time\": \"2021-02-07T20:18:13.422203Z\", \"end_time\": \"2021-02-07T20:19:10.380138Z\", \"created_time\": \"2021-02-07T20:18:02.387681Z\", \"created_time_dt\": \"2021-02-07T20:18:02.387681Z\", \"duration\": \"0:01:07\", \"iteration\": \"13\", \"goal\": \"accuracy_max\", \"run_name\": \"MaxAbsScaler, ExtremeRandomTrees\", \"run_properties\": \"copy=True\", \"primary_metric\": 0.82942761, \"best_metric\": 0.83272727}, {\"run_id\": \"AutoML_da0f5073-4f86-43a2-b902-0d62d74e6569_14\", \"run_number\": 19, \"metric\": null, \"status\": \"Completed\", \"run_type\": \"azureml.scriptrun\", \"training_percent\": \"100\", \"start_time\": \"2021-02-07T20:18:47.674763Z\", \"end_time\": \"2021-02-07T20:19:50.592658Z\", \"created_time\": \"2021-02-07T20:18:36.908966Z\", \"created_time_dt\": \"2021-02-07T20:18:36.908966Z\", \"duration\": \"0:01:13\", \"iteration\": \"14\", \"goal\": \"accuracy_max\", \"run_name\": \"SparseNormalizer, XGBoostClassifier\", \"run_properties\": \"<azureml.automl.runtime.shared.model_wrappers.SparseNormalizer object at 0x7f802e5a1668\", \"primary_metric\": 0.82939394, \"best_metric\": 0.83272727}, {\"run_id\": \"AutoML_da0f5073-4f86-43a2-b902-0d62d74e6569_15\", \"run_number\": 20, \"metric\": null, \"status\": \"Completed\", \"run_type\": \"azureml.scriptrun\", \"training_percent\": \"100\", \"start_time\": \"2021-02-07T20:18:52.458649Z\", \"end_time\": \"2021-02-07T20:19:45.891752Z\", \"created_time\": \"2021-02-07T20:18:40.674106Z\", \"created_time_dt\": \"2021-02-07T20:18:40.674106Z\", \"duration\": \"0:01:05\", \"iteration\": \"15\", \"goal\": \"accuracy_max\", \"run_name\": \"StandardScalerWrapper, LightGBM\", \"run_properties\": \"<azureml.automl.runtime.shared.model_wrappers.StandardScalerWrapper object at 0x7f5a52580518\", \"primary_metric\": 0.81602694, \"best_metric\": 0.83272727}, {\"run_id\": \"AutoML_da0f5073-4f86-43a2-b902-0d62d74e6569_16\", \"run_number\": 21, \"metric\": null, \"status\": \"Completed\", \"run_type\": \"azureml.scriptrun\", \"training_percent\": \"100\", \"start_time\": \"2021-02-07T20:18:57.183385Z\", \"end_time\": \"2021-02-07T20:19:52.211613Z\", \"created_time\": \"2021-02-07T20:18:45.14994Z\", \"created_time_dt\": \"2021-02-07T20:18:45.14994Z\", \"duration\": \"0:01:07\", \"iteration\": \"16\", \"goal\": \"accuracy_max\", \"run_name\": \"MaxAbsScaler, LightGBM\", \"run_properties\": \"copy=True\", \"primary_metric\": 0.72239057, \"best_metric\": 0.83272727}, {\"run_id\": \"AutoML_da0f5073-4f86-43a2-b902-0d62d74e6569_17\", \"run_number\": 22, \"metric\": null, \"status\": \"Completed\", \"run_type\": \"azureml.scriptrun\", \"training_percent\": \"100\", \"start_time\": \"2021-02-07T20:19:23.772341Z\", \"end_time\": \"2021-02-07T20:20:17.279349Z\", \"created_time\": \"2021-02-07T20:19:12.421628Z\", \"created_time_dt\": \"2021-02-07T20:19:12.421628Z\", \"duration\": \"0:01:04\", \"iteration\": \"17\", \"goal\": \"accuracy_max\", \"run_name\": \"StandardScalerWrapper, LightGBM\", \"run_properties\": \"<azureml.automl.runtime.shared.model_wrappers.StandardScalerWrapper object at 0x7f98be66fcc0\", \"primary_metric\": 0.79589226, \"best_metric\": 0.83272727}, {\"run_id\": \"AutoML_da0f5073-4f86-43a2-b902-0d62d74e6569_18\", \"run_number\": 23, \"metric\": null, \"status\": \"Completed\", \"run_type\": \"azureml.scriptrun\", \"training_percent\": \"100\", \"start_time\": \"2021-02-07T20:19:58.585227Z\", \"end_time\": \"2021-02-07T20:20:46.157019Z\", \"created_time\": \"2021-02-07T20:19:47.776708Z\", \"created_time_dt\": \"2021-02-07T20:19:47.776708Z\", \"duration\": \"0:00:58\", \"iteration\": \"18\", \"goal\": \"accuracy_max\", \"run_name\": \"MinMaxScaler, LightGBM\", \"run_properties\": \"copy=True, feature_range=(0, 1\", \"primary_metric\": 0.83606061, \"best_metric\": 0.83606061}, {\"run_id\": \"AutoML_da0f5073-4f86-43a2-b902-0d62d74e6569_19\", \"run_number\": 24, \"metric\": null, \"status\": \"Completed\", \"run_type\": \"azureml.scriptrun\", \"training_percent\": \"100\", \"start_time\": \"2021-02-07T20:20:05.355555Z\", \"end_time\": \"2021-02-07T20:20:57.540388Z\", \"created_time\": \"2021-02-07T20:19:52.651161Z\", \"created_time_dt\": \"2021-02-07T20:19:52.651161Z\", \"duration\": \"0:01:04\", \"iteration\": \"19\", \"goal\": \"accuracy_max\", \"run_name\": \"SparseNormalizer, LightGBM\", \"run_properties\": \"<azureml.automl.runtime.shared.model_wrappers.SparseNormalizer object at 0x7f556ecb5b38\", \"primary_metric\": 0.82599327, \"best_metric\": 0.83606061}, {\"run_id\": \"AutoML_da0f5073-4f86-43a2-b902-0d62d74e6569_20\", \"run_number\": 25, \"metric\": null, \"status\": \"Completed\", \"run_type\": \"azureml.scriptrun\", \"training_percent\": \"100\", \"start_time\": \"2021-02-07T20:20:09.414259Z\", \"end_time\": \"2021-02-07T20:21:04.874432Z\", \"created_time\": \"2021-02-07T20:19:56.81162Z\", \"created_time_dt\": \"2021-02-07T20:19:56.81162Z\", \"duration\": \"0:01:08\", \"iteration\": \"20\", \"goal\": \"accuracy_max\", \"run_name\": \"StandardScalerWrapper, LogisticRegression\", \"run_properties\": \"<azureml.automl.runtime.shared.model_wrappers.StandardScalerWrapper object at 0x7fa9207fde10\", \"primary_metric\": 0.80252525, \"best_metric\": 0.83606061}, {\"run_id\": \"AutoML_da0f5073-4f86-43a2-b902-0d62d74e6569_21\", \"run_number\": 26, \"metric\": null, \"status\": \"Completed\", \"run_type\": \"azureml.scriptrun\", \"training_percent\": \"100\", \"start_time\": \"2021-02-07T20:20:31.122662Z\", \"end_time\": \"2021-02-07T20:21:26.109356Z\", \"created_time\": \"2021-02-07T20:20:19.066714Z\", \"created_time_dt\": \"2021-02-07T20:20:19.066714Z\", \"duration\": \"0:01:07\", \"iteration\": \"21\", \"goal\": \"accuracy_max\", \"run_name\": \"StandardScalerWrapper, XGBoostClassifier\", \"run_properties\": \"<azureml.automl.runtime.shared.model_wrappers.StandardScalerWrapper object at 0x7f19823f7710\", \"primary_metric\": 0.8293266, \"best_metric\": 0.83606061}, {\"run_id\": \"AutoML_da0f5073-4f86-43a2-b902-0d62d74e6569_22\", \"run_number\": 27, \"metric\": null, \"status\": \"Completed\", \"run_type\": \"azureml.scriptrun\", \"training_percent\": \"100\", \"start_time\": \"2021-02-07T20:20:59.19918Z\", \"end_time\": \"2021-02-07T20:21:46.719288Z\", \"created_time\": \"2021-02-07T20:20:47.911519Z\", \"created_time_dt\": \"2021-02-07T20:20:47.911519Z\", \"duration\": \"0:00:58\", \"iteration\": \"22\", \"goal\": \"accuracy_max\", \"run_name\": \"MaxAbsScaler, LightGBM\", \"run_properties\": \"copy=True\", \"primary_metric\": 0.81259259, \"best_metric\": 0.83606061}, {\"run_id\": \"AutoML_da0f5073-4f86-43a2-b902-0d62d74e6569_23\", \"run_number\": 28, \"metric\": null, \"status\": \"Completed\", \"run_type\": \"azureml.scriptrun\", \"training_percent\": \"100\", \"start_time\": \"2021-02-07T20:21:11.769136Z\", \"end_time\": \"2021-02-07T20:22:05.934492Z\", \"created_time\": \"2021-02-07T20:21:00.38612Z\", \"created_time_dt\": \"2021-02-07T20:21:00.38612Z\", \"duration\": \"0:01:05\", \"iteration\": \"23\", \"goal\": \"accuracy_max\", \"run_name\": \"SparseNormalizer, XGBoostClassifier\", \"run_properties\": \"<azureml.automl.runtime.shared.model_wrappers.SparseNormalizer object at 0x7f8214269f98\", \"primary_metric\": 0.81279461, \"best_metric\": 0.83606061}, {\"run_id\": \"AutoML_da0f5073-4f86-43a2-b902-0d62d74e6569_24\", \"run_number\": 29, \"metric\": null, \"status\": \"Completed\", \"run_type\": \"azureml.scriptrun\", \"training_percent\": \"100\", \"start_time\": \"2021-02-07T20:21:20.638268Z\", \"end_time\": \"2021-02-07T20:22:12.871621Z\", \"created_time\": \"2021-02-07T20:21:07.367981Z\", \"created_time_dt\": \"2021-02-07T20:21:07.367981Z\", \"duration\": \"0:01:05\", \"iteration\": \"24\", \"goal\": \"accuracy_max\", \"run_name\": \"MaxAbsScaler, LightGBM\", \"run_properties\": \"copy=True\", \"primary_metric\": 0.8193266, \"best_metric\": 0.83606061}, {\"run_id\": \"AutoML_da0f5073-4f86-43a2-b902-0d62d74e6569_25\", \"run_number\": 30, \"metric\": null, \"status\": \"Completed\", \"run_type\": \"azureml.scriptrun\", \"training_percent\": \"100\", \"start_time\": \"2021-02-07T20:21:42.128785Z\", \"end_time\": \"2021-02-07T20:22:45.813303Z\", \"created_time\": \"2021-02-07T20:21:29.685271Z\", \"created_time_dt\": \"2021-02-07T20:21:29.685271Z\", \"duration\": \"0:01:16\", \"iteration\": \"25\", \"goal\": \"accuracy_max\", \"run_name\": \"MaxAbsScaler, LightGBM\", \"run_properties\": \"copy=True\", \"primary_metric\": 0.67902357, \"best_metric\": 0.83606061}, {\"run_id\": \"AutoML_da0f5073-4f86-43a2-b902-0d62d74e6569_26\", \"run_number\": 31, \"metric\": null, \"status\": \"Completed\", \"run_type\": \"azureml.scriptrun\", \"training_percent\": \"100\", \"start_time\": \"2021-02-07T20:21:59.503218Z\", \"end_time\": \"2021-02-07T20:22:50.202335Z\", \"created_time\": \"2021-02-07T20:21:48.962603Z\", \"created_time_dt\": \"2021-02-07T20:21:48.962603Z\", \"duration\": \"0:01:01\", \"iteration\": \"26\", \"goal\": \"accuracy_max\", \"run_name\": \"SparseNormalizer, ExtremeRandomTrees\", \"run_properties\": \"<azureml.automl.runtime.shared.model_wrappers.SparseNormalizer object at 0x7f313b8ddac8\", \"primary_metric\": 0.75245791, \"best_metric\": 0.83606061}, {\"run_id\": \"AutoML_da0f5073-4f86-43a2-b902-0d62d74e6569_27\", \"run_number\": 32, \"metric\": null, \"status\": \"Completed\", \"run_type\": \"azureml.scriptrun\", \"training_percent\": \"100\", \"start_time\": \"2021-02-07T20:22:19.781414Z\", \"end_time\": \"2021-02-07T20:23:13.247503Z\", \"created_time\": \"2021-02-07T20:22:07.696128Z\", \"created_time_dt\": \"2021-02-07T20:22:07.696128Z\", \"duration\": \"0:01:05\", \"iteration\": \"27\", \"goal\": \"accuracy_max\", \"run_name\": \"StandardScalerWrapper, RandomForest\", \"run_properties\": \"<azureml.automl.runtime.shared.model_wrappers.StandardScalerWrapper object at 0x7f7899432748\", \"primary_metric\": 0.80922559, \"best_metric\": 0.83606061}, {\"run_id\": \"AutoML_da0f5073-4f86-43a2-b902-0d62d74e6569_28\", \"run_number\": 33, \"metric\": null, \"status\": \"Completed\", \"run_type\": \"azureml.scriptrun\", \"training_percent\": \"100\", \"start_time\": \"2021-02-07T20:22:24.603384Z\", \"end_time\": \"2021-02-07T20:23:15.077734Z\", \"created_time\": \"2021-02-07T20:22:14.66372Z\", \"created_time_dt\": \"2021-02-07T20:22:14.66372Z\", \"duration\": \"0:01:00\", \"iteration\": \"28\", \"goal\": \"accuracy_max\", \"run_name\": \"MaxAbsScaler, ExtremeRandomTrees\", \"run_properties\": \"copy=True\", \"primary_metric\": 0.79585859, \"best_metric\": 0.83606061}, {\"run_id\": \"AutoML_da0f5073-4f86-43a2-b902-0d62d74e6569_29\", \"run_number\": 34, \"metric\": null, \"status\": \"Completed\", \"run_type\": \"azureml.scriptrun\", \"training_percent\": \"100\", \"start_time\": \"2021-02-07T20:23:04.206804Z\", \"end_time\": \"2021-02-07T20:24:06.529852Z\", \"created_time\": \"2021-02-07T20:22:47.50852Z\", \"created_time_dt\": \"2021-02-07T20:22:47.50852Z\", \"duration\": \"0:01:19\", \"iteration\": \"29\", \"goal\": \"accuracy_max\", \"run_name\": \"SparseNormalizer, ExtremeRandomTrees\", \"run_properties\": \"<azureml.automl.runtime.shared.model_wrappers.SparseNormalizer object at 0x7f993007b080\", \"primary_metric\": 0.75905724, \"best_metric\": 0.83606061}, {\"run_id\": \"AutoML_da0f5073-4f86-43a2-b902-0d62d74e6569_30\", \"run_number\": 35, \"metric\": null, \"status\": \"Completed\", \"run_type\": \"azureml.scriptrun\", \"training_percent\": \"100\", \"start_time\": \"2021-02-07T20:23:05.097744Z\", \"end_time\": \"2021-02-07T20:24:00.32968Z\", \"created_time\": \"2021-02-07T20:22:53.068314Z\", \"created_time_dt\": \"2021-02-07T20:22:53.068314Z\", \"duration\": \"0:01:07\", \"iteration\": \"30\", \"goal\": \"accuracy_max\", \"run_name\": \"SparseNormalizer, LightGBM\", \"run_properties\": \"<azureml.automl.runtime.shared.model_wrappers.SparseNormalizer object at 0x7f7f0fbeafd0\", \"primary_metric\": 0.74255892, \"best_metric\": 0.83606061}, {\"run_id\": \"AutoML_da0f5073-4f86-43a2-b902-0d62d74e6569_31\", \"run_number\": 36, \"metric\": null, \"status\": \"Completed\", \"run_type\": \"azureml.scriptrun\", \"training_percent\": \"100\", \"start_time\": \"2021-02-07T20:23:27.144952Z\", \"end_time\": \"2021-02-07T20:24:16.553208Z\", \"created_time\": \"2021-02-07T20:23:14.901926Z\", \"created_time_dt\": \"2021-02-07T20:23:14.901926Z\", \"duration\": \"0:01:01\", \"iteration\": \"31\", \"goal\": \"accuracy_max\", \"run_name\": \"SparseNormalizer, XGBoostClassifier\", \"run_properties\": \"<azureml.automl.runtime.shared.model_wrappers.SparseNormalizer object at 0x7f655c217470\", \"primary_metric\": 0.78936027, \"best_metric\": 0.83606061}, {\"run_id\": \"AutoML_da0f5073-4f86-43a2-b902-0d62d74e6569_32\", \"run_number\": 37, \"metric\": null, \"status\": \"Completed\", \"run_type\": \"azureml.scriptrun\", \"training_percent\": \"100\", \"start_time\": \"2021-02-07T20:23:31.072398Z\", \"end_time\": \"2021-02-07T20:24:19.842136Z\", \"created_time\": \"2021-02-07T20:23:17.982917Z\", \"created_time_dt\": \"2021-02-07T20:23:17.982917Z\", \"duration\": \"0:01:01\", \"iteration\": \"32\", \"goal\": \"accuracy_max\", \"run_name\": \"SparseNormalizer, XGBoostClassifier\", \"run_properties\": \"<azureml.automl.runtime.shared.model_wrappers.SparseNormalizer object at 0x7f84e5630be0\", \"primary_metric\": 0.77936027, \"best_metric\": 0.83606061}, {\"run_id\": \"AutoML_da0f5073-4f86-43a2-b902-0d62d74e6569_33\", \"run_number\": 38, \"metric\": null, \"status\": \"Canceled\", \"run_type\": \"azureml.scriptrun\", \"training_percent\": \"100\", \"start_time\": \"2021-02-07T20:24:13.09047Z\", \"end_time\": \"2021-02-07T20:24:27.372702Z\", \"created_time\": \"2021-02-07T20:24:02.231564Z\", \"created_time_dt\": \"2021-02-07T20:24:02.231564Z\", \"duration\": \"0:00:25\", \"iteration\": \"33\", \"goal\": null, \"run_name\": \"Canceled\", \"run_properties\": null}, {\"run_id\": \"AutoML_da0f5073-4f86-43a2-b902-0d62d74e6569_34\", \"run_number\": 39, \"metric\": null, \"status\": \"Canceled\", \"run_type\": \"azureml.scriptrun\", \"training_percent\": \"100\", \"start_time\": \"2021-02-07T20:24:20.516845Z\", \"end_time\": \"2021-02-07T20:24:28.339227Z\", \"created_time\": \"2021-02-07T20:24:08.220831Z\", \"created_time_dt\": \"2021-02-07T20:24:08.220831Z\", \"duration\": \"0:00:20\", \"iteration\": \"34\", \"goal\": null, \"run_name\": \"Canceled\", \"run_properties\": null}, {\"run_id\": \"AutoML_da0f5073-4f86-43a2-b902-0d62d74e6569_35\", \"run_number\": 40, \"metric\": null, \"status\": \"Failed\", \"run_type\": \"azureml.scriptrun\", \"training_percent\": \"100\", \"start_time\": \"2021-02-07T20:24:19.053947Z\", \"end_time\": \"2021-02-07T20:24:22.071626Z\", \"created_time\": \"2021-02-07T20:24:19.053947Z\", \"created_time_dt\": \"2021-02-07T20:24:19.053947Z\", \"duration\": \"0:00:03\", \"iteration\": \"35\", \"goal\": null, \"run_name\": \"Failed\", \"run_properties\": null}, {\"run_id\": \"AutoML_da0f5073-4f86-43a2-b902-0d62d74e6569_36\", \"run_number\": 41, \"metric\": null, \"status\": \"Completed\", \"run_type\": \"azureml.scriptrun\", \"training_percent\": \"100\", \"start_time\": \"2021-02-07T20:24:40.828869Z\", \"end_time\": \"2021-02-07T20:26:10.076632Z\", \"created_time\": \"2021-02-07T20:24:29.129784Z\", \"created_time_dt\": \"2021-02-07T20:24:29.129784Z\", \"duration\": \"0:01:40\", \"iteration\": \"36\", \"goal\": \"accuracy_max\", \"run_name\": \"VotingEnsemble\", \"run_properties\": \"classification_labels=None,\\n                              estimators=[('18',\\n                                           Pipeline(memory=None,\\n                                                    steps=[('minmaxscaler',\\n                                                            MinMaxScaler(copy=True,\\n                                                                         feature_range=(0,\\n                                                                                        1\", \"primary_metric\": 0.85942761, \"best_metric\": 0.85942761}, {\"run_id\": \"AutoML_da0f5073-4f86-43a2-b902-0d62d74e6569_37\", \"run_number\": 42, \"metric\": null, \"status\": \"Completed\", \"run_type\": \"azureml.scriptrun\", \"training_percent\": \"100\", \"start_time\": \"2021-02-07T20:24:42.487024Z\", \"end_time\": \"2021-02-07T20:26:04.241756Z\", \"created_time\": \"2021-02-07T20:24:29.160939Z\", \"created_time_dt\": \"2021-02-07T20:24:29.160939Z\", \"duration\": \"0:01:35\", \"iteration\": \"37\", \"goal\": \"accuracy_max\", \"run_name\": \"StackEnsemble\", \"run_properties\": \"base_learners=[('18',\\n                                        Pipeline(memory=None,\\n                                                 steps=[('minmaxscaler',\\n                                                         MinMaxScaler(copy=True,\\n                                                                      feature_range=(0,\\n                                                                                     1\", \"primary_metric\": 0.83262626, \"best_metric\": 0.85942761}], \"children_metrics\": {\"categories\": [0], \"series\": {\"recall_score_micro\": [{\"categories\": [\"0\", \"1\", \"2\", \"3\", \"4\", \"5\", \"6\", \"7\", \"8\", \"9\", \"10\", \"11\", \"12\", \"13\", \"14\", \"15\", \"16\", \"17\", \"18\", \"19\", \"20\", \"21\", \"22\", \"23\", \"24\", \"25\", \"26\", \"27\", \"28\", \"29\", \"30\", \"31\", \"32\", \"36\", \"37\"], \"mode\": \"markers\", \"name\": \"recall_score_micro\", \"stepped\": false, \"type\": \"scatter\", \"data\": [0.8025252525252524, 0.8192929292929293, 0.8159259259259258, 0.8158585858585857, 0.8326262626262627, 0.8093265993265993, 0.8327272727272729, 0.708989898989899, 0.8260942760942761, 0.7993602693602693, 0.826026936026936, 0.8025252525252524, 0.8293265993265994, 0.8294276094276095, 0.8293939393939395, 0.816026936026936, 0.7223905723905725, 0.795892255892256, 0.8360606060606061, 0.8259932659932661, 0.8025252525252524, 0.8293265993265994, 0.8125925925925926, 0.8127946127946127, 0.8193265993265993, 0.6790235690235691, 0.7524579124579125, 0.8092255892255893, 0.7958585858585859, 0.7590572390572391, 0.7425589225589225, 0.7893602693602694, 0.7793602693602693, 0.8594276094276094, 0.8326262626262627]}, {\"categories\": [\"0\", \"1\", \"2\", \"3\", \"4\", \"5\", \"6\", \"7\", \"8\", \"9\", \"10\", \"11\", \"12\", \"13\", \"14\", \"15\", \"16\", \"17\", \"18\", \"19\", \"20\", \"21\", \"22\", \"23\", \"24\", \"25\", \"26\", \"27\", \"28\", \"29\", \"30\", \"31\", \"32\", \"36\", \"37\"], \"mode\": \"lines\", \"name\": \"recall_score_micro_max\", \"stepped\": true, \"type\": \"scatter\", \"data\": [0.8025252525252524, 0.8192929292929293, 0.8192929292929293, 0.8192929292929293, 0.8326262626262627, 0.8326262626262627, 0.8327272727272729, 0.8327272727272729, 0.8327272727272729, 0.8327272727272729, 0.8327272727272729, 0.8327272727272729, 0.8327272727272729, 0.8327272727272729, 0.8327272727272729, 0.8327272727272729, 0.8327272727272729, 0.8327272727272729, 0.8360606060606061, 0.8360606060606061, 0.8360606060606061, 0.8360606060606061, 0.8360606060606061, 0.8360606060606061, 0.8360606060606061, 0.8360606060606061, 0.8360606060606061, 0.8360606060606061, 0.8360606060606061, 0.8360606060606061, 0.8360606060606061, 0.8360606060606061, 0.8360606060606061, 0.8594276094276094, 0.8594276094276094]}], \"f1_score_weighted\": [{\"categories\": [\"0\", \"1\", \"2\", \"3\", \"4\", \"5\", \"6\", \"7\", \"8\", \"9\", \"10\", \"11\", \"12\", \"13\", \"14\", \"15\", \"16\", \"17\", \"18\", \"19\", \"20\", \"21\", \"22\", \"23\", \"24\", \"25\", \"26\", \"27\", \"28\", \"29\", \"30\", \"31\", \"32\", \"36\", \"37\"], \"mode\": \"markers\", \"name\": \"f1_score_weighted\", \"stepped\": false, \"type\": \"scatter\", \"data\": [0.7994850745596541, 0.8173118768300475, 0.8141595264418648, 0.8094295864027888, 0.828555842969207, 0.8010380590842358, 0.8273594141732392, 0.6660351783745501, 0.8201413885439779, 0.7882247151382185, 0.8233757387578207, 0.7988411544551471, 0.8255406357861582, 0.8191118488283063, 0.8241448914253456, 0.8005382385748847, 0.6569687034947951, 0.7873901645492555, 0.8340003174826732, 0.8234623109737244, 0.7988411544551471, 0.8266953840907835, 0.8035893800333205, 0.8062989513416708, 0.8103672431826644, 0.5497345001811592, 0.7564449399671102, 0.810908536477433, 0.7969263332460504, 0.7633283641551714, 0.6827323069044734, 0.7832462434746758, 0.7710100918738559, 0.8548066059635899, 0.8296448303621325]}, {\"categories\": [\"0\", \"1\", \"2\", \"3\", \"4\", \"5\", \"6\", \"7\", \"8\", \"9\", \"10\", \"11\", \"12\", \"13\", \"14\", \"15\", \"16\", \"17\", \"18\", \"19\", \"20\", \"21\", \"22\", \"23\", \"24\", \"25\", \"26\", \"27\", \"28\", \"29\", \"30\", \"31\", \"32\", \"36\", \"37\"], \"mode\": \"lines\", \"name\": \"f1_score_weighted_max\", \"stepped\": true, \"type\": \"scatter\", \"data\": [0.7994850745596541, 0.8173118768300475, 0.8173118768300475, 0.8173118768300475, 0.828555842969207, 0.828555842969207, 0.828555842969207, 0.828555842969207, 0.828555842969207, 0.828555842969207, 0.828555842969207, 0.828555842969207, 0.828555842969207, 0.828555842969207, 0.828555842969207, 0.828555842969207, 0.828555842969207, 0.828555842969207, 0.8340003174826732, 0.8340003174826732, 0.8340003174826732, 0.8340003174826732, 0.8340003174826732, 0.8340003174826732, 0.8340003174826732, 0.8340003174826732, 0.8340003174826732, 0.8340003174826732, 0.8340003174826732, 0.8340003174826732, 0.8340003174826732, 0.8340003174826732, 0.8340003174826732, 0.8548066059635899, 0.8548066059635899]}], \"precision_score_macro\": [{\"categories\": [\"0\", \"1\", \"2\", \"3\", \"4\", \"5\", \"6\", \"7\", \"8\", \"9\", \"10\", \"11\", \"12\", \"13\", \"14\", \"15\", \"16\", \"17\", \"18\", \"19\", \"20\", \"21\", \"22\", \"23\", \"24\", \"25\", \"26\", \"27\", \"28\", \"29\", \"30\", \"31\", \"32\", \"36\", \"37\"], \"mode\": \"markers\", \"name\": \"precision_score_macro\", \"stepped\": false, \"type\": \"scatter\", \"data\": [0.7842311567478019, 0.7983113869170717, 0.8008507796551276, 0.8068708277041611, 0.8177067770608324, 0.8065693247744985, 0.8262419514505801, 0.6735974194129947, 0.8121356400015376, 0.7916161388528001, 0.8084326599132119, 0.7851791743296695, 0.8188013915243517, 0.834622590426684, 0.816445047804697, 0.8311398439124255, 0.7575123496221123, 0.7840288840849604, 0.818490671283603, 0.8077250101854133, 0.7851791743296695, 0.810581167103733, 0.8098079955989536, 0.7992466374315689, 0.814597338650144, 0.33951178451178454, 0.7213310336400319, 0.7950479635121567, 0.7682622354497354, 0.7304870497234789, 0.8195424666329839, 0.7708971951817518, 0.7616054584845747, 0.8560823122376835, 0.8274258280966191]}, {\"categories\": [\"0\", \"1\", \"2\", \"3\", \"4\", \"5\", \"6\", \"7\", \"8\", \"9\", \"10\", \"11\", \"12\", \"13\", \"14\", \"15\", \"16\", \"17\", \"18\", \"19\", \"20\", \"21\", \"22\", \"23\", \"24\", \"25\", \"26\", \"27\", \"28\", \"29\", \"30\", \"31\", \"32\", \"36\", \"37\"], \"mode\": \"lines\", \"name\": \"precision_score_macro_max\", \"stepped\": true, \"type\": \"scatter\", \"data\": [0.7842311567478019, 0.7983113869170717, 0.8008507796551276, 0.8068708277041611, 0.8177067770608324, 0.8177067770608324, 0.8262419514505801, 0.8262419514505801, 0.8262419514505801, 0.8262419514505801, 0.8262419514505801, 0.8262419514505801, 0.8262419514505801, 0.834622590426684, 0.834622590426684, 0.834622590426684, 0.834622590426684, 0.834622590426684, 0.834622590426684, 0.834622590426684, 0.834622590426684, 0.834622590426684, 0.834622590426684, 0.834622590426684, 0.834622590426684, 0.834622590426684, 0.834622590426684, 0.834622590426684, 0.834622590426684, 0.834622590426684, 0.834622590426684, 0.834622590426684, 0.834622590426684, 0.8560823122376835, 0.8560823122376835]}], \"balanced_accuracy\": [{\"categories\": [\"0\", \"1\", \"2\", \"3\", \"4\", \"5\", \"6\", \"7\", \"8\", \"9\", \"10\", \"11\", \"12\", \"13\", \"14\", \"15\", \"16\", \"17\", \"18\", \"19\", \"20\", \"21\", \"22\", \"23\", \"24\", \"25\", \"26\", \"27\", \"28\", \"29\", \"30\", \"31\", \"32\", \"36\", \"37\"], \"mode\": \"markers\", \"name\": \"balanced_accuracy\", \"stepped\": false, \"type\": \"scatter\", \"data\": [0.7665542389680322, 0.7899604037535072, 0.7925257770085357, 0.7632610442955269, 0.7930164154302085, 0.766525638939432, 0.7886305024236059, 0.5876558824834688, 0.7807598238632721, 0.7410486841521324, 0.7994040838868425, 0.7643577074611558, 0.7870575008506043, 0.7699719423857355, 0.785528878632327, 0.734901403866921, 0.583606266364887, 0.7426046736391564, 0.8076194421022006, 0.7904966542897579, 0.7643577074611558, 0.7961251892286375, 0.7655404172645551, 0.7611101249032283, 0.7603438413783241, 0.5, 0.7391739029670065, 0.8050195515712758, 0.777798241591345, 0.7495714926749409, 0.6122161570437433, 0.7375651513582548, 0.7166200683442062, 0.8180828611863095, 0.8093038851659541]}, {\"categories\": [\"0\", \"1\", \"2\", \"3\", \"4\", \"5\", \"6\", \"7\", \"8\", \"9\", \"10\", \"11\", \"12\", \"13\", \"14\", \"15\", \"16\", \"17\", \"18\", \"19\", \"20\", \"21\", \"22\", \"23\", \"24\", \"25\", \"26\", \"27\", \"28\", \"29\", \"30\", \"31\", \"32\", \"36\", \"37\"], \"mode\": \"lines\", \"name\": \"balanced_accuracy_max\", \"stepped\": true, \"type\": \"scatter\", \"data\": [0.7665542389680322, 0.7899604037535072, 0.7925257770085357, 0.7925257770085357, 0.7930164154302085, 0.7930164154302085, 0.7930164154302085, 0.7930164154302085, 0.7930164154302085, 0.7930164154302085, 0.7994040838868425, 0.7994040838868425, 0.7994040838868425, 0.7994040838868425, 0.7994040838868425, 0.7994040838868425, 0.7994040838868425, 0.7994040838868425, 0.8076194421022006, 0.8076194421022006, 0.8076194421022006, 0.8076194421022006, 0.8076194421022006, 0.8076194421022006, 0.8076194421022006, 0.8076194421022006, 0.8076194421022006, 0.8076194421022006, 0.8076194421022006, 0.8076194421022006, 0.8076194421022006, 0.8076194421022006, 0.8076194421022006, 0.8180828611863095, 0.8180828611863095]}], \"average_precision_score_weighted\": [{\"categories\": [\"0\", \"1\", \"2\", \"3\", \"4\", \"5\", \"6\", \"7\", \"8\", \"9\", \"10\", \"11\", \"12\", \"13\", \"14\", \"15\", \"16\", \"17\", \"18\", \"19\", \"20\", \"21\", \"22\", \"23\", \"24\", \"25\", \"26\", \"27\", \"28\", \"29\", \"30\", \"31\", \"32\", \"36\", \"37\"], \"mode\": \"markers\", \"name\": \"average_precision_score_weighted\", \"stepped\": false, \"type\": \"scatter\", \"data\": [0.8648843990393956, 0.8836277505100775, 0.8923571248221808, 0.857295487862046, 0.9033048026260183, 0.8888089303986808, 0.878942525550679, 0.76941805047861, 0.8725645012881823, 0.8730897341859674, 0.9025308729962199, 0.8656256632985763, 0.8952026970569348, 0.8879556476301506, 0.8814167072739009, 0.8799745702179605, 0.8682928548350434, 0.8779635581082691, 0.8867019979340919, 0.876509412117792, 0.8660295041773104, 0.8939364515582097, 0.8885761663397496, 0.8618621810610061, 0.8891830710189256, 0.884580296312131, 0.8255543828324768, 0.893487075629707, 0.8814332245796507, 0.8324745353355433, 0.8535571611792602, 0.8631780623902433, 0.8233998908194416, 0.8950298873370782, 0.9058263544721975]}, {\"categories\": [\"0\", \"1\", \"2\", \"3\", \"4\", \"5\", \"6\", \"7\", \"8\", \"9\", \"10\", \"11\", \"12\", \"13\", \"14\", \"15\", \"16\", \"17\", \"18\", \"19\", \"20\", \"21\", \"22\", \"23\", \"24\", \"25\", \"26\", \"27\", \"28\", \"29\", \"30\", \"31\", \"32\", \"36\", \"37\"], \"mode\": \"lines\", \"name\": \"average_precision_score_weighted_max\", \"stepped\": true, \"type\": \"scatter\", \"data\": [0.8648843990393956, 0.8836277505100775, 0.8923571248221808, 0.8923571248221808, 0.9033048026260183, 0.9033048026260183, 0.9033048026260183, 0.9033048026260183, 0.9033048026260183, 0.9033048026260183, 0.9033048026260183, 0.9033048026260183, 0.9033048026260183, 0.9033048026260183, 0.9033048026260183, 0.9033048026260183, 0.9033048026260183, 0.9033048026260183, 0.9033048026260183, 0.9033048026260183, 0.9033048026260183, 0.9033048026260183, 0.9033048026260183, 0.9033048026260183, 0.9033048026260183, 0.9033048026260183, 0.9033048026260183, 0.9033048026260183, 0.9033048026260183, 0.9033048026260183, 0.9033048026260183, 0.9033048026260183, 0.9033048026260183, 0.9033048026260183, 0.9058263544721975]}], \"AUC_weighted\": [{\"categories\": [\"0\", \"1\", \"2\", \"3\", \"4\", \"5\", \"6\", \"7\", \"8\", \"9\", \"10\", \"11\", \"12\", \"13\", \"14\", \"15\", \"16\", \"17\", \"18\", \"19\", \"20\", \"21\", \"22\", \"23\", \"24\", \"25\", \"26\", \"27\", \"28\", \"29\", \"30\", \"31\", \"32\", \"36\", \"37\"], \"mode\": \"markers\", \"name\": \"AUC_weighted\", \"stepped\": false, \"type\": \"scatter\", \"data\": [0.8550287233045855, 0.875938401455643, 0.8896710996710997, 0.8544574623884968, 0.8964464957568407, 0.8809335443818203, 0.8665425524046214, 0.7415250965250966, 0.856066411238825, 0.8650320764113868, 0.8973351183696012, 0.8472504031124721, 0.8902513350789213, 0.8746377904998596, 0.8723482595896389, 0.8722483074207211, 0.8567626740040533, 0.8664901354556527, 0.884242690966829, 0.8673442901029108, 0.8473934032554721, 0.8858666548321721, 0.8794564022150229, 0.8513806663806663, 0.8835903884179745, 0.8742620452965281, 0.8063521156624605, 0.8869911783704887, 0.8621051593465388, 0.8151692579278785, 0.8436850890299166, 0.8523627815007125, 0.8214482462758325, 0.8875399537468504, 0.8980560856422924]}, {\"categories\": [\"0\", \"1\", \"2\", \"3\", \"4\", \"5\", \"6\", \"7\", \"8\", \"9\", \"10\", \"11\", \"12\", \"13\", \"14\", \"15\", \"16\", \"17\", \"18\", \"19\", \"20\", \"21\", \"22\", \"23\", \"24\", \"25\", \"26\", \"27\", \"28\", \"29\", \"30\", \"31\", \"32\", \"36\", \"37\"], \"mode\": \"lines\", \"name\": \"AUC_weighted_max\", \"stepped\": true, \"type\": \"scatter\", \"data\": [0.8550287233045855, 0.875938401455643, 0.8896710996710997, 0.8896710996710997, 0.8964464957568407, 0.8964464957568407, 0.8964464957568407, 0.8964464957568407, 0.8964464957568407, 0.8964464957568407, 0.8973351183696012, 0.8973351183696012, 0.8973351183696012, 0.8973351183696012, 0.8973351183696012, 0.8973351183696012, 0.8973351183696012, 0.8973351183696012, 0.8973351183696012, 0.8973351183696012, 0.8973351183696012, 0.8973351183696012, 0.8973351183696012, 0.8973351183696012, 0.8973351183696012, 0.8973351183696012, 0.8973351183696012, 0.8973351183696012, 0.8973351183696012, 0.8973351183696012, 0.8973351183696012, 0.8973351183696012, 0.8973351183696012, 0.8973351183696012, 0.8980560856422924]}], \"AUC_micro\": [{\"categories\": [\"0\", \"1\", \"2\", \"3\", \"4\", \"5\", \"6\", \"7\", \"8\", \"9\", \"10\", \"11\", \"12\", \"13\", \"14\", \"15\", \"16\", \"17\", \"18\", \"19\", \"20\", \"21\", \"22\", \"23\", \"24\", \"25\", \"26\", \"27\", \"28\", \"29\", \"30\", \"31\", \"32\", \"36\", \"37\"], \"mode\": \"markers\", \"name\": \"AUC_micro\", \"stepped\": false, \"type\": \"scatter\", \"data\": [0.8769284528789579, 0.8907238819168114, 0.8969611060095909, 0.8726113661871238, 0.9049384314525728, 0.8913558582457574, 0.8851687174778083, 0.7925083290820666, 0.8776952861952863, 0.879086654423018, 0.906049767030575, 0.8698086555793627, 0.8964100023807094, 0.8872323368363771, 0.8865985001530455, 0.877566180321736, 0.8487585722545319, 0.8783998571574329, 0.8975763323470395, 0.8859743019419787, 0.8699406353093222, 0.8980309866340169, 0.8940913920348263, 0.8738005271570929, 0.894507635275312, 0.841385644322008, 0.8245641601197157, 0.8872814134612114, 0.8762506172839505, 0.8359502839846273, 0.8375292963303065, 0.8763162636465668, 0.8508842839166072, 0.8995025575621535, 0.8970254021698466]}, {\"categories\": [\"0\", \"1\", \"2\", \"3\", \"4\", \"5\", \"6\", \"7\", \"8\", \"9\", \"10\", \"11\", \"12\", \"13\", \"14\", \"15\", \"16\", \"17\", \"18\", \"19\", \"20\", \"21\", \"22\", \"23\", \"24\", \"25\", \"26\", \"27\", \"28\", \"29\", \"30\", \"31\", \"32\", \"36\", \"37\"], \"mode\": \"lines\", \"name\": \"AUC_micro_max\", \"stepped\": true, \"type\": \"scatter\", \"data\": [0.8769284528789579, 0.8907238819168114, 0.8969611060095909, 0.8969611060095909, 0.9049384314525728, 0.9049384314525728, 0.9049384314525728, 0.9049384314525728, 0.9049384314525728, 0.9049384314525728, 0.906049767030575, 0.906049767030575, 0.906049767030575, 0.906049767030575, 0.906049767030575, 0.906049767030575, 0.906049767030575, 0.906049767030575, 0.906049767030575, 0.906049767030575, 0.906049767030575, 0.906049767030575, 0.906049767030575, 0.906049767030575, 0.906049767030575, 0.906049767030575, 0.906049767030575, 0.906049767030575, 0.906049767030575, 0.906049767030575, 0.906049767030575, 0.906049767030575, 0.906049767030575, 0.906049767030575, 0.906049767030575]}], \"log_loss\": [{\"categories\": [\"0\", \"1\", \"2\", \"3\", \"4\", \"5\", \"6\", \"7\", \"8\", \"9\", \"10\", \"11\", \"12\", \"13\", \"14\", \"15\", \"16\", \"17\", \"18\", \"19\", \"20\", \"21\", \"22\", \"23\", \"24\", \"25\", \"26\", \"27\", \"28\", \"29\", \"30\", \"31\", \"32\", \"36\", \"37\"], \"mode\": \"markers\", \"name\": \"log_loss\", \"stepped\": false, \"type\": \"scatter\", \"data\": [0.5791360620615199, 0.4649911805096085, 0.40469406277714376, 0.4541615980471823, 0.3941750365519072, 0.4177745892928478, 0.43221590783452357, 0.5664860794298108, 0.44100299308107455, 0.4659517661651484, 0.3913827873067975, 0.4802656151003812, 0.4240371773892546, 0.4529326729292573, 0.4296126864633482, 0.4837681890675325, 0.515789549740842, 0.4382532308067771, 0.4066395703666003, 0.44429863556425714, 0.47918600959754826, 0.40585856930908615, 0.4136442938633098, 0.5054060435574561, 0.44189747723224265, 0.6310482678173303, 0.6146501542534676, 0.46646702444410276, 0.49045036047613894, 0.6072659957319949, 0.5297544524607332, 0.49108299342798184, 0.5270785349478931, 0.40728120933018364, 0.41799249986490644]}, {\"categories\": [\"0\", \"1\", \"2\", \"3\", \"4\", \"5\", \"6\", \"7\", \"8\", \"9\", \"10\", \"11\", \"12\", \"13\", \"14\", \"15\", \"16\", \"17\", \"18\", \"19\", \"20\", \"21\", \"22\", \"23\", \"24\", \"25\", \"26\", \"27\", \"28\", \"29\", \"30\", \"31\", \"32\", \"36\", \"37\"], \"mode\": \"lines\", \"name\": \"log_loss_min\", \"stepped\": true, \"type\": \"scatter\", \"data\": [0.5791360620615199, 0.4649911805096085, 0.40469406277714376, 0.40469406277714376, 0.3941750365519072, 0.3941750365519072, 0.3941750365519072, 0.3941750365519072, 0.3941750365519072, 0.3941750365519072, 0.3913827873067975, 0.3913827873067975, 0.3913827873067975, 0.3913827873067975, 0.3913827873067975, 0.3913827873067975, 0.3913827873067975, 0.3913827873067975, 0.3913827873067975, 0.3913827873067975, 0.3913827873067975, 0.3913827873067975, 0.3913827873067975, 0.3913827873067975, 0.3913827873067975, 0.3913827873067975, 0.3913827873067975, 0.3913827873067975, 0.3913827873067975, 0.3913827873067975, 0.3913827873067975, 0.3913827873067975, 0.3913827873067975, 0.3913827873067975, 0.3913827873067975]}], \"average_precision_score_micro\": [{\"categories\": [\"0\", \"1\", \"2\", \"3\", \"4\", \"5\", \"6\", \"7\", \"8\", \"9\", \"10\", \"11\", \"12\", \"13\", \"14\", \"15\", \"16\", \"17\", \"18\", \"19\", \"20\", \"21\", \"22\", \"23\", \"24\", \"25\", \"26\", \"27\", \"28\", \"29\", \"30\", \"31\", \"32\", \"36\", \"37\"], \"mode\": \"markers\", \"name\": \"average_precision_score_micro\", \"stepped\": false, \"type\": \"scatter\", \"data\": [0.8707751210307144, 0.8886385174313017, 0.8993768807315964, 0.8655424561891952, 0.9069470950757328, 0.8917378999655203, 0.883760501118268, 0.7868427115502374, 0.8759172664874081, 0.8782733418506834, 0.9061276954940785, 0.8696520895357899, 0.8984164350090049, 0.8860750991474041, 0.8840700802473521, 0.871788983229679, 0.8565439080059489, 0.8823042655301707, 0.8917163750706504, 0.885193680854663, 0.8700695345884958, 0.8991846842999357, 0.8917694227933236, 0.863632516712245, 0.8922175201764779, 0.8533538802696569, 0.8174531740107241, 0.8828105952999152, 0.8764372934659607, 0.8317073207352506, 0.8328522187849506, 0.8683690249032376, 0.8276715963971853, 0.8985135679260727, 0.8987637554191443]}, {\"categories\": [\"0\", \"1\", \"2\", \"3\", \"4\", \"5\", \"6\", \"7\", \"8\", \"9\", \"10\", \"11\", \"12\", \"13\", \"14\", \"15\", \"16\", \"17\", \"18\", \"19\", \"20\", \"21\", \"22\", \"23\", \"24\", \"25\", \"26\", \"27\", \"28\", \"29\", \"30\", \"31\", \"32\", \"36\", \"37\"], \"mode\": \"lines\", \"name\": \"average_precision_score_micro_max\", \"stepped\": true, \"type\": \"scatter\", \"data\": [0.8707751210307144, 0.8886385174313017, 0.8993768807315964, 0.8993768807315964, 0.9069470950757328, 0.9069470950757328, 0.9069470950757328, 0.9069470950757328, 0.9069470950757328, 0.9069470950757328, 0.9069470950757328, 0.9069470950757328, 0.9069470950757328, 0.9069470950757328, 0.9069470950757328, 0.9069470950757328, 0.9069470950757328, 0.9069470950757328, 0.9069470950757328, 0.9069470950757328, 0.9069470950757328, 0.9069470950757328, 0.9069470950757328, 0.9069470950757328, 0.9069470950757328, 0.9069470950757328, 0.9069470950757328, 0.9069470950757328, 0.9069470950757328, 0.9069470950757328, 0.9069470950757328, 0.9069470950757328, 0.9069470950757328, 0.9069470950757328, 0.9069470950757328]}], \"AUC_macro\": [{\"categories\": [\"0\", \"1\", \"2\", \"3\", \"4\", \"5\", \"6\", \"7\", \"8\", \"9\", \"10\", \"11\", \"12\", \"13\", \"14\", \"15\", \"16\", \"17\", \"18\", \"19\", \"20\", \"21\", \"22\", \"23\", \"24\", \"25\", \"26\", \"27\", \"28\", \"29\", \"30\", \"31\", \"32\", \"36\", \"37\"], \"mode\": \"markers\", \"name\": \"AUC_macro\", \"stepped\": false, \"type\": \"scatter\", \"data\": [0.8550287233045853, 0.875938401455643, 0.8896710996710997, 0.8544574623884968, 0.8964464957568405, 0.8809335443818203, 0.8665425524046214, 0.7415250965250966, 0.8560664112388251, 0.8650320764113868, 0.8973351183696012, 0.8472504031124721, 0.8902513350789213, 0.8746377904998596, 0.8723482595896389, 0.8722483074207211, 0.8567626740040533, 0.8664901354556527, 0.884242690966829, 0.8673442901029108, 0.8473934032554721, 0.8858666548321721, 0.8794564022150229, 0.8513806663806663, 0.8835903884179747, 0.8742620452965281, 0.8063521156624605, 0.8869911783704887, 0.8621051593465386, 0.8151692579278786, 0.8436850890299166, 0.8523627815007125, 0.8214482462758325, 0.8875399537468504, 0.8980560856422927]}, {\"categories\": [\"0\", \"1\", \"2\", \"3\", \"4\", \"5\", \"6\", \"7\", \"8\", \"9\", \"10\", \"11\", \"12\", \"13\", \"14\", \"15\", \"16\", \"17\", \"18\", \"19\", \"20\", \"21\", \"22\", \"23\", \"24\", \"25\", \"26\", \"27\", \"28\", \"29\", \"30\", \"31\", \"32\", \"36\", \"37\"], \"mode\": \"lines\", \"name\": \"AUC_macro_max\", \"stepped\": true, \"type\": \"scatter\", \"data\": [0.8550287233045853, 0.875938401455643, 0.8896710996710997, 0.8896710996710997, 0.8964464957568405, 0.8964464957568405, 0.8964464957568405, 0.8964464957568405, 0.8964464957568405, 0.8964464957568405, 0.8973351183696012, 0.8973351183696012, 0.8973351183696012, 0.8973351183696012, 0.8973351183696012, 0.8973351183696012, 0.8973351183696012, 0.8973351183696012, 0.8973351183696012, 0.8973351183696012, 0.8973351183696012, 0.8973351183696012, 0.8973351183696012, 0.8973351183696012, 0.8973351183696012, 0.8973351183696012, 0.8973351183696012, 0.8973351183696012, 0.8973351183696012, 0.8973351183696012, 0.8973351183696012, 0.8973351183696012, 0.8973351183696012, 0.8973351183696012, 0.8980560856422927]}], \"weighted_accuracy\": [{\"categories\": [\"0\", \"1\", \"2\", \"3\", \"4\", \"5\", \"6\", \"7\", \"8\", \"9\", \"10\", \"11\", \"12\", \"13\", \"14\", \"15\", \"16\", \"17\", \"18\", \"19\", \"20\", \"21\", \"22\", \"23\", \"24\", \"25\", \"26\", \"27\", \"28\", \"29\", \"30\", \"31\", \"32\", \"36\", \"37\"], \"mode\": \"markers\", \"name\": \"weighted_accuracy\", \"stepped\": false, \"type\": \"scatter\", \"data\": [0.8310099034285422, 0.8426543037328149, 0.835445231488254, 0.8563717031009984, 0.8634184022558454, 0.8435945852411305, 0.8672125594538705, 0.8005096365284405, 0.8612689161865733, 0.8448699013785639, 0.8477271600300744, 0.8327296573306381, 0.8620696438349328, 0.8754283714247556, 0.8634491196390175, 0.8770157302784055, 0.8275239489597147, 0.8374126466621586, 0.8587112998462357, 0.853626815792229, 0.8327296573306381, 0.8553437099954547, 0.8499154232544527, 0.8522999633007813, 0.8645714286468716, 0.8139581109686231, 0.7632856001042634, 0.8145813573275107, 0.810624783643943, 0.767141353687152, 0.8418417964235526, 0.8287905743041003, 0.8263399339334546, 0.8914967771530552, 0.8524640221515477]}, {\"categories\": [\"0\", \"1\", \"2\", \"3\", \"4\", \"5\", \"6\", \"7\", \"8\", \"9\", \"10\", \"11\", \"12\", \"13\", \"14\", \"15\", \"16\", \"17\", \"18\", \"19\", \"20\", \"21\", \"22\", \"23\", \"24\", \"25\", \"26\", \"27\", \"28\", \"29\", \"30\", \"31\", \"32\", \"36\", \"37\"], \"mode\": \"lines\", \"name\": \"weighted_accuracy_max\", \"stepped\": true, \"type\": \"scatter\", \"data\": [0.8310099034285422, 0.8426543037328149, 0.8426543037328149, 0.8563717031009984, 0.8634184022558454, 0.8634184022558454, 0.8672125594538705, 0.8672125594538705, 0.8672125594538705, 0.8672125594538705, 0.8672125594538705, 0.8672125594538705, 0.8672125594538705, 0.8754283714247556, 0.8754283714247556, 0.8770157302784055, 0.8770157302784055, 0.8770157302784055, 0.8770157302784055, 0.8770157302784055, 0.8770157302784055, 0.8770157302784055, 0.8770157302784055, 0.8770157302784055, 0.8770157302784055, 0.8770157302784055, 0.8770157302784055, 0.8770157302784055, 0.8770157302784055, 0.8770157302784055, 0.8770157302784055, 0.8770157302784055, 0.8770157302784055, 0.8914967771530552, 0.8914967771530552]}], \"norm_macro_recall\": [{\"categories\": [\"0\", \"1\", \"2\", \"3\", \"4\", \"5\", \"6\", \"7\", \"8\", \"9\", \"10\", \"11\", \"12\", \"13\", \"14\", \"15\", \"16\", \"17\", \"18\", \"19\", \"20\", \"21\", \"22\", \"23\", \"24\", \"25\", \"26\", \"27\", \"28\", \"29\", \"30\", \"31\", \"32\", \"36\", \"37\"], \"mode\": \"markers\", \"name\": \"norm_macro_recall\", \"stepped\": false, \"type\": \"scatter\", \"data\": [0.5331084779360642, 0.5799208075070145, 0.5850515540170713, 0.526522088591054, 0.586032830860417, 0.5330512778788641, 0.5772610048472117, 0.17531176496693743, 0.5615196477265444, 0.48209736830426486, 0.5988081677736851, 0.5287154149223114, 0.5741150017012085, 0.5399438847714709, 0.5710577572646539, 0.4698028077338421, 0.16721253272977407, 0.4852093472783128, 0.6152388842044014, 0.5809933085795156, 0.5287154149223114, 0.5922503784572749, 0.5310808345291104, 0.5222202498064568, 0.5206876827566483, 0.0, 0.4783478059340129, 0.6100391031425514, 0.5555964831826902, 0.4991429853498819, 0.2244323140874865, 0.47513030271650963, 0.4332401366884125, 0.636165722372619, 0.6186077703319083]}, {\"categories\": [\"0\", \"1\", \"2\", \"3\", \"4\", \"5\", \"6\", \"7\", \"8\", \"9\", \"10\", \"11\", \"12\", \"13\", \"14\", \"15\", \"16\", \"17\", \"18\", \"19\", \"20\", \"21\", \"22\", \"23\", \"24\", \"25\", \"26\", \"27\", \"28\", \"29\", \"30\", \"31\", \"32\", \"36\", \"37\"], \"mode\": \"lines\", \"name\": \"norm_macro_recall_max\", \"stepped\": true, \"type\": \"scatter\", \"data\": [0.5331084779360642, 0.5799208075070145, 0.5850515540170713, 0.5850515540170713, 0.586032830860417, 0.586032830860417, 0.586032830860417, 0.586032830860417, 0.586032830860417, 0.586032830860417, 0.5988081677736851, 0.5988081677736851, 0.5988081677736851, 0.5988081677736851, 0.5988081677736851, 0.5988081677736851, 0.5988081677736851, 0.5988081677736851, 0.6152388842044014, 0.6152388842044014, 0.6152388842044014, 0.6152388842044014, 0.6152388842044014, 0.6152388842044014, 0.6152388842044014, 0.6152388842044014, 0.6152388842044014, 0.6152388842044014, 0.6152388842044014, 0.6152388842044014, 0.6152388842044014, 0.6152388842044014, 0.6152388842044014, 0.636165722372619, 0.636165722372619]}], \"recall_score_macro\": [{\"categories\": [\"0\", \"1\", \"2\", \"3\", \"4\", \"5\", \"6\", \"7\", \"8\", \"9\", \"10\", \"11\", \"12\", \"13\", \"14\", \"15\", \"16\", \"17\", \"18\", \"19\", \"20\", \"21\", \"22\", \"23\", \"24\", \"25\", \"26\", \"27\", \"28\", \"29\", \"30\", \"31\", \"32\", \"36\", \"37\"], \"mode\": \"markers\", \"name\": \"recall_score_macro\", \"stepped\": false, \"type\": \"scatter\", \"data\": [0.7665542389680322, 0.7899604037535072, 0.7925257770085357, 0.7632610442955269, 0.7930164154302085, 0.766525638939432, 0.7886305024236059, 0.5876558824834688, 0.7807598238632721, 0.7410486841521324, 0.7994040838868425, 0.7643577074611558, 0.7870575008506043, 0.7699719423857355, 0.785528878632327, 0.734901403866921, 0.583606266364887, 0.7426046736391564, 0.8076194421022006, 0.7904966542897579, 0.7643577074611558, 0.7961251892286375, 0.7655404172645551, 0.7611101249032283, 0.7603438413783241, 0.5, 0.7391739029670065, 0.8050195515712758, 0.777798241591345, 0.7495714926749409, 0.6122161570437433, 0.7375651513582548, 0.7166200683442062, 0.8180828611863095, 0.8093038851659541]}, {\"categories\": [\"0\", \"1\", \"2\", \"3\", \"4\", \"5\", \"6\", \"7\", \"8\", \"9\", \"10\", \"11\", \"12\", \"13\", \"14\", \"15\", \"16\", \"17\", \"18\", \"19\", \"20\", \"21\", \"22\", \"23\", \"24\", \"25\", \"26\", \"27\", \"28\", \"29\", \"30\", \"31\", \"32\", \"36\", \"37\"], \"mode\": \"lines\", \"name\": \"recall_score_macro_max\", \"stepped\": true, \"type\": \"scatter\", \"data\": [0.7665542389680322, 0.7899604037535072, 0.7925257770085357, 0.7925257770085357, 0.7930164154302085, 0.7930164154302085, 0.7930164154302085, 0.7930164154302085, 0.7930164154302085, 0.7930164154302085, 0.7994040838868425, 0.7994040838868425, 0.7994040838868425, 0.7994040838868425, 0.7994040838868425, 0.7994040838868425, 0.7994040838868425, 0.7994040838868425, 0.8076194421022006, 0.8076194421022006, 0.8076194421022006, 0.8076194421022006, 0.8076194421022006, 0.8076194421022006, 0.8076194421022006, 0.8076194421022006, 0.8076194421022006, 0.8076194421022006, 0.8076194421022006, 0.8076194421022006, 0.8076194421022006, 0.8076194421022006, 0.8076194421022006, 0.8180828611863095, 0.8180828611863095]}], \"f1_score_micro\": [{\"categories\": [\"0\", \"1\", \"2\", \"3\", \"4\", \"5\", \"6\", \"7\", \"8\", \"9\", \"10\", \"11\", \"12\", \"13\", \"14\", \"15\", \"16\", \"17\", \"18\", \"19\", \"20\", \"21\", \"22\", \"23\", \"24\", \"25\", \"26\", \"27\", \"28\", \"29\", \"30\", \"31\", \"32\", \"36\", \"37\"], \"mode\": \"markers\", \"name\": \"f1_score_micro\", \"stepped\": false, \"type\": \"scatter\", \"data\": [0.8025252525252525, 0.8192929292929293, 0.815925925925926, 0.8158585858585857, 0.8326262626262627, 0.8093265993265993, 0.8327272727272729, 0.708989898989899, 0.8260942760942761, 0.7993602693602693, 0.826026936026936, 0.8025252525252524, 0.8293265993265994, 0.8294276094276095, 0.8293939393939395, 0.816026936026936, 0.7223905723905725, 0.7958922558922558, 0.8360606060606061, 0.8259932659932661, 0.8025252525252524, 0.8293265993265994, 0.8125925925925926, 0.8127946127946127, 0.8193265993265993, 0.6790235690235691, 0.7524579124579125, 0.8092255892255893, 0.7958585858585859, 0.7590572390572391, 0.7425589225589225, 0.7893602693602694, 0.7793602693602693, 0.8594276094276094, 0.8326262626262627]}, {\"categories\": [\"0\", \"1\", \"2\", \"3\", \"4\", \"5\", \"6\", \"7\", \"8\", \"9\", \"10\", \"11\", \"12\", \"13\", \"14\", \"15\", \"16\", \"17\", \"18\", \"19\", \"20\", \"21\", \"22\", \"23\", \"24\", \"25\", \"26\", \"27\", \"28\", \"29\", \"30\", \"31\", \"32\", \"36\", \"37\"], \"mode\": \"lines\", \"name\": \"f1_score_micro_max\", \"stepped\": true, \"type\": \"scatter\", \"data\": [0.8025252525252525, 0.8192929292929293, 0.8192929292929293, 0.8192929292929293, 0.8326262626262627, 0.8326262626262627, 0.8327272727272729, 0.8327272727272729, 0.8327272727272729, 0.8327272727272729, 0.8327272727272729, 0.8327272727272729, 0.8327272727272729, 0.8327272727272729, 0.8327272727272729, 0.8327272727272729, 0.8327272727272729, 0.8327272727272729, 0.8360606060606061, 0.8360606060606061, 0.8360606060606061, 0.8360606060606061, 0.8360606060606061, 0.8360606060606061, 0.8360606060606061, 0.8360606060606061, 0.8360606060606061, 0.8360606060606061, 0.8360606060606061, 0.8360606060606061, 0.8360606060606061, 0.8360606060606061, 0.8360606060606061, 0.8594276094276094, 0.8594276094276094]}], \"precision_score_weighted\": [{\"categories\": [\"0\", \"1\", \"2\", \"3\", \"4\", \"5\", \"6\", \"7\", \"8\", \"9\", \"10\", \"11\", \"12\", \"13\", \"14\", \"15\", \"16\", \"17\", \"18\", \"19\", \"20\", \"21\", \"22\", \"23\", \"24\", \"25\", \"26\", \"27\", \"28\", \"29\", \"30\", \"31\", \"32\", \"36\", \"37\"], \"mode\": \"markers\", \"name\": \"precision_score_weighted\", \"stepped\": false, \"type\": \"scatter\", \"data\": [0.8103076903348296, 0.8235687391092353, 0.8289576285228458, 0.8200731047027343, 0.8338537148351621, 0.8245364917315464, 0.8383232926383611, 0.6958980721088431, 0.8254515254632414, 0.8039166286429391, 0.8330930018186269, 0.8086304793127822, 0.8333581533232387, 0.8360554374150867, 0.8302623890440656, 0.8230030611502112, 0.7501318583921623, 0.8023050873663707, 0.8402001742573374, 0.8276256341765643, 0.8086304793127822, 0.8320861433729081, 0.8251348889870788, 0.8103574650352936, 0.8227638198266476, 0.46228299493248987, 0.7672300437122169, 0.8336918089276444, 0.8047590187590187, 0.7776314081313913, 0.7922845860238102, 0.788025257211817, 0.7751670895062626, 0.8627820044384572, 0.8490242905312938]}, {\"categories\": [\"0\", \"1\", \"2\", \"3\", \"4\", \"5\", \"6\", \"7\", \"8\", \"9\", \"10\", \"11\", \"12\", \"13\", \"14\", \"15\", \"16\", \"17\", \"18\", \"19\", \"20\", \"21\", \"22\", \"23\", \"24\", \"25\", \"26\", \"27\", \"28\", \"29\", \"30\", \"31\", \"32\", \"36\", \"37\"], \"mode\": \"lines\", \"name\": \"precision_score_weighted_max\", \"stepped\": true, \"type\": \"scatter\", \"data\": [0.8103076903348296, 0.8235687391092353, 0.8289576285228458, 0.8289576285228458, 0.8338537148351621, 0.8338537148351621, 0.8383232926383611, 0.8383232926383611, 0.8383232926383611, 0.8383232926383611, 0.8383232926383611, 0.8383232926383611, 0.8383232926383611, 0.8383232926383611, 0.8383232926383611, 0.8383232926383611, 0.8383232926383611, 0.8383232926383611, 0.8402001742573374, 0.8402001742573374, 0.8402001742573374, 0.8402001742573374, 0.8402001742573374, 0.8402001742573374, 0.8402001742573374, 0.8402001742573374, 0.8402001742573374, 0.8402001742573374, 0.8402001742573374, 0.8402001742573374, 0.8402001742573374, 0.8402001742573374, 0.8402001742573374, 0.8627820044384572, 0.8627820044384572]}], \"recall_score_weighted\": [{\"categories\": [\"0\", \"1\", \"2\", \"3\", \"4\", \"5\", \"6\", \"7\", \"8\", \"9\", \"10\", \"11\", \"12\", \"13\", \"14\", \"15\", \"16\", \"17\", \"18\", \"19\", \"20\", \"21\", \"22\", \"23\", \"24\", \"25\", \"26\", \"27\", \"28\", \"29\", \"30\", \"31\", \"32\", \"36\", \"37\"], \"mode\": \"markers\", \"name\": \"recall_score_weighted\", \"stepped\": false, \"type\": \"scatter\", \"data\": [0.8025252525252524, 0.8192929292929293, 0.8159259259259258, 0.8158585858585857, 0.8326262626262627, 0.8093265993265993, 0.8327272727272729, 0.708989898989899, 0.8260942760942761, 0.7993602693602693, 0.826026936026936, 0.8025252525252524, 0.8293265993265994, 0.8294276094276095, 0.8293939393939395, 0.816026936026936, 0.7223905723905725, 0.795892255892256, 0.8360606060606061, 0.8259932659932661, 0.8025252525252524, 0.8293265993265994, 0.8125925925925926, 0.8127946127946127, 0.8193265993265993, 0.6790235690235691, 0.7524579124579125, 0.8092255892255893, 0.7958585858585859, 0.7590572390572391, 0.7425589225589225, 0.7893602693602694, 0.7793602693602693, 0.8594276094276094, 0.8326262626262627]}, {\"categories\": [\"0\", \"1\", \"2\", \"3\", \"4\", \"5\", \"6\", \"7\", \"8\", \"9\", \"10\", \"11\", \"12\", \"13\", \"14\", \"15\", \"16\", \"17\", \"18\", \"19\", \"20\", \"21\", \"22\", \"23\", \"24\", \"25\", \"26\", \"27\", \"28\", \"29\", \"30\", \"31\", \"32\", \"36\", \"37\"], \"mode\": \"lines\", \"name\": \"recall_score_weighted_max\", \"stepped\": true, \"type\": \"scatter\", \"data\": [0.8025252525252524, 0.8192929292929293, 0.8192929292929293, 0.8192929292929293, 0.8326262626262627, 0.8326262626262627, 0.8327272727272729, 0.8327272727272729, 0.8327272727272729, 0.8327272727272729, 0.8327272727272729, 0.8327272727272729, 0.8327272727272729, 0.8327272727272729, 0.8327272727272729, 0.8327272727272729, 0.8327272727272729, 0.8327272727272729, 0.8360606060606061, 0.8360606060606061, 0.8360606060606061, 0.8360606060606061, 0.8360606060606061, 0.8360606060606061, 0.8360606060606061, 0.8360606060606061, 0.8360606060606061, 0.8360606060606061, 0.8360606060606061, 0.8360606060606061, 0.8360606060606061, 0.8360606060606061, 0.8360606060606061, 0.8594276094276094, 0.8594276094276094]}], \"accuracy\": [{\"categories\": [\"0\", \"1\", \"2\", \"3\", \"4\", \"5\", \"6\", \"7\", \"8\", \"9\", \"10\", \"11\", \"12\", \"13\", \"14\", \"15\", \"16\", \"17\", \"18\", \"19\", \"20\", \"21\", \"22\", \"23\", \"24\", \"25\", \"26\", \"27\", \"28\", \"29\", \"30\", \"31\", \"32\", \"36\", \"37\"], \"mode\": \"markers\", \"name\": \"accuracy\", \"stepped\": false, \"type\": \"scatter\", \"data\": [0.8025252525252524, 0.8192929292929293, 0.8159259259259258, 0.8158585858585857, 0.8326262626262627, 0.8093265993265993, 0.8327272727272729, 0.708989898989899, 0.8260942760942761, 0.7993602693602693, 0.826026936026936, 0.8025252525252524, 0.8293265993265994, 0.8294276094276095, 0.8293939393939395, 0.816026936026936, 0.7223905723905725, 0.795892255892256, 0.8360606060606061, 0.8259932659932661, 0.8025252525252524, 0.8293265993265994, 0.8125925925925926, 0.8127946127946127, 0.8193265993265993, 0.6790235690235691, 0.7524579124579125, 0.8092255892255893, 0.7958585858585859, 0.7590572390572391, 0.7425589225589225, 0.7893602693602694, 0.7793602693602693, 0.8594276094276094, 0.8326262626262627]}, {\"categories\": [\"0\", \"1\", \"2\", \"3\", \"4\", \"5\", \"6\", \"7\", \"8\", \"9\", \"10\", \"11\", \"12\", \"13\", \"14\", \"15\", \"16\", \"17\", \"18\", \"19\", \"20\", \"21\", \"22\", \"23\", \"24\", \"25\", \"26\", \"27\", \"28\", \"29\", \"30\", \"31\", \"32\", \"36\", \"37\"], \"mode\": \"lines\", \"name\": \"accuracy_max\", \"stepped\": true, \"type\": \"scatter\", \"data\": [0.8025252525252524, 0.8192929292929293, 0.8192929292929293, 0.8192929292929293, 0.8326262626262627, 0.8326262626262627, 0.8327272727272729, 0.8327272727272729, 0.8327272727272729, 0.8327272727272729, 0.8327272727272729, 0.8327272727272729, 0.8327272727272729, 0.8327272727272729, 0.8327272727272729, 0.8327272727272729, 0.8327272727272729, 0.8327272727272729, 0.8360606060606061, 0.8360606060606061, 0.8360606060606061, 0.8360606060606061, 0.8360606060606061, 0.8360606060606061, 0.8360606060606061, 0.8360606060606061, 0.8360606060606061, 0.8360606060606061, 0.8360606060606061, 0.8360606060606061, 0.8360606060606061, 0.8360606060606061, 0.8360606060606061, 0.8594276094276094, 0.8594276094276094]}], \"f1_score_macro\": [{\"categories\": [\"0\", \"1\", \"2\", \"3\", \"4\", \"5\", \"6\", \"7\", \"8\", \"9\", \"10\", \"11\", \"12\", \"13\", \"14\", \"15\", \"16\", \"17\", \"18\", \"19\", \"20\", \"21\", \"22\", \"23\", \"24\", \"25\", \"26\", \"27\", \"28\", \"29\", \"30\", \"31\", \"32\", \"36\", \"37\"], \"mode\": \"markers\", \"name\": \"f1_score_macro\", \"stepped\": false, \"type\": \"scatter\", \"data\": [0.7670520318568558, 0.7892216866138503, 0.7865973538392693, 0.7746682946579586, 0.7997937392745138, 0.7670065652733348, 0.7975531343566579, 0.5825047862093422, 0.7896845953038606, 0.7498450514293221, 0.7964602888144685, 0.7666809248584171, 0.7958271597339159, 0.7853258300049104, 0.794177639906812, 0.7572110333858785, 0.5632194351280981, 0.7490652865652866, 0.8081311459302061, 0.7951294521546185, 0.7666809248584171, 0.7985894881876489, 0.7689360053213178, 0.7733929705890145, 0.774250572527183, 0.40415631893298937, 0.725969870271341, 0.7871309036179271, 0.7688467975683215, 0.7338054637432299, 0.6001609936871218, 0.7469018565705355, 0.7304173660625871, 0.8294613710854423, 0.8047166631654693]}, {\"categories\": [\"0\", \"1\", \"2\", \"3\", \"4\", \"5\", \"6\", \"7\", \"8\", \"9\", \"10\", \"11\", \"12\", \"13\", \"14\", \"15\", \"16\", \"17\", \"18\", \"19\", \"20\", \"21\", \"22\", \"23\", \"24\", \"25\", \"26\", \"27\", \"28\", \"29\", \"30\", \"31\", \"32\", \"36\", \"37\"], \"mode\": \"lines\", \"name\": \"f1_score_macro_max\", \"stepped\": true, \"type\": \"scatter\", \"data\": [0.7670520318568558, 0.7892216866138503, 0.7892216866138503, 0.7892216866138503, 0.7997937392745138, 0.7997937392745138, 0.7997937392745138, 0.7997937392745138, 0.7997937392745138, 0.7997937392745138, 0.7997937392745138, 0.7997937392745138, 0.7997937392745138, 0.7997937392745138, 0.7997937392745138, 0.7997937392745138, 0.7997937392745138, 0.7997937392745138, 0.8081311459302061, 0.8081311459302061, 0.8081311459302061, 0.8081311459302061, 0.8081311459302061, 0.8081311459302061, 0.8081311459302061, 0.8081311459302061, 0.8081311459302061, 0.8081311459302061, 0.8081311459302061, 0.8081311459302061, 0.8081311459302061, 0.8081311459302061, 0.8081311459302061, 0.8294613710854423, 0.8294613710854423]}], \"average_precision_score_macro\": [{\"categories\": [\"0\", \"1\", \"2\", \"3\", \"4\", \"5\", \"6\", \"7\", \"8\", \"9\", \"10\", \"11\", \"12\", \"13\", \"14\", \"15\", \"16\", \"17\", \"18\", \"19\", \"20\", \"21\", \"22\", \"23\", \"24\", \"25\", \"26\", \"27\", \"28\", \"29\", \"30\", \"31\", \"32\", \"36\", \"37\"], \"mode\": \"markers\", \"name\": \"average_precision_score_macro\", \"stepped\": false, \"type\": \"scatter\", \"data\": [0.8323265818260129, 0.8521645844042397, 0.8613785962287706, 0.8213992321359832, 0.8753160219121169, 0.8599586336868758, 0.8504533940232504, 0.7217124986335914, 0.8461168006142854, 0.8419333570901392, 0.8763108432622276, 0.8360247033026629, 0.867996619087909, 0.8633751130143373, 0.8505468707843259, 0.8552399103427493, 0.8323330937922443, 0.8432999129035395, 0.8595189639986277, 0.8478253884388227, 0.836429855940502, 0.864890090874209, 0.8618053061699801, 0.8377612793126993, 0.8606902364696672, 0.8523243202713235, 0.7873329191019597, 0.8704351875706609, 0.8585063714488933, 0.795806807143963, 0.8259037592847601, 0.8381277214172744, 0.7957354388541648, 0.8681029289591006, 0.8800369909891548]}, {\"categories\": [\"0\", \"1\", \"2\", \"3\", \"4\", \"5\", \"6\", \"7\", \"8\", \"9\", \"10\", \"11\", \"12\", \"13\", \"14\", \"15\", \"16\", \"17\", \"18\", \"19\", \"20\", \"21\", \"22\", \"23\", \"24\", \"25\", \"26\", \"27\", \"28\", \"29\", \"30\", \"31\", \"32\", \"36\", \"37\"], \"mode\": \"lines\", \"name\": \"average_precision_score_macro_max\", \"stepped\": true, \"type\": \"scatter\", \"data\": [0.8323265818260129, 0.8521645844042397, 0.8613785962287706, 0.8613785962287706, 0.8753160219121169, 0.8753160219121169, 0.8753160219121169, 0.8753160219121169, 0.8753160219121169, 0.8753160219121169, 0.8763108432622276, 0.8763108432622276, 0.8763108432622276, 0.8763108432622276, 0.8763108432622276, 0.8763108432622276, 0.8763108432622276, 0.8763108432622276, 0.8763108432622276, 0.8763108432622276, 0.8763108432622276, 0.8763108432622276, 0.8763108432622276, 0.8763108432622276, 0.8763108432622276, 0.8763108432622276, 0.8763108432622276, 0.8763108432622276, 0.8763108432622276, 0.8763108432622276, 0.8763108432622276, 0.8763108432622276, 0.8763108432622276, 0.8763108432622276, 0.8800369909891548]}], \"precision_score_micro\": [{\"categories\": [\"0\", \"1\", \"2\", \"3\", \"4\", \"5\", \"6\", \"7\", \"8\", \"9\", \"10\", \"11\", \"12\", \"13\", \"14\", \"15\", \"16\", \"17\", \"18\", \"19\", \"20\", \"21\", \"22\", \"23\", \"24\", \"25\", \"26\", \"27\", \"28\", \"29\", \"30\", \"31\", \"32\", \"36\", \"37\"], \"mode\": \"markers\", \"name\": \"precision_score_micro\", \"stepped\": false, \"type\": \"scatter\", \"data\": [0.8025252525252524, 0.8192929292929293, 0.8159259259259258, 0.8158585858585857, 0.8326262626262627, 0.8093265993265993, 0.8327272727272729, 0.708989898989899, 0.8260942760942761, 0.7993602693602693, 0.826026936026936, 0.8025252525252524, 0.8293265993265994, 0.8294276094276095, 0.8293939393939395, 0.816026936026936, 0.7223905723905725, 0.795892255892256, 0.8360606060606061, 0.8259932659932661, 0.8025252525252524, 0.8293265993265994, 0.8125925925925926, 0.8127946127946127, 0.8193265993265993, 0.6790235690235691, 0.7524579124579125, 0.8092255892255893, 0.7958585858585859, 0.7590572390572391, 0.7425589225589225, 0.7893602693602694, 0.7793602693602693, 0.8594276094276094, 0.8326262626262627]}, {\"categories\": [\"0\", \"1\", \"2\", \"3\", \"4\", \"5\", \"6\", \"7\", \"8\", \"9\", \"10\", \"11\", \"12\", \"13\", \"14\", \"15\", \"16\", \"17\", \"18\", \"19\", \"20\", \"21\", \"22\", \"23\", \"24\", \"25\", \"26\", \"27\", \"28\", \"29\", \"30\", \"31\", \"32\", \"36\", \"37\"], \"mode\": \"lines\", \"name\": \"precision_score_micro_max\", \"stepped\": true, \"type\": \"scatter\", \"data\": [0.8025252525252524, 0.8192929292929293, 0.8192929292929293, 0.8192929292929293, 0.8326262626262627, 0.8326262626262627, 0.8327272727272729, 0.8327272727272729, 0.8327272727272729, 0.8327272727272729, 0.8327272727272729, 0.8327272727272729, 0.8327272727272729, 0.8327272727272729, 0.8327272727272729, 0.8327272727272729, 0.8327272727272729, 0.8327272727272729, 0.8360606060606061, 0.8360606060606061, 0.8360606060606061, 0.8360606060606061, 0.8360606060606061, 0.8360606060606061, 0.8360606060606061, 0.8360606060606061, 0.8360606060606061, 0.8360606060606061, 0.8360606060606061, 0.8360606060606061, 0.8360606060606061, 0.8360606060606061, 0.8360606060606061, 0.8594276094276094, 0.8594276094276094]}], \"matthews_correlation\": [{\"categories\": [\"0\", \"1\", \"2\", \"3\", \"4\", \"5\", \"6\", \"7\", \"8\", \"9\", \"10\", \"11\", \"12\", \"13\", \"14\", \"15\", \"16\", \"17\", \"18\", \"19\", \"20\", \"21\", \"22\", \"23\", \"24\", \"25\", \"26\", \"27\", \"28\", \"29\", \"30\", \"31\", \"32\", \"36\", \"37\"], \"mode\": \"markers\", \"name\": \"matthews_correlation\", \"stepped\": false, \"type\": \"scatter\", \"data\": [0.5489062305154261, 0.5873460381369527, 0.5912041764239808, 0.5675521464598566, 0.6095908512881093, 0.5672271647325635, 0.6124353459413417, 0.24633675493089405, 0.5915063435400586, 0.5282270925851938, 0.6062813016320007, 0.5478085698344569, 0.6042583749389862, 0.5998746218357421, 0.6005280962129412, 0.5576041304353357, 0.28856348514123437, 0.5227599436786207, 0.6251407955365437, 0.5974840396199164, 0.5478085698344569, 0.6057708271780912, 0.569623682185853, 0.558705661729544, 0.5715189733205759, 0.0, 0.4599210130181895, 0.5981302573957744, 0.5454065862320342, 0.4792910839308835, 0.3687574771548168, 0.5063596778532701, 0.4754997956216053, 0.6724041770619279, 0.6335626050601504]}, {\"categories\": [\"0\", \"1\", \"2\", \"3\", \"4\", \"5\", \"6\", \"7\", \"8\", \"9\", \"10\", \"11\", \"12\", \"13\", \"14\", \"15\", \"16\", \"17\", \"18\", \"19\", \"20\", \"21\", \"22\", \"23\", \"24\", \"25\", \"26\", \"27\", \"28\", \"29\", \"30\", \"31\", \"32\", \"36\", \"37\"], \"mode\": \"lines\", \"name\": \"matthews_correlation_max\", \"stepped\": true, \"type\": \"scatter\", \"data\": [0.5489062305154261, 0.5873460381369527, 0.5912041764239808, 0.5912041764239808, 0.6095908512881093, 0.6095908512881093, 0.6124353459413417, 0.6124353459413417, 0.6124353459413417, 0.6124353459413417, 0.6124353459413417, 0.6124353459413417, 0.6124353459413417, 0.6124353459413417, 0.6124353459413417, 0.6124353459413417, 0.6124353459413417, 0.6124353459413417, 0.6251407955365437, 0.6251407955365437, 0.6251407955365437, 0.6251407955365437, 0.6251407955365437, 0.6251407955365437, 0.6251407955365437, 0.6251407955365437, 0.6251407955365437, 0.6251407955365437, 0.6251407955365437, 0.6251407955365437, 0.6251407955365437, 0.6251407955365437, 0.6251407955365437, 0.6724041770619279, 0.6724041770619279]}]}, \"metricName\": null, \"primaryMetricName\": \"accuracy\", \"showLegend\": false}, \"run_metrics\": [{\"name\": \"experiment_status\", \"run_id\": \"AutoML_da0f5073-4f86-43a2-b902-0d62d74e6569\", \"categories\": [0, 1, 2, 3, 4, 5, 6, 7, 8, 9, 10, 11, 12, 13], \"series\": [{\"data\": [\"DatasetEvaluation\", \"FeaturesGeneration\", \"DatasetFeaturization\", \"DatasetFeaturizationCompleted\", \"DatasetCrossValidationSplit\", \"ModelSelection\", \"BestRunExplainModel\", \"ModelExplanationDataSetSetup\", \"PickSurrogateModel\", \"EngineeredFeatureExplanations\", \"EngineeredFeatureExplanations\", \"RawFeaturesExplanations\", \"RawFeaturesExplanations\", \"BestRunExplainModel\"]}]}, {\"name\": \"experiment_status_description\", \"run_id\": \"AutoML_da0f5073-4f86-43a2-b902-0d62d74e6569\", \"categories\": [0, 1, 2, 3, 4, 5, 6, 7, 8, 9, 10, 11, 12, 13], \"series\": [{\"data\": [\"Gathering dataset statistics.\", \"Generating features for the dataset.\", \"Beginning to fit featurizers and featurize the dataset.\", \"Completed fit featurizers and featurizing the dataset.\", \"Generating individually featurized CV splits.\", \"Beginning model selection.\", \"Best run model explanations started\", \"Model explanations data setup completed\", \"Choosing LightGBM as the surrogate model for explanations\", \"Computation of engineered features started\", \"Computation of engineered features completed\", \"Computation of raw features started\", \"Computation of raw features completed\", \"Best run model explanations completed\"]}]}, {\"name\": \"f1_score_macro\", \"run_id\": \"AutoML_da0f5073-4f86-43a2-b902-0d62d74e6569\", \"categories\": [0], \"series\": [{\"data\": [0.8294613710854423]}]}, {\"name\": \"precision_score_weighted\", \"run_id\": \"AutoML_da0f5073-4f86-43a2-b902-0d62d74e6569\", \"categories\": [0], \"series\": [{\"data\": [0.8627820044384572]}]}, {\"name\": \"average_precision_score_micro\", \"run_id\": \"AutoML_da0f5073-4f86-43a2-b902-0d62d74e6569\", \"categories\": [0], \"series\": [{\"data\": [0.8985135679260727]}]}, {\"name\": \"precision_score_macro\", \"run_id\": \"AutoML_da0f5073-4f86-43a2-b902-0d62d74e6569\", \"categories\": [0], \"series\": [{\"data\": [0.8560823122376835]}]}, {\"name\": \"AUC_weighted\", \"run_id\": \"AutoML_da0f5073-4f86-43a2-b902-0d62d74e6569\", \"categories\": [0], \"series\": [{\"data\": [0.8875399537468504]}]}, {\"name\": \"f1_score_weighted\", \"run_id\": \"AutoML_da0f5073-4f86-43a2-b902-0d62d74e6569\", \"categories\": [0], \"series\": [{\"data\": [0.8548066059635899]}]}, {\"name\": \"precision_score_micro\", \"run_id\": \"AutoML_da0f5073-4f86-43a2-b902-0d62d74e6569\", \"categories\": [0], \"series\": [{\"data\": [0.8594276094276094]}]}, {\"name\": \"weighted_accuracy\", \"run_id\": \"AutoML_da0f5073-4f86-43a2-b902-0d62d74e6569\", \"categories\": [0], \"series\": [{\"data\": [0.8914967771530552]}]}, {\"name\": \"AUC_micro\", \"run_id\": \"AutoML_da0f5073-4f86-43a2-b902-0d62d74e6569\", \"categories\": [0], \"series\": [{\"data\": [0.8995025575621535]}]}, {\"name\": \"AUC_macro\", \"run_id\": \"AutoML_da0f5073-4f86-43a2-b902-0d62d74e6569\", \"categories\": [0], \"series\": [{\"data\": [0.8875399537468504]}]}, {\"name\": \"recall_score_micro\", \"run_id\": \"AutoML_da0f5073-4f86-43a2-b902-0d62d74e6569\", \"categories\": [0], \"series\": [{\"data\": [0.8594276094276094]}]}, {\"name\": \"matthews_correlation\", \"run_id\": \"AutoML_da0f5073-4f86-43a2-b902-0d62d74e6569\", \"categories\": [0], \"series\": [{\"data\": [0.6724041770619279]}]}, {\"name\": \"recall_score_weighted\", \"run_id\": \"AutoML_da0f5073-4f86-43a2-b902-0d62d74e6569\", \"categories\": [0], \"series\": [{\"data\": [0.8594276094276094]}]}, {\"name\": \"balanced_accuracy\", \"run_id\": \"AutoML_da0f5073-4f86-43a2-b902-0d62d74e6569\", \"categories\": [0], \"series\": [{\"data\": [0.8180828611863095]}]}, {\"name\": \"f1_score_micro\", \"run_id\": \"AutoML_da0f5073-4f86-43a2-b902-0d62d74e6569\", \"categories\": [0], \"series\": [{\"data\": [0.8594276094276094]}]}, {\"name\": \"log_loss\", \"run_id\": \"AutoML_da0f5073-4f86-43a2-b902-0d62d74e6569\", \"categories\": [0], \"series\": [{\"data\": [0.40728120933018364]}]}, {\"name\": \"average_precision_score_weighted\", \"run_id\": \"AutoML_da0f5073-4f86-43a2-b902-0d62d74e6569\", \"categories\": [0], \"series\": [{\"data\": [0.8950298873370782]}]}, {\"name\": \"average_precision_score_macro\", \"run_id\": \"AutoML_da0f5073-4f86-43a2-b902-0d62d74e6569\", \"categories\": [0], \"series\": [{\"data\": [0.8681029289591006]}]}, {\"name\": \"recall_score_macro\", \"run_id\": \"AutoML_da0f5073-4f86-43a2-b902-0d62d74e6569\", \"categories\": [0], \"series\": [{\"data\": [0.8180828611863095]}]}, {\"name\": \"norm_macro_recall\", \"run_id\": \"AutoML_da0f5073-4f86-43a2-b902-0d62d74e6569\", \"categories\": [0], \"series\": [{\"data\": [0.636165722372619]}]}, {\"name\": \"accuracy\", \"run_id\": \"AutoML_da0f5073-4f86-43a2-b902-0d62d74e6569\", \"categories\": [0], \"series\": [{\"data\": [0.8594276094276094]}]}], \"run_logs\": \"\\nRun is completed.\", \"graph\": {}, \"widget_settings\": {\"childWidgetDisplay\": \"popup\", \"send_telemetry\": false, \"log_level\": \"INFO\", \"sdk_version\": \"1.20.0\"}, \"loading\": false}"
          },
          "metadata": {}
        }
      ],
      "execution_count": 10,
      "metadata": {
        "gather": {
          "logged": 1612729743022
        },
        "jupyter": {
          "outputs_hidden": false,
          "source_hidden": false
        },
        "nteract": {
          "transient": {
            "deleting": false
          }
        }
      }
    },
    {
      "cell_type": "code",
      "source": [
        "remote_run.wait_for_completion(show_output=True)"
      ],
      "outputs": [
        {
          "output_type": "stream",
          "name": "stdout",
          "text": [
            "\n",
            "\n",
            "****************************************************************************************************\n",
            "DATA GUARDRAILS: \n",
            "\n",
            "TYPE:         Class balancing detection\n",
            "STATUS:       PASSED\n",
            "DESCRIPTION:  Your inputs were analyzed, and all classes are balanced in your training data.\n",
            "              Learn more about imbalanced data: https://aka.ms/AutomatedMLImbalancedData\n",
            "\n",
            "****************************************************************************************************\n",
            "\n",
            "TYPE:         Missing feature values imputation\n",
            "STATUS:       PASSED\n",
            "DESCRIPTION:  No feature missing values were detected in the training data.\n",
            "              Learn more about missing value imputation: https://aka.ms/AutomatedMLFeaturization\n",
            "\n",
            "****************************************************************************************************\n",
            "\n",
            "TYPE:         High cardinality feature detection\n",
            "STATUS:       PASSED\n",
            "DESCRIPTION:  Your inputs were analyzed, and no high cardinality features were detected.\n",
            "              Learn more about high cardinality feature handling: https://aka.ms/AutomatedMLFeaturization\n",
            "\n",
            "****************************************************************************************************\n",
            "\n",
            "****************************************************************************************************\n",
            "ITERATION: The iteration being evaluated.\n",
            "PIPELINE: A summary description of the pipeline being evaluated.\n",
            "DURATION: Time taken for the current iteration.\n",
            "METRIC: The result of computing score on the fitted pipeline.\n",
            "BEST: The best observed score thus far.\n",
            "****************************************************************************************************\n",
            "\n",
            " ITERATION   PIPELINE                                       DURATION      METRIC      BEST\n",
            "         0   MaxAbsScaler LightGBM                          0:03:23       0.8025    0.8025\n",
            "         1   MaxAbsScaler XGBoostClassifier                 0:01:00       0.8193    0.8193\n",
            "         2   MinMaxScaler RandomForest                      0:03:14       0.8159    0.8193\n",
            "         3   MinMaxScaler RandomForest                      0:00:55       0.8159    0.8193\n",
            "         4   MinMaxScaler RandomForest                      0:00:50       0.8326    0.8326\n",
            "         5   MaxAbsScaler LightGBM                          0:00:51       0.8093    0.8326\n",
            "         6   SparseNormalizer XGBoostClassifier             0:01:00       0.8327    0.8327\n",
            "         7   MinMaxScaler SVM                               0:00:57       0.7090    0.8327\n",
            "        10   MaxAbsScaler GradientBoosting                  0:01:00       0.8260    0.8327\n",
            "        11   StandardScalerWrapper LogisticRegression       0:00:51       0.8025    0.8327\n",
            "         8   SparseNormalizer XGBoostClassifier             0:00:53       0.8261    0.8327\n",
            "         9   SparseNormalizer XGBoostClassifier             0:01:02       0.7994    0.8327\n",
            "        12   StandardScalerWrapper RandomForest             0:00:52       0.8293    0.8327\n",
            "        13   MaxAbsScaler ExtremeRandomTrees                0:00:57       0.8294    0.8327\n",
            "        14   SparseNormalizer XGBoostClassifier             0:01:03       0.8294    0.8327\n",
            "        15   StandardScalerWrapper LightGBM                 0:00:53       0.8160    0.8327\n",
            "        16   MaxAbsScaler LightGBM                          0:00:55       0.7224    0.8327\n",
            "        17   StandardScalerWrapper LightGBM                 0:00:54       0.7959    0.8327\n",
            "        18   MinMaxScaler LightGBM                          0:00:48       0.8361    0.8361\n",
            "        19   SparseNormalizer LightGBM                      0:00:52       0.8260    0.8361\n",
            "        20   StandardScalerWrapper LogisticRegression       0:00:55       0.8025    0.8361\n",
            "        21   StandardScalerWrapper XGBoostClassifier        0:00:55       0.8293    0.8361\n",
            "        22   MaxAbsScaler LightGBM                          0:00:48       0.8126    0.8361\n",
            "        23   SparseNormalizer XGBoostClassifier             0:00:54       0.8128    0.8361\n",
            "        24   MaxAbsScaler LightGBM                          0:00:52       0.8193    0.8361\n",
            "        25   MaxAbsScaler LightGBM                          0:01:04       0.6790    0.8361\n",
            "        26   SparseNormalizer ExtremeRandomTrees            0:00:51       0.7525    0.8361\n",
            "        27   StandardScalerWrapper RandomForest             0:00:53       0.8092    0.8361\n",
            "        28   MaxAbsScaler ExtremeRandomTrees                0:00:50       0.7959    0.8361\n",
            "        29   SparseNormalizer ExtremeRandomTrees            0:01:02       0.7591    0.8361\n",
            "        30   SparseNormalizer LightGBM                      0:00:55       0.7426    0.8361\n",
            "        31   SparseNormalizer XGBoostClassifier             0:00:49       0.7894    0.8361\n",
            "        32   SparseNormalizer XGBoostClassifier             0:00:49       0.7794    0.8361\n",
            "        33                                                  0:00:14          nan    0.8361\n",
            "        34                                                  0:00:08          nan    0.8361\n",
            "        35                                                  0:00:03          nan    0.8361\n",
            "ERROR: {\n",
            "    \"additional_properties\": {},\n",
            "    \"error\": {\n",
            "        \"additional_properties\": {\n",
            "            \"debugInfo\": null\n",
            "        },\n",
            "        \"code\": \"UserError\",\n",
            "        \"severity\": null,\n",
            "        \"message\": \"AzureMLCompute job AutoML_da0f5073-4f86-43a2-b902-0d62d74e6569_35 does not exist.\",\n",
            "        \"message_format\": \"{Component} job {RunId} does not exist.\",\n",
            "        \"message_parameters\": {\n",
            "            \"Component\": \"AzureMLCompute\",\n",
            "            \"RunId\": \"AutoML_da0f5073-4f86-43a2-b902-0d62d74e6569_35\"\n",
            "        },\n",
            "        \"reference_code\": null,\n",
            "        \"details_uri\": null,\n",
            "        \"target\": \"CancelUnderlyingJob\",\n",
            "        \"details\": [],\n",
            "        \"inner_error\": {\n",
            "            \"additional_properties\": {},\n",
            "            \"code\": \"BadArgument\",\n",
            "            \"inner_error\": {\n",
            "                \"additional_properties\": {},\n",
            "                \"code\": \"JobNotFound\",\n",
            "                \"inner_error\": null\n",
            "            }\n",
            "        }\n",
            "    },\n",
            "    \"correlation\": {\n",
            "        \"operation\": null,\n",
            "        \"request\": \"660145522094a934\"\n",
            "    },\n",
            "    \"environment\": \"southcentralus\",\n",
            "    \"location\": \"southcentralus\",\n",
            "    \"time\": {},\n",
            "    \"component_name\": \"execution-worker\"\n",
            "}\n",
            "        36    VotingEnsemble                                0:01:29       0.8594    0.8594\n",
            "        37    StackEnsemble                                 0:01:22       0.8326    0.8594\n"
          ]
        },
        {
          "output_type": "execute_result",
          "execution_count": 11,
          "data": {
            "text/plain": "{'runId': 'AutoML_da0f5073-4f86-43a2-b902-0d62d74e6569',\n 'target': 'heart-compute',\n 'status': 'Completed',\n 'startTimeUtc': '2021-02-07T20:00:25.882047Z',\n 'endTimeUtc': '2021-02-07T20:26:17.295631Z',\n 'properties': {'num_iterations': '1000',\n  'training_type': 'TrainFull',\n  'acquisition_function': 'EI',\n  'primary_metric': 'accuracy',\n  'train_split': '0',\n  'acquisition_parameter': '0',\n  'num_cross_validation': '3',\n  'target': 'heart-compute',\n  'AMLSettingsJsonString': '{\"path\":null,\"name\":\"auto-ml-exp\",\"subscription_id\":\"cdbe0b43-92a0-4715-838a-f2648cc7ad21\",\"resource_group\":\"aml-quickstarts-137998\",\"workspace_name\":\"quick-starts-ws-137998\",\"region\":\"southcentralus\",\"compute_target\":\"heart-compute\",\"spark_service\":null,\"azure_service\":\"remote\",\"many_models\":false,\"pipeline_fetch_max_batch_size\":1,\"iterations\":1000,\"primary_metric\":\"accuracy\",\"task_type\":\"classification\",\"data_script\":null,\"validation_size\":0.0,\"n_cross_validations\":3,\"y_min\":null,\"y_max\":null,\"num_classes\":null,\"featurization\":\"auto\",\"_ignore_package_version_incompatibilities\":false,\"is_timeseries\":false,\"max_cores_per_iteration\":1,\"max_concurrent_iterations\":4,\"iteration_timeout_minutes\":null,\"mem_in_mb\":null,\"enforce_time_on_windows\":false,\"experiment_timeout_minutes\":20,\"experiment_exit_score\":null,\"whitelist_models\":null,\"blacklist_algos\":[\"TensorFlowLinearClassifier\",\"TensorFlowDNN\"],\"supported_models\":[\"TensorFlowLinearClassifier\",\"AveragedPerceptronClassifier\",\"MultinomialNaiveBayes\",\"BernoulliNaiveBayes\",\"LogisticRegression\",\"RandomForest\",\"ExtremeRandomTrees\",\"LightGBM\",\"KNN\",\"XGBoostClassifier\",\"GradientBoosting\",\"LinearSVM\",\"DecisionTree\",\"SGD\",\"TensorFlowDNN\",\"SVM\"],\"auto_blacklist\":true,\"blacklist_samples_reached\":false,\"exclude_nan_labels\":true,\"verbosity\":20,\"_debug_log\":\"azureml_automl.log\",\"show_warnings\":false,\"model_explainability\":true,\"service_url\":null,\"sdk_url\":null,\"sdk_packages\":null,\"enable_onnx_compatible_models\":false,\"enable_split_onnx_featurizer_estimator_models\":false,\"vm_type\":\"STANDARD_D2_V2\",\"telemetry_verbosity\":20,\"send_telemetry\":true,\"enable_dnn\":false,\"scenario\":\"SDK-1.13.0\",\"environment_label\":null,\"force_text_dnn\":false,\"enable_feature_sweeping\":true,\"enable_early_stopping\":true,\"early_stopping_n_iters\":10,\"metrics\":null,\"enable_ensembling\":true,\"enable_stack_ensembling\":true,\"ensemble_iterations\":15,\"enable_tf\":false,\"enable_subsampling\":null,\"subsample_seed\":null,\"enable_nimbusml\":false,\"enable_streaming\":false,\"force_streaming\":false,\"track_child_runs\":true,\"allowed_private_models\":[],\"label_column_name\":\"DEATH_EVENT\",\"weight_column_name\":null,\"cv_split_column_names\":null,\"enable_local_managed\":false,\"_local_managed_run_id\":null,\"cost_mode\":1,\"lag_length\":0,\"metric_operation\":\"maximize\",\"preprocess\":true}',\n  'DataPrepJsonString': '{\\\\\"training_data\\\\\": \\\\\"{\\\\\\\\\\\\\"blocks\\\\\\\\\\\\\": [{\\\\\\\\\\\\\"id\\\\\\\\\\\\\": \\\\\\\\\\\\\"9ca35081-3f76-43f2-a4df-10278e9c7e99\\\\\\\\\\\\\", \\\\\\\\\\\\\"type\\\\\\\\\\\\\": \\\\\\\\\\\\\"Microsoft.DPrep.GetDatastoreFilesBlock\\\\\\\\\\\\\", \\\\\\\\\\\\\"arguments\\\\\\\\\\\\\": {\\\\\\\\\\\\\"datastores\\\\\\\\\\\\\": [{\\\\\\\\\\\\\"datastoreName\\\\\\\\\\\\\": \\\\\\\\\\\\\"workspaceblobstore\\\\\\\\\\\\\", \\\\\\\\\\\\\"path\\\\\\\\\\\\\": \\\\\\\\\\\\\"UI/02-07-2021_075753_UTC/heart_failure_clinical_records_dataset[1].csv\\\\\\\\\\\\\", \\\\\\\\\\\\\"resourceGroup\\\\\\\\\\\\\": \\\\\\\\\\\\\"aml-quickstarts-137998\\\\\\\\\\\\\", \\\\\\\\\\\\\"subscription\\\\\\\\\\\\\": \\\\\\\\\\\\\"cdbe0b43-92a0-4715-838a-f2648cc7ad21\\\\\\\\\\\\\", \\\\\\\\\\\\\"workspaceName\\\\\\\\\\\\\": \\\\\\\\\\\\\"quick-starts-ws-137998\\\\\\\\\\\\\"}]}, \\\\\\\\\\\\\"localData\\\\\\\\\\\\\": {}, \\\\\\\\\\\\\"isEnabled\\\\\\\\\\\\\": true, \\\\\\\\\\\\\"name\\\\\\\\\\\\\": null, \\\\\\\\\\\\\"annotation\\\\\\\\\\\\\": null}, {\\\\\\\\\\\\\"id\\\\\\\\\\\\\": \\\\\\\\\\\\\"58a6c1c4-8586-4aac-8ee8-d23abcd92663\\\\\\\\\\\\\", \\\\\\\\\\\\\"type\\\\\\\\\\\\\": \\\\\\\\\\\\\"Microsoft.DPrep.ParseDelimitedBlock\\\\\\\\\\\\\", \\\\\\\\\\\\\"arguments\\\\\\\\\\\\\": {\\\\\\\\\\\\\"columnHeadersMode\\\\\\\\\\\\\": 1, \\\\\\\\\\\\\"fileEncoding\\\\\\\\\\\\\": 0, \\\\\\\\\\\\\"handleQuotedLineBreaks\\\\\\\\\\\\\": false, \\\\\\\\\\\\\"preview\\\\\\\\\\\\\": false, \\\\\\\\\\\\\"separator\\\\\\\\\\\\\": \\\\\\\\\\\\\",\\\\\\\\\\\\\", \\\\\\\\\\\\\"skipRows\\\\\\\\\\\\\": 0, \\\\\\\\\\\\\"skipRowsMode\\\\\\\\\\\\\": 0}, \\\\\\\\\\\\\"localData\\\\\\\\\\\\\": {}, \\\\\\\\\\\\\"isEnabled\\\\\\\\\\\\\": true, \\\\\\\\\\\\\"name\\\\\\\\\\\\\": null, \\\\\\\\\\\\\"annotation\\\\\\\\\\\\\": null}, {\\\\\\\\\\\\\"id\\\\\\\\\\\\\": \\\\\\\\\\\\\"e301c7fe-ec4c-4d88-9041-35ed8f735d38\\\\\\\\\\\\\", \\\\\\\\\\\\\"type\\\\\\\\\\\\\": \\\\\\\\\\\\\"Microsoft.DPrep.DropColumnsBlock\\\\\\\\\\\\\", \\\\\\\\\\\\\"arguments\\\\\\\\\\\\\": {\\\\\\\\\\\\\"columns\\\\\\\\\\\\\": {\\\\\\\\\\\\\"type\\\\\\\\\\\\\": 0, \\\\\\\\\\\\\"details\\\\\\\\\\\\\": {\\\\\\\\\\\\\"selectedColumns\\\\\\\\\\\\\": [\\\\\\\\\\\\\"Path\\\\\\\\\\\\\"]}}}, \\\\\\\\\\\\\"localData\\\\\\\\\\\\\": {}, \\\\\\\\\\\\\"isEnabled\\\\\\\\\\\\\": true, \\\\\\\\\\\\\"name\\\\\\\\\\\\\": null, \\\\\\\\\\\\\"annotation\\\\\\\\\\\\\": null}, {\\\\\\\\\\\\\"id\\\\\\\\\\\\\": \\\\\\\\\\\\\"8fe0d6b4-c9a8-4437-ab6c-84789e8b578b\\\\\\\\\\\\\", \\\\\\\\\\\\\"type\\\\\\\\\\\\\": \\\\\\\\\\\\\"Microsoft.DPrep.SetColumnTypesBlock\\\\\\\\\\\\\", \\\\\\\\\\\\\"arguments\\\\\\\\\\\\\": {\\\\\\\\\\\\\"columnConversion\\\\\\\\\\\\\": [{\\\\\\\\\\\\\"column\\\\\\\\\\\\\": {\\\\\\\\\\\\\"type\\\\\\\\\\\\\": 2, \\\\\\\\\\\\\"details\\\\\\\\\\\\\": {\\\\\\\\\\\\\"selectedColumn\\\\\\\\\\\\\": \\\\\\\\\\\\\"Path\\\\\\\\\\\\\"}}, \\\\\\\\\\\\\"typeProperty\\\\\\\\\\\\\": 0}, {\\\\\\\\\\\\\"column\\\\\\\\\\\\\": {\\\\\\\\\\\\\"type\\\\\\\\\\\\\": 2, \\\\\\\\\\\\\"details\\\\\\\\\\\\\": {\\\\\\\\\\\\\"selectedColumn\\\\\\\\\\\\\": \\\\\\\\\\\\\"age\\\\\\\\\\\\\"}}, \\\\\\\\\\\\\"typeProperty\\\\\\\\\\\\\": 3}, {\\\\\\\\\\\\\"column\\\\\\\\\\\\\": {\\\\\\\\\\\\\"type\\\\\\\\\\\\\": 2, \\\\\\\\\\\\\"details\\\\\\\\\\\\\": {\\\\\\\\\\\\\"selectedColumn\\\\\\\\\\\\\": \\\\\\\\\\\\\"anaemia\\\\\\\\\\\\\"}}, \\\\\\\\\\\\\"typeProperty\\\\\\\\\\\\\": 2}, {\\\\\\\\\\\\\"column\\\\\\\\\\\\\": {\\\\\\\\\\\\\"type\\\\\\\\\\\\\": 2, \\\\\\\\\\\\\"details\\\\\\\\\\\\\": {\\\\\\\\\\\\\"selectedColumn\\\\\\\\\\\\\": \\\\\\\\\\\\\"creatinine_phosphokinase\\\\\\\\\\\\\"}}, \\\\\\\\\\\\\"typeProperty\\\\\\\\\\\\\": 2}, {\\\\\\\\\\\\\"column\\\\\\\\\\\\\": {\\\\\\\\\\\\\"type\\\\\\\\\\\\\": 2, \\\\\\\\\\\\\"details\\\\\\\\\\\\\": {\\\\\\\\\\\\\"selectedColumn\\\\\\\\\\\\\": \\\\\\\\\\\\\"diabetes\\\\\\\\\\\\\"}}, \\\\\\\\\\\\\"typeProperty\\\\\\\\\\\\\": 2}, {\\\\\\\\\\\\\"column\\\\\\\\\\\\\": {\\\\\\\\\\\\\"type\\\\\\\\\\\\\": 2, \\\\\\\\\\\\\"details\\\\\\\\\\\\\": {\\\\\\\\\\\\\"selectedColumn\\\\\\\\\\\\\": \\\\\\\\\\\\\"ejection_fraction\\\\\\\\\\\\\"}}, \\\\\\\\\\\\\"typeProperty\\\\\\\\\\\\\": 2}, {\\\\\\\\\\\\\"column\\\\\\\\\\\\\": {\\\\\\\\\\\\\"type\\\\\\\\\\\\\": 2, \\\\\\\\\\\\\"details\\\\\\\\\\\\\": {\\\\\\\\\\\\\"selectedColumn\\\\\\\\\\\\\": \\\\\\\\\\\\\"high_blood_pressure\\\\\\\\\\\\\"}}, \\\\\\\\\\\\\"typeProperty\\\\\\\\\\\\\": 2}, {\\\\\\\\\\\\\"column\\\\\\\\\\\\\": {\\\\\\\\\\\\\"type\\\\\\\\\\\\\": 2, \\\\\\\\\\\\\"details\\\\\\\\\\\\\": {\\\\\\\\\\\\\"selectedColumn\\\\\\\\\\\\\": \\\\\\\\\\\\\"platelets\\\\\\\\\\\\\"}}, \\\\\\\\\\\\\"typeProperty\\\\\\\\\\\\\": 3}, {\\\\\\\\\\\\\"column\\\\\\\\\\\\\": {\\\\\\\\\\\\\"type\\\\\\\\\\\\\": 2, \\\\\\\\\\\\\"details\\\\\\\\\\\\\": {\\\\\\\\\\\\\"selectedColumn\\\\\\\\\\\\\": \\\\\\\\\\\\\"serum_creatinine\\\\\\\\\\\\\"}}, \\\\\\\\\\\\\"typeProperty\\\\\\\\\\\\\": 3}, {\\\\\\\\\\\\\"column\\\\\\\\\\\\\": {\\\\\\\\\\\\\"type\\\\\\\\\\\\\": 2, \\\\\\\\\\\\\"details\\\\\\\\\\\\\": {\\\\\\\\\\\\\"selectedColumn\\\\\\\\\\\\\": \\\\\\\\\\\\\"serum_sodium\\\\\\\\\\\\\"}}, \\\\\\\\\\\\\"typeProperty\\\\\\\\\\\\\": 2}, {\\\\\\\\\\\\\"column\\\\\\\\\\\\\": {\\\\\\\\\\\\\"type\\\\\\\\\\\\\": 2, \\\\\\\\\\\\\"details\\\\\\\\\\\\\": {\\\\\\\\\\\\\"selectedColumn\\\\\\\\\\\\\": \\\\\\\\\\\\\"sex\\\\\\\\\\\\\"}}, \\\\\\\\\\\\\"typeProperty\\\\\\\\\\\\\": 2}, {\\\\\\\\\\\\\"column\\\\\\\\\\\\\": {\\\\\\\\\\\\\"type\\\\\\\\\\\\\": 2, \\\\\\\\\\\\\"details\\\\\\\\\\\\\": {\\\\\\\\\\\\\"selectedColumn\\\\\\\\\\\\\": \\\\\\\\\\\\\"smoking\\\\\\\\\\\\\"}}, \\\\\\\\\\\\\"typeProperty\\\\\\\\\\\\\": 2}, {\\\\\\\\\\\\\"column\\\\\\\\\\\\\": {\\\\\\\\\\\\\"type\\\\\\\\\\\\\": 2, \\\\\\\\\\\\\"details\\\\\\\\\\\\\": {\\\\\\\\\\\\\"selectedColumn\\\\\\\\\\\\\": \\\\\\\\\\\\\"time\\\\\\\\\\\\\"}}, \\\\\\\\\\\\\"typeProperty\\\\\\\\\\\\\": 2}, {\\\\\\\\\\\\\"column\\\\\\\\\\\\\": {\\\\\\\\\\\\\"type\\\\\\\\\\\\\": 2, \\\\\\\\\\\\\"details\\\\\\\\\\\\\": {\\\\\\\\\\\\\"selectedColumn\\\\\\\\\\\\\": \\\\\\\\\\\\\"DEATH_EVENT\\\\\\\\\\\\\"}}, \\\\\\\\\\\\\"typeProperty\\\\\\\\\\\\\": 2}]}, \\\\\\\\\\\\\"localData\\\\\\\\\\\\\": {}, \\\\\\\\\\\\\"isEnabled\\\\\\\\\\\\\": true, \\\\\\\\\\\\\"name\\\\\\\\\\\\\": null, \\\\\\\\\\\\\"annotation\\\\\\\\\\\\\": null}], \\\\\\\\\\\\\"inspectors\\\\\\\\\\\\\": [], \\\\\\\\\\\\\"meta\\\\\\\\\\\\\": {\\\\\\\\\\\\\"savedDatasetId\\\\\\\\\\\\\": \\\\\\\\\\\\\"7e95a688-383b-472e-8268-ce9ee4a5b5f6\\\\\\\\\\\\\", \\\\\\\\\\\\\"datasetType\\\\\\\\\\\\\": \\\\\\\\\\\\\"tabular\\\\\\\\\\\\\", \\\\\\\\\\\\\"subscriptionId\\\\\\\\\\\\\": \\\\\\\\\\\\\"cdbe0b43-92a0-4715-838a-f2648cc7ad21\\\\\\\\\\\\\", \\\\\\\\\\\\\"workspaceId\\\\\\\\\\\\\": \\\\\\\\\\\\\"613475fd-c7e6-4be3-acf8-7b72cf22b4aa\\\\\\\\\\\\\", \\\\\\\\\\\\\"workspaceLocation\\\\\\\\\\\\\": \\\\\\\\\\\\\"southcentralus\\\\\\\\\\\\\"}}\\\\\", \\\\\"activities\\\\\": 0}',\n  'EnableSubsampling': None,\n  'runTemplate': 'AutoML',\n  'azureml.runsource': 'automl',\n  'display_task_type': 'classification',\n  'dependencies_versions': '{\"azureml-widgets\": \"1.20.0\", \"azureml-train\": \"1.20.0\", \"azureml-train-restclients-hyperdrive\": \"1.20.0\", \"azureml-train-core\": \"1.20.0\", \"azureml-train-automl\": \"1.20.0\", \"azureml-train-automl-runtime\": \"1.20.0\", \"azureml-train-automl-client\": \"1.20.0\", \"azureml-tensorboard\": \"1.20.0\", \"azureml-telemetry\": \"1.20.0\", \"azureml-sdk\": \"1.20.0\", \"azureml-samples\": \"0+unknown\", \"azureml-pipeline\": \"1.20.0\", \"azureml-pipeline-steps\": \"1.20.0\", \"azureml-pipeline-core\": \"1.20.0\", \"azureml-opendatasets\": \"1.20.0\", \"azureml-model-management-sdk\": \"1.0.1b6.post1\", \"azureml-mlflow\": \"1.20.0.post1\", \"azureml-interpret\": \"1.20.0\", \"azureml-explain-model\": \"1.20.0\", \"azureml-defaults\": \"1.20.0\", \"azureml-dataset-runtime\": \"1.20.0\", \"azureml-dataprep\": \"2.7.3\", \"azureml-dataprep-rslex\": \"1.5.0\", \"azureml-dataprep-native\": \"27.0.0\", \"azureml-datadrift\": \"1.20.0\", \"azureml-core\": \"1.20.0\", \"azureml-contrib-services\": \"1.20.0\", \"azureml-contrib-server\": \"1.20.0\", \"azureml-contrib-reinforcementlearning\": \"1.20.0\", \"azureml-contrib-pipeline-steps\": \"1.20.0\", \"azureml-contrib-notebook\": \"1.20.0\", \"azureml-contrib-interpret\": \"1.20.0\", \"azureml-contrib-gbdt\": \"1.20.0\", \"azureml-contrib-fairness\": \"1.20.0\", \"azureml-contrib-dataset\": \"1.20.0\", \"azureml-cli-common\": \"1.20.0\", \"azureml-automl-runtime\": \"1.20.0\", \"azureml-automl-core\": \"1.20.0\", \"azureml-accel-models\": \"1.20.0\"}',\n  '_aml_system_scenario_identification': 'Remote.Parent',\n  'ClientType': 'SDK',\n  'environment_cpu_name': 'AzureML-AutoML',\n  'environment_cpu_label': 'prod',\n  'environment_gpu_name': 'AzureML-AutoML-GPU',\n  'environment_gpu_label': 'prod',\n  'root_attribution': 'automl',\n  'attribution': 'AutoML',\n  'Orchestrator': 'AutoML',\n  'CancelUri': 'https://southcentralus.experiments.azureml.net/jasmine/v1.0/subscriptions/cdbe0b43-92a0-4715-838a-f2648cc7ad21/resourceGroups/aml-quickstarts-137998/providers/Microsoft.MachineLearningServices/workspaces/quick-starts-ws-137998/experimentids/9dd5cdbe-0110-4899-bc61-ab256b611190/cancel/AutoML_da0f5073-4f86-43a2-b902-0d62d74e6569',\n  'ClientSdkVersion': '1.21.0',\n  'snapshotId': '00000000-0000-0000-0000-000000000000',\n  'SetupRunId': 'AutoML_da0f5073-4f86-43a2-b902-0d62d74e6569_setup',\n  'SetupRunContainerId': 'dcid.AutoML_da0f5073-4f86-43a2-b902-0d62d74e6569_setup',\n  'FeaturizationRunJsonPath': 'featurizer_container.json',\n  'FeaturizationRunId': 'AutoML_da0f5073-4f86-43a2-b902-0d62d74e6569_featurize',\n  'ProblemInfoJsonString': '{\"dataset_num_categorical\": 0, \"is_sparse\": false, \"subsampling\": false, \"dataset_classes\": 2, \"dataset_features\": 12, \"dataset_samples\": 299, \"single_frequency_class_detected\": false}',\n  'ModelExplainRunId': 'AutoML_da0f5073-4f86-43a2-b902-0d62d74e6569_ModelExplain'},\n 'inputDatasets': [{'dataset': {'id': '7e95a688-383b-472e-8268-ce9ee4a5b5f6'}, 'consumptionDetails': {'type': 'RunInput', 'inputName': 'training_data', 'mechanism': 'Direct'}}],\n 'outputDatasets': [],\n 'logFiles': {},\n 'submittedBy': 'ODL_User 137998'}"
          },
          "metadata": {}
        }
      ],
      "execution_count": 11,
      "metadata": {
        "collapsed": true,
        "jupyter": {
          "source_hidden": false,
          "outputs_hidden": false
        },
        "nteract": {
          "transient": {
            "deleting": false
          }
        },
        "gather": {
          "logged": 1612730192197
        }
      }
    },
    {
      "cell_type": "markdown",
      "source": [
        "## Best Model\n",
        "\n",
        "TODO: In the cell below, get the best model from the automl experiments and display all the properties of the model.\n",
        "\n"
      ],
      "metadata": {}
    },
    {
      "cell_type": "code",
      "source": [
        "best_run, fitted_model = remote_run.get_output()\r\n",
        "best_run_metrics = best_run.get_metrics()"
      ],
      "outputs": [
        {
          "output_type": "stream",
          "name": "stderr",
          "text": [
            "WARNING:root:The version of the SDK does not match the version the model was trained on.\n",
            "WARNING:root:The consistency in the result may not be guaranteed.\n",
            "WARNING:root:Package:azureml-automl-core, training version:1.21.0, current version:1.20.0\n",
            "Package:azureml-automl-runtime, training version:1.21.0, current version:1.20.0\n",
            "Package:azureml-core, training version:1.21.0.post1, current version:1.20.0\n",
            "Package:azureml-dataprep, training version:2.8.2, current version:2.7.3\n",
            "Package:azureml-dataprep-native, training version:28.0.0, current version:27.0.0\n",
            "Package:azureml-dataprep-rslex, training version:1.6.0, current version:1.5.0\n",
            "Package:azureml-dataset-runtime, training version:1.21.0, current version:1.20.0\n",
            "Package:azureml-defaults, training version:1.21.0, current version:1.20.0\n",
            "Package:azureml-interpret, training version:1.21.0, current version:1.20.0\n",
            "Package:azureml-pipeline-core, training version:1.21.0, current version:1.20.0\n",
            "Package:azureml-telemetry, training version:1.21.0, current version:1.20.0\n",
            "Package:azureml-train-automl-client, training version:1.21.0, current version:1.20.0\n",
            "Package:azureml-train-automl-runtime, training version:1.21.0, current version:1.20.0\n",
            "WARNING:root:Please ensure the version of your local conda dependencies match the version on which your model was trained in order to properly retrieve your model.\n"
          ]
        }
      ],
      "execution_count": 12,
      "metadata": {
        "gather": {
          "logged": 1612730427323
        },
        "jupyter": {
          "outputs_hidden": false,
          "source_hidden": false
        },
        "nteract": {
          "transient": {
            "deleting": false
          }
        }
      }
    },
    {
      "cell_type": "code",
      "source": [
        "print('Best Run Id: ', best_run.id)\r\n",
        "print('\\n Accuracy: ', best_run_metrics['accuracy'])\r\n",
        "print('\\n Metrics: ', best_run_metrics)\r\n",
        "print('\\n Best Model: ', fitted_model)"
      ],
      "outputs": [
        {
          "output_type": "stream",
          "name": "stdout",
          "text": [
            "Best Run Id:  AutoML_da0f5073-4f86-43a2-b902-0d62d74e6569_36\n",
            "\n",
            " Accuracy:  0.8594276094276094\n",
            "\n",
            " Metrics:  {'accuracy': 0.8594276094276094, 'norm_macro_recall': 0.636165722372619, 'AUC_micro': 0.8995025575621535, 'recall_score_macro': 0.8180828611863095, 'f1_score_weighted': 0.8548066059635899, 'AUC_weighted': 0.8875399537468504, 'AUC_macro': 0.8875399537468504, 'average_precision_score_micro': 0.8985135679260727, 'recall_score_micro': 0.8594276094276094, 'average_precision_score_weighted': 0.8950298873370782, 'log_loss': 0.40728120933018364, 'f1_score_macro': 0.8294613710854423, 'average_precision_score_macro': 0.8681029289591006, 'f1_score_micro': 0.8594276094276094, 'matthews_correlation': 0.6724041770619279, 'precision_score_micro': 0.8594276094276094, 'balanced_accuracy': 0.8180828611863095, 'precision_score_weighted': 0.8627820044384572, 'recall_score_weighted': 0.8594276094276094, 'weighted_accuracy': 0.8914967771530552, 'precision_score_macro': 0.8560823122376835, 'accuracy_table': 'aml://artifactId/ExperimentRun/dcid.AutoML_da0f5073-4f86-43a2-b902-0d62d74e6569_36/accuracy_table', 'confusion_matrix': 'aml://artifactId/ExperimentRun/dcid.AutoML_da0f5073-4f86-43a2-b902-0d62d74e6569_36/confusion_matrix'}\n",
            "\n",
            " Best Model:  Pipeline(memory=None,\n",
            "         steps=[('datatransformer',\n",
            "                 DataTransformer(enable_dnn=None, enable_feature_sweeping=None,\n",
            "                                 feature_sweeping_config=None,\n",
            "                                 feature_sweeping_timeout=None,\n",
            "                                 featurization_config=None, force_text_dnn=None,\n",
            "                                 is_cross_validation=None,\n",
            "                                 is_onnx_compatible=None, logger=None,\n",
            "                                 observer=None, task=None, working_dir=None)),\n",
            "                ('prefittedsoftvotingclassifier',...\n",
            "                                                                            ('svcwrapper',\n",
            "                                                                             SVCWrapper(C=159.98587196060572,\n",
            "                                                                                        break_ties=False,\n",
            "                                                                                        cache_size=200,\n",
            "                                                                                        class_weight=None,\n",
            "                                                                                        coef0=0.0,\n",
            "                                                                                        decision_function_shape='ovr',\n",
            "                                                                                        degree=3,\n",
            "                                                                                        gamma='scale',\n",
            "                                                                                        kernel='rbf',\n",
            "                                                                                        max_iter=-1,\n",
            "                                                                                        probability=True,\n",
            "                                                                                        random_state=None,\n",
            "                                                                                        shrinking=True,\n",
            "                                                                                        tol=0.001,\n",
            "                                                                                        verbose=False))],\n",
            "                                                                     verbose=False))],\n",
            "                                               flatten_transform=None,\n",
            "                                               weights=[0.1, 0.3, 0.1, 0.1, 0.1,\n",
            "                                                        0.1, 0.1, 0.1]))],\n",
            "         verbose=False)\n"
          ]
        }
      ],
      "execution_count": 13,
      "metadata": {
        "collapsed": true,
        "jupyter": {
          "source_hidden": false,
          "outputs_hidden": false
        },
        "nteract": {
          "transient": {
            "deleting": false
          }
        },
        "gather": {
          "logged": 1612730506800
        }
      }
    },
    {
      "cell_type": "code",
      "source": [
        "print(fitted_model._final_estimator)"
      ],
      "outputs": [
        {
          "output_type": "stream",
          "name": "stdout",
          "text": [
            "PreFittedSoftVotingClassifier(classification_labels=None,\n",
            "                              estimators=[('18',\n",
            "                                           Pipeline(memory=None,\n",
            "                                                    steps=[('minmaxscaler',\n",
            "                                                            MinMaxScaler(copy=True,\n",
            "                                                                         feature_range=(0,\n",
            "                                                                                        1))),\n",
            "                                                           ('lightgbmclassifier',\n",
            "                                                            LightGBMClassifier(boosting_type='gbdt',\n",
            "                                                                               class_weight=None,\n",
            "                                                                               colsample_bytree=0.8911111111111111,\n",
            "                                                                               importance_type='split',\n",
            "                                                                               learning_rate=0.09473736842105263,\n",
            "                                                                               max_bin=70,\n",
            "                                                                               m...\n",
            "                                                                         feature_range=(0,\n",
            "                                                                                        1))),\n",
            "                                                           ('svcwrapper',\n",
            "                                                            SVCWrapper(C=159.98587196060572,\n",
            "                                                                       break_ties=False,\n",
            "                                                                       cache_size=200,\n",
            "                                                                       class_weight=None,\n",
            "                                                                       coef0=0.0,\n",
            "                                                                       decision_function_shape='ovr',\n",
            "                                                                       degree=3,\n",
            "                                                                       gamma='scale',\n",
            "                                                                       kernel='rbf',\n",
            "                                                                       max_iter=-1,\n",
            "                                                                       probability=True,\n",
            "                                                                       random_state=None,\n",
            "                                                                       shrinking=True,\n",
            "                                                                       tol=0.001,\n",
            "                                                                       verbose=False))],\n",
            "                                                    verbose=False))],\n",
            "                              flatten_transform=None,\n",
            "                              weights=[0.1, 0.3, 0.1, 0.1, 0.1, 0.1, 0.1, 0.1])\n"
          ]
        }
      ],
      "execution_count": 14,
      "metadata": {
        "collapsed": true,
        "jupyter": {
          "source_hidden": false,
          "outputs_hidden": false
        },
        "nteract": {
          "transient": {
            "deleting": false
          }
        },
        "gather": {
          "logged": 1612730535543
        }
      }
    },
    {
      "cell_type": "code",
      "source": [
        "#TODO: Save the best model\r\n",
        "automl_best_model = best_run.register_model(model_name = \"best-automl-model\", model_path = './outputs/model.pkl', properties={'Accuracy': best_run_metrics['accuracy']})\r\n",
        "print(automl_best_model)"
      ],
      "outputs": [
        {
          "output_type": "stream",
          "name": "stdout",
          "text": [
            "Model(workspace=Workspace.create(name='quick-starts-ws-137998', subscription_id='cdbe0b43-92a0-4715-838a-f2648cc7ad21', resource_group='aml-quickstarts-137998'), name=best-automl-model, id=best-automl-model:1, version=1, tags={}, properties={'Accuracy': '0.8594276094276094'})\n"
          ]
        }
      ],
      "execution_count": 15,
      "metadata": {
        "gather": {
          "logged": 1612730548521
        },
        "jupyter": {
          "outputs_hidden": false,
          "source_hidden": false
        },
        "nteract": {
          "transient": {
            "deleting": false
          }
        }
      }
    },
    {
      "cell_type": "code",
      "source": [
        "for model in Model.list(ws):\r\n",
        "    print(model.name, 'version:', model.version)\r\n",
        "    for props_name in model.properties:\r\n",
        "        props = model.properties[props_name]\r\n",
        "        print ('\\t',props_name, ':', props)\r\n",
        "    print('\\n')"
      ],
      "outputs": [
        {
          "output_type": "stream",
          "name": "stdout",
          "text": [
            "best-automl-model version: 1\n",
            "\t Accuracy : 0.8594276094276094\n",
            "\n",
            "\n",
            "best_hyperdrive_model version: 1\n",
            "\n",
            "\n"
          ]
        }
      ],
      "execution_count": 16,
      "metadata": {
        "collapsed": true,
        "jupyter": {
          "source_hidden": false,
          "outputs_hidden": false
        },
        "nteract": {
          "transient": {
            "deleting": false
          }
        },
        "gather": {
          "logged": 1612730553955
        }
      }
    },
    {
      "cell_type": "markdown",
      "source": [
        "## Model Deployment\n",
        "\n",
        "Remember you have to deploy only one of the two models you trained.. Perform the steps in the rest of this notebook only if you wish to deploy this model.\n",
        "\n",
        "TODO: In the cell below, register the model, create an inference config and deploy the model as a web service."
      ],
      "metadata": {}
    },
    {
      "cell_type": "code",
      "source": [
        "os.makedirs('./atoml-model', exist_ok=True)\r\n",
        "\r\n",
        "best_run.download_file('/outputs/model.pkl',os.path.join('./atoml-model','best-automl-model.pkl'))\r\n",
        "\r\n",
        "for f in best_run.get_file_names():\r\n",
        "    if f.startswith('outputs'):\r\n",
        "        output_file_path = os.path.join('./atoml-model', f.split('/')[-1])\r\n",
        "        print(f'Downloading from {f} to {output_file_path} ...')\r\n",
        "        best_run.download_file(name=f, output_file_path=output_file_path)"
      ],
      "outputs": [
        {
          "output_type": "stream",
          "name": "stdout",
          "text": [
            "Downloading from outputs/conda_env_v_1_0_0.yml to ./atoml-model/conda_env_v_1_0_0.yml ...\n",
            "Downloading from outputs/env_dependencies.json to ./atoml-model/env_dependencies.json ...\n",
            "Downloading from outputs/internal_cross_validated_models.pkl to ./atoml-model/internal_cross_validated_models.pkl ...\n",
            "Downloading from outputs/model.pkl to ./atoml-model/model.pkl ...\n",
            "Downloading from outputs/pipeline_graph.json to ./atoml-model/pipeline_graph.json ...\n",
            "Downloading from outputs/scoring_file_v_1_0_0.py to ./atoml-model/scoring_file_v_1_0_0.py ...\n"
          ]
        }
      ],
      "execution_count": 17,
      "metadata": {
        "collapsed": true,
        "jupyter": {
          "source_hidden": false,
          "outputs_hidden": false
        },
        "nteract": {
          "transient": {
            "deleting": false
          }
        },
        "gather": {
          "logged": 1612730566301
        }
      }
    },
    {
      "cell_type": "code",
      "source": [
        "\r\n",
        "model=best_run.register_model(\r\n",
        "            model_name = 'best-automl-model', \r\n",
        "            model_path = './outputs/model.pkl'\r\n",
        ")"
      ],
      "outputs": [],
      "execution_count": 18,
      "metadata": {
        "collapsed": true,
        "jupyter": {
          "source_hidden": false,
          "outputs_hidden": false
        },
        "nteract": {
          "transient": {
            "deleting": false
          }
        },
        "gather": {
          "logged": 1612730578204
        }
      }
    },
    {
      "cell_type": "code",
      "source": [
        "# Download scoring file \r\n",
        "best_run.download_file('outputs/scoring_file_v_1_0_0.py', 'score.py')\r\n",
        "\r\n",
        "# Download environment file\r\n",
        "best_run.download_file('outputs/conda_env_v_1_0_0.yml', 'environment_file.yml')"
      ],
      "outputs": [],
      "execution_count": 19,
      "metadata": {
        "gather": {
          "logged": 1612730584128
        },
        "jupyter": {
          "outputs_hidden": false,
          "source_hidden": false
        },
        "nteract": {
          "transient": {
            "deleting": false
          }
        }
      }
    },
    {
      "cell_type": "code",
      "source": [
        "\r\n",
        "# Create an inference config \r\n",
        "inference_config = InferenceConfig(entry_script='score.py',\r\n",
        "                                    environment=best_run.get_environment())\r\n",
        "\r\n",
        "# Deploy the model as a web service\r\n",
        "aci_config = AciWebservice.deploy_configuration(cpu_cores = 1, memory_gb = 1, auth_enabled=True, enable_app_insights=True)\r\n",
        "webservice = Model.deploy(ws, \"myservice\", [automl_best_model], inference_config, aci_config)\r\n",
        "webservice.wait_for_deployment(show_output = True)\r\n"
      ],
      "outputs": [
        {
          "output_type": "stream",
          "name": "stdout",
          "text": [
            "Tips: You can try get_logs(): https://aka.ms/debugimage#dockerlog or local deployment: https://aka.ms/debugimage#debug-locally to debug if deployment takes longer than 10 minutes.\n",
            "Running......................................\n",
            "Succeeded\n",
            "ACI service creation operation finished, operation \"Succeeded\"\n"
          ]
        }
      ],
      "execution_count": 20,
      "metadata": {
        "collapsed": true,
        "jupyter": {
          "source_hidden": false,
          "outputs_hidden": false
        },
        "nteract": {
          "transient": {
            "deleting": false
          }
        },
        "gather": {
          "logged": 1612730793005
        }
      }
    },
    {
      "cell_type": "code",
      "source": [
        "webservice"
      ],
      "outputs": [
        {
          "output_type": "execute_result",
          "execution_count": 21,
          "data": {
            "text/plain": "AciWebservice(workspace=Workspace.create(name='quick-starts-ws-137998', subscription_id='cdbe0b43-92a0-4715-838a-f2648cc7ad21', resource_group='aml-quickstarts-137998'), name=myservice, image_id=None, compute_type=None, state=ACI, scoring_uri=Healthy, tags=http://5dedc2f4-430c-4728-a717-bd8f3f5eee8e.southcentralus.azurecontainer.io/score, properties={}, created_by={'hasInferenceSchema': 'True', 'hasHttps': 'False'})"
          },
          "metadata": {}
        }
      ],
      "execution_count": 21,
      "metadata": {
        "collapsed": true,
        "jupyter": {
          "source_hidden": false,
          "outputs_hidden": false
        },
        "nteract": {
          "transient": {
            "deleting": false
          }
        },
        "gather": {
          "logged": 1612731059604
        }
      }
    },
    {
      "cell_type": "code",
      "source": [
        "print(webservice.state)\r\n",
        "\r\n",
        "print(webservice.scoring_uri)\r\n",
        "\r\n",
        "print(webservice.swagger_uri)"
      ],
      "outputs": [
        {
          "output_type": "stream",
          "name": "stdout",
          "text": [
            "Healthy\n",
            "http://5dedc2f4-430c-4728-a717-bd8f3f5eee8e.southcentralus.azurecontainer.io/score\n",
            "http://5dedc2f4-430c-4728-a717-bd8f3f5eee8e.southcentralus.azurecontainer.io/swagger.json\n"
          ]
        }
      ],
      "execution_count": 22,
      "metadata": {
        "collapsed": true,
        "jupyter": {
          "source_hidden": false,
          "outputs_hidden": false
        },
        "nteract": {
          "transient": {
            "deleting": false
          }
        },
        "gather": {
          "logged": 1612731065408
        }
      }
    },
    {
      "cell_type": "markdown",
      "source": [
        "TODO: In the cell below, send a request to the web service you deployed to test it."
      ],
      "metadata": {
        "collapsed": true,
        "gather": {
          "logged": 1598431657736
        },
        "jupyter": {
          "outputs_hidden": false,
          "source_hidden": false
        },
        "nteract": {
          "transient": {
            "deleting": false
          }
        }
      }
    },
    {
      "cell_type": "code",
      "source": [
        "#test data\r\n",
        "\r\n",
        "test_df = df.sample(5) \r\n",
        "label_df = test_df.pop('DEATH_EVENT')\r\n",
        "\r\n",
        "test_sample = json.dumps({'data': test_df.to_dict(orient='records')})\r\n",
        "\r\n",
        "print(test_sample)"
      ],
      "outputs": [
        {
          "output_type": "stream",
          "name": "stdout",
          "text": [
            "{\"data\": [{\"age\": 70.0, \"anaemia\": 0, \"creatinine_phosphokinase\": 66, \"diabetes\": 1, \"ejection_fraction\": 45, \"high_blood_pressure\": 0, \"platelets\": 249000.0, \"serum_creatinine\": 0.8, \"serum_sodium\": 136, \"sex\": 1, \"smoking\": 1, \"time\": 80}, {\"age\": 70.0, \"anaemia\": 0, \"creatinine_phosphokinase\": 88, \"diabetes\": 1, \"ejection_fraction\": 35, \"high_blood_pressure\": 1, \"platelets\": 236000.0, \"serum_creatinine\": 1.2, \"serum_sodium\": 132, \"sex\": 0, \"smoking\": 0, \"time\": 215}, {\"age\": 49.0, \"anaemia\": 0, \"creatinine_phosphokinase\": 789, \"diabetes\": 0, \"ejection_fraction\": 20, \"high_blood_pressure\": 1, \"platelets\": 319000.0, \"serum_creatinine\": 1.1, \"serum_sodium\": 136, \"sex\": 1, \"smoking\": 1, \"time\": 55}, {\"age\": 82.0, \"anaemia\": 0, \"creatinine_phosphokinase\": 70, \"diabetes\": 1, \"ejection_fraction\": 30, \"high_blood_pressure\": 0, \"platelets\": 200000.0, \"serum_creatinine\": 1.2, \"serum_sodium\": 132, \"sex\": 1, \"smoking\": 1, \"time\": 26}, {\"age\": 50.0, \"anaemia\": 1, \"creatinine_phosphokinase\": 1051, \"diabetes\": 1, \"ejection_fraction\": 30, \"high_blood_pressure\": 0, \"platelets\": 232000.0, \"serum_creatinine\": 0.7, \"serum_sodium\": 136, \"sex\": 0, \"smoking\": 0, \"time\": 246}]}\n"
          ]
        }
      ],
      "execution_count": 23,
      "metadata": {
        "gather": {
          "logged": 1612731079043
        },
        "jupyter": {
          "outputs_hidden": false,
          "source_hidden": false
        },
        "nteract": {
          "transient": {
            "deleting": false
          }
        }
      }
    },
    {
      "cell_type": "code",
      "source": [
        "output = webservice.run(test_sample)\r\n",
        "print(output)"
      ],
      "outputs": [
        {
          "output_type": "stream",
          "name": "stdout",
          "text": [
            "{\"result\": [0, 0, 1, 1, 0]}\n"
          ]
        }
      ],
      "execution_count": 24,
      "metadata": {
        "collapsed": true,
        "jupyter": {
          "source_hidden": false,
          "outputs_hidden": false
        },
        "nteract": {
          "transient": {
            "deleting": false
          }
        },
        "gather": {
          "logged": 1612731091120
        }
      }
    },
    {
      "cell_type": "code",
      "source": [
        "# Send a request to the web service you deployed to test it.\r\n",
        "\r\n",
        "# import requests\r\n",
        "\r\n",
        "# headers = {'Content-type': 'application/json'}\r\n",
        "\r\n",
        "# response = requests.post(webservice.scoring_uri, test_sample, headers=headers)"
      ],
      "outputs": [],
      "execution_count": 41,
      "metadata": {
        "collapsed": true,
        "jupyter": {
          "source_hidden": false,
          "outputs_hidden": false
        },
        "nteract": {
          "transient": {
            "deleting": false
          }
        },
        "gather": {
          "logged": 1612704288053
        }
      }
    },
    {
      "cell_type": "code",
      "source": [
        "# print(response.text)"
      ],
      "outputs": [],
      "execution_count": 48,
      "metadata": {
        "collapsed": true,
        "jupyter": {
          "source_hidden": false,
          "outputs_hidden": false
        },
        "nteract": {
          "transient": {
            "deleting": false
          }
        },
        "gather": {
          "logged": 1612704604093
        }
      }
    },
    {
      "cell_type": "code",
      "source": [
        "print(label_df)"
      ],
      "outputs": [
        {
          "output_type": "stream",
          "name": "stdout",
          "text": [
            "90     0\n",
            "253    0\n",
            "58     1\n",
            "29     1\n",
            "278    0\n",
            "Name: DEATH_EVENT, dtype: int64\n"
          ]
        }
      ],
      "execution_count": 25,
      "metadata": {
        "collapsed": true,
        "jupyter": {
          "source_hidden": false,
          "outputs_hidden": false
        },
        "nteract": {
          "transient": {
            "deleting": false
          }
        },
        "gather": {
          "logged": 1612731144434
        }
      }
    },
    {
      "cell_type": "markdown",
      "source": [
        "TODO: In the cell below, print the logs of the web service and delete the service"
      ],
      "metadata": {
        "collapsed": true,
        "gather": {
          "logged": 1598432765711
        },
        "jupyter": {
          "outputs_hidden": false,
          "source_hidden": false
        },
        "nteract": {
          "transient": {
            "deleting": false
          }
        }
      }
    },
    {
      "cell_type": "code",
      "source": [
        "print(webservice.get_logs())"
      ],
      "outputs": [
        {
          "output_type": "stream",
          "name": "stdout",
          "text": [
            "2021-02-07T20:46:13,282251601+00:00 - iot-server/run \n",
            "2021-02-07T20:46:13,285338642+00:00 - rsyslog/run \n",
            "/usr/sbin/nginx: /azureml-envs/azureml_20a8278aa8b20dd48cc50f56a6d2586c/lib/libcrypto.so.1.0.0: no version information available (required by /usr/sbin/nginx)\n",
            "/usr/sbin/nginx: /azureml-envs/azureml_20a8278aa8b20dd48cc50f56a6d2586c/lib/libcrypto.so.1.0.0: no version information available (required by /usr/sbin/nginx)\n",
            "/usr/sbin/nginx: /azureml-envs/azureml_20a8278aa8b20dd48cc50f56a6d2586c/lib/libssl.so.1.0.0: no version information available (required by /usr/sbin/nginx)\n",
            "/usr/sbin/nginx: /azureml-envs/azureml_20a8278aa8b20dd48cc50f56a6d2586c/lib/libssl.so.1.0.0: no version information available (required by /usr/sbin/nginx)\n",
            "/usr/sbin/nginx: /azureml-envs/azureml_20a8278aa8b20dd48cc50f56a6d2586c/lib/libssl.so.1.0.0: no version information available (required by /usr/sbin/nginx)\n",
            "2021-02-07T20:46:13,288214480+00:00 - nginx/run \n",
            "2021-02-07T20:46:13,293174445+00:00 - gunicorn/run \n",
            "rsyslogd: /azureml-envs/azureml_20a8278aa8b20dd48cc50f56a6d2586c/lib/libuuid.so.1: no version information available (required by rsyslogd)\n",
            "EdgeHubConnectionString and IOTEDGE_IOTHUBHOSTNAME are not set. Exiting...\n",
            "2021-02-07T20:46:13,456518897+00:00 - iot-server/finish 1 0\n",
            "2021-02-07T20:46:13,469569868+00:00 - Exit code 1 is normal. Not restarting iot-server.\n",
            "Starting gunicorn 19.9.0\n",
            "Listening at: http://127.0.0.1:31311 (14)\n",
            "Using worker: sync\n",
            "worker timeout is set to 300\n",
            "Booting worker with pid: 42\n",
            "SPARK_HOME not set. Skipping PySpark Initialization.\n",
            "Generating new fontManager, this may take some time...\n",
            "Initializing logger\n",
            "2021-02-07 20:46:14,926 | root | INFO | Starting up app insights client\n",
            "2021-02-07 20:46:14,927 | root | INFO | Starting up request id generator\n",
            "2021-02-07 20:46:14,927 | root | INFO | Starting up app insight hooks\n",
            "2021-02-07 20:46:14,927 | root | INFO | Invoking user's init function\n",
            "2021-02-07 20:46:17,838 | root | INFO | Users's init has completed successfully\n",
            "2021-02-07 20:46:17,841 | root | INFO | Skipping middleware: dbg_model_info as it's not enabled.\n",
            "2021-02-07 20:46:17,841 | root | INFO | Skipping middleware: dbg_resource_usage as it's not enabled.\n",
            "2021-02-07 20:46:17,842 | root | INFO | Scoring timeout is found from os.environ: 60000 ms\n",
            "2021-02-07 20:46:31,513 | root | INFO | 200\n",
            "127.0.0.1 - - [07/Feb/2021:20:46:31 +0000] \"GET /swagger.json HTTP/1.0\" 200 2830 \"-\" \"Go-http-client/1.1\"\n",
            "2021-02-07 20:46:32,031 | root | INFO | 200\n",
            "127.0.0.1 - - [07/Feb/2021:20:46:32 +0000] \"GET /swagger.json HTTP/1.0\" 200 2830 \"-\" \"Go-http-client/1.1\"\n",
            "2021-02-07 20:51:30,772 | root | INFO | Validation Request Content-Type\n",
            "2021-02-07 20:51:30,773 | root | INFO | Scoring Timer is set to 60.0 seconds\n",
            "2021-02-07 20:51:31,060 | root | INFO | 200\n",
            "127.0.0.1 - - [07/Feb/2021:20:51:31 +0000] \"POST /score HTTP/1.0\" 200 31 \"-\" \"python-requests/2.25.1\"\n",
            "\n"
          ]
        }
      ],
      "execution_count": 26,
      "metadata": {
        "jupyter": {
          "outputs_hidden": false,
          "source_hidden": false
        },
        "nteract": {
          "transient": {
            "deleting": false
          }
        },
        "gather": {
          "logged": 1612731188495
        }
      }
    },
    {
      "cell_type": "code",
      "source": [
        "webservice.delete()"
      ],
      "outputs": [],
      "execution_count": 49,
      "metadata": {
        "collapsed": true,
        "jupyter": {
          "source_hidden": false,
          "outputs_hidden": false
        },
        "nteract": {
          "transient": {
            "deleting": false
          }
        },
        "gather": {
          "logged": 1612704618067
        }
      }
    }
  ],
  "metadata": {
    "kernel_info": {
      "name": "python3"
    },
    "kernelspec": {
      "name": "python3",
      "language": "python",
      "display_name": "Python 3"
    },
    "language_info": {
      "name": "python",
      "version": "3.6.9",
      "mimetype": "text/x-python",
      "codemirror_mode": {
        "name": "ipython",
        "version": 3
      },
      "pygments_lexer": "ipython3",
      "nbconvert_exporter": "python",
      "file_extension": ".py"
    },
    "nteract": {
      "version": "nteract-front-end@1.0.0"
    }
  },
  "nbformat": 4,
  "nbformat_minor": 2
}