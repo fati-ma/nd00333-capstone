{
  "cells": [
    {
      "cell_type": "markdown",
      "source": [
        "# Automated ML\n",
        "\n",
        "TODO: Import Dependencies. In the cell below, import all the dependencies that you will need to complete the project."
      ],
      "metadata": {}
    },
    {
      "cell_type": "code",
      "source": [
        "import json\r\n",
        "import azureml.core\r\n",
        "from azureml.data.dataset_factory import TabularDatasetFactory\r\n",
        "from azureml.core.model import Model\r\n",
        "from azureml.core import Workspace, Experiment, Model, Dataset\r\n",
        "from azureml.core.compute import ComputeTarget, AmlCompute\r\n",
        "# from azureml.core.compute_target import ComputeTargetException\r\n",
        "from azureml.widgets import RunDetails\r\n",
        "from azureml.train.automl import AutoMLConfig\r\n",
        "from azureml.core.environment import Environment\r\n",
        "from azureml.core.model import InferenceConfig\r\n",
        "from azureml.core.webservice import AciWebservice, Webservice\r\n",
        "import os\r\n",
        "import pandas as pd\r\n",
        "import numpy as np\r\n",
        "import json\r\n",
        "import requests\r\n",
        "import joblib\r\n",
        "from sklearn.metrics import confusion_matrix\r\n",
        "import itertools\r\n",
        "\r\n"
      ],
      "outputs": [],
      "execution_count": 1,
      "metadata": {
        "gather": {
          "logged": 1612696428938
        },
        "jupyter": {
          "outputs_hidden": false,
          "source_hidden": false
        },
        "nteract": {
          "transient": {
            "deleting": false
          }
        }
      }
    },
    {
      "cell_type": "markdown",
      "source": [
        "## Dataset\n",
        "\n",
        "### Overview\n",
        "TODO: In this markdown cell, give an overview of the dataset you are using. Also mention the task you will be performing.\n",
        "\n",
        "\n",
        "TODO: Get data. In the cell below, write code to access the data you will be using in this project. Remember that the dataset needs to be external."
      ],
      "metadata": {}
    },
    {
      "cell_type": "code",
      "source": [
        "ws = Workspace.from_config()\n",
        "\n",
        "# choose a name for experiment\n",
        "experiment_name = 'auto-ml-exp'\n",
        "\n",
        "experiment=Experiment(ws, experiment_name)"
      ],
      "outputs": [],
      "execution_count": 2,
      "metadata": {
        "gather": {
          "logged": 1612696436339
        },
        "jupyter": {
          "outputs_hidden": false,
          "source_hidden": false
        },
        "nteract": {
          "transient": {
            "deleting": false
          }
        }
      }
    },
    {
      "cell_type": "code",
      "source": [],
      "outputs": [],
      "execution_count": null,
      "metadata": {
        "collapsed": true,
        "jupyter": {
          "source_hidden": false,
          "outputs_hidden": false
        },
        "nteract": {
          "transient": {
            "deleting": false
          }
        }
      }
    },
    {
      "cell_type": "code",
      "source": [
        "from azureml.core.compute_target import ComputeTargetException\r\n",
        "from azureml.core.compute import ComputeTarget, AmlCompute\r\n",
        "\r\n",
        "\r\n",
        "aml_compute_cluster = \"heart-compute\" #can not be more than 16 chars\r\n",
        "\r\n",
        "# Verify that cluster does not exist already\r\n",
        "try:\r\n",
        "    # compute_target = ComputeTarget(ws, aml_compute_cluster)\r\n",
        "# if aml_compute_cluster in ws.compute_targets:\r\n",
        "    # compute_target = ws.compute_targets[aml_compute_cluster]\r\n",
        "    compute_target = ComputeTarget(workspace=ws, name=aml_compute_cluster)\r\n",
        "    print('Found existing cluster, use it.')\r\n",
        "except: \r\n",
        "    compute_config = AmlCompute.provisioning_configuration(vm_size='Standard_D2_V2', min_nodes=1,max_nodes=4)\r\n",
        "    compute_target = ComputeTarget.create(ws, aml_compute_cluster, compute_config)\r\n",
        "\r\n",
        "compute_target.wait_for_completion(show_output=True, min_node_count = 1, timeout_in_minutes = 10)\r\n",
        "print(compute_target.get_status().serialize())"
      ],
      "outputs": [
        {
          "output_type": "stream",
          "name": "stdout",
          "text": [
            "Creating\n",
            "Succeeded........................\n",
            "AmlCompute wait for completion finished\n",
            "\n",
            "Minimum number of nodes requested have been provisioned\n",
            "{'currentNodeCount': 1, 'targetNodeCount': 1, 'nodeStateCounts': {'preparingNodeCount': 1, 'runningNodeCount': 0, 'idleNodeCount': 0, 'unusableNodeCount': 0, 'leavingNodeCount': 0, 'preemptedNodeCount': 0}, 'allocationState': 'Steady', 'allocationStateTransitionTime': '2021-02-07T11:22:21.687000+00:00', 'errors': None, 'creationTime': '2021-02-07T11:20:12.214362+00:00', 'modifiedTime': '2021-02-07T11:20:28.832260+00:00', 'provisioningState': 'Succeeded', 'provisioningStateTransitionTime': None, 'scaleSettings': {'minNodeCount': 1, 'maxNodeCount': 4, 'nodeIdleTimeBeforeScaleDown': 'PT120S'}, 'vmPriority': 'Dedicated', 'vmSize': 'STANDARD_D2_V2'}\n"
          ]
        }
      ],
      "execution_count": 7,
      "metadata": {
        "collapsed": true,
        "jupyter": {
          "source_hidden": false,
          "outputs_hidden": false
        },
        "nteract": {
          "transient": {
            "deleting": false
          }
        },
        "gather": {
          "logged": 1612696955271
        }
      }
    },
    {
      "cell_type": "code",
      "source": [
        "\r\n",
        "key = \"HeartFailure-Dataset\"\r\n",
        "\r\n",
        "dataset = ws.datasets[key]\r\n",
        "\r\n",
        "df = dataset.to_pandas_dataframe()\r\n",
        "df.describe()"
      ],
      "outputs": [
        {
          "output_type": "execute_result",
          "execution_count": 8,
          "data": {
            "text/plain": "              age     anaemia  creatinine_phosphokinase    diabetes  \\\ncount  299.000000  299.000000                299.000000  299.000000   \nmean    60.833893    0.431438                581.839465    0.418060   \nstd     11.894809    0.496107                970.287881    0.494067   \nmin     40.000000    0.000000                 23.000000    0.000000   \n25%     51.000000    0.000000                116.500000    0.000000   \n50%     60.000000    0.000000                250.000000    0.000000   \n75%     70.000000    1.000000                582.000000    1.000000   \nmax     95.000000    1.000000               7861.000000    1.000000   \n\n       ejection_fraction  high_blood_pressure      platelets  \\\ncount         299.000000           299.000000     299.000000   \nmean           38.083612             0.351171  263358.029264   \nstd            11.834841             0.478136   97804.236869   \nmin            14.000000             0.000000   25100.000000   \n25%            30.000000             0.000000  212500.000000   \n50%            38.000000             0.000000  262000.000000   \n75%            45.000000             1.000000  303500.000000   \nmax            80.000000             1.000000  850000.000000   \n\n       serum_creatinine  serum_sodium         sex    smoking        time  \\\ncount         299.00000    299.000000  299.000000  299.00000  299.000000   \nmean            1.39388    136.625418    0.648829    0.32107  130.260870   \nstd             1.03451      4.412477    0.478136    0.46767   77.614208   \nmin             0.50000    113.000000    0.000000    0.00000    4.000000   \n25%             0.90000    134.000000    0.000000    0.00000   73.000000   \n50%             1.10000    137.000000    1.000000    0.00000  115.000000   \n75%             1.40000    140.000000    1.000000    1.00000  203.000000   \nmax             9.40000    148.000000    1.000000    1.00000  285.000000   \n\n       DEATH_EVENT  \ncount    299.00000  \nmean       0.32107  \nstd        0.46767  \nmin        0.00000  \n25%        0.00000  \n50%        0.00000  \n75%        1.00000  \nmax        1.00000  ",
            "text/html": "<div>\n<style scoped>\n    .dataframe tbody tr th:only-of-type {\n        vertical-align: middle;\n    }\n\n    .dataframe tbody tr th {\n        vertical-align: top;\n    }\n\n    .dataframe thead th {\n        text-align: right;\n    }\n</style>\n<table border=\"1\" class=\"dataframe\">\n  <thead>\n    <tr style=\"text-align: right;\">\n      <th></th>\n      <th>age</th>\n      <th>anaemia</th>\n      <th>creatinine_phosphokinase</th>\n      <th>diabetes</th>\n      <th>ejection_fraction</th>\n      <th>high_blood_pressure</th>\n      <th>platelets</th>\n      <th>serum_creatinine</th>\n      <th>serum_sodium</th>\n      <th>sex</th>\n      <th>smoking</th>\n      <th>time</th>\n      <th>DEATH_EVENT</th>\n    </tr>\n  </thead>\n  <tbody>\n    <tr>\n      <th>count</th>\n      <td>299.000000</td>\n      <td>299.000000</td>\n      <td>299.000000</td>\n      <td>299.000000</td>\n      <td>299.000000</td>\n      <td>299.000000</td>\n      <td>299.000000</td>\n      <td>299.00000</td>\n      <td>299.000000</td>\n      <td>299.000000</td>\n      <td>299.00000</td>\n      <td>299.000000</td>\n      <td>299.00000</td>\n    </tr>\n    <tr>\n      <th>mean</th>\n      <td>60.833893</td>\n      <td>0.431438</td>\n      <td>581.839465</td>\n      <td>0.418060</td>\n      <td>38.083612</td>\n      <td>0.351171</td>\n      <td>263358.029264</td>\n      <td>1.39388</td>\n      <td>136.625418</td>\n      <td>0.648829</td>\n      <td>0.32107</td>\n      <td>130.260870</td>\n      <td>0.32107</td>\n    </tr>\n    <tr>\n      <th>std</th>\n      <td>11.894809</td>\n      <td>0.496107</td>\n      <td>970.287881</td>\n      <td>0.494067</td>\n      <td>11.834841</td>\n      <td>0.478136</td>\n      <td>97804.236869</td>\n      <td>1.03451</td>\n      <td>4.412477</td>\n      <td>0.478136</td>\n      <td>0.46767</td>\n      <td>77.614208</td>\n      <td>0.46767</td>\n    </tr>\n    <tr>\n      <th>min</th>\n      <td>40.000000</td>\n      <td>0.000000</td>\n      <td>23.000000</td>\n      <td>0.000000</td>\n      <td>14.000000</td>\n      <td>0.000000</td>\n      <td>25100.000000</td>\n      <td>0.50000</td>\n      <td>113.000000</td>\n      <td>0.000000</td>\n      <td>0.00000</td>\n      <td>4.000000</td>\n      <td>0.00000</td>\n    </tr>\n    <tr>\n      <th>25%</th>\n      <td>51.000000</td>\n      <td>0.000000</td>\n      <td>116.500000</td>\n      <td>0.000000</td>\n      <td>30.000000</td>\n      <td>0.000000</td>\n      <td>212500.000000</td>\n      <td>0.90000</td>\n      <td>134.000000</td>\n      <td>0.000000</td>\n      <td>0.00000</td>\n      <td>73.000000</td>\n      <td>0.00000</td>\n    </tr>\n    <tr>\n      <th>50%</th>\n      <td>60.000000</td>\n      <td>0.000000</td>\n      <td>250.000000</td>\n      <td>0.000000</td>\n      <td>38.000000</td>\n      <td>0.000000</td>\n      <td>262000.000000</td>\n      <td>1.10000</td>\n      <td>137.000000</td>\n      <td>1.000000</td>\n      <td>0.00000</td>\n      <td>115.000000</td>\n      <td>0.00000</td>\n    </tr>\n    <tr>\n      <th>75%</th>\n      <td>70.000000</td>\n      <td>1.000000</td>\n      <td>582.000000</td>\n      <td>1.000000</td>\n      <td>45.000000</td>\n      <td>1.000000</td>\n      <td>303500.000000</td>\n      <td>1.40000</td>\n      <td>140.000000</td>\n      <td>1.000000</td>\n      <td>1.00000</td>\n      <td>203.000000</td>\n      <td>1.00000</td>\n    </tr>\n    <tr>\n      <th>max</th>\n      <td>95.000000</td>\n      <td>1.000000</td>\n      <td>7861.000000</td>\n      <td>1.000000</td>\n      <td>80.000000</td>\n      <td>1.000000</td>\n      <td>850000.000000</td>\n      <td>9.40000</td>\n      <td>148.000000</td>\n      <td>1.000000</td>\n      <td>1.00000</td>\n      <td>285.000000</td>\n      <td>1.00000</td>\n    </tr>\n  </tbody>\n</table>\n</div>"
          },
          "metadata": {}
        }
      ],
      "execution_count": 8,
      "metadata": {
        "collapsed": true,
        "jupyter": {
          "source_hidden": false,
          "outputs_hidden": false
        },
        "nteract": {
          "transient": {
            "deleting": false
          }
        },
        "gather": {
          "logged": 1612696977320
        }
      }
    },
    {
      "cell_type": "markdown",
      "source": [
        "## AutoML Configuration\n",
        "\n",
        "TODO: Explain why you chose the automl settings and cofiguration you used below."
      ],
      "metadata": {}
    },
    {
      "cell_type": "code",
      "source": [
        "# TODO: Put your automl settings here\n",
        "automl_settings = {\n",
        "    \"experiment_timeout_minutes\": 20,\n",
        "    \"max_concurrent_iterations\": 4,\n",
        "    \"n_cross_validations\": 3,\n",
        "    \"primary_metric\" : 'accuracy'\n",
        "}\n",
        "\n",
        "# TODO: Put your automl config here\n",
        "automl_config = AutoMLConfig(\n",
        "                             compute_target=compute_target,\n",
        "                             task = \"classification\",\n",
        "                             training_data=dataset,\n",
        "                             label_column_name=\"DEATH_EVENT\", \n",
        "                             enable_early_stopping= True,\n",
        "                             **automl_settings\n",
        ")"
      ],
      "outputs": [],
      "execution_count": 20,
      "metadata": {
        "gather": {
          "logged": 1612700144325
        },
        "jupyter": {
          "outputs_hidden": false,
          "source_hidden": false
        },
        "nteract": {
          "transient": {
            "deleting": false
          }
        }
      }
    },
    {
      "cell_type": "code",
      "source": [
        "# TODO: Submit your experiment\n",
        "remote_run = experiment.submit(automl_config, show_output=True)"
      ],
      "outputs": [
        {
          "output_type": "stream",
          "name": "stdout",
          "text": [
            "Running on remote.\n",
            "No run_configuration provided, running on heart-compute with default configuration\n",
            "Running on remote compute: heart-compute\n",
            "Parent Run ID: AutoML_64549a3f-4f93-4138-801f-5a1c3da07036\n",
            "\n",
            "Current status: FeaturesGeneration. Generating features for the dataset.\n",
            "Current status: DatasetCrossValidationSplit. Generating individually featurized CV splits.\n",
            "Current status: ModelSelection. Beginning model selection.\n",
            "\n",
            "****************************************************************************************************\n",
            "DATA GUARDRAILS: \n",
            "\n",
            "TYPE:         Class balancing detection\n",
            "STATUS:       PASSED\n",
            "DESCRIPTION:  Your inputs were analyzed, and all classes are balanced in your training data.\n",
            "              Learn more about imbalanced data: https://aka.ms/AutomatedMLImbalancedData\n",
            "\n",
            "****************************************************************************************************\n",
            "\n",
            "TYPE:         Missing feature values imputation\n",
            "STATUS:       PASSED\n",
            "DESCRIPTION:  No feature missing values were detected in the training data.\n",
            "              Learn more about missing value imputation: https://aka.ms/AutomatedMLFeaturization\n",
            "\n",
            "****************************************************************************************************\n",
            "\n",
            "TYPE:         High cardinality feature detection\n",
            "STATUS:       PASSED\n",
            "DESCRIPTION:  Your inputs were analyzed, and no high cardinality features were detected.\n",
            "              Learn more about high cardinality feature handling: https://aka.ms/AutomatedMLFeaturization\n",
            "\n",
            "****************************************************************************************************\n",
            "\n",
            "****************************************************************************************************\n",
            "ITERATION: The iteration being evaluated.\n",
            "PIPELINE: A summary description of the pipeline being evaluated.\n",
            "DURATION: Time taken for the current iteration.\n",
            "METRIC: The result of computing score on the fitted pipeline.\n",
            "BEST: The best observed score thus far.\n",
            "****************************************************************************************************\n",
            "\n",
            " ITERATION   PIPELINE                                       DURATION      METRIC      BEST\n",
            "         0   MaxAbsScaler LightGBM                          0:00:54       0.8025    0.8025\n",
            "         3   MinMaxScaler RandomForest                      0:00:52       0.8293    0.8293\n",
            "         2   MinMaxScaler RandomForest                      0:00:52       0.8194    0.8293\n",
            "         1   MaxAbsScaler XGBoostClassifier                 0:00:51       0.8193    0.8293\n",
            "         7   MinMaxScaler SVM                               0:00:48       0.7057    0.8293\n",
            "         8   MaxAbsScaler GradientBoosting                  0:00:55       0.8227    0.8293\n",
            "         4   MinMaxScaler RandomForest                      0:03:28       0.8294    0.8294\n",
            "         5   SparseNormalizer XGBoostClassifier             0:03:21       0.7993    0.8294\n",
            "         6   MinMaxScaler SVM                               0:03:32       0.7190    0.8294\n",
            "         9   SparseNormalizer XGBoostClassifier             0:00:50       0.8294    0.8294\n",
            "        10   MinMaxScaler LightGBM                          0:00:53       0.8093    0.8294\n",
            "        11   SparseNormalizer XGBoostClassifier             0:00:47       0.8027    0.8294\n",
            "        12   RobustScaler ExtremeRandomTrees                0:00:56       0.8327    0.8327\n",
            "        13   MaxAbsScaler LightGBM                          0:00:46       0.8026    0.8327\n",
            "        14   StandardScalerWrapper GradientBoosting         0:00:45       0.8294    0.8327\n",
            "        15   StandardScalerWrapper XGBoostClassifier        0:00:46       0.8394    0.8394\n",
            "        16   SparseNormalizer XGBoostClassifier             0:00:49       0.7960    0.8394\n",
            "        17   SparseNormalizer XGBoostClassifier             0:00:46       0.8294    0.8394\n",
            "        18   MinMaxScaler RandomForest                      0:00:48       0.8327    0.8394\n",
            "        19   RobustScaler KNN                               0:00:51       0.6354    0.8394\n",
            "        20   RobustScaler LightGBM                          0:00:46       0.7794    0.8394\n",
            "        21   StandardScalerWrapper ExtremeRandomTrees       0:00:58       0.7358    0.8394\n",
            "        22   RobustScaler RandomForest                      0:00:45       0.8426    0.8426\n",
            "        23   StandardScalerWrapper XGBoostClassifier        0:00:57       0.8394    0.8426\n",
            "        24   StandardScalerWrapper LightGBM                 0:00:53       0.7390    0.8426\n",
            "        25   SparseNormalizer XGBoostClassifier             0:00:49       0.8127    0.8426\n",
            "        26   SparseNormalizer ExtremeRandomTrees            0:00:52       0.7457    0.8426\n",
            "        27   MinMaxScaler LightGBM                          0:00:45       0.8294    0.8426\n",
            "        28   StandardScalerWrapper LightGBM                 0:00:48       0.8227    0.8426\n",
            "        29   StandardScalerWrapper RandomForest             0:00:48       0.8226    0.8426\n",
            "        30   StandardScalerWrapper RandomForest             0:00:54       0.6790    0.8426\n",
            "        31   StandardScalerWrapper RandomForest             0:00:48       0.8327    0.8426\n",
            "        32   SparseNormalizer RandomForest                  0:00:59       0.7961    0.8426\n",
            "        33   SparseNormalizer XGBoostClassifier             0:00:48       0.7794    0.8426\n",
            "        34   SparseNormalizer XGBoostClassifier             0:00:49       0.8026    0.8426\n",
            "        35   StandardScalerWrapper RandomForest             0:00:57       0.8361    0.8426\n",
            "        36   StandardScalerWrapper GradientBoosting         0:00:49       0.8193    0.8426\n",
            "        37   RobustScaler ExtremeRandomTrees                0:00:41       0.8394    0.8426\n",
            "        38                                                  0:00:20          nan    0.8426\n",
            "        40    StackEnsemble                                 0:01:17       0.8192    0.8426\n",
            "        39    VotingEnsemble                                0:01:18       0.8562    0.8562\n"
          ]
        }
      ],
      "execution_count": 21,
      "metadata": {
        "gather": {
          "logged": 1612701317956
        },
        "jupyter": {
          "outputs_hidden": false,
          "source_hidden": false
        },
        "nteract": {
          "transient": {
            "deleting": false
          }
        }
      }
    },
    {
      "cell_type": "markdown",
      "source": [
        "## Run Details\n",
        "\n",
        "OPTIONAL: Write about the different models trained and their performance. Why do you think some models did better than others?\n",
        "\n",
        "TODO: In the cell below, use the `RunDetails` widget to show the different experiments."
      ],
      "metadata": {}
    },
    {
      "cell_type": "code",
      "source": [
        "from azureml.widgets import RunDetails\r\n",
        "\r\n",
        "RunDetails(remote_run).show()"
      ],
      "outputs": [
        {
          "output_type": "display_data",
          "data": {
            "text/plain": "_AutoMLWidget(widget_settings={'childWidgetDisplay': 'popup', 'send_telemetry': False, 'log_level': 'INFO', 's…",
            "application/vnd.jupyter.widget-view+json": {
              "version_major": 2,
              "version_minor": 0,
              "model_id": "c30c1142e83f4fa0b2ef72928fcf57f9"
            }
          },
          "metadata": {}
        },
        {
          "output_type": "display_data",
          "data": {
            "application/aml.mini.widget.v1": "{\"status\": \"Completed\", \"workbench_run_details_uri\": \"https://ml.azure.com/experiments/auto-ml-exp/runs/AutoML_64549a3f-4f93-4138-801f-5a1c3da07036?wsid=/subscriptions/81cefad3-d2c9-4f77-a466-99a7f541c7bb/resourcegroups/aml-quickstarts-137807/workspaces/quick-starts-ws-137807\", \"run_id\": \"AutoML_64549a3f-4f93-4138-801f-5a1c3da07036\", \"run_properties\": {\"run_id\": \"AutoML_64549a3f-4f93-4138-801f-5a1c3da07036\", \"created_utc\": \"2021-02-07T12:15:52.856005Z\", \"properties\": {\"num_iterations\": \"1000\", \"training_type\": \"TrainFull\", \"acquisition_function\": \"EI\", \"primary_metric\": \"accuracy\", \"train_split\": \"0\", \"acquisition_parameter\": \"0\", \"num_cross_validation\": \"3\", \"target\": \"heart-compute\", \"AMLSettingsJsonString\": \"{\\\"path\\\":null,\\\"name\\\":\\\"auto-ml-exp\\\",\\\"subscription_id\\\":\\\"81cefad3-d2c9-4f77-a466-99a7f541c7bb\\\",\\\"resource_group\\\":\\\"aml-quickstarts-137807\\\",\\\"workspace_name\\\":\\\"quick-starts-ws-137807\\\",\\\"region\\\":\\\"southcentralus\\\",\\\"compute_target\\\":\\\"heart-compute\\\",\\\"spark_service\\\":null,\\\"azure_service\\\":\\\"remote\\\",\\\"many_models\\\":false,\\\"pipeline_fetch_max_batch_size\\\":1,\\\"iterations\\\":1000,\\\"primary_metric\\\":\\\"accuracy\\\",\\\"task_type\\\":\\\"classification\\\",\\\"data_script\\\":null,\\\"validation_size\\\":0.0,\\\"n_cross_validations\\\":3,\\\"y_min\\\":null,\\\"y_max\\\":null,\\\"num_classes\\\":null,\\\"featurization\\\":\\\"auto\\\",\\\"_ignore_package_version_incompatibilities\\\":false,\\\"is_timeseries\\\":false,\\\"max_cores_per_iteration\\\":1,\\\"max_concurrent_iterations\\\":4,\\\"iteration_timeout_minutes\\\":null,\\\"mem_in_mb\\\":null,\\\"enforce_time_on_windows\\\":false,\\\"experiment_timeout_minutes\\\":20,\\\"experiment_exit_score\\\":null,\\\"whitelist_models\\\":null,\\\"blacklist_algos\\\":[\\\"TensorFlowLinearClassifier\\\",\\\"TensorFlowDNN\\\"],\\\"supported_models\\\":[\\\"LogisticRegression\\\",\\\"RandomForest\\\",\\\"ExtremeRandomTrees\\\",\\\"TensorFlowLinearClassifier\\\",\\\"KNN\\\",\\\"MultinomialNaiveBayes\\\",\\\"XGBoostClassifier\\\",\\\"GradientBoosting\\\",\\\"BernoulliNaiveBayes\\\",\\\"LightGBM\\\",\\\"SGD\\\",\\\"AveragedPerceptronClassifier\\\",\\\"DecisionTree\\\",\\\"LinearSVM\\\",\\\"TensorFlowDNN\\\",\\\"SVM\\\"],\\\"auto_blacklist\\\":true,\\\"blacklist_samples_reached\\\":false,\\\"exclude_nan_labels\\\":true,\\\"verbosity\\\":20,\\\"_debug_log\\\":\\\"azureml_automl.log\\\",\\\"show_warnings\\\":false,\\\"model_explainability\\\":true,\\\"service_url\\\":null,\\\"sdk_url\\\":null,\\\"sdk_packages\\\":null,\\\"enable_onnx_compatible_models\\\":false,\\\"enable_split_onnx_featurizer_estimator_models\\\":false,\\\"vm_type\\\":\\\"STANDARD_D2_V2\\\",\\\"telemetry_verbosity\\\":20,\\\"send_telemetry\\\":true,\\\"enable_dnn\\\":false,\\\"scenario\\\":\\\"SDK-1.13.0\\\",\\\"environment_label\\\":null,\\\"force_text_dnn\\\":false,\\\"enable_feature_sweeping\\\":true,\\\"enable_early_stopping\\\":true,\\\"early_stopping_n_iters\\\":10,\\\"metrics\\\":null,\\\"enable_ensembling\\\":true,\\\"enable_stack_ensembling\\\":true,\\\"ensemble_iterations\\\":15,\\\"enable_tf\\\":false,\\\"enable_subsampling\\\":null,\\\"subsample_seed\\\":null,\\\"enable_nimbusml\\\":false,\\\"enable_streaming\\\":false,\\\"force_streaming\\\":false,\\\"track_child_runs\\\":true,\\\"allowed_private_models\\\":[],\\\"label_column_name\\\":\\\"DEATH_EVENT\\\",\\\"weight_column_name\\\":null,\\\"cv_split_column_names\\\":null,\\\"enable_local_managed\\\":false,\\\"_local_managed_run_id\\\":null,\\\"cost_mode\\\":1,\\\"lag_length\\\":0,\\\"metric_operation\\\":\\\"maximize\\\",\\\"preprocess\\\":true}\", \"DataPrepJsonString\": \"{\\\\\\\"training_data\\\\\\\": \\\\\\\"{\\\\\\\\\\\\\\\"blocks\\\\\\\\\\\\\\\": [{\\\\\\\\\\\\\\\"id\\\\\\\\\\\\\\\": \\\\\\\\\\\\\\\"bf2dd54a-68a4-4e98-a14c-c3bf553a908b\\\\\\\\\\\\\\\", \\\\\\\\\\\\\\\"type\\\\\\\\\\\\\\\": \\\\\\\\\\\\\\\"Microsoft.DPrep.GetDatastoreFilesBlock\\\\\\\\\\\\\\\", \\\\\\\\\\\\\\\"arguments\\\\\\\\\\\\\\\": {\\\\\\\\\\\\\\\"datastores\\\\\\\\\\\\\\\": [{\\\\\\\\\\\\\\\"datastoreName\\\\\\\\\\\\\\\": \\\\\\\\\\\\\\\"workspaceblobstore\\\\\\\\\\\\\\\", \\\\\\\\\\\\\\\"path\\\\\\\\\\\\\\\": \\\\\\\\\\\\\\\"UI/02-07-2021_110412_UTC/heart_failure_clinical_records_dataset[1].csv\\\\\\\\\\\\\\\", \\\\\\\\\\\\\\\"resourceGroup\\\\\\\\\\\\\\\": \\\\\\\\\\\\\\\"aml-quickstarts-137807\\\\\\\\\\\\\\\", \\\\\\\\\\\\\\\"subscription\\\\\\\\\\\\\\\": \\\\\\\\\\\\\\\"81cefad3-d2c9-4f77-a466-99a7f541c7bb\\\\\\\\\\\\\\\", \\\\\\\\\\\\\\\"workspaceName\\\\\\\\\\\\\\\": \\\\\\\\\\\\\\\"quick-starts-ws-137807\\\\\\\\\\\\\\\"}]}, \\\\\\\\\\\\\\\"localData\\\\\\\\\\\\\\\": {}, \\\\\\\\\\\\\\\"isEnabled\\\\\\\\\\\\\\\": true, \\\\\\\\\\\\\\\"name\\\\\\\\\\\\\\\": null, \\\\\\\\\\\\\\\"annotation\\\\\\\\\\\\\\\": null}, {\\\\\\\\\\\\\\\"id\\\\\\\\\\\\\\\": \\\\\\\\\\\\\\\"3d552949-7548-4e88-89d2-10a8fe710cc6\\\\\\\\\\\\\\\", \\\\\\\\\\\\\\\"type\\\\\\\\\\\\\\\": \\\\\\\\\\\\\\\"Microsoft.DPrep.ParseDelimitedBlock\\\\\\\\\\\\\\\", \\\\\\\\\\\\\\\"arguments\\\\\\\\\\\\\\\": {\\\\\\\\\\\\\\\"columnHeadersMode\\\\\\\\\\\\\\\": 1, \\\\\\\\\\\\\\\"fileEncoding\\\\\\\\\\\\\\\": 0, \\\\\\\\\\\\\\\"handleQuotedLineBreaks\\\\\\\\\\\\\\\": false, \\\\\\\\\\\\\\\"preview\\\\\\\\\\\\\\\": false, \\\\\\\\\\\\\\\"separator\\\\\\\\\\\\\\\": \\\\\\\\\\\\\\\",\\\\\\\\\\\\\\\", \\\\\\\\\\\\\\\"skipRows\\\\\\\\\\\\\\\": 0, \\\\\\\\\\\\\\\"skipRowsMode\\\\\\\\\\\\\\\": 0}, \\\\\\\\\\\\\\\"localData\\\\\\\\\\\\\\\": {}, \\\\\\\\\\\\\\\"isEnabled\\\\\\\\\\\\\\\": true, \\\\\\\\\\\\\\\"name\\\\\\\\\\\\\\\": null, \\\\\\\\\\\\\\\"annotation\\\\\\\\\\\\\\\": null}, {\\\\\\\\\\\\\\\"id\\\\\\\\\\\\\\\": \\\\\\\\\\\\\\\"e78cf37a-5518-4527-b43e-619ee0c599a4\\\\\\\\\\\\\\\", \\\\\\\\\\\\\\\"type\\\\\\\\\\\\\\\": \\\\\\\\\\\\\\\"Microsoft.DPrep.DropColumnsBlock\\\\\\\\\\\\\\\", \\\\\\\\\\\\\\\"arguments\\\\\\\\\\\\\\\": {\\\\\\\\\\\\\\\"columns\\\\\\\\\\\\\\\": {\\\\\\\\\\\\\\\"type\\\\\\\\\\\\\\\": 0, \\\\\\\\\\\\\\\"details\\\\\\\\\\\\\\\": {\\\\\\\\\\\\\\\"selectedColumns\\\\\\\\\\\\\\\": [\\\\\\\\\\\\\\\"Path\\\\\\\\\\\\\\\"]}}}, \\\\\\\\\\\\\\\"localData\\\\\\\\\\\\\\\": {}, \\\\\\\\\\\\\\\"isEnabled\\\\\\\\\\\\\\\": true, \\\\\\\\\\\\\\\"name\\\\\\\\\\\\\\\": null, \\\\\\\\\\\\\\\"annotation\\\\\\\\\\\\\\\": null}, {\\\\\\\\\\\\\\\"id\\\\\\\\\\\\\\\": \\\\\\\\\\\\\\\"0e0378a1-6744-4857-a3ed-eae6b4395d2f\\\\\\\\\\\\\\\", \\\\\\\\\\\\\\\"type\\\\\\\\\\\\\\\": \\\\\\\\\\\\\\\"Microsoft.DPrep.SetColumnTypesBlock\\\\\\\\\\\\\\\", \\\\\\\\\\\\\\\"arguments\\\\\\\\\\\\\\\": {\\\\\\\\\\\\\\\"columnConversion\\\\\\\\\\\\\\\": [{\\\\\\\\\\\\\\\"column\\\\\\\\\\\\\\\": {\\\\\\\\\\\\\\\"type\\\\\\\\\\\\\\\": 2, \\\\\\\\\\\\\\\"details\\\\\\\\\\\\\\\": {\\\\\\\\\\\\\\\"selectedColumn\\\\\\\\\\\\\\\": \\\\\\\\\\\\\\\"Path\\\\\\\\\\\\\\\"}}, \\\\\\\\\\\\\\\"typeProperty\\\\\\\\\\\\\\\": 0}, {\\\\\\\\\\\\\\\"column\\\\\\\\\\\\\\\": {\\\\\\\\\\\\\\\"type\\\\\\\\\\\\\\\": 2, \\\\\\\\\\\\\\\"details\\\\\\\\\\\\\\\": {\\\\\\\\\\\\\\\"selectedColumn\\\\\\\\\\\\\\\": \\\\\\\\\\\\\\\"age\\\\\\\\\\\\\\\"}}, \\\\\\\\\\\\\\\"typeProperty\\\\\\\\\\\\\\\": 3}, {\\\\\\\\\\\\\\\"column\\\\\\\\\\\\\\\": {\\\\\\\\\\\\\\\"type\\\\\\\\\\\\\\\": 2, \\\\\\\\\\\\\\\"details\\\\\\\\\\\\\\\": {\\\\\\\\\\\\\\\"selectedColumn\\\\\\\\\\\\\\\": \\\\\\\\\\\\\\\"anaemia\\\\\\\\\\\\\\\"}}, \\\\\\\\\\\\\\\"typeProperty\\\\\\\\\\\\\\\": 2}, {\\\\\\\\\\\\\\\"column\\\\\\\\\\\\\\\": {\\\\\\\\\\\\\\\"type\\\\\\\\\\\\\\\": 2, \\\\\\\\\\\\\\\"details\\\\\\\\\\\\\\\": {\\\\\\\\\\\\\\\"selectedColumn\\\\\\\\\\\\\\\": \\\\\\\\\\\\\\\"creatinine_phosphokinase\\\\\\\\\\\\\\\"}}, \\\\\\\\\\\\\\\"typeProperty\\\\\\\\\\\\\\\": 2}, {\\\\\\\\\\\\\\\"column\\\\\\\\\\\\\\\": {\\\\\\\\\\\\\\\"type\\\\\\\\\\\\\\\": 2, \\\\\\\\\\\\\\\"details\\\\\\\\\\\\\\\": {\\\\\\\\\\\\\\\"selectedColumn\\\\\\\\\\\\\\\": \\\\\\\\\\\\\\\"diabetes\\\\\\\\\\\\\\\"}}, \\\\\\\\\\\\\\\"typeProperty\\\\\\\\\\\\\\\": 2}, {\\\\\\\\\\\\\\\"column\\\\\\\\\\\\\\\": {\\\\\\\\\\\\\\\"type\\\\\\\\\\\\\\\": 2, \\\\\\\\\\\\\\\"details\\\\\\\\\\\\\\\": {\\\\\\\\\\\\\\\"selectedColumn\\\\\\\\\\\\\\\": \\\\\\\\\\\\\\\"ejection_fraction\\\\\\\\\\\\\\\"}}, \\\\\\\\\\\\\\\"typeProperty\\\\\\\\\\\\\\\": 2}, {\\\\\\\\\\\\\\\"column\\\\\\\\\\\\\\\": {\\\\\\\\\\\\\\\"type\\\\\\\\\\\\\\\": 2, \\\\\\\\\\\\\\\"details\\\\\\\\\\\\\\\": {\\\\\\\\\\\\\\\"selectedColumn\\\\\\\\\\\\\\\": \\\\\\\\\\\\\\\"high_blood_pressure\\\\\\\\\\\\\\\"}}, \\\\\\\\\\\\\\\"typeProperty\\\\\\\\\\\\\\\": 2}, {\\\\\\\\\\\\\\\"column\\\\\\\\\\\\\\\": {\\\\\\\\\\\\\\\"type\\\\\\\\\\\\\\\": 2, \\\\\\\\\\\\\\\"details\\\\\\\\\\\\\\\": {\\\\\\\\\\\\\\\"selectedColumn\\\\\\\\\\\\\\\": \\\\\\\\\\\\\\\"platelets\\\\\\\\\\\\\\\"}}, \\\\\\\\\\\\\\\"typeProperty\\\\\\\\\\\\\\\": 3}, {\\\\\\\\\\\\\\\"column\\\\\\\\\\\\\\\": {\\\\\\\\\\\\\\\"type\\\\\\\\\\\\\\\": 2, \\\\\\\\\\\\\\\"details\\\\\\\\\\\\\\\": {\\\\\\\\\\\\\\\"selectedColumn\\\\\\\\\\\\\\\": \\\\\\\\\\\\\\\"serum_creatinine\\\\\\\\\\\\\\\"}}, \\\\\\\\\\\\\\\"typeProperty\\\\\\\\\\\\\\\": 3}, {\\\\\\\\\\\\\\\"column\\\\\\\\\\\\\\\": {\\\\\\\\\\\\\\\"type\\\\\\\\\\\\\\\": 2, \\\\\\\\\\\\\\\"details\\\\\\\\\\\\\\\": {\\\\\\\\\\\\\\\"selectedColumn\\\\\\\\\\\\\\\": \\\\\\\\\\\\\\\"serum_sodium\\\\\\\\\\\\\\\"}}, \\\\\\\\\\\\\\\"typeProperty\\\\\\\\\\\\\\\": 2}, {\\\\\\\\\\\\\\\"column\\\\\\\\\\\\\\\": {\\\\\\\\\\\\\\\"type\\\\\\\\\\\\\\\": 2, \\\\\\\\\\\\\\\"details\\\\\\\\\\\\\\\": {\\\\\\\\\\\\\\\"selectedColumn\\\\\\\\\\\\\\\": \\\\\\\\\\\\\\\"sex\\\\\\\\\\\\\\\"}}, \\\\\\\\\\\\\\\"typeProperty\\\\\\\\\\\\\\\": 2}, {\\\\\\\\\\\\\\\"column\\\\\\\\\\\\\\\": {\\\\\\\\\\\\\\\"type\\\\\\\\\\\\\\\": 2, \\\\\\\\\\\\\\\"details\\\\\\\\\\\\\\\": {\\\\\\\\\\\\\\\"selectedColumn\\\\\\\\\\\\\\\": \\\\\\\\\\\\\\\"smoking\\\\\\\\\\\\\\\"}}, \\\\\\\\\\\\\\\"typeProperty\\\\\\\\\\\\\\\": 2}, {\\\\\\\\\\\\\\\"column\\\\\\\\\\\\\\\": {\\\\\\\\\\\\\\\"type\\\\\\\\\\\\\\\": 2, \\\\\\\\\\\\\\\"details\\\\\\\\\\\\\\\": {\\\\\\\\\\\\\\\"selectedColumn\\\\\\\\\\\\\\\": \\\\\\\\\\\\\\\"time\\\\\\\\\\\\\\\"}}, \\\\\\\\\\\\\\\"typeProperty\\\\\\\\\\\\\\\": 2}, {\\\\\\\\\\\\\\\"column\\\\\\\\\\\\\\\": {\\\\\\\\\\\\\\\"type\\\\\\\\\\\\\\\": 2, \\\\\\\\\\\\\\\"details\\\\\\\\\\\\\\\": {\\\\\\\\\\\\\\\"selectedColumn\\\\\\\\\\\\\\\": \\\\\\\\\\\\\\\"DEATH_EVENT\\\\\\\\\\\\\\\"}}, \\\\\\\\\\\\\\\"typeProperty\\\\\\\\\\\\\\\": 2}]}, \\\\\\\\\\\\\\\"localData\\\\\\\\\\\\\\\": {}, \\\\\\\\\\\\\\\"isEnabled\\\\\\\\\\\\\\\": true, \\\\\\\\\\\\\\\"name\\\\\\\\\\\\\\\": null, \\\\\\\\\\\\\\\"annotation\\\\\\\\\\\\\\\": null}], \\\\\\\\\\\\\\\"inspectors\\\\\\\\\\\\\\\": [], \\\\\\\\\\\\\\\"meta\\\\\\\\\\\\\\\": {\\\\\\\\\\\\\\\"savedDatasetId\\\\\\\\\\\\\\\": \\\\\\\\\\\\\\\"1b5f6249-d638-4a4b-a551-017023141f7c\\\\\\\\\\\\\\\", \\\\\\\\\\\\\\\"datasetType\\\\\\\\\\\\\\\": \\\\\\\\\\\\\\\"tabular\\\\\\\\\\\\\\\", \\\\\\\\\\\\\\\"subscriptionId\\\\\\\\\\\\\\\": \\\\\\\\\\\\\\\"81cefad3-d2c9-4f77-a466-99a7f541c7bb\\\\\\\\\\\\\\\", \\\\\\\\\\\\\\\"workspaceId\\\\\\\\\\\\\\\": \\\\\\\\\\\\\\\"feec5c5a-08b4-49cd-9ffc-decb26c7db8a\\\\\\\\\\\\\\\", \\\\\\\\\\\\\\\"workspaceLocation\\\\\\\\\\\\\\\": \\\\\\\\\\\\\\\"southcentralus\\\\\\\\\\\\\\\"}}\\\\\\\", \\\\\\\"activities\\\\\\\": 0}\", \"EnableSubsampling\": null, \"runTemplate\": \"AutoML\", \"azureml.runsource\": \"automl\", \"display_task_type\": \"classification\", \"dependencies_versions\": \"{\\\"azureml-widgets\\\": \\\"1.20.0\\\", \\\"azureml-train\\\": \\\"1.20.0\\\", \\\"azureml-train-restclients-hyperdrive\\\": \\\"1.20.0\\\", \\\"azureml-train-core\\\": \\\"1.20.0\\\", \\\"azureml-train-automl\\\": \\\"1.20.0\\\", \\\"azureml-train-automl-runtime\\\": \\\"1.20.0\\\", \\\"azureml-train-automl-client\\\": \\\"1.20.0\\\", \\\"azureml-tensorboard\\\": \\\"1.20.0\\\", \\\"azureml-telemetry\\\": \\\"1.20.0\\\", \\\"azureml-sdk\\\": \\\"1.20.0\\\", \\\"azureml-samples\\\": \\\"0+unknown\\\", \\\"azureml-pipeline\\\": \\\"1.20.0\\\", \\\"azureml-pipeline-steps\\\": \\\"1.20.0\\\", \\\"azureml-pipeline-core\\\": \\\"1.20.0\\\", \\\"azureml-opendatasets\\\": \\\"1.20.0\\\", \\\"azureml-model-management-sdk\\\": \\\"1.0.1b6.post1\\\", \\\"azureml-mlflow\\\": \\\"1.20.0.post1\\\", \\\"azureml-interpret\\\": \\\"1.20.0\\\", \\\"azureml-explain-model\\\": \\\"1.20.0\\\", \\\"azureml-defaults\\\": \\\"1.20.0\\\", \\\"azureml-dataset-runtime\\\": \\\"1.20.0\\\", \\\"azureml-dataprep\\\": \\\"2.7.3\\\", \\\"azureml-dataprep-rslex\\\": \\\"1.5.0\\\", \\\"azureml-dataprep-native\\\": \\\"27.0.0\\\", \\\"azureml-datadrift\\\": \\\"1.20.0\\\", \\\"azureml-core\\\": \\\"1.20.0\\\", \\\"azureml-contrib-services\\\": \\\"1.20.0\\\", \\\"azureml-contrib-server\\\": \\\"1.20.0\\\", \\\"azureml-contrib-reinforcementlearning\\\": \\\"1.20.0\\\", \\\"azureml-contrib-pipeline-steps\\\": \\\"1.20.0\\\", \\\"azureml-contrib-notebook\\\": \\\"1.20.0\\\", \\\"azureml-contrib-interpret\\\": \\\"1.20.0\\\", \\\"azureml-contrib-gbdt\\\": \\\"1.20.0\\\", \\\"azureml-contrib-fairness\\\": \\\"1.20.0\\\", \\\"azureml-contrib-dataset\\\": \\\"1.20.0\\\", \\\"azureml-cli-common\\\": \\\"1.20.0\\\", \\\"azureml-automl-runtime\\\": \\\"1.20.0\\\", \\\"azureml-automl-core\\\": \\\"1.20.0\\\", \\\"azureml-accel-models\\\": \\\"1.20.0\\\"}\", \"_aml_system_scenario_identification\": \"Remote.Parent\", \"ClientType\": \"SDK\", \"environment_cpu_name\": \"AzureML-AutoML\", \"environment_cpu_label\": \"prod\", \"environment_gpu_name\": \"AzureML-AutoML-GPU\", \"environment_gpu_label\": \"prod\", \"root_attribution\": \"automl\", \"attribution\": \"AutoML\", \"Orchestrator\": \"AutoML\", \"CancelUri\": \"https://southcentralus.experiments.azureml.net/jasmine/v1.0/subscriptions/81cefad3-d2c9-4f77-a466-99a7f541c7bb/resourceGroups/aml-quickstarts-137807/providers/Microsoft.MachineLearningServices/workspaces/quick-starts-ws-137807/experimentids/a6bf65e5-213b-4e29-8834-2268ba22d5e9/cancel/AutoML_64549a3f-4f93-4138-801f-5a1c3da07036\", \"ClientSdkVersion\": \"1.21.0\", \"snapshotId\": \"00000000-0000-0000-0000-000000000000\", \"SetupRunId\": \"AutoML_64549a3f-4f93-4138-801f-5a1c3da07036_setup\", \"SetupRunContainerId\": \"dcid.AutoML_64549a3f-4f93-4138-801f-5a1c3da07036_setup\", \"FeaturizationRunJsonPath\": \"featurizer_container.json\", \"FeaturizationRunId\": \"AutoML_64549a3f-4f93-4138-801f-5a1c3da07036_featurize\", \"ProblemInfoJsonString\": \"{\\\"dataset_num_categorical\\\": 0, \\\"is_sparse\\\": false, \\\"subsampling\\\": false, \\\"dataset_classes\\\": 2, \\\"dataset_features\\\": 12, \\\"dataset_samples\\\": 299, \\\"single_frequency_class_detected\\\": false}\", \"ModelExplainRunId\": \"AutoML_64549a3f-4f93-4138-801f-5a1c3da07036_ModelExplain\"}, \"tags\": {\"model_explain_run\": \"best_run\", \"_aml_system_azureml.automlComponent\": \"AutoML\", \"pipeline_id\": \"\", \"score\": \"\", \"predicted_cost\": \"\", \"fit_time\": \"\", \"training_percent\": \"\", \"iteration\": \"\", \"run_preprocessor\": \"\", \"run_algorithm\": \"\", \"dynamic_whitelisting_iterations\": \"<25>;<30>;<35>;\", \"automl_best_child_run_id\": \"AutoML_64549a3f-4f93-4138-801f-5a1c3da07036_39\", \"model_explain_best_run_child_id\": \"AutoML_64549a3f-4f93-4138-801f-5a1c3da07036_39\"}, \"end_time_utc\": \"2021-02-07T12:34:59.307735Z\", \"status\": \"Completed\", \"log_files\": {}, \"log_groups\": [], \"run_duration\": \"0:19:06\"}, \"child_runs\": [{\"run_id\": \"AutoML_64549a3f-4f93-4138-801f-5a1c3da07036_0\", \"run_number\": 39, \"metric\": null, \"status\": \"Completed\", \"run_type\": \"azureml.scriptrun\", \"training_percent\": \"100\", \"start_time\": \"2021-02-07T12:18:48.305255Z\", \"end_time\": \"2021-02-07T12:19:42.562763Z\", \"created_time\": \"2021-02-07T12:18:35.312199Z\", \"created_time_dt\": \"2021-02-07T12:18:35.312199Z\", \"duration\": \"0:01:07\", \"iteration\": \"0\", \"goal\": \"accuracy_max\", \"run_name\": \"MaxAbsScaler, LightGBM\", \"run_properties\": \"copy=True\", \"primary_metric\": 0.80252525, \"best_metric\": 0.80252525}, {\"run_id\": \"AutoML_64549a3f-4f93-4138-801f-5a1c3da07036_1\", \"run_number\": 40, \"metric\": null, \"status\": \"Completed\", \"run_type\": \"azureml.scriptrun\", \"training_percent\": \"100\", \"start_time\": \"2021-02-07T12:21:32.908849Z\", \"end_time\": \"2021-02-07T12:22:23.814484Z\", \"created_time\": \"2021-02-07T12:18:35.316486Z\", \"created_time_dt\": \"2021-02-07T12:18:35.316486Z\", \"duration\": \"0:03:48\", \"iteration\": \"1\", \"goal\": \"accuracy_max\", \"run_name\": \"MaxAbsScaler, XGBoostClassifier\", \"run_properties\": \"copy=True\", \"primary_metric\": 0.81929293, \"best_metric\": 0.81929293}, {\"run_id\": \"AutoML_64549a3f-4f93-4138-801f-5a1c3da07036_2\", \"run_number\": 41, \"metric\": null, \"status\": \"Completed\", \"run_type\": \"azureml.scriptrun\", \"training_percent\": \"100\", \"start_time\": \"2021-02-07T12:20:40.392858Z\", \"end_time\": \"2021-02-07T12:21:32.889495Z\", \"created_time\": \"2021-02-07T12:18:35.440157Z\", \"created_time_dt\": \"2021-02-07T12:18:35.440157Z\", \"duration\": \"0:02:57\", \"iteration\": \"2\", \"goal\": \"accuracy_max\", \"run_name\": \"MinMaxScaler, RandomForest\", \"run_properties\": \"copy=True, feature_range=(0, 1\", \"primary_metric\": 0.81936027, \"best_metric\": 0.81936027}, {\"run_id\": \"AutoML_64549a3f-4f93-4138-801f-5a1c3da07036_3\", \"run_number\": 42, \"metric\": null, \"status\": \"Completed\", \"run_type\": \"azureml.scriptrun\", \"training_percent\": \"100\", \"start_time\": \"2021-02-07T12:19:44.210394Z\", \"end_time\": \"2021-02-07T12:20:36.593954Z\", \"created_time\": \"2021-02-07T12:18:35.444688Z\", \"created_time_dt\": \"2021-02-07T12:18:35.444688Z\", \"duration\": \"0:02:01\", \"iteration\": \"3\", \"goal\": \"accuracy_max\", \"run_name\": \"MinMaxScaler, RandomForest\", \"run_properties\": \"copy=True, feature_range=(0, 1\", \"primary_metric\": 0.82929293, \"best_metric\": 0.82929293}, {\"run_id\": \"AutoML_64549a3f-4f93-4138-801f-5a1c3da07036_4\", \"run_number\": 43, \"metric\": null, \"status\": \"Completed\", \"run_type\": \"azureml.scriptrun\", \"training_percent\": \"100\", \"start_time\": \"2021-02-07T12:22:06.192598Z\", \"end_time\": \"2021-02-07T12:25:34.621019Z\", \"created_time\": \"2021-02-07T12:19:44.413237Z\", \"created_time_dt\": \"2021-02-07T12:19:44.413237Z\", \"duration\": \"0:05:50\", \"iteration\": \"4\", \"goal\": \"accuracy_max\", \"run_name\": \"MinMaxScaler, RandomForest\", \"run_properties\": \"copy=True, feature_range=(0, 1\", \"primary_metric\": 0.82939394, \"best_metric\": 0.82939394}, {\"run_id\": \"AutoML_64549a3f-4f93-4138-801f-5a1c3da07036_5\", \"run_number\": 44, \"metric\": null, \"status\": \"Completed\", \"run_type\": \"azureml.scriptrun\", \"training_percent\": \"100\", \"start_time\": \"2021-02-07T12:22:08.888263Z\", \"end_time\": \"2021-02-07T12:25:29.685179Z\", \"created_time\": \"2021-02-07T12:20:39.860543Z\", \"created_time_dt\": \"2021-02-07T12:20:39.860543Z\", \"duration\": \"0:04:49\", \"iteration\": \"5\", \"goal\": \"accuracy_max\", \"run_name\": \"SparseNormalizer, XGBoostClassifier\", \"run_properties\": \"<azureml.automl.runtime.shared.model_wrappers.SparseNormalizer object at 0x7f6c023337f0\", \"primary_metric\": 0.7993266, \"best_metric\": 0.82939394}, {\"run_id\": \"AutoML_64549a3f-4f93-4138-801f-5a1c3da07036_6\", \"run_number\": 45, \"metric\": null, \"status\": \"Completed\", \"run_type\": \"azureml.scriptrun\", \"training_percent\": \"100\", \"start_time\": \"2021-02-07T12:22:12.704855Z\", \"end_time\": \"2021-02-07T12:25:44.528134Z\", \"created_time\": \"2021-02-07T12:21:35.794317Z\", \"created_time_dt\": \"2021-02-07T12:21:35.794317Z\", \"duration\": \"0:04:08\", \"iteration\": \"6\", \"goal\": \"accuracy_max\", \"run_name\": \"MinMaxScaler, SVM\", \"run_properties\": \"copy=True, feature_range=(0, 1\", \"primary_metric\": 0.71902357, \"best_metric\": 0.82939394}, {\"run_id\": \"AutoML_64549a3f-4f93-4138-801f-5a1c3da07036_7\", \"run_number\": 46, \"metric\": null, \"status\": \"Completed\", \"run_type\": \"azureml.scriptrun\", \"training_percent\": \"100\", \"start_time\": \"2021-02-07T12:22:39.985857Z\", \"end_time\": \"2021-02-07T12:23:27.720461Z\", \"created_time\": \"2021-02-07T12:22:26.324028Z\", \"created_time_dt\": \"2021-02-07T12:22:26.324028Z\", \"duration\": \"0:01:01\", \"iteration\": \"7\", \"goal\": \"accuracy_max\", \"run_name\": \"MinMaxScaler, SVM\", \"run_properties\": \"copy=True, feature_range=(0, 1\", \"primary_metric\": 0.70569024, \"best_metric\": 0.82939394}, {\"run_id\": \"AutoML_64549a3f-4f93-4138-801f-5a1c3da07036_8\", \"run_number\": 47, \"metric\": null, \"status\": \"Completed\", \"run_type\": \"azureml.scriptrun\", \"training_percent\": \"100\", \"start_time\": \"2021-02-07T12:23:40.970988Z\", \"end_time\": \"2021-02-07T12:24:35.578791Z\", \"created_time\": \"2021-02-07T12:23:30.316306Z\", \"created_time_dt\": \"2021-02-07T12:23:30.316306Z\", \"duration\": \"0:01:05\", \"iteration\": \"8\", \"goal\": \"accuracy_max\", \"run_name\": \"MaxAbsScaler, GradientBoosting\", \"run_properties\": \"copy=True\", \"primary_metric\": 0.8226936, \"best_metric\": 0.82939394}, {\"run_id\": \"AutoML_64549a3f-4f93-4138-801f-5a1c3da07036_9\", \"run_number\": 48, \"metric\": null, \"status\": \"Completed\", \"run_type\": \"azureml.scriptrun\", \"training_percent\": \"100\", \"start_time\": \"2021-02-07T12:24:54.838089Z\", \"end_time\": \"2021-02-07T12:25:44.340439Z\", \"created_time\": \"2021-02-07T12:24:38.555596Z\", \"created_time_dt\": \"2021-02-07T12:24:38.555596Z\", \"duration\": \"0:01:05\", \"iteration\": \"9\", \"goal\": \"accuracy_max\", \"run_name\": \"SparseNormalizer, XGBoostClassifier\", \"run_properties\": \"<azureml.automl.runtime.shared.model_wrappers.SparseNormalizer object at 0x7f3305a93a58\", \"primary_metric\": 0.82939394, \"best_metric\": 0.82939394}, {\"run_id\": \"AutoML_64549a3f-4f93-4138-801f-5a1c3da07036_10\", \"run_number\": 49, \"metric\": null, \"status\": \"Completed\", \"run_type\": \"azureml.scriptrun\", \"training_percent\": \"100\", \"start_time\": \"2021-02-07T12:25:45.702453Z\", \"end_time\": \"2021-02-07T12:26:38.80454Z\", \"created_time\": \"2021-02-07T12:25:31.689457Z\", \"created_time_dt\": \"2021-02-07T12:25:31.689457Z\", \"duration\": \"0:01:07\", \"iteration\": \"10\", \"goal\": \"accuracy_max\", \"run_name\": \"MinMaxScaler, LightGBM\", \"run_properties\": \"copy=True, feature_range=(0, 1\", \"primary_metric\": 0.80929293, \"best_metric\": 0.82939394}, {\"run_id\": \"AutoML_64549a3f-4f93-4138-801f-5a1c3da07036_11\", \"run_number\": 50, \"metric\": null, \"status\": \"Completed\", \"run_type\": \"azureml.scriptrun\", \"training_percent\": \"100\", \"start_time\": \"2021-02-07T12:25:48.295477Z\", \"end_time\": \"2021-02-07T12:26:35.02582Z\", \"created_time\": \"2021-02-07T12:25:36.443729Z\", \"created_time_dt\": \"2021-02-07T12:25:36.443729Z\", \"duration\": \"0:00:58\", \"iteration\": \"11\", \"goal\": \"accuracy_max\", \"run_name\": \"SparseNormalizer, XGBoostClassifier\", \"run_properties\": \"<azureml.automl.runtime.shared.model_wrappers.SparseNormalizer object at 0x7fa1ccf91e80\", \"primary_metric\": 0.80265993, \"best_metric\": 0.82939394}, {\"run_id\": \"AutoML_64549a3f-4f93-4138-801f-5a1c3da07036_13\", \"run_number\": 51, \"metric\": null, \"status\": \"Completed\", \"run_type\": \"azureml.scriptrun\", \"training_percent\": \"100\", \"start_time\": \"2021-02-07T12:25:58.020091Z\", \"end_time\": \"2021-02-07T12:26:44.484576Z\", \"created_time\": \"2021-02-07T12:25:46.10758Z\", \"created_time_dt\": \"2021-02-07T12:25:46.10758Z\", \"duration\": \"0:00:58\", \"iteration\": \"13\", \"goal\": \"accuracy_max\", \"run_name\": \"MaxAbsScaler, LightGBM\", \"run_properties\": \"copy=True\", \"primary_metric\": 0.80259259, \"best_metric\": 0.83272727}, {\"run_id\": \"AutoML_64549a3f-4f93-4138-801f-5a1c3da07036_12\", \"run_number\": 52, \"metric\": null, \"status\": \"Completed\", \"run_type\": \"azureml.scriptrun\", \"training_percent\": \"100\", \"start_time\": \"2021-02-07T12:25:58.913115Z\", \"end_time\": \"2021-02-07T12:26:54.502254Z\", \"created_time\": \"2021-02-07T12:25:46.10965Z\", \"created_time_dt\": \"2021-02-07T12:25:46.10965Z\", \"duration\": \"0:01:08\", \"iteration\": \"12\", \"goal\": \"accuracy_max\", \"run_name\": \"RobustScaler, ExtremeRandomTrees\", \"run_properties\": \"copy=True, quantile_range=[25, 75], with_centering=True,\\n             with_scaling=False\", \"primary_metric\": 0.83272727, \"best_metric\": 0.83272727}, {\"run_id\": \"AutoML_64549a3f-4f93-4138-801f-5a1c3da07036_14\", \"run_number\": 53, \"metric\": null, \"status\": \"Completed\", \"run_type\": \"azureml.scriptrun\", \"training_percent\": \"100\", \"start_time\": \"2021-02-07T12:26:47.587055Z\", \"end_time\": \"2021-02-07T12:27:32.59498Z\", \"created_time\": \"2021-02-07T12:26:37.115267Z\", \"created_time_dt\": \"2021-02-07T12:26:37.115267Z\", \"duration\": \"0:00:55\", \"iteration\": \"14\", \"goal\": \"accuracy_max\", \"run_name\": \"StandardScalerWrapper, GradientBoosting\", \"run_properties\": \"<azureml.automl.runtime.shared.model_wrappers.StandardScalerWrapper object at 0x7f2310567da0\", \"primary_metric\": 0.82939394, \"best_metric\": 0.83272727}, {\"run_id\": \"AutoML_64549a3f-4f93-4138-801f-5a1c3da07036_15\", \"run_number\": 54, \"metric\": null, \"status\": \"Completed\", \"run_type\": \"azureml.scriptrun\", \"training_percent\": \"100\", \"start_time\": \"2021-02-07T12:26:51.193593Z\", \"end_time\": \"2021-02-07T12:27:37.263232Z\", \"created_time\": \"2021-02-07T12:26:40.609424Z\", \"created_time_dt\": \"2021-02-07T12:26:40.609424Z\", \"duration\": \"0:00:56\", \"iteration\": \"15\", \"goal\": \"accuracy_max\", \"run_name\": \"StandardScalerWrapper, XGBoostClassifier\", \"run_properties\": \"<azureml.automl.runtime.shared.model_wrappers.StandardScalerWrapper object at 0x7fcdfdd3b668\", \"primary_metric\": 0.83939394, \"best_metric\": 0.83939394}, {\"run_id\": \"AutoML_64549a3f-4f93-4138-801f-5a1c3da07036_16\", \"run_number\": 55, \"metric\": null, \"status\": \"Completed\", \"run_type\": \"azureml.scriptrun\", \"training_percent\": \"100\", \"start_time\": \"2021-02-07T12:26:59.493888Z\", \"end_time\": \"2021-02-07T12:27:48.611125Z\", \"created_time\": \"2021-02-07T12:26:46.611072Z\", \"created_time_dt\": \"2021-02-07T12:26:46.611072Z\", \"duration\": \"0:01:02\", \"iteration\": \"16\", \"goal\": \"accuracy_max\", \"run_name\": \"SparseNormalizer, XGBoostClassifier\", \"run_properties\": \"<azureml.automl.runtime.shared.model_wrappers.SparseNormalizer object at 0x7f7d9e862fd0\", \"primary_metric\": 0.7959596, \"best_metric\": 0.83939394}, {\"run_id\": \"AutoML_64549a3f-4f93-4138-801f-5a1c3da07036_17\", \"run_number\": 56, \"metric\": null, \"status\": \"Completed\", \"run_type\": \"azureml.scriptrun\", \"training_percent\": \"100\", \"start_time\": \"2021-02-07T12:27:09.373779Z\", \"end_time\": \"2021-02-07T12:27:55.691103Z\", \"created_time\": \"2021-02-07T12:26:56.209239Z\", \"created_time_dt\": \"2021-02-07T12:26:56.209239Z\", \"duration\": \"0:00:59\", \"iteration\": \"17\", \"goal\": \"accuracy_max\", \"run_name\": \"SparseNormalizer, XGBoostClassifier\", \"run_properties\": \"<azureml.automl.runtime.shared.model_wrappers.SparseNormalizer object at 0x7fdad72fcd30\", \"primary_metric\": 0.82939394, \"best_metric\": 0.83939394}, {\"run_id\": \"AutoML_64549a3f-4f93-4138-801f-5a1c3da07036_18\", \"run_number\": 57, \"metric\": null, \"status\": \"Completed\", \"run_type\": \"azureml.scriptrun\", \"training_percent\": \"100\", \"start_time\": \"2021-02-07T12:27:46.651965Z\", \"end_time\": \"2021-02-07T12:28:34.765161Z\", \"created_time\": \"2021-02-07T12:27:35.921803Z\", \"created_time_dt\": \"2021-02-07T12:27:35.921803Z\", \"duration\": \"0:00:58\", \"iteration\": \"18\", \"goal\": \"accuracy_max\", \"run_name\": \"MinMaxScaler, RandomForest\", \"run_properties\": \"copy=True, feature_range=(0, 1\", \"primary_metric\": 0.8326936, \"best_metric\": 0.83939394}, {\"run_id\": \"AutoML_64549a3f-4f93-4138-801f-5a1c3da07036_19\", \"run_number\": 58, \"metric\": null, \"status\": \"Completed\", \"run_type\": \"azureml.scriptrun\", \"training_percent\": \"100\", \"start_time\": \"2021-02-07T12:27:49.529185Z\", \"end_time\": \"2021-02-07T12:28:40.789115Z\", \"created_time\": \"2021-02-07T12:27:39.191209Z\", \"created_time_dt\": \"2021-02-07T12:27:39.191209Z\", \"duration\": \"0:01:01\", \"iteration\": \"19\", \"goal\": \"accuracy_max\", \"run_name\": \"RobustScaler, KNN\", \"run_properties\": \"copy=True, quantile_range=[10, 90], with_centering=False,\\n             with_scaling=False\", \"primary_metric\": 0.63538721, \"best_metric\": 0.83939394}, {\"run_id\": \"AutoML_64549a3f-4f93-4138-801f-5a1c3da07036_20\", \"run_number\": 59, \"metric\": null, \"status\": \"Completed\", \"run_type\": \"azureml.scriptrun\", \"training_percent\": \"100\", \"start_time\": \"2021-02-07T12:28:04.157495Z\", \"end_time\": \"2021-02-07T12:28:50.593541Z\", \"created_time\": \"2021-02-07T12:27:50.326193Z\", \"created_time_dt\": \"2021-02-07T12:27:50.326193Z\", \"duration\": \"0:01:00\", \"iteration\": \"20\", \"goal\": \"accuracy_max\", \"run_name\": \"RobustScaler, LightGBM\", \"run_properties\": \"copy=True, quantile_range=[10, 90], with_centering=False,\\n             with_scaling=False\", \"primary_metric\": 0.77939394, \"best_metric\": 0.83939394}, {\"run_id\": \"AutoML_64549a3f-4f93-4138-801f-5a1c3da07036_21\", \"run_number\": 60, \"metric\": null, \"status\": \"Completed\", \"run_type\": \"azureml.scriptrun\", \"training_percent\": \"100\", \"start_time\": \"2021-02-07T12:28:09.872067Z\", \"end_time\": \"2021-02-07T12:29:07.902202Z\", \"created_time\": \"2021-02-07T12:27:57.702655Z\", \"created_time_dt\": \"2021-02-07T12:27:57.702655Z\", \"duration\": \"0:01:10\", \"iteration\": \"21\", \"goal\": \"accuracy_max\", \"run_name\": \"StandardScalerWrapper, ExtremeRandomTrees\", \"run_properties\": \"<azureml.automl.runtime.shared.model_wrappers.StandardScalerWrapper object at 0x7f779bedd4e0\", \"primary_metric\": 0.73582492, \"best_metric\": 0.83939394}, {\"run_id\": \"AutoML_64549a3f-4f93-4138-801f-5a1c3da07036_22\", \"run_number\": 61, \"metric\": null, \"status\": \"Completed\", \"run_type\": \"azureml.scriptrun\", \"training_percent\": \"100\", \"start_time\": \"2021-02-07T12:28:46.857386Z\", \"end_time\": \"2021-02-07T12:29:31.697657Z\", \"created_time\": \"2021-02-07T12:28:36.490542Z\", \"created_time_dt\": \"2021-02-07T12:28:36.490542Z\", \"duration\": \"0:00:55\", \"iteration\": \"22\", \"goal\": \"accuracy_max\", \"run_name\": \"RobustScaler, RandomForest\", \"run_properties\": \"copy=True, quantile_range=[10, 90], with_centering=True,\\n             with_scaling=False\", \"primary_metric\": 0.84262626, \"best_metric\": 0.84262626}, {\"run_id\": \"AutoML_64549a3f-4f93-4138-801f-5a1c3da07036_23\", \"run_number\": 62, \"metric\": null, \"status\": \"Completed\", \"run_type\": \"azureml.scriptrun\", \"training_percent\": \"100\", \"start_time\": \"2021-02-07T12:28:54.514216Z\", \"end_time\": \"2021-02-07T12:29:51.94625Z\", \"created_time\": \"2021-02-07T12:28:42.615403Z\", \"created_time_dt\": \"2021-02-07T12:28:42.615403Z\", \"duration\": \"0:01:09\", \"iteration\": \"23\", \"goal\": \"accuracy_max\", \"run_name\": \"StandardScalerWrapper, XGBoostClassifier\", \"run_properties\": \"<azureml.automl.runtime.shared.model_wrappers.StandardScalerWrapper object at 0x7efe67581a20\", \"primary_metric\": 0.83936027, \"best_metric\": 0.84262626}, {\"run_id\": \"AutoML_64549a3f-4f93-4138-801f-5a1c3da07036_24\", \"run_number\": 63, \"metric\": null, \"status\": \"Completed\", \"run_type\": \"azureml.scriptrun\", \"training_percent\": \"100\", \"start_time\": \"2021-02-07T12:29:02.780814Z\", \"end_time\": \"2021-02-07T12:29:55.921303Z\", \"created_time\": \"2021-02-07T12:28:52.494928Z\", \"created_time_dt\": \"2021-02-07T12:28:52.494928Z\", \"duration\": \"0:01:03\", \"iteration\": \"24\", \"goal\": \"accuracy_max\", \"run_name\": \"StandardScalerWrapper, LightGBM\", \"run_properties\": \"<azureml.automl.runtime.shared.model_wrappers.StandardScalerWrapper object at 0x7f6425fdce80\", \"primary_metric\": 0.73902357, \"best_metric\": 0.84262626}, {\"run_id\": \"AutoML_64549a3f-4f93-4138-801f-5a1c3da07036_25\", \"run_number\": 64, \"metric\": null, \"status\": \"Completed\", \"run_type\": \"azureml.scriptrun\", \"training_percent\": \"100\", \"start_time\": \"2021-02-07T12:29:24.309872Z\", \"end_time\": \"2021-02-07T12:30:13.756064Z\", \"created_time\": \"2021-02-07T12:29:12.416958Z\", \"created_time_dt\": \"2021-02-07T12:29:12.416958Z\", \"duration\": \"0:01:01\", \"iteration\": \"25\", \"goal\": \"accuracy_max\", \"run_name\": \"SparseNormalizer, XGBoostClassifier\", \"run_properties\": \"<azureml.automl.runtime.shared.model_wrappers.SparseNormalizer object at 0x7fb80dd449e8\", \"primary_metric\": 0.81265993, \"best_metric\": 0.84262626}, {\"run_id\": \"AutoML_64549a3f-4f93-4138-801f-5a1c3da07036_26\", \"run_number\": 65, \"metric\": null, \"status\": \"Completed\", \"run_type\": \"azureml.scriptrun\", \"training_percent\": \"100\", \"start_time\": \"2021-02-07T12:29:44.259312Z\", \"end_time\": \"2021-02-07T12:30:36.518132Z\", \"created_time\": \"2021-02-07T12:29:33.68355Z\", \"created_time_dt\": \"2021-02-07T12:29:33.68355Z\", \"duration\": \"0:01:02\", \"iteration\": \"26\", \"goal\": \"accuracy_max\", \"run_name\": \"SparseNormalizer, ExtremeRandomTrees\", \"run_properties\": \"<azureml.automl.runtime.shared.model_wrappers.SparseNormalizer object at 0x7f8ac5f52518\", \"primary_metric\": 0.74572391, \"best_metric\": 0.84262626}, {\"run_id\": \"AutoML_64549a3f-4f93-4138-801f-5a1c3da07036_27\", \"run_number\": 66, \"metric\": null, \"status\": \"Completed\", \"run_type\": \"azureml.scriptrun\", \"training_percent\": \"100\", \"start_time\": \"2021-02-07T12:30:04.33098Z\", \"end_time\": \"2021-02-07T12:30:49.346624Z\", \"created_time\": \"2021-02-07T12:29:53.90596Z\", \"created_time_dt\": \"2021-02-07T12:29:53.90596Z\", \"duration\": \"0:00:55\", \"iteration\": \"27\", \"goal\": \"accuracy_max\", \"run_name\": \"MinMaxScaler, LightGBM\", \"run_properties\": \"copy=True, feature_range=(0, 1\", \"primary_metric\": 0.82936027, \"best_metric\": 0.84262626}, {\"run_id\": \"AutoML_64549a3f-4f93-4138-801f-5a1c3da07036_28\", \"run_number\": 67, \"metric\": null, \"status\": \"Completed\", \"run_type\": \"azureml.scriptrun\", \"training_percent\": \"100\", \"start_time\": \"2021-02-07T12:30:10.114596Z\", \"end_time\": \"2021-02-07T12:30:57.754397Z\", \"created_time\": \"2021-02-07T12:29:57.778867Z\", \"created_time_dt\": \"2021-02-07T12:29:57.778867Z\", \"duration\": \"0:00:59\", \"iteration\": \"28\", \"goal\": \"accuracy_max\", \"run_name\": \"StandardScalerWrapper, LightGBM\", \"run_properties\": \"<azureml.automl.runtime.shared.model_wrappers.StandardScalerWrapper object at 0x7fb2a9565fd0\", \"primary_metric\": 0.82265993, \"best_metric\": 0.84262626}, {\"run_id\": \"AutoML_64549a3f-4f93-4138-801f-5a1c3da07036_29\", \"run_number\": 68, \"metric\": null, \"status\": \"Completed\", \"run_type\": \"azureml.scriptrun\", \"training_percent\": \"100\", \"start_time\": \"2021-02-07T12:30:27.251067Z\", \"end_time\": \"2021-02-07T12:31:14.861276Z\", \"created_time\": \"2021-02-07T12:30:15.764304Z\", \"created_time_dt\": \"2021-02-07T12:30:15.764304Z\", \"duration\": \"0:00:59\", \"iteration\": \"29\", \"goal\": \"accuracy_max\", \"run_name\": \"StandardScalerWrapper, RandomForest\", \"run_properties\": \"<azureml.automl.runtime.shared.model_wrappers.StandardScalerWrapper object at 0x7f8fc7c36438\", \"primary_metric\": 0.82259259, \"best_metric\": 0.84262626}, {\"run_id\": \"AutoML_64549a3f-4f93-4138-801f-5a1c3da07036_30\", \"run_number\": 69, \"metric\": null, \"status\": \"Completed\", \"run_type\": \"azureml.scriptrun\", \"training_percent\": \"100\", \"start_time\": \"2021-02-07T12:30:53.93487Z\", \"end_time\": \"2021-02-07T12:31:47.606823Z\", \"created_time\": \"2021-02-07T12:30:39.414723Z\", \"created_time_dt\": \"2021-02-07T12:30:39.414723Z\", \"duration\": \"0:01:08\", \"iteration\": \"30\", \"goal\": \"accuracy_max\", \"run_name\": \"StandardScalerWrapper, RandomForest\", \"run_properties\": \"<azureml.automl.runtime.shared.model_wrappers.StandardScalerWrapper object at 0x7fe3bc49b550\", \"primary_metric\": 0.67902357, \"best_metric\": 0.84262626}, {\"run_id\": \"AutoML_64549a3f-4f93-4138-801f-5a1c3da07036_31\", \"run_number\": 70, \"metric\": null, \"status\": \"Completed\", \"run_type\": \"azureml.scriptrun\", \"training_percent\": \"100\", \"start_time\": \"2021-02-07T12:31:05.553791Z\", \"end_time\": \"2021-02-07T12:31:53.921497Z\", \"created_time\": \"2021-02-07T12:30:53.528312Z\", \"created_time_dt\": \"2021-02-07T12:30:53.528312Z\", \"duration\": \"0:01:00\", \"iteration\": \"31\", \"goal\": \"accuracy_max\", \"run_name\": \"StandardScalerWrapper, RandomForest\", \"run_properties\": \"<azureml.automl.runtime.shared.model_wrappers.StandardScalerWrapper object at 0x7f201b0be208\", \"primary_metric\": 0.8326936, \"best_metric\": 0.84262626}, {\"run_id\": \"AutoML_64549a3f-4f93-4138-801f-5a1c3da07036_32\", \"run_number\": 71, \"metric\": null, \"status\": \"Completed\", \"run_type\": \"azureml.scriptrun\", \"training_percent\": \"100\", \"start_time\": \"2021-02-07T12:31:10.640074Z\", \"end_time\": \"2021-02-07T12:32:10.134111Z\", \"created_time\": \"2021-02-07T12:30:59.669018Z\", \"created_time_dt\": \"2021-02-07T12:30:59.669018Z\", \"duration\": \"0:01:10\", \"iteration\": \"32\", \"goal\": \"accuracy_max\", \"run_name\": \"SparseNormalizer, RandomForest\", \"run_properties\": \"<azureml.automl.runtime.shared.model_wrappers.SparseNormalizer object at 0x7f8304fbf7f0\", \"primary_metric\": 0.79609428, \"best_metric\": 0.84262626}, {\"run_id\": \"AutoML_64549a3f-4f93-4138-801f-5a1c3da07036_33\", \"run_number\": 72, \"metric\": null, \"status\": \"Completed\", \"run_type\": \"azureml.scriptrun\", \"training_percent\": \"100\", \"start_time\": \"2021-02-07T12:31:30.501692Z\", \"end_time\": \"2021-02-07T12:32:18.200196Z\", \"created_time\": \"2021-02-07T12:31:16.694823Z\", \"created_time_dt\": \"2021-02-07T12:31:16.694823Z\", \"duration\": \"0:01:01\", \"iteration\": \"33\", \"goal\": \"accuracy_max\", \"run_name\": \"SparseNormalizer, XGBoostClassifier\", \"run_properties\": \"<azureml.automl.runtime.shared.model_wrappers.SparseNormalizer object at 0x7f1a663765c0\", \"primary_metric\": 0.77936027, \"best_metric\": 0.84262626}, {\"run_id\": \"AutoML_64549a3f-4f93-4138-801f-5a1c3da07036_34\", \"run_number\": 73, \"metric\": null, \"status\": \"Completed\", \"run_type\": \"azureml.scriptrun\", \"training_percent\": \"100\", \"start_time\": \"2021-02-07T12:32:05.637577Z\", \"end_time\": \"2021-02-07T12:32:55.122991Z\", \"created_time\": \"2021-02-07T12:31:50.510685Z\", \"created_time_dt\": \"2021-02-07T12:31:50.510685Z\", \"duration\": \"0:01:04\", \"iteration\": \"34\", \"goal\": \"accuracy_max\", \"run_name\": \"SparseNormalizer, XGBoostClassifier\", \"run_properties\": \"<azureml.automl.runtime.shared.model_wrappers.SparseNormalizer object at 0x7f4f584964e0\", \"primary_metric\": 0.80255892, \"best_metric\": 0.84262626}, {\"run_id\": \"AutoML_64549a3f-4f93-4138-801f-5a1c3da07036_35\", \"run_number\": 74, \"metric\": null, \"status\": \"Completed\", \"run_type\": \"azureml.scriptrun\", \"training_percent\": \"100\", \"start_time\": \"2021-02-07T12:32:10.669087Z\", \"end_time\": \"2021-02-07T12:33:07.43585Z\", \"created_time\": \"2021-02-07T12:31:57.866542Z\", \"created_time_dt\": \"2021-02-07T12:31:57.866542Z\", \"duration\": \"0:01:09\", \"iteration\": \"35\", \"goal\": \"accuracy_max\", \"run_name\": \"StandardScalerWrapper, RandomForest\", \"run_properties\": \"<azureml.automl.runtime.shared.model_wrappers.StandardScalerWrapper object at 0x7fd936321668\", \"primary_metric\": 0.83606061, \"best_metric\": 0.84262626}, {\"run_id\": \"AutoML_64549a3f-4f93-4138-801f-5a1c3da07036_36\", \"run_number\": 75, \"metric\": null, \"status\": \"Canceled\", \"run_type\": \"azureml.scriptrun\", \"training_percent\": \"100\", \"start_time\": \"2021-02-07T12:32:27.551687Z\", \"end_time\": \"2021-02-07T12:33:16.929666Z\", \"created_time\": \"2021-02-07T12:32:12.561465Z\", \"created_time_dt\": \"2021-02-07T12:32:12.561465Z\", \"duration\": \"0:01:04\", \"iteration\": \"36\", \"goal\": \"accuracy_max\", \"run_name\": \"StandardScalerWrapper, GradientBoosting\", \"run_properties\": \"<azureml.automl.runtime.shared.model_wrappers.StandardScalerWrapper object at 0x7fdff047da20\", \"primary_metric\": 0.81925926, \"best_metric\": 0.84262626}, {\"run_id\": \"AutoML_64549a3f-4f93-4138-801f-5a1c3da07036_37\", \"run_number\": 76, \"metric\": null, \"status\": \"Canceled\", \"run_type\": \"azureml.scriptrun\", \"training_percent\": \"100\", \"start_time\": \"2021-02-07T12:32:34.22843Z\", \"end_time\": \"2021-02-07T12:33:14.740177Z\", \"created_time\": \"2021-02-07T12:32:20.429913Z\", \"created_time_dt\": \"2021-02-07T12:32:20.429913Z\", \"duration\": \"0:00:54\", \"iteration\": \"37\", \"goal\": \"accuracy_max\", \"run_name\": \"RobustScaler, ExtremeRandomTrees\", \"run_properties\": \"copy=True, quantile_range=[10, 90], with_centering=True,\\n             with_scaling=False\", \"primary_metric\": 0.83936027, \"best_metric\": 0.84262626}, {\"run_id\": \"AutoML_64549a3f-4f93-4138-801f-5a1c3da07036_38\", \"run_number\": 77, \"metric\": null, \"status\": \"Canceled\", \"run_type\": \"azureml.scriptrun\", \"training_percent\": \"100\", \"start_time\": \"2021-02-07T12:32:57.030598Z\", \"end_time\": \"2021-02-07T12:33:16.638816Z\", \"created_time\": \"2021-02-07T12:32:57.030598Z\", \"created_time_dt\": \"2021-02-07T12:32:57.030598Z\", \"duration\": \"0:00:19\", \"iteration\": \"38\", \"goal\": null, \"run_name\": \"Canceled\", \"run_properties\": null}, {\"run_id\": \"AutoML_64549a3f-4f93-4138-801f-5a1c3da07036_39\", \"run_number\": 78, \"metric\": null, \"status\": \"Completed\", \"run_type\": \"azureml.scriptrun\", \"training_percent\": \"100\", \"start_time\": \"2021-02-07T12:33:31.242982Z\", \"end_time\": \"2021-02-07T12:34:49.29291Z\", \"created_time\": \"2021-02-07T12:33:17.628618Z\", \"created_time_dt\": \"2021-02-07T12:33:17.628618Z\", \"duration\": \"0:01:31\", \"iteration\": \"39\", \"goal\": \"accuracy_max\", \"run_name\": \"VotingEnsemble\", \"run_properties\": \"classification_labels=None,\\n                              estimators=[('22',\\n                                           Pipeline(memory=None,\\n                                                    steps=[('robustscaler',\\n                                                            RobustScaler(copy=True,\\n                                                                         quantile_range=[10,\\n                                                                                         90],\\n                                                                         with_centering=True,\\n                                                                         with_scaling=False\", \"primary_metric\": 0.85616162, \"best_metric\": 0.85616162}, {\"run_id\": \"AutoML_64549a3f-4f93-4138-801f-5a1c3da07036_40\", \"run_number\": 79, \"metric\": null, \"status\": \"Completed\", \"run_type\": \"azureml.scriptrun\", \"training_percent\": \"100\", \"start_time\": \"2021-02-07T12:33:30.263375Z\", \"end_time\": \"2021-02-07T12:34:47.145883Z\", \"created_time\": \"2021-02-07T12:33:17.633416Z\", \"created_time_dt\": \"2021-02-07T12:33:17.633416Z\", \"duration\": \"0:01:29\", \"iteration\": \"40\", \"goal\": \"accuracy_max\", \"run_name\": \"StackEnsemble\", \"run_properties\": \"base_learners=[('22',\\n                                        Pipeline(memory=None,\\n                                                 steps=[('robustscaler',\\n                                                         RobustScaler(copy=True,\\n                                                                      quantile_range=[10,\\n                                                                                      90],\\n                                                                      with_centering=True,\\n                                                                      with_scaling=False\", \"primary_metric\": 0.81919192, \"best_metric\": 0.85616162}], \"children_metrics\": {\"categories\": [0], \"series\": {\"f1_score_weighted\": [{\"categories\": [\"0\", \"1\", \"2\", \"3\", \"4\", \"5\", \"6\", \"7\", \"8\", \"9\", \"10\", \"11\", \"12\", \"13\", \"14\", \"15\", \"16\", \"17\", \"18\", \"19\", \"20\", \"21\", \"22\", \"23\", \"24\", \"25\", \"26\", \"27\", \"28\", \"29\", \"30\", \"31\", \"32\", \"33\", \"34\", \"35\", \"36\", \"37\", \"39\", \"40\"], \"mode\": \"markers\", \"name\": \"f1_score_weighted\", \"stepped\": false, \"type\": \"scatter\", \"data\": [0.7994850745596541, 0.8173118768300475, 0.8163610942128795, 0.8227834820583074, 0.8262324732263725, 0.7912037545752267, 0.6832111713806843, 0.6475400319871382, 0.8193391516340771, 0.8241448914253456, 0.7935497752348963, 0.7953411782056244, 0.8225462050633284, 0.7886152226273634, 0.8263846191382423, 0.8327171957416403, 0.787316602476853, 0.8227318351067745, 0.8295739314019098, 0.5937055141802786, 0.7442849687296428, 0.6843417594943181, 0.8402207075866057, 0.8350580416543236, 0.7012681213017986, 0.8052594762818172, 0.749400535734649, 0.8261438042571646, 0.8201539143309122, 0.8238578371519547, 0.5497345001811592, 0.8286874635025393, 0.7823393660244667, 0.7500102972705948, 0.7976491015613428, 0.8320297913593272, 0.8173297111936407, 0.8337062986632365, 0.8506077867009405, 0.8181820914008853]}, {\"categories\": [\"0\", \"1\", \"2\", \"3\", \"4\", \"5\", \"6\", \"7\", \"8\", \"9\", \"10\", \"11\", \"12\", \"13\", \"14\", \"15\", \"16\", \"17\", \"18\", \"19\", \"20\", \"21\", \"22\", \"23\", \"24\", \"25\", \"26\", \"27\", \"28\", \"29\", \"30\", \"31\", \"32\", \"33\", \"34\", \"35\", \"36\", \"37\", \"39\", \"40\"], \"mode\": \"lines\", \"name\": \"f1_score_weighted_max\", \"stepped\": true, \"type\": \"scatter\", \"data\": [0.7994850745596541, 0.8173118768300475, 0.8173118768300475, 0.8227834820583074, 0.8262324732263725, 0.8262324732263725, 0.8262324732263725, 0.8262324732263725, 0.8262324732263725, 0.8262324732263725, 0.8262324732263725, 0.8262324732263725, 0.8262324732263725, 0.8262324732263725, 0.8263846191382423, 0.8327171957416403, 0.8327171957416403, 0.8327171957416403, 0.8327171957416403, 0.8327171957416403, 0.8327171957416403, 0.8327171957416403, 0.8402207075866057, 0.8402207075866057, 0.8402207075866057, 0.8402207075866057, 0.8402207075866057, 0.8402207075866057, 0.8402207075866057, 0.8402207075866057, 0.8402207075866057, 0.8402207075866057, 0.8402207075866057, 0.8402207075866057, 0.8402207075866057, 0.8402207075866057, 0.8402207075866057, 0.8402207075866057, 0.8506077867009405, 0.8506077867009405]}], \"AUC_macro\": [{\"categories\": [\"0\", \"1\", \"2\", \"3\", \"4\", \"5\", \"6\", \"7\", \"8\", \"9\", \"10\", \"11\", \"12\", \"13\", \"14\", \"15\", \"16\", \"17\", \"18\", \"19\", \"20\", \"21\", \"22\", \"23\", \"24\", \"25\", \"26\", \"27\", \"28\", \"29\", \"30\", \"31\", \"32\", \"33\", \"34\", \"35\", \"36\", \"37\", \"39\", \"40\"], \"mode\": \"markers\", \"name\": \"AUC_macro\", \"stepped\": false, \"type\": \"scatter\", \"data\": [0.8550287233045853, 0.875938401455643, 0.8993510998683413, 0.8839558277489311, 0.8975677648091441, 0.8669934959590132, 0.7412870012870013, 0.7208138680552474, 0.8975150519978107, 0.8723482595896389, 0.880745129365819, 0.8347640744192469, 0.865827354448044, 0.8713443739305808, 0.8996586241413826, 0.8884490155179811, 0.866052850880437, 0.8608066194273091, 0.899391756288308, 0.5110406958682822, 0.8873325049187119, 0.8573788566892016, 0.892411574135712, 0.8940327273085895, 0.8072967055725676, 0.8626564495530014, 0.815366302262854, 0.88674857123133, 0.8715356736046392, 0.8987107304348685, 0.8889512172270794, 0.8923480130376683, 0.8493856911098291, 0.8448507620921415, 0.8582364630640492, 0.8602263840194876, 0.8830202616409513, 0.8849952415469656, 0.8961027036889105, 0.8901135125273055]}, {\"categories\": [\"0\", \"1\", \"2\", \"3\", \"4\", \"5\", \"6\", \"7\", \"8\", \"9\", \"10\", \"11\", \"12\", \"13\", \"14\", \"15\", \"16\", \"17\", \"18\", \"19\", \"20\", \"21\", \"22\", \"23\", \"24\", \"25\", \"26\", \"27\", \"28\", \"29\", \"30\", \"31\", \"32\", \"33\", \"34\", \"35\", \"36\", \"37\", \"39\", \"40\"], \"mode\": \"lines\", \"name\": \"AUC_macro_max\", \"stepped\": true, \"type\": \"scatter\", \"data\": [0.8550287233045853, 0.875938401455643, 0.8993510998683413, 0.8993510998683413, 0.8993510998683413, 0.8993510998683413, 0.8993510998683413, 0.8993510998683413, 0.8993510998683413, 0.8993510998683413, 0.8993510998683413, 0.8993510998683413, 0.8993510998683413, 0.8993510998683413, 0.8996586241413826, 0.8996586241413826, 0.8996586241413826, 0.8996586241413826, 0.8996586241413826, 0.8996586241413826, 0.8996586241413826, 0.8996586241413826, 0.8996586241413826, 0.8996586241413826, 0.8996586241413826, 0.8996586241413826, 0.8996586241413826, 0.8996586241413826, 0.8996586241413826, 0.8996586241413826, 0.8996586241413826, 0.8996586241413826, 0.8996586241413826, 0.8996586241413826, 0.8996586241413826, 0.8996586241413826, 0.8996586241413826, 0.8996586241413826, 0.8996586241413826, 0.8996586241413826]}], \"precision_score_micro\": [{\"categories\": [\"0\", \"1\", \"2\", \"3\", \"4\", \"5\", \"6\", \"7\", \"8\", \"9\", \"10\", \"11\", \"12\", \"13\", \"14\", \"15\", \"16\", \"17\", \"18\", \"19\", \"20\", \"21\", \"22\", \"23\", \"24\", \"25\", \"26\", \"27\", \"28\", \"29\", \"30\", \"31\", \"32\", \"33\", \"34\", \"35\", \"36\", \"37\", \"39\", \"40\"], \"mode\": \"markers\", \"name\": \"precision_score_micro\", \"stepped\": false, \"type\": \"scatter\", \"data\": [0.8025252525252524, 0.8192929292929293, 0.8193602693602693, 0.8292929292929294, 0.8293939393939395, 0.7993265993265993, 0.719023569023569, 0.7056902356902358, 0.8226936026936027, 0.8293939393939395, 0.8092929292929293, 0.8026599326599326, 0.8327272727272729, 0.8025925925925925, 0.8293939393939395, 0.8393939393939395, 0.7959595959595959, 0.8293939393939395, 0.8326936026936026, 0.6353872053872054, 0.7793939393939394, 0.7358249158249158, 0.8426262626262627, 0.8393602693602693, 0.739023569023569, 0.8126599326599327, 0.7457239057239057, 0.8293602693602694, 0.8226599326599326, 0.8225925925925925, 0.6790235690235691, 0.8326936026936026, 0.7960942760942761, 0.7793602693602693, 0.8025589225589226, 0.8360606060606061, 0.8192592592592592, 0.8393602693602693, 0.8561616161616162, 0.8191919191919194]}, {\"categories\": [\"0\", \"1\", \"2\", \"3\", \"4\", \"5\", \"6\", \"7\", \"8\", \"9\", \"10\", \"11\", \"12\", \"13\", \"14\", \"15\", \"16\", \"17\", \"18\", \"19\", \"20\", \"21\", \"22\", \"23\", \"24\", \"25\", \"26\", \"27\", \"28\", \"29\", \"30\", \"31\", \"32\", \"33\", \"34\", \"35\", \"36\", \"37\", \"39\", \"40\"], \"mode\": \"lines\", \"name\": \"precision_score_micro_max\", \"stepped\": true, \"type\": \"scatter\", \"data\": [0.8025252525252524, 0.8192929292929293, 0.8193602693602693, 0.8292929292929294, 0.8293939393939395, 0.8293939393939395, 0.8293939393939395, 0.8293939393939395, 0.8293939393939395, 0.8293939393939395, 0.8293939393939395, 0.8293939393939395, 0.8327272727272729, 0.8327272727272729, 0.8327272727272729, 0.8393939393939395, 0.8393939393939395, 0.8393939393939395, 0.8393939393939395, 0.8393939393939395, 0.8393939393939395, 0.8393939393939395, 0.8426262626262627, 0.8426262626262627, 0.8426262626262627, 0.8426262626262627, 0.8426262626262627, 0.8426262626262627, 0.8426262626262627, 0.8426262626262627, 0.8426262626262627, 0.8426262626262627, 0.8426262626262627, 0.8426262626262627, 0.8426262626262627, 0.8426262626262627, 0.8426262626262627, 0.8426262626262627, 0.8561616161616162, 0.8561616161616162]}], \"average_precision_score_macro\": [{\"categories\": [\"0\", \"1\", \"2\", \"3\", \"4\", \"5\", \"6\", \"7\", \"8\", \"9\", \"10\", \"11\", \"12\", \"13\", \"14\", \"15\", \"16\", \"17\", \"18\", \"19\", \"20\", \"21\", \"22\", \"23\", \"24\", \"25\", \"26\", \"27\", \"28\", \"29\", \"30\", \"31\", \"32\", \"33\", \"34\", \"35\", \"36\", \"37\", \"39\", \"40\"], \"mode\": \"markers\", \"name\": \"average_precision_score_macro\", \"stepped\": false, \"type\": \"scatter\", \"data\": [0.8323265818260129, 0.8521645844042397, 0.8718427397991899, 0.8654516895265648, 0.8700927910383055, 0.850259915200598, 0.7213350199982282, 0.7054033125582921, 0.882693823959462, 0.8505468707843259, 0.8591926692107226, 0.812148279236013, 0.8572831772044335, 0.8382720336141182, 0.8794511272623574, 0.860717576172009, 0.8435382285712448, 0.8409974690442054, 0.8794528592405477, 0.5510196770969539, 0.872000398630138, 0.8464171053043691, 0.8659382382021922, 0.8728494832619402, 0.7801901844132662, 0.8419204807855873, 0.7934664418944664, 0.8655380401455558, 0.8498402797109875, 0.8810561364873752, 0.8825518840513444, 0.8655787608872284, 0.8266802617698109, 0.8232940113751887, 0.8355167689530135, 0.8314332626017739, 0.8638445729234455, 0.8630276678703899, 0.8799327921525731, 0.8633266854929814]}, {\"categories\": [\"0\", \"1\", \"2\", \"3\", \"4\", \"5\", \"6\", \"7\", \"8\", \"9\", \"10\", \"11\", \"12\", \"13\", \"14\", \"15\", \"16\", \"17\", \"18\", \"19\", \"20\", \"21\", \"22\", \"23\", \"24\", \"25\", \"26\", \"27\", \"28\", \"29\", \"30\", \"31\", \"32\", \"33\", \"34\", \"35\", \"36\", \"37\", \"39\", \"40\"], \"mode\": \"lines\", \"name\": \"average_precision_score_macro_max\", \"stepped\": true, \"type\": \"scatter\", \"data\": [0.8323265818260129, 0.8521645844042397, 0.8718427397991899, 0.8718427397991899, 0.8718427397991899, 0.8718427397991899, 0.8718427397991899, 0.8718427397991899, 0.882693823959462, 0.882693823959462, 0.882693823959462, 0.882693823959462, 0.882693823959462, 0.882693823959462, 0.882693823959462, 0.882693823959462, 0.882693823959462, 0.882693823959462, 0.882693823959462, 0.882693823959462, 0.882693823959462, 0.882693823959462, 0.882693823959462, 0.882693823959462, 0.882693823959462, 0.882693823959462, 0.882693823959462, 0.882693823959462, 0.882693823959462, 0.882693823959462, 0.882693823959462, 0.882693823959462, 0.882693823959462, 0.882693823959462, 0.882693823959462, 0.882693823959462, 0.882693823959462, 0.882693823959462, 0.882693823959462, 0.882693823959462]}], \"weighted_accuracy\": [{\"categories\": [\"0\", \"1\", \"2\", \"3\", \"4\", \"5\", \"6\", \"7\", \"8\", \"9\", \"10\", \"11\", \"12\", \"13\", \"14\", \"15\", \"16\", \"17\", \"18\", \"19\", \"20\", \"21\", \"22\", \"23\", \"24\", \"25\", \"26\", \"27\", \"28\", \"29\", \"30\", \"31\", \"32\", \"33\", \"34\", \"35\", \"36\", \"37\", \"39\", \"40\"], \"mode\": \"markers\", \"name\": \"weighted_accuracy\", \"stepped\": false, \"type\": \"scatter\", \"data\": [0.8310099034285422, 0.8426543037328149, 0.8411413882297819, 0.8651120409455767, 0.8575473871032621, 0.8357293295409746, 0.8033428567411874, 0.8047420634697825, 0.8454166816986145, 0.8634491196390175, 0.8610981132789015, 0.8409177551197641, 0.8771928523614342, 0.8607997440370725, 0.8517025618023689, 0.8771416645243116, 0.8339566038093498, 0.8672009316971231, 0.858651084288898, 0.7195749039401443, 0.8581898849321373, 0.8265715183070804, 0.8659579734327254, 0.8654426934211158, 0.8227796683643933, 0.8506878700622927, 0.7566843397812161, 0.8539600683042998, 0.8494187219462047, 0.8313899266299404, 0.8139581109686231, 0.8573967164096216, 0.8474104302267521, 0.8520978782265373, 0.8372797717466107, 0.8612976748312992, 0.8424350980475649, 0.8759669069498598, 0.8857230122409777, 0.8346244565421616]}, {\"categories\": [\"0\", \"1\", \"2\", \"3\", \"4\", \"5\", \"6\", \"7\", \"8\", \"9\", \"10\", \"11\", \"12\", \"13\", \"14\", \"15\", \"16\", \"17\", \"18\", \"19\", \"20\", \"21\", \"22\", \"23\", \"24\", \"25\", \"26\", \"27\", \"28\", \"29\", \"30\", \"31\", \"32\", \"33\", \"34\", \"35\", \"36\", \"37\", \"39\", \"40\"], \"mode\": \"lines\", \"name\": \"weighted_accuracy_max\", \"stepped\": true, \"type\": \"scatter\", \"data\": [0.8310099034285422, 0.8426543037328149, 0.8426543037328149, 0.8651120409455767, 0.8651120409455767, 0.8651120409455767, 0.8651120409455767, 0.8651120409455767, 0.8651120409455767, 0.8651120409455767, 0.8651120409455767, 0.8651120409455767, 0.8771928523614342, 0.8771928523614342, 0.8771928523614342, 0.8771928523614342, 0.8771928523614342, 0.8771928523614342, 0.8771928523614342, 0.8771928523614342, 0.8771928523614342, 0.8771928523614342, 0.8771928523614342, 0.8771928523614342, 0.8771928523614342, 0.8771928523614342, 0.8771928523614342, 0.8771928523614342, 0.8771928523614342, 0.8771928523614342, 0.8771928523614342, 0.8771928523614342, 0.8771928523614342, 0.8771928523614342, 0.8771928523614342, 0.8771928523614342, 0.8771928523614342, 0.8771928523614342, 0.8857230122409777, 0.8857230122409777]}], \"accuracy\": [{\"categories\": [\"0\", \"1\", \"2\", \"3\", \"4\", \"5\", \"6\", \"7\", \"8\", \"9\", \"10\", \"11\", \"12\", \"13\", \"14\", \"15\", \"16\", \"17\", \"18\", \"19\", \"20\", \"21\", \"22\", \"23\", \"24\", \"25\", \"26\", \"27\", \"28\", \"29\", \"30\", \"31\", \"32\", \"33\", \"34\", \"35\", \"36\", \"37\", \"39\", \"40\"], \"mode\": \"markers\", \"name\": \"accuracy\", \"stepped\": false, \"type\": \"scatter\", \"data\": [0.8025252525252524, 0.8192929292929293, 0.8193602693602693, 0.8292929292929294, 0.8293939393939395, 0.7993265993265993, 0.719023569023569, 0.7056902356902358, 0.8226936026936027, 0.8293939393939395, 0.8092929292929293, 0.8026599326599326, 0.8327272727272729, 0.8025925925925925, 0.8293939393939395, 0.8393939393939395, 0.7959595959595959, 0.8293939393939395, 0.8326936026936026, 0.6353872053872054, 0.7793939393939394, 0.7358249158249158, 0.8426262626262627, 0.8393602693602693, 0.739023569023569, 0.8126599326599327, 0.7457239057239057, 0.8293602693602694, 0.8226599326599326, 0.8225925925925925, 0.6790235690235691, 0.8326936026936026, 0.7960942760942761, 0.7793602693602693, 0.8025589225589226, 0.8360606060606061, 0.8192592592592592, 0.8393602693602693, 0.8561616161616162, 0.8191919191919194]}, {\"categories\": [\"0\", \"1\", \"2\", \"3\", \"4\", \"5\", \"6\", \"7\", \"8\", \"9\", \"10\", \"11\", \"12\", \"13\", \"14\", \"15\", \"16\", \"17\", \"18\", \"19\", \"20\", \"21\", \"22\", \"23\", \"24\", \"25\", \"26\", \"27\", \"28\", \"29\", \"30\", \"31\", \"32\", \"33\", \"34\", \"35\", \"36\", \"37\", \"39\", \"40\"], \"mode\": \"lines\", \"name\": \"accuracy_max\", \"stepped\": true, \"type\": \"scatter\", \"data\": [0.8025252525252524, 0.8192929292929293, 0.8193602693602693, 0.8292929292929294, 0.8293939393939395, 0.8293939393939395, 0.8293939393939395, 0.8293939393939395, 0.8293939393939395, 0.8293939393939395, 0.8293939393939395, 0.8293939393939395, 0.8327272727272729, 0.8327272727272729, 0.8327272727272729, 0.8393939393939395, 0.8393939393939395, 0.8393939393939395, 0.8393939393939395, 0.8393939393939395, 0.8393939393939395, 0.8393939393939395, 0.8426262626262627, 0.8426262626262627, 0.8426262626262627, 0.8426262626262627, 0.8426262626262627, 0.8426262626262627, 0.8426262626262627, 0.8426262626262627, 0.8426262626262627, 0.8426262626262627, 0.8426262626262627, 0.8426262626262627, 0.8426262626262627, 0.8426262626262627, 0.8426262626262627, 0.8426262626262627, 0.8561616161616162, 0.8561616161616162]}], \"average_precision_score_weighted\": [{\"categories\": [\"0\", \"1\", \"2\", \"3\", \"4\", \"5\", \"6\", \"7\", \"8\", \"9\", \"10\", \"11\", \"12\", \"13\", \"14\", \"15\", \"16\", \"17\", \"18\", \"19\", \"20\", \"21\", \"22\", \"23\", \"24\", \"25\", \"26\", \"27\", \"28\", \"29\", \"30\", \"31\", \"32\", \"33\", \"34\", \"35\", \"36\", \"37\", \"39\", \"40\"], \"mode\": \"markers\", \"name\": \"average_precision_score_weighted\", \"stepped\": false, \"type\": \"scatter\", \"data\": [0.8648843990393956, 0.8836277505100775, 0.9001932027204043, 0.8946186911957215, 0.9003822551296888, 0.878362127762812, 0.7691564649206919, 0.7540230090255354, 0.9064309842157426, 0.8814167072739009, 0.888992050370565, 0.8440446723791495, 0.881945637612274, 0.870580446723077, 0.9047100954325744, 0.885822982419219, 0.8735011642783362, 0.8707379505592444, 0.9051895177477447, 0.6041243723123229, 0.8965008212368701, 0.8755554825507902, 0.8936803013386618, 0.8981497228820444, 0.8260116720244562, 0.8716744459723914, 0.8289117734064303, 0.8920938236332848, 0.8809090815627486, 0.9040027886054002, 0.9015257352047126, 0.8953334115611086, 0.8611268748170454, 0.8550068150578968, 0.8662902688701171, 0.8616630447696391, 0.8899008679215773, 0.8915786249983165, 0.9041730906372276, 0.8937259047206663]}, {\"categories\": [\"0\", \"1\", \"2\", \"3\", \"4\", \"5\", \"6\", \"7\", \"8\", \"9\", \"10\", \"11\", \"12\", \"13\", \"14\", \"15\", \"16\", \"17\", \"18\", \"19\", \"20\", \"21\", \"22\", \"23\", \"24\", \"25\", \"26\", \"27\", \"28\", \"29\", \"30\", \"31\", \"32\", \"33\", \"34\", \"35\", \"36\", \"37\", \"39\", \"40\"], \"mode\": \"lines\", \"name\": \"average_precision_score_weighted_max\", \"stepped\": true, \"type\": \"scatter\", \"data\": [0.8648843990393956, 0.8836277505100775, 0.9001932027204043, 0.9001932027204043, 0.9003822551296888, 0.9003822551296888, 0.9003822551296888, 0.9003822551296888, 0.9064309842157426, 0.9064309842157426, 0.9064309842157426, 0.9064309842157426, 0.9064309842157426, 0.9064309842157426, 0.9064309842157426, 0.9064309842157426, 0.9064309842157426, 0.9064309842157426, 0.9064309842157426, 0.9064309842157426, 0.9064309842157426, 0.9064309842157426, 0.9064309842157426, 0.9064309842157426, 0.9064309842157426, 0.9064309842157426, 0.9064309842157426, 0.9064309842157426, 0.9064309842157426, 0.9064309842157426, 0.9064309842157426, 0.9064309842157426, 0.9064309842157426, 0.9064309842157426, 0.9064309842157426, 0.9064309842157426, 0.9064309842157426, 0.9064309842157426, 0.9064309842157426, 0.9064309842157426]}], \"recall_score_micro\": [{\"categories\": [\"0\", \"1\", \"2\", \"3\", \"4\", \"5\", \"6\", \"7\", \"8\", \"9\", \"10\", \"11\", \"12\", \"13\", \"14\", \"15\", \"16\", \"17\", \"18\", \"19\", \"20\", \"21\", \"22\", \"23\", \"24\", \"25\", \"26\", \"27\", \"28\", \"29\", \"30\", \"31\", \"32\", \"33\", \"34\", \"35\", \"36\", \"37\", \"39\", \"40\"], \"mode\": \"markers\", \"name\": \"recall_score_micro\", \"stepped\": false, \"type\": \"scatter\", \"data\": [0.8025252525252524, 0.8192929292929293, 0.8193602693602693, 0.8292929292929294, 0.8293939393939395, 0.7993265993265993, 0.719023569023569, 0.7056902356902358, 0.8226936026936027, 0.8293939393939395, 0.8092929292929293, 0.8026599326599326, 0.8327272727272729, 0.8025925925925925, 0.8293939393939395, 0.8393939393939395, 0.7959595959595959, 0.8293939393939395, 0.8326936026936026, 0.6353872053872054, 0.7793939393939394, 0.7358249158249158, 0.8426262626262627, 0.8393602693602693, 0.739023569023569, 0.8126599326599327, 0.7457239057239057, 0.8293602693602694, 0.8226599326599326, 0.8225925925925925, 0.6790235690235691, 0.8326936026936026, 0.7960942760942761, 0.7793602693602693, 0.8025589225589226, 0.8360606060606061, 0.8192592592592592, 0.8393602693602693, 0.8561616161616162, 0.8191919191919194]}, {\"categories\": [\"0\", \"1\", \"2\", \"3\", \"4\", \"5\", \"6\", \"7\", \"8\", \"9\", \"10\", \"11\", \"12\", \"13\", \"14\", \"15\", \"16\", \"17\", \"18\", \"19\", \"20\", \"21\", \"22\", \"23\", \"24\", \"25\", \"26\", \"27\", \"28\", \"29\", \"30\", \"31\", \"32\", \"33\", \"34\", \"35\", \"36\", \"37\", \"39\", \"40\"], \"mode\": \"lines\", \"name\": \"recall_score_micro_max\", \"stepped\": true, \"type\": \"scatter\", \"data\": [0.8025252525252524, 0.8192929292929293, 0.8193602693602693, 0.8292929292929294, 0.8293939393939395, 0.8293939393939395, 0.8293939393939395, 0.8293939393939395, 0.8293939393939395, 0.8293939393939395, 0.8293939393939395, 0.8293939393939395, 0.8327272727272729, 0.8327272727272729, 0.8327272727272729, 0.8393939393939395, 0.8393939393939395, 0.8393939393939395, 0.8393939393939395, 0.8393939393939395, 0.8393939393939395, 0.8393939393939395, 0.8426262626262627, 0.8426262626262627, 0.8426262626262627, 0.8426262626262627, 0.8426262626262627, 0.8426262626262627, 0.8426262626262627, 0.8426262626262627, 0.8426262626262627, 0.8426262626262627, 0.8426262626262627, 0.8426262626262627, 0.8426262626262627, 0.8426262626262627, 0.8426262626262627, 0.8426262626262627, 0.8561616161616162, 0.8561616161616162]}], \"recall_score_weighted\": [{\"categories\": [\"0\", \"1\", \"2\", \"3\", \"4\", \"5\", \"6\", \"7\", \"8\", \"9\", \"10\", \"11\", \"12\", \"13\", \"14\", \"15\", \"16\", \"17\", \"18\", \"19\", \"20\", \"21\", \"22\", \"23\", \"24\", \"25\", \"26\", \"27\", \"28\", \"29\", \"30\", \"31\", \"32\", \"33\", \"34\", \"35\", \"36\", \"37\", \"39\", \"40\"], \"mode\": \"markers\", \"name\": \"recall_score_weighted\", \"stepped\": false, \"type\": \"scatter\", \"data\": [0.8025252525252524, 0.8192929292929293, 0.8193602693602693, 0.8292929292929294, 0.8293939393939395, 0.7993265993265993, 0.719023569023569, 0.7056902356902358, 0.8226936026936027, 0.8293939393939395, 0.8092929292929293, 0.8026599326599326, 0.8327272727272729, 0.8025925925925925, 0.8293939393939395, 0.8393939393939395, 0.7959595959595959, 0.8293939393939395, 0.8326936026936026, 0.6353872053872054, 0.7793939393939394, 0.7358249158249158, 0.8426262626262627, 0.8393602693602693, 0.739023569023569, 0.8126599326599327, 0.7457239057239057, 0.8293602693602694, 0.8226599326599326, 0.8225925925925925, 0.6790235690235691, 0.8326936026936026, 0.7960942760942761, 0.7793602693602693, 0.8025589225589226, 0.8360606060606061, 0.8192592592592592, 0.8393602693602693, 0.8561616161616162, 0.8191919191919194]}, {\"categories\": [\"0\", \"1\", \"2\", \"3\", \"4\", \"5\", \"6\", \"7\", \"8\", \"9\", \"10\", \"11\", \"12\", \"13\", \"14\", \"15\", \"16\", \"17\", \"18\", \"19\", \"20\", \"21\", \"22\", \"23\", \"24\", \"25\", \"26\", \"27\", \"28\", \"29\", \"30\", \"31\", \"32\", \"33\", \"34\", \"35\", \"36\", \"37\", \"39\", \"40\"], \"mode\": \"lines\", \"name\": \"recall_score_weighted_max\", \"stepped\": true, \"type\": \"scatter\", \"data\": [0.8025252525252524, 0.8192929292929293, 0.8193602693602693, 0.8292929292929294, 0.8293939393939395, 0.8293939393939395, 0.8293939393939395, 0.8293939393939395, 0.8293939393939395, 0.8293939393939395, 0.8293939393939395, 0.8293939393939395, 0.8327272727272729, 0.8327272727272729, 0.8327272727272729, 0.8393939393939395, 0.8393939393939395, 0.8393939393939395, 0.8393939393939395, 0.8393939393939395, 0.8393939393939395, 0.8393939393939395, 0.8426262626262627, 0.8426262626262627, 0.8426262626262627, 0.8426262626262627, 0.8426262626262627, 0.8426262626262627, 0.8426262626262627, 0.8426262626262627, 0.8426262626262627, 0.8426262626262627, 0.8426262626262627, 0.8426262626262627, 0.8426262626262627, 0.8426262626262627, 0.8426262626262627, 0.8426262626262627, 0.8561616161616162, 0.8561616161616162]}], \"AUC_weighted\": [{\"categories\": [\"0\", \"1\", \"2\", \"3\", \"4\", \"5\", \"6\", \"7\", \"8\", \"9\", \"10\", \"11\", \"12\", \"13\", \"14\", \"15\", \"16\", \"17\", \"18\", \"19\", \"20\", \"21\", \"22\", \"23\", \"24\", \"25\", \"26\", \"27\", \"28\", \"29\", \"30\", \"31\", \"32\", \"33\", \"34\", \"35\", \"36\", \"37\", \"39\", \"40\"], \"mode\": \"markers\", \"name\": \"AUC_weighted\", \"stepped\": false, \"type\": \"scatter\", \"data\": [0.8550287233045855, 0.875938401455643, 0.8993433939985663, 0.8839558277489313, 0.8975677648091441, 0.8669934959590132, 0.7412870012870014, 0.7208138680552474, 0.8975150519978105, 0.8723482595896389, 0.880745129365819, 0.8347640744192467, 0.865827354448044, 0.8713443739305808, 0.8996586241413826, 0.8884490155179811, 0.866052850880437, 0.8608066194273091, 0.899391756288308, 0.511040695868282, 0.8873325049187119, 0.8573788566892014, 0.892411574135712, 0.8940327273085895, 0.8072967055725676, 0.8626564495530014, 0.815366302262854, 0.88674857123133, 0.871535673604639, 0.8987107304348685, 0.8889512172270794, 0.8923480130376683, 0.8493856911098291, 0.8448507620921415, 0.8582364630640492, 0.8602263840194876, 0.8830202616409513, 0.8849952415469656, 0.8961027036889107, 0.8901135125273055]}, {\"categories\": [\"0\", \"1\", \"2\", \"3\", \"4\", \"5\", \"6\", \"7\", \"8\", \"9\", \"10\", \"11\", \"12\", \"13\", \"14\", \"15\", \"16\", \"17\", \"18\", \"19\", \"20\", \"21\", \"22\", \"23\", \"24\", \"25\", \"26\", \"27\", \"28\", \"29\", \"30\", \"31\", \"32\", \"33\", \"34\", \"35\", \"36\", \"37\", \"39\", \"40\"], \"mode\": \"lines\", \"name\": \"AUC_weighted_max\", \"stepped\": true, \"type\": \"scatter\", \"data\": [0.8550287233045855, 0.875938401455643, 0.8993433939985663, 0.8993433939985663, 0.8993433939985663, 0.8993433939985663, 0.8993433939985663, 0.8993433939985663, 0.8993433939985663, 0.8993433939985663, 0.8993433939985663, 0.8993433939985663, 0.8993433939985663, 0.8993433939985663, 0.8996586241413826, 0.8996586241413826, 0.8996586241413826, 0.8996586241413826, 0.8996586241413826, 0.8996586241413826, 0.8996586241413826, 0.8996586241413826, 0.8996586241413826, 0.8996586241413826, 0.8996586241413826, 0.8996586241413826, 0.8996586241413826, 0.8996586241413826, 0.8996586241413826, 0.8996586241413826, 0.8996586241413826, 0.8996586241413826, 0.8996586241413826, 0.8996586241413826, 0.8996586241413826, 0.8996586241413826, 0.8996586241413826, 0.8996586241413826, 0.8996586241413826, 0.8996586241413826]}], \"precision_score_macro\": [{\"categories\": [\"0\", \"1\", \"2\", \"3\", \"4\", \"5\", \"6\", \"7\", \"8\", \"9\", \"10\", \"11\", \"12\", \"13\", \"14\", \"15\", \"16\", \"17\", \"18\", \"19\", \"20\", \"21\", \"22\", \"23\", \"24\", \"25\", \"26\", \"27\", \"28\", \"29\", \"30\", \"31\", \"32\", \"33\", \"34\", \"35\", \"36\", \"37\", \"39\", \"40\"], \"mode\": \"markers\", \"name\": \"precision_score_macro\", \"stepped\": false, \"type\": \"scatter\", \"data\": [0.7842311567478019, 0.7983113869170717, 0.8063804387333798, 0.818996025895904, 0.8165143870768227, 0.782172353810839, 0.6895410737452332, 0.7188460415790789, 0.8055445932379598, 0.816445047804697, 0.816179671587341, 0.7871941050071077, 0.836513291636607, 0.8007629431971538, 0.8149794956576576, 0.837391435724769, 0.7801462862739242, 0.8263329245564077, 0.8180710260839653, 0.5476909362778928, 0.8320086429764554, 0.7800162298175904, 0.8332095859876749, 0.8298729928860528, 0.7392720306513411, 0.8011200435905804, 0.7177982810811557, 0.8155589332954586, 0.8077644630970134, 0.8050404843063034, 0.33951178451178454, 0.820565103063457, 0.7878979743401802, 0.7987616248760818, 0.7886422513447918, 0.8283449189699189, 0.8028532576352686, 0.8338059120270754, 0.8517341287496704, 0.8099983001823913]}, {\"categories\": [\"0\", \"1\", \"2\", \"3\", \"4\", \"5\", \"6\", \"7\", \"8\", \"9\", \"10\", \"11\", \"12\", \"13\", \"14\", \"15\", \"16\", \"17\", \"18\", \"19\", \"20\", \"21\", \"22\", \"23\", \"24\", \"25\", \"26\", \"27\", \"28\", \"29\", \"30\", \"31\", \"32\", \"33\", \"34\", \"35\", \"36\", \"37\", \"39\", \"40\"], \"mode\": \"lines\", \"name\": \"precision_score_macro_max\", \"stepped\": true, \"type\": \"scatter\", \"data\": [0.7842311567478019, 0.7983113869170717, 0.8063804387333798, 0.818996025895904, 0.818996025895904, 0.818996025895904, 0.818996025895904, 0.818996025895904, 0.818996025895904, 0.818996025895904, 0.818996025895904, 0.818996025895904, 0.836513291636607, 0.836513291636607, 0.836513291636607, 0.837391435724769, 0.837391435724769, 0.837391435724769, 0.837391435724769, 0.837391435724769, 0.837391435724769, 0.837391435724769, 0.837391435724769, 0.837391435724769, 0.837391435724769, 0.837391435724769, 0.837391435724769, 0.837391435724769, 0.837391435724769, 0.837391435724769, 0.837391435724769, 0.837391435724769, 0.837391435724769, 0.837391435724769, 0.837391435724769, 0.837391435724769, 0.837391435724769, 0.837391435724769, 0.8517341287496704, 0.8517341287496704]}], \"f1_score_micro\": [{\"categories\": [\"0\", \"1\", \"2\", \"3\", \"4\", \"5\", \"6\", \"7\", \"8\", \"9\", \"10\", \"11\", \"12\", \"13\", \"14\", \"15\", \"16\", \"17\", \"18\", \"19\", \"20\", \"21\", \"22\", \"23\", \"24\", \"25\", \"26\", \"27\", \"28\", \"29\", \"30\", \"31\", \"32\", \"33\", \"34\", \"35\", \"36\", \"37\", \"39\", \"40\"], \"mode\": \"markers\", \"name\": \"f1_score_micro\", \"stepped\": false, \"type\": \"scatter\", \"data\": [0.8025252525252525, 0.8192929292929293, 0.8193602693602693, 0.8292929292929294, 0.8293939393939395, 0.7993265993265992, 0.719023569023569, 0.7056902356902356, 0.8226936026936027, 0.8293939393939395, 0.8092929292929293, 0.8026599326599326, 0.8327272727272729, 0.8025925925925925, 0.8293939393939395, 0.8393939393939395, 0.7959595959595959, 0.8293939393939395, 0.8326936026936026, 0.6353872053872054, 0.7793939393939394, 0.7358249158249158, 0.8426262626262627, 0.8393602693602693, 0.739023569023569, 0.8126599326599327, 0.7457239057239057, 0.8293602693602694, 0.8226599326599326, 0.8225925925925925, 0.6790235690235691, 0.8326936026936026, 0.7960942760942761, 0.7793602693602693, 0.8025589225589226, 0.8360606060606061, 0.8192592592592592, 0.8393602693602693, 0.8561616161616162, 0.8191919191919194]}, {\"categories\": [\"0\", \"1\", \"2\", \"3\", \"4\", \"5\", \"6\", \"7\", \"8\", \"9\", \"10\", \"11\", \"12\", \"13\", \"14\", \"15\", \"16\", \"17\", \"18\", \"19\", \"20\", \"21\", \"22\", \"23\", \"24\", \"25\", \"26\", \"27\", \"28\", \"29\", \"30\", \"31\", \"32\", \"33\", \"34\", \"35\", \"36\", \"37\", \"39\", \"40\"], \"mode\": \"lines\", \"name\": \"f1_score_micro_max\", \"stepped\": true, \"type\": \"scatter\", \"data\": [0.8025252525252525, 0.8192929292929293, 0.8193602693602693, 0.8292929292929294, 0.8293939393939395, 0.8293939393939395, 0.8293939393939395, 0.8293939393939395, 0.8293939393939395, 0.8293939393939395, 0.8293939393939395, 0.8293939393939395, 0.8327272727272729, 0.8327272727272729, 0.8327272727272729, 0.8393939393939395, 0.8393939393939395, 0.8393939393939395, 0.8393939393939395, 0.8393939393939395, 0.8393939393939395, 0.8393939393939395, 0.8426262626262627, 0.8426262626262627, 0.8426262626262627, 0.8426262626262627, 0.8426262626262627, 0.8426262626262627, 0.8426262626262627, 0.8426262626262627, 0.8426262626262627, 0.8426262626262627, 0.8426262626262627, 0.8426262626262627, 0.8426262626262627, 0.8426262626262627, 0.8426262626262627, 0.8426262626262627, 0.8561616161616162, 0.8561616161616162]}], \"matthews_correlation\": [{\"categories\": [\"0\", \"1\", \"2\", \"3\", \"4\", \"5\", \"6\", \"7\", \"8\", \"9\", \"10\", \"11\", \"12\", \"13\", \"14\", \"15\", \"16\", \"17\", \"18\", \"19\", \"20\", \"21\", \"22\", \"23\", \"24\", \"25\", \"26\", \"27\", \"28\", \"29\", \"30\", \"31\", \"32\", \"33\", \"34\", \"35\", \"36\", \"37\", \"39\", \"40\"], \"mode\": \"markers\", \"name\": \"matthews_correlation\", \"stepped\": false, \"type\": \"scatter\", \"data\": [0.5489062305154261, 0.5873460381369527, 0.5970900901017809, 0.6000540666367931, 0.6082375739554515, 0.5331078843939441, 0.2851779915761289, 0.2502525186565004, 0.5986156422154997, 0.6005280962129412, 0.5499245674188529, 0.5385820024732558, 0.6073108742509571, 0.5206978867306472, 0.6150244201387717, 0.625616045325276, 0.5249866713828074, 0.6041615471292127, 0.6165626989165939, 0.06839837009087497, 0.47836661812738085, 0.3491387453943176, 0.6452627340485617, 0.6347464122011707, 0.3467917377216429, 0.5627060350647155, 0.4498206759774845, 0.6125458057091078, 0.5947689019596979, 0.6170586795435272, 0.0, 0.6206362151196502, 0.5131397611559889, 0.4668458684003358, 0.5446254449060914, 0.6309975063455187, 0.5916897840860934, 0.6236062221888188, 0.6685559766468868, 0.6092986179659673]}, {\"categories\": [\"0\", \"1\", \"2\", \"3\", \"4\", \"5\", \"6\", \"7\", \"8\", \"9\", \"10\", \"11\", \"12\", \"13\", \"14\", \"15\", \"16\", \"17\", \"18\", \"19\", \"20\", \"21\", \"22\", \"23\", \"24\", \"25\", \"26\", \"27\", \"28\", \"29\", \"30\", \"31\", \"32\", \"33\", \"34\", \"35\", \"36\", \"37\", \"39\", \"40\"], \"mode\": \"lines\", \"name\": \"matthews_correlation_max\", \"stepped\": true, \"type\": \"scatter\", \"data\": [0.5489062305154261, 0.5873460381369527, 0.5970900901017809, 0.6000540666367931, 0.6082375739554515, 0.6082375739554515, 0.6082375739554515, 0.6082375739554515, 0.6082375739554515, 0.6082375739554515, 0.6082375739554515, 0.6082375739554515, 0.6082375739554515, 0.6082375739554515, 0.6150244201387717, 0.625616045325276, 0.625616045325276, 0.625616045325276, 0.625616045325276, 0.625616045325276, 0.625616045325276, 0.625616045325276, 0.6452627340485617, 0.6452627340485617, 0.6452627340485617, 0.6452627340485617, 0.6452627340485617, 0.6452627340485617, 0.6452627340485617, 0.6452627340485617, 0.6452627340485617, 0.6452627340485617, 0.6452627340485617, 0.6452627340485617, 0.6452627340485617, 0.6452627340485617, 0.6452627340485617, 0.6452627340485617, 0.6685559766468868, 0.6685559766468868]}], \"average_precision_score_micro\": [{\"categories\": [\"0\", \"1\", \"2\", \"3\", \"4\", \"5\", \"6\", \"7\", \"8\", \"9\", \"10\", \"11\", \"12\", \"13\", \"14\", \"15\", \"16\", \"17\", \"18\", \"19\", \"20\", \"21\", \"22\", \"23\", \"24\", \"25\", \"26\", \"27\", \"28\", \"29\", \"30\", \"31\", \"32\", \"33\", \"34\", \"35\", \"36\", \"37\", \"39\", \"40\"], \"mode\": \"markers\", \"name\": \"average_precision_score_micro\", \"stepped\": false, \"type\": \"scatter\", \"data\": [0.8707751210307144, 0.8886385174313017, 0.9067738066496974, 0.9009132643910293, 0.9019182278815556, 0.8837759409965046, 0.7864372446061555, 0.7742114220891002, 0.9063959646025849, 0.8840700802473521, 0.8866537186553008, 0.8539928366633033, 0.8854546519694934, 0.8709173320973704, 0.9084150288309635, 0.8884951244697291, 0.8796433421946591, 0.874091639777442, 0.9078615925339997, 0.6400594776598946, 0.8745602569049286, 0.8589217881743035, 0.9012788026093609, 0.9028530201757391, 0.8383842912695889, 0.8773244333444152, 0.8248943283022152, 0.8961469274941208, 0.8844433343762276, 0.8953555415834596, 0.8527904021240236, 0.8973302115106799, 0.8701152288555628, 0.8583654976283867, 0.8747505329524828, 0.8723185220712262, 0.8921198458237284, 0.8984393224071341, 0.9061423533312474, 0.8766126171108154]}, {\"categories\": [\"0\", \"1\", \"2\", \"3\", \"4\", \"5\", \"6\", \"7\", \"8\", \"9\", \"10\", \"11\", \"12\", \"13\", \"14\", \"15\", \"16\", \"17\", \"18\", \"19\", \"20\", \"21\", \"22\", \"23\", \"24\", \"25\", \"26\", \"27\", \"28\", \"29\", \"30\", \"31\", \"32\", \"33\", \"34\", \"35\", \"36\", \"37\", \"39\", \"40\"], \"mode\": \"lines\", \"name\": \"average_precision_score_micro_max\", \"stepped\": true, \"type\": \"scatter\", \"data\": [0.8707751210307144, 0.8886385174313017, 0.9067738066496974, 0.9067738066496974, 0.9067738066496974, 0.9067738066496974, 0.9067738066496974, 0.9067738066496974, 0.9067738066496974, 0.9067738066496974, 0.9067738066496974, 0.9067738066496974, 0.9067738066496974, 0.9067738066496974, 0.9084150288309635, 0.9084150288309635, 0.9084150288309635, 0.9084150288309635, 0.9084150288309635, 0.9084150288309635, 0.9084150288309635, 0.9084150288309635, 0.9084150288309635, 0.9084150288309635, 0.9084150288309635, 0.9084150288309635, 0.9084150288309635, 0.9084150288309635, 0.9084150288309635, 0.9084150288309635, 0.9084150288309635, 0.9084150288309635, 0.9084150288309635, 0.9084150288309635, 0.9084150288309635, 0.9084150288309635, 0.9084150288309635, 0.9084150288309635, 0.9084150288309635, 0.9084150288309635]}], \"f1_score_macro\": [{\"categories\": [\"0\", \"1\", \"2\", \"3\", \"4\", \"5\", \"6\", \"7\", \"8\", \"9\", \"10\", \"11\", \"12\", \"13\", \"14\", \"15\", \"16\", \"17\", \"18\", \"19\", \"20\", \"21\", \"22\", \"23\", \"24\", \"25\", \"26\", \"27\", \"28\", \"29\", \"30\", \"31\", \"32\", \"33\", \"34\", \"35\", \"36\", \"37\", \"39\", \"40\"], \"mode\": \"markers\", \"name\": \"f1_score_macro\", \"stepped\": false, \"type\": \"scatter\", \"data\": [0.7670520318568558, 0.7892216866138503, 0.7887851773762243, 0.791681356268446, 0.7971955205840121, 0.7567107441249318, 0.608194532293204, 0.5569278514598855, 0.791715606808317, 0.794177639906812, 0.7525641260724752, 0.7602425138914493, 0.7894846148270807, 0.7439108266217896, 0.7995130741507553, 0.8035395270724909, 0.7513627550729417, 0.7915653797392506, 0.8021007480098193, 0.5054968970703914, 0.6856550855868049, 0.6077484130392472, 0.8157759326542499, 0.8090823157830478, 0.628394035170791, 0.7719815058935992, 0.7178138616557735, 0.7988571789584488, 0.7906129215414811, 0.8008425930913675, 0.40415631893298937, 0.8018693324129815, 0.7414144901271958, 0.6952841322036735, 0.7636910391264592, 0.8061194899789553, 0.788998468304006, 0.8038668933405776, 0.8262168825116042, 0.7932830483759656]}, {\"categories\": [\"0\", \"1\", \"2\", \"3\", \"4\", \"5\", \"6\", \"7\", \"8\", \"9\", \"10\", \"11\", \"12\", \"13\", \"14\", \"15\", \"16\", \"17\", \"18\", \"19\", \"20\", \"21\", \"22\", \"23\", \"24\", \"25\", \"26\", \"27\", \"28\", \"29\", \"30\", \"31\", \"32\", \"33\", \"34\", \"35\", \"36\", \"37\", \"39\", \"40\"], \"mode\": \"lines\", \"name\": \"f1_score_macro_max\", \"stepped\": true, \"type\": \"scatter\", \"data\": [0.7670520318568558, 0.7892216866138503, 0.7892216866138503, 0.791681356268446, 0.7971955205840121, 0.7971955205840121, 0.7971955205840121, 0.7971955205840121, 0.7971955205840121, 0.7971955205840121, 0.7971955205840121, 0.7971955205840121, 0.7971955205840121, 0.7971955205840121, 0.7995130741507553, 0.8035395270724909, 0.8035395270724909, 0.8035395270724909, 0.8035395270724909, 0.8035395270724909, 0.8035395270724909, 0.8035395270724909, 0.8157759326542499, 0.8157759326542499, 0.8157759326542499, 0.8157759326542499, 0.8157759326542499, 0.8157759326542499, 0.8157759326542499, 0.8157759326542499, 0.8157759326542499, 0.8157759326542499, 0.8157759326542499, 0.8157759326542499, 0.8157759326542499, 0.8157759326542499, 0.8157759326542499, 0.8157759326542499, 0.8262168825116042, 0.8262168825116042]}], \"precision_score_weighted\": [{\"categories\": [\"0\", \"1\", \"2\", \"3\", \"4\", \"5\", \"6\", \"7\", \"8\", \"9\", \"10\", \"11\", \"12\", \"13\", \"14\", \"15\", \"16\", \"17\", \"18\", \"19\", \"20\", \"21\", \"22\", \"23\", \"24\", \"25\", \"26\", \"27\", \"28\", \"29\", \"30\", \"31\", \"32\", \"33\", \"34\", \"35\", \"36\", \"37\", \"39\", \"40\"], \"mode\": \"markers\", \"name\": \"precision_score_weighted\", \"stepped\": false, \"type\": \"scatter\", \"data\": [0.8103076903348296, 0.8235687391092353, 0.8314253478305765, 0.831952117202405, 0.8359849247356413, 0.8014855252156791, 0.7096767355351387, 0.7259373449303697, 0.8300820571314809, 0.8302623890440656, 0.8203676804566603, 0.8050139666959505, 0.838868798228066, 0.8038309035019561, 0.8382501105857264, 0.8432764587949774, 0.7996830790194634, 0.8357998063820848, 0.8380510404028318, 0.6032756713674589, 0.8134591454435819, 0.7709006821097858, 0.850540284947785, 0.8463466805444417, 0.749202871628159, 0.8153934715960033, 0.7654116669389679, 0.8368106118603551, 0.8303109005430986, 0.8386677450329557, 0.46228299493248987, 0.8405378570150299, 0.7966087111244411, 0.7916473069444011, 0.8088857786749323, 0.8454165279165279, 0.8281124071497267, 0.8428907575780715, 0.860262491542239, 0.8378244669945798]}, {\"categories\": [\"0\", \"1\", \"2\", \"3\", \"4\", \"5\", \"6\", \"7\", \"8\", \"9\", \"10\", \"11\", \"12\", \"13\", \"14\", \"15\", \"16\", \"17\", \"18\", \"19\", \"20\", \"21\", \"22\", \"23\", \"24\", \"25\", \"26\", \"27\", \"28\", \"29\", \"30\", \"31\", \"32\", \"33\", \"34\", \"35\", \"36\", \"37\", \"39\", \"40\"], \"mode\": \"lines\", \"name\": \"precision_score_weighted_max\", \"stepped\": true, \"type\": \"scatter\", \"data\": [0.8103076903348296, 0.8235687391092353, 0.8314253478305765, 0.831952117202405, 0.8359849247356413, 0.8359849247356413, 0.8359849247356413, 0.8359849247356413, 0.8359849247356413, 0.8359849247356413, 0.8359849247356413, 0.8359849247356413, 0.838868798228066, 0.838868798228066, 0.838868798228066, 0.8432764587949774, 0.8432764587949774, 0.8432764587949774, 0.8432764587949774, 0.8432764587949774, 0.8432764587949774, 0.8432764587949774, 0.850540284947785, 0.850540284947785, 0.850540284947785, 0.850540284947785, 0.850540284947785, 0.850540284947785, 0.850540284947785, 0.850540284947785, 0.850540284947785, 0.850540284947785, 0.850540284947785, 0.850540284947785, 0.850540284947785, 0.850540284947785, 0.850540284947785, 0.850540284947785, 0.860262491542239, 0.860262491542239]}], \"balanced_accuracy\": [{\"categories\": [\"0\", \"1\", \"2\", \"3\", \"4\", \"5\", \"6\", \"7\", \"8\", \"9\", \"10\", \"11\", \"12\", \"13\", \"14\", \"15\", \"16\", \"17\", \"18\", \"19\", \"20\", \"21\", \"22\", \"23\", \"24\", \"25\", \"26\", \"27\", \"28\", \"29\", \"30\", \"31\", \"32\", \"33\", \"34\", \"35\", \"36\", \"37\", \"39\", \"40\"], \"mode\": \"markers\", \"name\": \"balanced_accuracy\", \"stepped\": false, \"type\": \"scatter\", \"data\": [0.7665542389680322, 0.7899604037535072, 0.793166319028388, 0.783286735010873, 0.7934796865831348, 0.7534095672026706, 0.6076887232059646, 0.5756423911596326, 0.794899579382338, 0.785528878632327, 0.7424646321198045, 0.7537613968648452, 0.7753359270600649, 0.7253775943431116, 0.8020495865323451, 0.7908127339161822, 0.7479269910304392, 0.7809513947444983, 0.8000133138064173, 0.5258268120337085, 0.6768132664684389, 0.6175527744493262, 0.8136969481797068, 0.8070688915516501, 0.6287341528720839, 0.7640788571823055, 0.7328905259939743, 0.798874983357742, 0.7887177818212301, 0.8132277597794838, 0.5, 0.8023069867897453, 0.7297388521526452, 0.6845653535308708, 0.7582730513764996, 0.8050710809331498, 0.7904895042826078, 0.7919582143720074, 0.8189736534564122, 0.8016390775011465]}, {\"categories\": [\"0\", \"1\", \"2\", \"3\", \"4\", \"5\", \"6\", \"7\", \"8\", \"9\", \"10\", \"11\", \"12\", \"13\", \"14\", \"15\", \"16\", \"17\", \"18\", \"19\", \"20\", \"21\", \"22\", \"23\", \"24\", \"25\", \"26\", \"27\", \"28\", \"29\", \"30\", \"31\", \"32\", \"33\", \"34\", \"35\", \"36\", \"37\", \"39\", \"40\"], \"mode\": \"lines\", \"name\": \"balanced_accuracy_max\", \"stepped\": true, \"type\": \"scatter\", \"data\": [0.7665542389680322, 0.7899604037535072, 0.793166319028388, 0.793166319028388, 0.7934796865831348, 0.7934796865831348, 0.7934796865831348, 0.7934796865831348, 0.794899579382338, 0.794899579382338, 0.794899579382338, 0.794899579382338, 0.794899579382338, 0.794899579382338, 0.8020495865323451, 0.8020495865323451, 0.8020495865323451, 0.8020495865323451, 0.8020495865323451, 0.8020495865323451, 0.8020495865323451, 0.8020495865323451, 0.8136969481797068, 0.8136969481797068, 0.8136969481797068, 0.8136969481797068, 0.8136969481797068, 0.8136969481797068, 0.8136969481797068, 0.8136969481797068, 0.8136969481797068, 0.8136969481797068, 0.8136969481797068, 0.8136969481797068, 0.8136969481797068, 0.8136969481797068, 0.8136969481797068, 0.8136969481797068, 0.8189736534564122, 0.8189736534564122]}], \"log_loss\": [{\"categories\": [\"0\", \"1\", \"2\", \"3\", \"4\", \"5\", \"6\", \"7\", \"8\", \"9\", \"10\", \"11\", \"12\", \"13\", \"14\", \"15\", \"16\", \"17\", \"18\", \"19\", \"20\", \"21\", \"22\", \"23\", \"24\", \"25\", \"26\", \"27\", \"28\", \"29\", \"30\", \"31\", \"32\", \"33\", \"34\", \"35\", \"36\", \"37\", \"39\", \"40\"], \"mode\": \"markers\", \"name\": \"log_loss\", \"stepped\": false, \"type\": \"scatter\", \"data\": [0.5791360620615199, 0.4649911805096085, 0.39535638055759675, 0.42341406213517, 0.3987120441523388, 0.5176127923927473, 0.566879109046026, 0.5795176138890663, 0.3922202163622775, 0.4296126864633482, 0.4484870405766992, 0.5035212911897063, 0.4391067596625558, 0.4750010668021987, 0.3834182051450811, 0.4401995814351145, 0.43133401087033035, 0.4389594252559648, 0.4028587835710464, 0.752412405187242, 0.48534273656903687, 0.5046029427423465, 0.4059924777851231, 0.4069794416352713, 0.5231911556108465, 0.4443391420745542, 0.6105304001001909, 0.4023152621903115, 0.4315389412041541, 0.45812716299147777, 0.6221859574982277, 0.4132789381973852, 0.4783033411505399, 0.540432659540019, 0.43734044595275784, 0.4595276394117957, 0.4155395315856847, 0.4126216853901236, 0.4154179981108936, 0.45032131568765865]}, {\"categories\": [\"0\", \"1\", \"2\", \"3\", \"4\", \"5\", \"6\", \"7\", \"8\", \"9\", \"10\", \"11\", \"12\", \"13\", \"14\", \"15\", \"16\", \"17\", \"18\", \"19\", \"20\", \"21\", \"22\", \"23\", \"24\", \"25\", \"26\", \"27\", \"28\", \"29\", \"30\", \"31\", \"32\", \"33\", \"34\", \"35\", \"36\", \"37\", \"39\", \"40\"], \"mode\": \"lines\", \"name\": \"log_loss_min\", \"stepped\": true, \"type\": \"scatter\", \"data\": [0.5791360620615199, 0.4649911805096085, 0.39535638055759675, 0.39535638055759675, 0.39535638055759675, 0.39535638055759675, 0.39535638055759675, 0.39535638055759675, 0.3922202163622775, 0.3922202163622775, 0.3922202163622775, 0.3922202163622775, 0.3922202163622775, 0.3922202163622775, 0.3834182051450811, 0.3834182051450811, 0.3834182051450811, 0.3834182051450811, 0.3834182051450811, 0.3834182051450811, 0.3834182051450811, 0.3834182051450811, 0.3834182051450811, 0.3834182051450811, 0.3834182051450811, 0.3834182051450811, 0.3834182051450811, 0.3834182051450811, 0.3834182051450811, 0.3834182051450811, 0.3834182051450811, 0.3834182051450811, 0.3834182051450811, 0.3834182051450811, 0.3834182051450811, 0.3834182051450811, 0.3834182051450811, 0.3834182051450811, 0.3834182051450811, 0.3834182051450811]}], \"AUC_micro\": [{\"categories\": [\"0\", \"1\", \"2\", \"3\", \"4\", \"5\", \"6\", \"7\", \"8\", \"9\", \"10\", \"11\", \"12\", \"13\", \"14\", \"15\", \"16\", \"17\", \"18\", \"19\", \"20\", \"21\", \"22\", \"23\", \"24\", \"25\", \"26\", \"27\", \"28\", \"29\", \"30\", \"31\", \"32\", \"33\", \"34\", \"35\", \"36\", \"37\", \"39\", \"40\"], \"mode\": \"markers\", \"name\": \"AUC_micro\", \"stepped\": false, \"type\": \"scatter\", \"data\": [0.8769284528789579, 0.8907238819168114, 0.9071232000136039, 0.8985624596129647, 0.9026550113933952, 0.8850819168112097, 0.7935553684998129, 0.7804491072339558, 0.9058137264904942, 0.8865985001530455, 0.8847721048872564, 0.8621880114274054, 0.8876937591402237, 0.8758233751657994, 0.9089825902118832, 0.8971028942624902, 0.8817159269462299, 0.8785314933850289, 0.9069786994524369, 0.6538384688637214, 0.8737922388871885, 0.85390577832194, 0.9018983301023704, 0.9058451960684284, 0.8324629765670171, 0.879530986634017, 0.8320741420943442, 0.9002475665748393, 0.8877389416045981, 0.8981754888956909, 0.847678706254464, 0.89898750127538, 0.8662188008026392, 0.8605062816719382, 0.8779496003809135, 0.879989024929429, 0.8962396150052715, 0.8993160935958917, 0.906675652144339, 0.8836616195626297]}, {\"categories\": [\"0\", \"1\", \"2\", \"3\", \"4\", \"5\", \"6\", \"7\", \"8\", \"9\", \"10\", \"11\", \"12\", \"13\", \"14\", \"15\", \"16\", \"17\", \"18\", \"19\", \"20\", \"21\", \"22\", \"23\", \"24\", \"25\", \"26\", \"27\", \"28\", \"29\", \"30\", \"31\", \"32\", \"33\", \"34\", \"35\", \"36\", \"37\", \"39\", \"40\"], \"mode\": \"lines\", \"name\": \"AUC_micro_max\", \"stepped\": true, \"type\": \"scatter\", \"data\": [0.8769284528789579, 0.8907238819168114, 0.9071232000136039, 0.9071232000136039, 0.9071232000136039, 0.9071232000136039, 0.9071232000136039, 0.9071232000136039, 0.9071232000136039, 0.9071232000136039, 0.9071232000136039, 0.9071232000136039, 0.9071232000136039, 0.9071232000136039, 0.9089825902118832, 0.9089825902118832, 0.9089825902118832, 0.9089825902118832, 0.9089825902118832, 0.9089825902118832, 0.9089825902118832, 0.9089825902118832, 0.9089825902118832, 0.9089825902118832, 0.9089825902118832, 0.9089825902118832, 0.9089825902118832, 0.9089825902118832, 0.9089825902118832, 0.9089825902118832, 0.9089825902118832, 0.9089825902118832, 0.9089825902118832, 0.9089825902118832, 0.9089825902118832, 0.9089825902118832, 0.9089825902118832, 0.9089825902118832, 0.9089825902118832, 0.9089825902118832]}], \"recall_score_macro\": [{\"categories\": [\"0\", \"1\", \"2\", \"3\", \"4\", \"5\", \"6\", \"7\", \"8\", \"9\", \"10\", \"11\", \"12\", \"13\", \"14\", \"15\", \"16\", \"17\", \"18\", \"19\", \"20\", \"21\", \"22\", \"23\", \"24\", \"25\", \"26\", \"27\", \"28\", \"29\", \"30\", \"31\", \"32\", \"33\", \"34\", \"35\", \"36\", \"37\", \"39\", \"40\"], \"mode\": \"markers\", \"name\": \"recall_score_macro\", \"stepped\": false, \"type\": \"scatter\", \"data\": [0.7665542389680322, 0.7899604037535072, 0.793166319028388, 0.783286735010873, 0.7934796865831348, 0.7534095672026706, 0.6076887232059646, 0.5756423911596326, 0.794899579382338, 0.785528878632327, 0.7424646321198045, 0.7537613968648452, 0.7753359270600649, 0.7253775943431116, 0.8020495865323451, 0.7908127339161822, 0.7479269910304392, 0.7809513947444983, 0.8000133138064173, 0.5258268120337085, 0.6768132664684389, 0.6175527744493262, 0.8136969481797068, 0.8070688915516501, 0.6287341528720839, 0.7640788571823055, 0.7328905259939743, 0.798874983357742, 0.7887177818212301, 0.8132277597794838, 0.5, 0.8023069867897453, 0.7297388521526452, 0.6845653535308708, 0.7582730513764996, 0.8050710809331498, 0.7904895042826078, 0.7919582143720074, 0.8189736534564122, 0.8016390775011465]}, {\"categories\": [\"0\", \"1\", \"2\", \"3\", \"4\", \"5\", \"6\", \"7\", \"8\", \"9\", \"10\", \"11\", \"12\", \"13\", \"14\", \"15\", \"16\", \"17\", \"18\", \"19\", \"20\", \"21\", \"22\", \"23\", \"24\", \"25\", \"26\", \"27\", \"28\", \"29\", \"30\", \"31\", \"32\", \"33\", \"34\", \"35\", \"36\", \"37\", \"39\", \"40\"], \"mode\": \"lines\", \"name\": \"recall_score_macro_max\", \"stepped\": true, \"type\": \"scatter\", \"data\": [0.7665542389680322, 0.7899604037535072, 0.793166319028388, 0.793166319028388, 0.7934796865831348, 0.7934796865831348, 0.7934796865831348, 0.7934796865831348, 0.794899579382338, 0.794899579382338, 0.794899579382338, 0.794899579382338, 0.794899579382338, 0.794899579382338, 0.8020495865323451, 0.8020495865323451, 0.8020495865323451, 0.8020495865323451, 0.8020495865323451, 0.8020495865323451, 0.8020495865323451, 0.8020495865323451, 0.8136969481797068, 0.8136969481797068, 0.8136969481797068, 0.8136969481797068, 0.8136969481797068, 0.8136969481797068, 0.8136969481797068, 0.8136969481797068, 0.8136969481797068, 0.8136969481797068, 0.8136969481797068, 0.8136969481797068, 0.8136969481797068, 0.8136969481797068, 0.8136969481797068, 0.8136969481797068, 0.8189736534564122, 0.8189736534564122]}], \"norm_macro_recall\": [{\"categories\": [\"0\", \"1\", \"2\", \"3\", \"4\", \"5\", \"6\", \"7\", \"8\", \"9\", \"10\", \"11\", \"12\", \"13\", \"14\", \"15\", \"16\", \"17\", \"18\", \"19\", \"20\", \"21\", \"22\", \"23\", \"24\", \"25\", \"26\", \"27\", \"28\", \"29\", \"30\", \"31\", \"32\", \"33\", \"34\", \"35\", \"36\", \"37\", \"39\", \"40\"], \"mode\": \"markers\", \"name\": \"norm_macro_recall\", \"stepped\": false, \"type\": \"scatter\", \"data\": [0.5331084779360642, 0.5799208075070145, 0.5863326380567759, 0.5665734700217459, 0.5869593731662697, 0.5068191344053413, 0.2153774464119292, 0.15128478231926512, 0.5897991587646759, 0.5710577572646539, 0.4849292642396091, 0.5075227937296902, 0.55067185412013, 0.4507551886862231, 0.6040991730646903, 0.5816254678323644, 0.49585398206087855, 0.5619027894889964, 0.6000266276128345, 0.05165362406741717, 0.35362653293687774, 0.23510554889865234, 0.6273938963594137, 0.6141377831033002, 0.2574683057441678, 0.5281577143646108, 0.4657810519879486, 0.597749966715484, 0.5774355636424601, 0.6264555195589677, 0.0, 0.6046139735794908, 0.45947770430529045, 0.36913070706174156, 0.5165461027529993, 0.6101421618662998, 0.5809790085652154, 0.583916428744015, 0.6379473069128242, 0.6032781550022929]}, {\"categories\": [\"0\", \"1\", \"2\", \"3\", \"4\", \"5\", \"6\", \"7\", \"8\", \"9\", \"10\", \"11\", \"12\", \"13\", \"14\", \"15\", \"16\", \"17\", \"18\", \"19\", \"20\", \"21\", \"22\", \"23\", \"24\", \"25\", \"26\", \"27\", \"28\", \"29\", \"30\", \"31\", \"32\", \"33\", \"34\", \"35\", \"36\", \"37\", \"39\", \"40\"], \"mode\": \"lines\", \"name\": \"norm_macro_recall_max\", \"stepped\": true, \"type\": \"scatter\", \"data\": [0.5331084779360642, 0.5799208075070145, 0.5863326380567759, 0.5863326380567759, 0.5869593731662697, 0.5869593731662697, 0.5869593731662697, 0.5869593731662697, 0.5897991587646759, 0.5897991587646759, 0.5897991587646759, 0.5897991587646759, 0.5897991587646759, 0.5897991587646759, 0.6040991730646903, 0.6040991730646903, 0.6040991730646903, 0.6040991730646903, 0.6040991730646903, 0.6040991730646903, 0.6040991730646903, 0.6040991730646903, 0.6273938963594137, 0.6273938963594137, 0.6273938963594137, 0.6273938963594137, 0.6273938963594137, 0.6273938963594137, 0.6273938963594137, 0.6273938963594137, 0.6273938963594137, 0.6273938963594137, 0.6273938963594137, 0.6273938963594137, 0.6273938963594137, 0.6273938963594137, 0.6273938963594137, 0.6273938963594137, 0.6379473069128242, 0.6379473069128242]}]}, \"metricName\": null, \"primaryMetricName\": \"accuracy\", \"showLegend\": false}, \"run_metrics\": [{\"name\": \"experiment_status\", \"run_id\": \"AutoML_64549a3f-4f93-4138-801f-5a1c3da07036\", \"categories\": [0, 1, 2, 3, 4, 5, 6, 7, 8, 9, 10, 11, 12, 13], \"series\": [{\"data\": [\"DatasetEvaluation\", \"FeaturesGeneration\", \"DatasetFeaturization\", \"DatasetFeaturizationCompleted\", \"DatasetCrossValidationSplit\", \"ModelSelection\", \"BestRunExplainModel\", \"ModelExplanationDataSetSetup\", \"PickSurrogateModel\", \"EngineeredFeatureExplanations\", \"EngineeredFeatureExplanations\", \"RawFeaturesExplanations\", \"RawFeaturesExplanations\", \"BestRunExplainModel\"]}]}, {\"name\": \"experiment_status_description\", \"run_id\": \"AutoML_64549a3f-4f93-4138-801f-5a1c3da07036\", \"categories\": [0, 1, 2, 3, 4, 5, 6, 7, 8, 9, 10, 11, 12, 13], \"series\": [{\"data\": [\"Gathering dataset statistics.\", \"Generating features for the dataset.\", \"Beginning to fit featurizers and featurize the dataset.\", \"Completed fit featurizers and featurizing the dataset.\", \"Generating individually featurized CV splits.\", \"Beginning model selection.\", \"Best run model explanations started\", \"Model explanations data setup completed\", \"Choosing LightGBM as the surrogate model for explanations\", \"Computation of engineered features started\", \"Computation of engineered features completed\", \"Computation of raw features started\", \"Computation of raw features completed\", \"Best run model explanations completed\"]}]}, {\"name\": \"matthews_correlation\", \"run_id\": \"AutoML_64549a3f-4f93-4138-801f-5a1c3da07036\", \"categories\": [0], \"series\": [{\"data\": [0.6685559766468868]}]}, {\"name\": \"f1_score_macro\", \"run_id\": \"AutoML_64549a3f-4f93-4138-801f-5a1c3da07036\", \"categories\": [0], \"series\": [{\"data\": [0.8262168825116042]}]}, {\"name\": \"precision_score_weighted\", \"run_id\": \"AutoML_64549a3f-4f93-4138-801f-5a1c3da07036\", \"categories\": [0], \"series\": [{\"data\": [0.860262491542239]}]}, {\"name\": \"f1_score_weighted\", \"run_id\": \"AutoML_64549a3f-4f93-4138-801f-5a1c3da07036\", \"categories\": [0], \"series\": [{\"data\": [0.8506077867009405]}]}, {\"name\": \"f1_score_micro\", \"run_id\": \"AutoML_64549a3f-4f93-4138-801f-5a1c3da07036\", \"categories\": [0], \"series\": [{\"data\": [0.8561616161616162]}]}, {\"name\": \"precision_score_micro\", \"run_id\": \"AutoML_64549a3f-4f93-4138-801f-5a1c3da07036\", \"categories\": [0], \"series\": [{\"data\": [0.8561616161616162]}]}, {\"name\": \"recall_score_weighted\", \"run_id\": \"AutoML_64549a3f-4f93-4138-801f-5a1c3da07036\", \"categories\": [0], \"series\": [{\"data\": [0.8561616161616162]}]}, {\"name\": \"AUC_micro\", \"run_id\": \"AutoML_64549a3f-4f93-4138-801f-5a1c3da07036\", \"categories\": [0], \"series\": [{\"data\": [0.906675652144339]}]}, {\"name\": \"norm_macro_recall\", \"run_id\": \"AutoML_64549a3f-4f93-4138-801f-5a1c3da07036\", \"categories\": [0], \"series\": [{\"data\": [0.6379473069128242]}]}, {\"name\": \"accuracy\", \"run_id\": \"AutoML_64549a3f-4f93-4138-801f-5a1c3da07036\", \"categories\": [0], \"series\": [{\"data\": [0.8561616161616162]}]}, {\"name\": \"weighted_accuracy\", \"run_id\": \"AutoML_64549a3f-4f93-4138-801f-5a1c3da07036\", \"categories\": [0], \"series\": [{\"data\": [0.8857230122409777]}]}, {\"name\": \"precision_score_macro\", \"run_id\": \"AutoML_64549a3f-4f93-4138-801f-5a1c3da07036\", \"categories\": [0], \"series\": [{\"data\": [0.8517341287496704]}]}, {\"name\": \"log_loss\", \"run_id\": \"AutoML_64549a3f-4f93-4138-801f-5a1c3da07036\", \"categories\": [0], \"series\": [{\"data\": [0.4154179981108936]}]}, {\"name\": \"average_precision_score_micro\", \"run_id\": \"AutoML_64549a3f-4f93-4138-801f-5a1c3da07036\", \"categories\": [0], \"series\": [{\"data\": [0.9061423533312474]}]}, {\"name\": \"recall_score_micro\", \"run_id\": \"AutoML_64549a3f-4f93-4138-801f-5a1c3da07036\", \"categories\": [0], \"series\": [{\"data\": [0.8561616161616162]}]}, {\"name\": \"recall_score_macro\", \"run_id\": \"AutoML_64549a3f-4f93-4138-801f-5a1c3da07036\", \"categories\": [0], \"series\": [{\"data\": [0.8189736534564122]}]}, {\"name\": \"AUC_macro\", \"run_id\": \"AutoML_64549a3f-4f93-4138-801f-5a1c3da07036\", \"categories\": [0], \"series\": [{\"data\": [0.8961027036889105]}]}, {\"name\": \"average_precision_score_weighted\", \"run_id\": \"AutoML_64549a3f-4f93-4138-801f-5a1c3da07036\", \"categories\": [0], \"series\": [{\"data\": [0.9041730906372276]}]}, {\"name\": \"balanced_accuracy\", \"run_id\": \"AutoML_64549a3f-4f93-4138-801f-5a1c3da07036\", \"categories\": [0], \"series\": [{\"data\": [0.8189736534564122]}]}, {\"name\": \"average_precision_score_macro\", \"run_id\": \"AutoML_64549a3f-4f93-4138-801f-5a1c3da07036\", \"categories\": [0], \"series\": [{\"data\": [0.8799327921525731]}]}, {\"name\": \"AUC_weighted\", \"run_id\": \"AutoML_64549a3f-4f93-4138-801f-5a1c3da07036\", \"categories\": [0], \"series\": [{\"data\": [0.8961027036889107]}]}], \"run_logs\": \"\\nRun is completed.\", \"graph\": {}, \"widget_settings\": {\"childWidgetDisplay\": \"popup\", \"send_telemetry\": false, \"log_level\": \"INFO\", \"sdk_version\": \"1.20.0\"}, \"loading\": false}"
          },
          "metadata": {}
        }
      ],
      "execution_count": 23,
      "metadata": {
        "gather": {
          "logged": 1612702825106
        },
        "jupyter": {
          "outputs_hidden": false,
          "source_hidden": false
        },
        "nteract": {
          "transient": {
            "deleting": false
          }
        }
      }
    },
    {
      "cell_type": "code",
      "source": [
        "remote_run.wait_for_completion(show_output=True)"
      ],
      "outputs": [
        {
          "output_type": "stream",
          "name": "stdout",
          "text": [
            "\n",
            "\n",
            "****************************************************************************************************\n",
            "DATA GUARDRAILS: \n",
            "\n",
            "TYPE:         Class balancing detection\n",
            "STATUS:       PASSED\n",
            "DESCRIPTION:  Your inputs were analyzed, and all classes are balanced in your training data.\n",
            "              Learn more about imbalanced data: https://aka.ms/AutomatedMLImbalancedData\n",
            "\n",
            "****************************************************************************************************\n",
            "\n",
            "TYPE:         Missing feature values imputation\n",
            "STATUS:       PASSED\n",
            "DESCRIPTION:  No feature missing values were detected in the training data.\n",
            "              Learn more about missing value imputation: https://aka.ms/AutomatedMLFeaturization\n",
            "\n",
            "****************************************************************************************************\n",
            "\n",
            "TYPE:         High cardinality feature detection\n",
            "STATUS:       PASSED\n",
            "DESCRIPTION:  Your inputs were analyzed, and no high cardinality features were detected.\n",
            "              Learn more about high cardinality feature handling: https://aka.ms/AutomatedMLFeaturization\n",
            "\n",
            "****************************************************************************************************\n",
            "\n",
            "****************************************************************************************************\n",
            "ITERATION: The iteration being evaluated.\n",
            "PIPELINE: A summary description of the pipeline being evaluated.\n",
            "DURATION: Time taken for the current iteration.\n",
            "METRIC: The result of computing score on the fitted pipeline.\n",
            "BEST: The best observed score thus far.\n",
            "****************************************************************************************************\n",
            "\n",
            " ITERATION   PIPELINE                                       DURATION      METRIC      BEST\n",
            "         0   MaxAbsScaler LightGBM                          0:00:54       0.8025    0.8025\n",
            "         1   MaxAbsScaler XGBoostClassifier                 0:00:51       0.8193    0.8193\n",
            "         2   MinMaxScaler RandomForest                      0:00:52       0.8194    0.8194\n",
            "         3   MinMaxScaler RandomForest                      0:00:52       0.8293    0.8293\n",
            "         4   MinMaxScaler RandomForest                      0:03:28       0.8294    0.8294\n",
            "         5   SparseNormalizer XGBoostClassifier             0:03:21       0.7993    0.8294\n",
            "         6   MinMaxScaler SVM                               0:03:32       0.7190    0.8294\n",
            "         7   MinMaxScaler SVM                               0:00:48       0.7057    0.8294\n",
            "        10   MinMaxScaler LightGBM                          0:00:53       0.8093    0.8294\n",
            "        11   SparseNormalizer XGBoostClassifier             0:00:47       0.8027    0.8294\n",
            "         8   MaxAbsScaler GradientBoosting                  0:00:55       0.8227    0.8294\n",
            "         9   SparseNormalizer XGBoostClassifier             0:00:50       0.8294    0.8294\n",
            "        12   RobustScaler ExtremeRandomTrees                0:00:56       0.8327    0.8327\n",
            "        13   MaxAbsScaler LightGBM                          0:00:46       0.8026    0.8327\n",
            "        14   StandardScalerWrapper GradientBoosting         0:00:45       0.8294    0.8327\n",
            "        15   StandardScalerWrapper XGBoostClassifier        0:00:46       0.8394    0.8394\n",
            "        16   SparseNormalizer XGBoostClassifier             0:00:49       0.7960    0.8394\n",
            "        17   SparseNormalizer XGBoostClassifier             0:00:46       0.8294    0.8394\n",
            "        18   MinMaxScaler RandomForest                      0:00:48       0.8327    0.8394\n",
            "        19   RobustScaler KNN                               0:00:51       0.6354    0.8394\n",
            "        20   RobustScaler LightGBM                          0:00:46       0.7794    0.8394\n",
            "        21   StandardScalerWrapper ExtremeRandomTrees       0:00:58       0.7358    0.8394\n",
            "        22   RobustScaler RandomForest                      0:00:45       0.8426    0.8426\n",
            "        23   StandardScalerWrapper XGBoostClassifier        0:00:57       0.8394    0.8426\n",
            "        24   StandardScalerWrapper LightGBM                 0:00:53       0.7390    0.8426\n",
            "        25   SparseNormalizer XGBoostClassifier             0:00:49       0.8127    0.8426\n",
            "        26   SparseNormalizer ExtremeRandomTrees            0:00:52       0.7457    0.8426\n",
            "        27   MinMaxScaler LightGBM                          0:00:45       0.8294    0.8426\n",
            "        28   StandardScalerWrapper LightGBM                 0:00:48       0.8227    0.8426\n",
            "        29   StandardScalerWrapper RandomForest             0:00:48       0.8226    0.8426\n",
            "        30   StandardScalerWrapper RandomForest             0:00:54       0.6790    0.8426\n",
            "        31   StandardScalerWrapper RandomForest             0:00:48       0.8327    0.8426\n",
            "        32   SparseNormalizer RandomForest                  0:00:59       0.7961    0.8426\n",
            "        33   SparseNormalizer XGBoostClassifier             0:00:48       0.7794    0.8426\n",
            "        34   SparseNormalizer XGBoostClassifier             0:00:49       0.8026    0.8426\n",
            "        35   StandardScalerWrapper RandomForest             0:00:57       0.8361    0.8426\n",
            "        36   StandardScalerWrapper GradientBoosting         0:00:49       0.8193    0.8426\n",
            "        37   RobustScaler ExtremeRandomTrees                0:00:41       0.8394    0.8426\n",
            "        38                                                  0:00:20          nan    0.8426\n",
            "        39    VotingEnsemble                                0:01:18       0.8562    0.8562\n",
            "        40    StackEnsemble                                 0:01:17       0.8192    0.8562\n"
          ]
        },
        {
          "output_type": "execute_result",
          "execution_count": 24,
          "data": {
            "text/plain": "{'runId': 'AutoML_64549a3f-4f93-4138-801f-5a1c3da07036',\n 'target': 'heart-compute',\n 'status': 'Completed',\n 'startTimeUtc': '2021-02-07T12:16:08.352557Z',\n 'endTimeUtc': '2021-02-07T12:34:59.307735Z',\n 'properties': {'num_iterations': '1000',\n  'training_type': 'TrainFull',\n  'acquisition_function': 'EI',\n  'primary_metric': 'accuracy',\n  'train_split': '0',\n  'acquisition_parameter': '0',\n  'num_cross_validation': '3',\n  'target': 'heart-compute',\n  'AMLSettingsJsonString': '{\"path\":null,\"name\":\"auto-ml-exp\",\"subscription_id\":\"81cefad3-d2c9-4f77-a466-99a7f541c7bb\",\"resource_group\":\"aml-quickstarts-137807\",\"workspace_name\":\"quick-starts-ws-137807\",\"region\":\"southcentralus\",\"compute_target\":\"heart-compute\",\"spark_service\":null,\"azure_service\":\"remote\",\"many_models\":false,\"pipeline_fetch_max_batch_size\":1,\"iterations\":1000,\"primary_metric\":\"accuracy\",\"task_type\":\"classification\",\"data_script\":null,\"validation_size\":0.0,\"n_cross_validations\":3,\"y_min\":null,\"y_max\":null,\"num_classes\":null,\"featurization\":\"auto\",\"_ignore_package_version_incompatibilities\":false,\"is_timeseries\":false,\"max_cores_per_iteration\":1,\"max_concurrent_iterations\":4,\"iteration_timeout_minutes\":null,\"mem_in_mb\":null,\"enforce_time_on_windows\":false,\"experiment_timeout_minutes\":20,\"experiment_exit_score\":null,\"whitelist_models\":null,\"blacklist_algos\":[\"TensorFlowLinearClassifier\",\"TensorFlowDNN\"],\"supported_models\":[\"LogisticRegression\",\"RandomForest\",\"ExtremeRandomTrees\",\"TensorFlowLinearClassifier\",\"KNN\",\"MultinomialNaiveBayes\",\"XGBoostClassifier\",\"GradientBoosting\",\"BernoulliNaiveBayes\",\"LightGBM\",\"SGD\",\"AveragedPerceptronClassifier\",\"DecisionTree\",\"LinearSVM\",\"TensorFlowDNN\",\"SVM\"],\"auto_blacklist\":true,\"blacklist_samples_reached\":false,\"exclude_nan_labels\":true,\"verbosity\":20,\"_debug_log\":\"azureml_automl.log\",\"show_warnings\":false,\"model_explainability\":true,\"service_url\":null,\"sdk_url\":null,\"sdk_packages\":null,\"enable_onnx_compatible_models\":false,\"enable_split_onnx_featurizer_estimator_models\":false,\"vm_type\":\"STANDARD_D2_V2\",\"telemetry_verbosity\":20,\"send_telemetry\":true,\"enable_dnn\":false,\"scenario\":\"SDK-1.13.0\",\"environment_label\":null,\"force_text_dnn\":false,\"enable_feature_sweeping\":true,\"enable_early_stopping\":true,\"early_stopping_n_iters\":10,\"metrics\":null,\"enable_ensembling\":true,\"enable_stack_ensembling\":true,\"ensemble_iterations\":15,\"enable_tf\":false,\"enable_subsampling\":null,\"subsample_seed\":null,\"enable_nimbusml\":false,\"enable_streaming\":false,\"force_streaming\":false,\"track_child_runs\":true,\"allowed_private_models\":[],\"label_column_name\":\"DEATH_EVENT\",\"weight_column_name\":null,\"cv_split_column_names\":null,\"enable_local_managed\":false,\"_local_managed_run_id\":null,\"cost_mode\":1,\"lag_length\":0,\"metric_operation\":\"maximize\",\"preprocess\":true}',\n  'DataPrepJsonString': '{\\\\\"training_data\\\\\": \\\\\"{\\\\\\\\\\\\\"blocks\\\\\\\\\\\\\": [{\\\\\\\\\\\\\"id\\\\\\\\\\\\\": \\\\\\\\\\\\\"bf2dd54a-68a4-4e98-a14c-c3bf553a908b\\\\\\\\\\\\\", \\\\\\\\\\\\\"type\\\\\\\\\\\\\": \\\\\\\\\\\\\"Microsoft.DPrep.GetDatastoreFilesBlock\\\\\\\\\\\\\", \\\\\\\\\\\\\"arguments\\\\\\\\\\\\\": {\\\\\\\\\\\\\"datastores\\\\\\\\\\\\\": [{\\\\\\\\\\\\\"datastoreName\\\\\\\\\\\\\": \\\\\\\\\\\\\"workspaceblobstore\\\\\\\\\\\\\", \\\\\\\\\\\\\"path\\\\\\\\\\\\\": \\\\\\\\\\\\\"UI/02-07-2021_110412_UTC/heart_failure_clinical_records_dataset[1].csv\\\\\\\\\\\\\", \\\\\\\\\\\\\"resourceGroup\\\\\\\\\\\\\": \\\\\\\\\\\\\"aml-quickstarts-137807\\\\\\\\\\\\\", \\\\\\\\\\\\\"subscription\\\\\\\\\\\\\": \\\\\\\\\\\\\"81cefad3-d2c9-4f77-a466-99a7f541c7bb\\\\\\\\\\\\\", \\\\\\\\\\\\\"workspaceName\\\\\\\\\\\\\": \\\\\\\\\\\\\"quick-starts-ws-137807\\\\\\\\\\\\\"}]}, \\\\\\\\\\\\\"localData\\\\\\\\\\\\\": {}, \\\\\\\\\\\\\"isEnabled\\\\\\\\\\\\\": true, \\\\\\\\\\\\\"name\\\\\\\\\\\\\": null, \\\\\\\\\\\\\"annotation\\\\\\\\\\\\\": null}, {\\\\\\\\\\\\\"id\\\\\\\\\\\\\": \\\\\\\\\\\\\"3d552949-7548-4e88-89d2-10a8fe710cc6\\\\\\\\\\\\\", \\\\\\\\\\\\\"type\\\\\\\\\\\\\": \\\\\\\\\\\\\"Microsoft.DPrep.ParseDelimitedBlock\\\\\\\\\\\\\", \\\\\\\\\\\\\"arguments\\\\\\\\\\\\\": {\\\\\\\\\\\\\"columnHeadersMode\\\\\\\\\\\\\": 1, \\\\\\\\\\\\\"fileEncoding\\\\\\\\\\\\\": 0, \\\\\\\\\\\\\"handleQuotedLineBreaks\\\\\\\\\\\\\": false, \\\\\\\\\\\\\"preview\\\\\\\\\\\\\": false, \\\\\\\\\\\\\"separator\\\\\\\\\\\\\": \\\\\\\\\\\\\",\\\\\\\\\\\\\", \\\\\\\\\\\\\"skipRows\\\\\\\\\\\\\": 0, \\\\\\\\\\\\\"skipRowsMode\\\\\\\\\\\\\": 0}, \\\\\\\\\\\\\"localData\\\\\\\\\\\\\": {}, \\\\\\\\\\\\\"isEnabled\\\\\\\\\\\\\": true, \\\\\\\\\\\\\"name\\\\\\\\\\\\\": null, \\\\\\\\\\\\\"annotation\\\\\\\\\\\\\": null}, {\\\\\\\\\\\\\"id\\\\\\\\\\\\\": \\\\\\\\\\\\\"e78cf37a-5518-4527-b43e-619ee0c599a4\\\\\\\\\\\\\", \\\\\\\\\\\\\"type\\\\\\\\\\\\\": \\\\\\\\\\\\\"Microsoft.DPrep.DropColumnsBlock\\\\\\\\\\\\\", \\\\\\\\\\\\\"arguments\\\\\\\\\\\\\": {\\\\\\\\\\\\\"columns\\\\\\\\\\\\\": {\\\\\\\\\\\\\"type\\\\\\\\\\\\\": 0, \\\\\\\\\\\\\"details\\\\\\\\\\\\\": {\\\\\\\\\\\\\"selectedColumns\\\\\\\\\\\\\": [\\\\\\\\\\\\\"Path\\\\\\\\\\\\\"]}}}, \\\\\\\\\\\\\"localData\\\\\\\\\\\\\": {}, \\\\\\\\\\\\\"isEnabled\\\\\\\\\\\\\": true, \\\\\\\\\\\\\"name\\\\\\\\\\\\\": null, \\\\\\\\\\\\\"annotation\\\\\\\\\\\\\": null}, {\\\\\\\\\\\\\"id\\\\\\\\\\\\\": \\\\\\\\\\\\\"0e0378a1-6744-4857-a3ed-eae6b4395d2f\\\\\\\\\\\\\", \\\\\\\\\\\\\"type\\\\\\\\\\\\\": \\\\\\\\\\\\\"Microsoft.DPrep.SetColumnTypesBlock\\\\\\\\\\\\\", \\\\\\\\\\\\\"arguments\\\\\\\\\\\\\": {\\\\\\\\\\\\\"columnConversion\\\\\\\\\\\\\": [{\\\\\\\\\\\\\"column\\\\\\\\\\\\\": {\\\\\\\\\\\\\"type\\\\\\\\\\\\\": 2, \\\\\\\\\\\\\"details\\\\\\\\\\\\\": {\\\\\\\\\\\\\"selectedColumn\\\\\\\\\\\\\": \\\\\\\\\\\\\"Path\\\\\\\\\\\\\"}}, \\\\\\\\\\\\\"typeProperty\\\\\\\\\\\\\": 0}, {\\\\\\\\\\\\\"column\\\\\\\\\\\\\": {\\\\\\\\\\\\\"type\\\\\\\\\\\\\": 2, \\\\\\\\\\\\\"details\\\\\\\\\\\\\": {\\\\\\\\\\\\\"selectedColumn\\\\\\\\\\\\\": \\\\\\\\\\\\\"age\\\\\\\\\\\\\"}}, \\\\\\\\\\\\\"typeProperty\\\\\\\\\\\\\": 3}, {\\\\\\\\\\\\\"column\\\\\\\\\\\\\": {\\\\\\\\\\\\\"type\\\\\\\\\\\\\": 2, \\\\\\\\\\\\\"details\\\\\\\\\\\\\": {\\\\\\\\\\\\\"selectedColumn\\\\\\\\\\\\\": \\\\\\\\\\\\\"anaemia\\\\\\\\\\\\\"}}, \\\\\\\\\\\\\"typeProperty\\\\\\\\\\\\\": 2}, {\\\\\\\\\\\\\"column\\\\\\\\\\\\\": {\\\\\\\\\\\\\"type\\\\\\\\\\\\\": 2, \\\\\\\\\\\\\"details\\\\\\\\\\\\\": {\\\\\\\\\\\\\"selectedColumn\\\\\\\\\\\\\": \\\\\\\\\\\\\"creatinine_phosphokinase\\\\\\\\\\\\\"}}, \\\\\\\\\\\\\"typeProperty\\\\\\\\\\\\\": 2}, {\\\\\\\\\\\\\"column\\\\\\\\\\\\\": {\\\\\\\\\\\\\"type\\\\\\\\\\\\\": 2, \\\\\\\\\\\\\"details\\\\\\\\\\\\\": {\\\\\\\\\\\\\"selectedColumn\\\\\\\\\\\\\": \\\\\\\\\\\\\"diabetes\\\\\\\\\\\\\"}}, \\\\\\\\\\\\\"typeProperty\\\\\\\\\\\\\": 2}, {\\\\\\\\\\\\\"column\\\\\\\\\\\\\": {\\\\\\\\\\\\\"type\\\\\\\\\\\\\": 2, \\\\\\\\\\\\\"details\\\\\\\\\\\\\": {\\\\\\\\\\\\\"selectedColumn\\\\\\\\\\\\\": \\\\\\\\\\\\\"ejection_fraction\\\\\\\\\\\\\"}}, \\\\\\\\\\\\\"typeProperty\\\\\\\\\\\\\": 2}, {\\\\\\\\\\\\\"column\\\\\\\\\\\\\": {\\\\\\\\\\\\\"type\\\\\\\\\\\\\": 2, \\\\\\\\\\\\\"details\\\\\\\\\\\\\": {\\\\\\\\\\\\\"selectedColumn\\\\\\\\\\\\\": \\\\\\\\\\\\\"high_blood_pressure\\\\\\\\\\\\\"}}, \\\\\\\\\\\\\"typeProperty\\\\\\\\\\\\\": 2}, {\\\\\\\\\\\\\"column\\\\\\\\\\\\\": {\\\\\\\\\\\\\"type\\\\\\\\\\\\\": 2, \\\\\\\\\\\\\"details\\\\\\\\\\\\\": {\\\\\\\\\\\\\"selectedColumn\\\\\\\\\\\\\": \\\\\\\\\\\\\"platelets\\\\\\\\\\\\\"}}, \\\\\\\\\\\\\"typeProperty\\\\\\\\\\\\\": 3}, {\\\\\\\\\\\\\"column\\\\\\\\\\\\\": {\\\\\\\\\\\\\"type\\\\\\\\\\\\\": 2, \\\\\\\\\\\\\"details\\\\\\\\\\\\\": {\\\\\\\\\\\\\"selectedColumn\\\\\\\\\\\\\": \\\\\\\\\\\\\"serum_creatinine\\\\\\\\\\\\\"}}, \\\\\\\\\\\\\"typeProperty\\\\\\\\\\\\\": 3}, {\\\\\\\\\\\\\"column\\\\\\\\\\\\\": {\\\\\\\\\\\\\"type\\\\\\\\\\\\\": 2, \\\\\\\\\\\\\"details\\\\\\\\\\\\\": {\\\\\\\\\\\\\"selectedColumn\\\\\\\\\\\\\": \\\\\\\\\\\\\"serum_sodium\\\\\\\\\\\\\"}}, \\\\\\\\\\\\\"typeProperty\\\\\\\\\\\\\": 2}, {\\\\\\\\\\\\\"column\\\\\\\\\\\\\": {\\\\\\\\\\\\\"type\\\\\\\\\\\\\": 2, \\\\\\\\\\\\\"details\\\\\\\\\\\\\": {\\\\\\\\\\\\\"selectedColumn\\\\\\\\\\\\\": \\\\\\\\\\\\\"sex\\\\\\\\\\\\\"}}, \\\\\\\\\\\\\"typeProperty\\\\\\\\\\\\\": 2}, {\\\\\\\\\\\\\"column\\\\\\\\\\\\\": {\\\\\\\\\\\\\"type\\\\\\\\\\\\\": 2, \\\\\\\\\\\\\"details\\\\\\\\\\\\\": {\\\\\\\\\\\\\"selectedColumn\\\\\\\\\\\\\": \\\\\\\\\\\\\"smoking\\\\\\\\\\\\\"}}, \\\\\\\\\\\\\"typeProperty\\\\\\\\\\\\\": 2}, {\\\\\\\\\\\\\"column\\\\\\\\\\\\\": {\\\\\\\\\\\\\"type\\\\\\\\\\\\\": 2, \\\\\\\\\\\\\"details\\\\\\\\\\\\\": {\\\\\\\\\\\\\"selectedColumn\\\\\\\\\\\\\": \\\\\\\\\\\\\"time\\\\\\\\\\\\\"}}, \\\\\\\\\\\\\"typeProperty\\\\\\\\\\\\\": 2}, {\\\\\\\\\\\\\"column\\\\\\\\\\\\\": {\\\\\\\\\\\\\"type\\\\\\\\\\\\\": 2, \\\\\\\\\\\\\"details\\\\\\\\\\\\\": {\\\\\\\\\\\\\"selectedColumn\\\\\\\\\\\\\": \\\\\\\\\\\\\"DEATH_EVENT\\\\\\\\\\\\\"}}, \\\\\\\\\\\\\"typeProperty\\\\\\\\\\\\\": 2}]}, \\\\\\\\\\\\\"localData\\\\\\\\\\\\\": {}, \\\\\\\\\\\\\"isEnabled\\\\\\\\\\\\\": true, \\\\\\\\\\\\\"name\\\\\\\\\\\\\": null, \\\\\\\\\\\\\"annotation\\\\\\\\\\\\\": null}], \\\\\\\\\\\\\"inspectors\\\\\\\\\\\\\": [], \\\\\\\\\\\\\"meta\\\\\\\\\\\\\": {\\\\\\\\\\\\\"savedDatasetId\\\\\\\\\\\\\": \\\\\\\\\\\\\"1b5f6249-d638-4a4b-a551-017023141f7c\\\\\\\\\\\\\", \\\\\\\\\\\\\"datasetType\\\\\\\\\\\\\": \\\\\\\\\\\\\"tabular\\\\\\\\\\\\\", \\\\\\\\\\\\\"subscriptionId\\\\\\\\\\\\\": \\\\\\\\\\\\\"81cefad3-d2c9-4f77-a466-99a7f541c7bb\\\\\\\\\\\\\", \\\\\\\\\\\\\"workspaceId\\\\\\\\\\\\\": \\\\\\\\\\\\\"feec5c5a-08b4-49cd-9ffc-decb26c7db8a\\\\\\\\\\\\\", \\\\\\\\\\\\\"workspaceLocation\\\\\\\\\\\\\": \\\\\\\\\\\\\"southcentralus\\\\\\\\\\\\\"}}\\\\\", \\\\\"activities\\\\\": 0}',\n  'EnableSubsampling': None,\n  'runTemplate': 'AutoML',\n  'azureml.runsource': 'automl',\n  'display_task_type': 'classification',\n  'dependencies_versions': '{\"azureml-widgets\": \"1.20.0\", \"azureml-train\": \"1.20.0\", \"azureml-train-restclients-hyperdrive\": \"1.20.0\", \"azureml-train-core\": \"1.20.0\", \"azureml-train-automl\": \"1.20.0\", \"azureml-train-automl-runtime\": \"1.20.0\", \"azureml-train-automl-client\": \"1.20.0\", \"azureml-tensorboard\": \"1.20.0\", \"azureml-telemetry\": \"1.20.0\", \"azureml-sdk\": \"1.20.0\", \"azureml-samples\": \"0+unknown\", \"azureml-pipeline\": \"1.20.0\", \"azureml-pipeline-steps\": \"1.20.0\", \"azureml-pipeline-core\": \"1.20.0\", \"azureml-opendatasets\": \"1.20.0\", \"azureml-model-management-sdk\": \"1.0.1b6.post1\", \"azureml-mlflow\": \"1.20.0.post1\", \"azureml-interpret\": \"1.20.0\", \"azureml-explain-model\": \"1.20.0\", \"azureml-defaults\": \"1.20.0\", \"azureml-dataset-runtime\": \"1.20.0\", \"azureml-dataprep\": \"2.7.3\", \"azureml-dataprep-rslex\": \"1.5.0\", \"azureml-dataprep-native\": \"27.0.0\", \"azureml-datadrift\": \"1.20.0\", \"azureml-core\": \"1.20.0\", \"azureml-contrib-services\": \"1.20.0\", \"azureml-contrib-server\": \"1.20.0\", \"azureml-contrib-reinforcementlearning\": \"1.20.0\", \"azureml-contrib-pipeline-steps\": \"1.20.0\", \"azureml-contrib-notebook\": \"1.20.0\", \"azureml-contrib-interpret\": \"1.20.0\", \"azureml-contrib-gbdt\": \"1.20.0\", \"azureml-contrib-fairness\": \"1.20.0\", \"azureml-contrib-dataset\": \"1.20.0\", \"azureml-cli-common\": \"1.20.0\", \"azureml-automl-runtime\": \"1.20.0\", \"azureml-automl-core\": \"1.20.0\", \"azureml-accel-models\": \"1.20.0\"}',\n  '_aml_system_scenario_identification': 'Remote.Parent',\n  'ClientType': 'SDK',\n  'environment_cpu_name': 'AzureML-AutoML',\n  'environment_cpu_label': 'prod',\n  'environment_gpu_name': 'AzureML-AutoML-GPU',\n  'environment_gpu_label': 'prod',\n  'root_attribution': 'automl',\n  'attribution': 'AutoML',\n  'Orchestrator': 'AutoML',\n  'CancelUri': 'https://southcentralus.experiments.azureml.net/jasmine/v1.0/subscriptions/81cefad3-d2c9-4f77-a466-99a7f541c7bb/resourceGroups/aml-quickstarts-137807/providers/Microsoft.MachineLearningServices/workspaces/quick-starts-ws-137807/experimentids/a6bf65e5-213b-4e29-8834-2268ba22d5e9/cancel/AutoML_64549a3f-4f93-4138-801f-5a1c3da07036',\n  'ClientSdkVersion': '1.21.0',\n  'snapshotId': '00000000-0000-0000-0000-000000000000',\n  'SetupRunId': 'AutoML_64549a3f-4f93-4138-801f-5a1c3da07036_setup',\n  'SetupRunContainerId': 'dcid.AutoML_64549a3f-4f93-4138-801f-5a1c3da07036_setup',\n  'FeaturizationRunJsonPath': 'featurizer_container.json',\n  'FeaturizationRunId': 'AutoML_64549a3f-4f93-4138-801f-5a1c3da07036_featurize',\n  'ProblemInfoJsonString': '{\"dataset_num_categorical\": 0, \"is_sparse\": false, \"subsampling\": false, \"dataset_classes\": 2, \"dataset_features\": 12, \"dataset_samples\": 299, \"single_frequency_class_detected\": false}',\n  'ModelExplainRunId': 'AutoML_64549a3f-4f93-4138-801f-5a1c3da07036_ModelExplain'},\n 'inputDatasets': [{'dataset': {'id': '1b5f6249-d638-4a4b-a551-017023141f7c'}, 'consumptionDetails': {'type': 'RunInput', 'inputName': 'training_data', 'mechanism': 'Direct'}}],\n 'outputDatasets': [],\n 'logFiles': {},\n 'submittedBy': 'ODL_User 137807'}"
          },
          "metadata": {}
        }
      ],
      "execution_count": 24,
      "metadata": {
        "collapsed": true,
        "jupyter": {
          "source_hidden": false,
          "outputs_hidden": false
        },
        "nteract": {
          "transient": {
            "deleting": false
          }
        },
        "gather": {
          "logged": 1612703054677
        }
      }
    },
    {
      "cell_type": "markdown",
      "source": [
        "## Best Model\n",
        "\n",
        "TODO: In the cell below, get the best model from the automl experiments and display all the properties of the model.\n",
        "\n"
      ],
      "metadata": {}
    },
    {
      "cell_type": "code",
      "source": [
        "best_run, fitted_model = remote_run.get_output()\r\n",
        "best_run_metrics = best_run.get_metrics()"
      ],
      "outputs": [
        {
          "output_type": "stream",
          "name": "stderr",
          "text": [
            "WARNING:root:The version of the SDK does not match the version the model was trained on.\n",
            "WARNING:root:The consistency in the result may not be guaranteed.\n",
            "WARNING:root:Package:azureml-automl-core, training version:1.21.0, current version:1.20.0\n",
            "Package:azureml-automl-runtime, training version:1.21.0, current version:1.20.0\n",
            "Package:azureml-core, training version:1.21.0.post1, current version:1.20.0\n",
            "Package:azureml-dataprep, training version:2.8.2, current version:2.7.3\n",
            "Package:azureml-dataprep-native, training version:28.0.0, current version:27.0.0\n",
            "Package:azureml-dataprep-rslex, training version:1.6.0, current version:1.5.0\n",
            "Package:azureml-dataset-runtime, training version:1.21.0, current version:1.20.0\n",
            "Package:azureml-defaults, training version:1.21.0, current version:1.20.0\n",
            "Package:azureml-interpret, training version:1.21.0, current version:1.20.0\n",
            "Package:azureml-pipeline-core, training version:1.21.0, current version:1.20.0\n",
            "Package:azureml-telemetry, training version:1.21.0, current version:1.20.0\n",
            "Package:azureml-train-automl-client, training version:1.21.0, current version:1.20.0\n",
            "Package:azureml-train-automl-runtime, training version:1.21.0, current version:1.20.0\n",
            "WARNING:root:Please ensure the version of your local conda dependencies match the version on which your model was trained in order to properly retrieve your model.\n"
          ]
        }
      ],
      "execution_count": 26,
      "metadata": {
        "gather": {
          "logged": 1612703367749
        },
        "jupyter": {
          "outputs_hidden": false,
          "source_hidden": false
        },
        "nteract": {
          "transient": {
            "deleting": false
          }
        }
      }
    },
    {
      "cell_type": "code",
      "source": [
        "print('Best Run Id: ', best_run.id)\r\n",
        "# print('\\n Accuracy: ', best_run_metrics['Accuracy'])\r\n",
        "print('\\n Metrics: ', best_run_metrics)\r\n",
        "print('\\n Best Model: ', fitted_model)"
      ],
      "outputs": [
        {
          "output_type": "stream",
          "name": "stdout",
          "text": [
            "Best Run Id:  AutoML_64549a3f-4f93-4138-801f-5a1c3da07036_39\n",
            "\n",
            " Metrics:  {'average_precision_score_macro': 0.8799327921525731, 'AUC_weighted': 0.8961027036889107, 'AUC_micro': 0.906675652144339, 'balanced_accuracy': 0.8189736534564122, 'f1_score_micro': 0.8561616161616162, 'precision_score_macro': 0.8517341287496704, 'average_precision_score_weighted': 0.9041730906372276, 'matthews_correlation': 0.6685559766468868, 'average_precision_score_micro': 0.9061423533312474, 'AUC_macro': 0.8961027036889105, 'recall_score_micro': 0.8561616161616162, 'norm_macro_recall': 0.6379473069128242, 'precision_score_weighted': 0.860262491542239, 'recall_score_macro': 0.8189736534564122, 'recall_score_weighted': 0.8561616161616162, 'weighted_accuracy': 0.8857230122409777, 'log_loss': 0.4154179981108936, 'f1_score_macro': 0.8262168825116042, 'precision_score_micro': 0.8561616161616162, 'accuracy': 0.8561616161616162, 'f1_score_weighted': 0.8506077867009405, 'accuracy_table': 'aml://artifactId/ExperimentRun/dcid.AutoML_64549a3f-4f93-4138-801f-5a1c3da07036_39/accuracy_table', 'confusion_matrix': 'aml://artifactId/ExperimentRun/dcid.AutoML_64549a3f-4f93-4138-801f-5a1c3da07036_39/confusion_matrix'}\n",
            "\n",
            " Best Model:  Pipeline(memory=None,\n",
            "         steps=[('datatransformer',\n",
            "                 DataTransformer(enable_dnn=None, enable_feature_sweeping=None,\n",
            "                                 feature_sweeping_config=None,\n",
            "                                 feature_sweeping_timeout=None,\n",
            "                                 featurization_config=None, force_text_dnn=None,\n",
            "                                 is_cross_validation=None,\n",
            "                                 is_onnx_compatible=None, logger=None,\n",
            "                                 observer=None, task=None, working_dir=None)),\n",
            "                ('prefittedsoftvotingclassifier',...\n",
            "                                                                                                random_state=None,\n",
            "                                                                                                reg_alpha=0.21052631578947367,\n",
            "                                                                                                reg_lambda=0.7894736842105263,\n",
            "                                                                                                silent=True,\n",
            "                                                                                                subsample=0.5942105263157895,\n",
            "                                                                                                subsample_for_bin=200000,\n",
            "                                                                                                subsample_freq=0,\n",
            "                                                                                                verbose=-10))],\n",
            "                                                                     verbose=False))],\n",
            "                                               flatten_transform=None,\n",
            "                                               weights=[0.14285714285714285,\n",
            "                                                        0.14285714285714285,\n",
            "                                                        0.2857142857142857,\n",
            "                                                        0.14285714285714285,\n",
            "                                                        0.14285714285714285,\n",
            "                                                        0.14285714285714285]))],\n",
            "         verbose=False)\n"
          ]
        }
      ],
      "execution_count": 28,
      "metadata": {
        "collapsed": true,
        "jupyter": {
          "source_hidden": false,
          "outputs_hidden": false
        },
        "nteract": {
          "transient": {
            "deleting": false
          }
        },
        "gather": {
          "logged": 1612703658568
        }
      }
    },
    {
      "cell_type": "code",
      "source": [
        "print(fitted_model._final_estimator)"
      ],
      "outputs": [
        {
          "output_type": "stream",
          "name": "stdout",
          "text": [
            "PreFittedSoftVotingClassifier(classification_labels=None,\n",
            "                              estimators=[('22',\n",
            "                                           Pipeline(memory=None,\n",
            "                                                    steps=[('robustscaler',\n",
            "                                                            RobustScaler(copy=True,\n",
            "                                                                         quantile_range=[10,\n",
            "                                                                                         90],\n",
            "                                                                         with_centering=True,\n",
            "                                                                         with_scaling=False)),\n",
            "                                                           ('randomforestclassifier',\n",
            "                                                            RandomForestClassifier(bootstrap=True,\n",
            "                                                                                   ccp_alpha=0.0,\n",
            "                                                                                   class_weight=None,\n",
            "                                                                                   criterion='gini',\n",
            "                                                                                   max_depth=None,\n",
            "                                                                                   max_features=0.4...\n",
            "                                                                               objective=None,\n",
            "                                                                               random_state=None,\n",
            "                                                                               reg_alpha=0.21052631578947367,\n",
            "                                                                               reg_lambda=0.7894736842105263,\n",
            "                                                                               silent=True,\n",
            "                                                                               subsample=0.5942105263157895,\n",
            "                                                                               subsample_for_bin=200000,\n",
            "                                                                               subsample_freq=0,\n",
            "                                                                               verbose=-10))],\n",
            "                                                    verbose=False))],\n",
            "                              flatten_transform=None,\n",
            "                              weights=[0.14285714285714285, 0.14285714285714285,\n",
            "                                       0.2857142857142857, 0.14285714285714285,\n",
            "                                       0.14285714285714285,\n",
            "                                       0.14285714285714285])\n"
          ]
        }
      ],
      "execution_count": 29,
      "metadata": {
        "collapsed": true,
        "jupyter": {
          "source_hidden": false,
          "outputs_hidden": false
        },
        "nteract": {
          "transient": {
            "deleting": false
          }
        },
        "gather": {
          "logged": 1612703708991
        }
      }
    },
    {
      "cell_type": "code",
      "source": [
        "#TODO: Save the best model\r\n",
        "automl_best_model = best_run.register_model(model_name = \"best-automl-model\", model_path = './outputs/model.pkl', properties={'Accuracy': best_run_metrics['accuracy']})\r\n",
        "print(automl_best_model)"
      ],
      "outputs": [
        {
          "output_type": "stream",
          "name": "stdout",
          "text": [
            "Model(workspace=Workspace.create(name='quick-starts-ws-137807', subscription_id='81cefad3-d2c9-4f77-a466-99a7f541c7bb', resource_group='aml-quickstarts-137807'), name=best-automl-model, id=best-automl-model:2, version=2, tags={}, properties={'Accuracy': '0.8561616161616162'})\n"
          ]
        }
      ],
      "execution_count": 30,
      "metadata": {
        "gather": {
          "logged": 1612703715899
        },
        "jupyter": {
          "outputs_hidden": false,
          "source_hidden": false
        },
        "nteract": {
          "transient": {
            "deleting": false
          }
        }
      }
    },
    {
      "cell_type": "code",
      "source": [
        "for model in Model.list(ws):\r\n",
        "    print(model.name, 'version:', model.version)\r\n",
        "    for props_name in model.properties:\r\n",
        "        props = model.properties[props_name]\r\n",
        "        print ('\\t',props_name, ':', props)\r\n",
        "    print('\\n')"
      ],
      "outputs": [
        {
          "output_type": "stream",
          "name": "stdout",
          "text": [
            "best-automl-model version: 2\n",
            "\t Accuracy : 0.8561616161616162\n",
            "\n",
            "\n",
            "best_hyperdrive_model version: 1\n",
            "\n",
            "\n",
            "best-automl-model version: 1\n",
            "\t Accuracy : 0.8594949494949495\n",
            "\n",
            "\n"
          ]
        }
      ],
      "execution_count": 31,
      "metadata": {
        "collapsed": true,
        "jupyter": {
          "source_hidden": false,
          "outputs_hidden": false
        },
        "nteract": {
          "transient": {
            "deleting": false
          }
        },
        "gather": {
          "logged": 1612703723192
        }
      }
    },
    {
      "cell_type": "markdown",
      "source": [
        "## Model Deployment\n",
        "\n",
        "Remember you have to deploy only one of the two models you trained.. Perform the steps in the rest of this notebook only if you wish to deploy this model.\n",
        "\n",
        "TODO: In the cell below, register the model, create an inference config and deploy the model as a web service."
      ],
      "metadata": {}
    },
    {
      "cell_type": "code",
      "source": [
        "os.makedirs('./atoml-model', exist_ok=True)\r\n",
        "\r\n",
        "best_run.download_file('/outputs/model.pkl',os.path.join('./atoml-model','best-automl-model.pkl'))\r\n",
        "\r\n",
        "for f in best_run.get_file_names():\r\n",
        "    if f.startswith('outputs'):\r\n",
        "        output_file_path = os.path.join('./atoml-model', f.split('/')[-1])\r\n",
        "        print(f'Downloading from {f} to {output_file_path} ...')\r\n",
        "        best_run.download_file(name=f, output_file_path=output_file_path)"
      ],
      "outputs": [],
      "execution_count": null,
      "metadata": {
        "collapsed": true,
        "jupyter": {
          "source_hidden": false,
          "outputs_hidden": false
        },
        "nteract": {
          "transient": {
            "deleting": false
          }
        }
      }
    },
    {
      "cell_type": "code",
      "source": [
        "\r\n",
        "model=best_run.register_model(\r\n",
        "            model_name = 'best-automl-model', \r\n",
        "            model_path = './outputs/model.pkl'\r\n",
        ")"
      ],
      "outputs": [],
      "execution_count": null,
      "metadata": {
        "collapsed": true,
        "jupyter": {
          "source_hidden": false,
          "outputs_hidden": false
        },
        "nteract": {
          "transient": {
            "deleting": false
          }
        }
      }
    },
    {
      "cell_type": "code",
      "source": [
        "# Download scoring file \r\n",
        "best_run.download_file('outputs/scoring_file_v_1_0_0.py', 'scoreScript.py')\r\n",
        "\r\n",
        "# Download environment file\r\n",
        "best_run.download_file('outputs/conda_env_v_1_0_0.yml', 'environment_file.yml')"
      ],
      "outputs": [],
      "execution_count": null,
      "metadata": {
        "gather": {
          "logged": 1598431435189
        },
        "jupyter": {
          "outputs_hidden": false,
          "source_hidden": false
        },
        "nteract": {
          "transient": {
            "deleting": false
          }
        }
      }
    },
    {
      "cell_type": "code",
      "source": [
        "\r\n",
        "# Create an inference config \r\n",
        "inference_config = InferenceConfig(entry_script='score.py',\r\n",
        "                                    environment=best_run.get_environment())\r\n",
        "\r\n",
        "# Deploy the model as a web service\r\n",
        "aci_config = AciWebservice.deploy_configuration(cpu_cores = 1, memory_gb = 1, auth_enabled=True, enable_app_insights=True)\r\n",
        "webservice = Model.deploy(ws, \"myservice\", [automl_best_model], inference_config, aci_config)\r\n",
        "webservice.wait_for_deployment(show_output = True)\r\n"
      ],
      "outputs": [],
      "execution_count": null,
      "metadata": {
        "collapsed": true,
        "jupyter": {
          "source_hidden": false,
          "outputs_hidden": false
        },
        "nteract": {
          "transient": {
            "deleting": false
          }
        }
      }
    },
    {
      "cell_type": "code",
      "source": [
        "webservice"
      ],
      "outputs": [],
      "execution_count": null,
      "metadata": {
        "collapsed": true,
        "jupyter": {
          "source_hidden": false,
          "outputs_hidden": false
        },
        "nteract": {
          "transient": {
            "deleting": false
          }
        }
      }
    },
    {
      "cell_type": "code",
      "source": [
        "print(webservice.state)\r\n",
        "\r\n",
        "print(webservice.scoring_uri)\r\n",
        "\r\n",
        "print(webservice.swagger_uri)"
      ],
      "outputs": [],
      "execution_count": null,
      "metadata": {
        "collapsed": true,
        "jupyter": {
          "source_hidden": false,
          "outputs_hidden": false
        },
        "nteract": {
          "transient": {
            "deleting": false
          }
        }
      }
    },
    {
      "cell_type": "markdown",
      "source": [
        "TODO: In the cell below, send a request to the web service you deployed to test it."
      ],
      "metadata": {
        "collapsed": true,
        "gather": {
          "logged": 1598431657736
        },
        "jupyter": {
          "outputs_hidden": false,
          "source_hidden": false
        },
        "nteract": {
          "transient": {
            "deleting": false
          }
        }
      }
    },
    {
      "cell_type": "code",
      "source": [
        "#test data\r\n",
        "\r\n",
        "test_df = df.sample(5) \r\n",
        "label_df = test_df.pop('DEATH_EVENT')\r\n",
        "\r\n",
        "test_sample = json.dumps({'data': test_df.to_dict(orient='records')})\r\n",
        "\r\n",
        "print(test_sample)"
      ],
      "outputs": [],
      "execution_count": null,
      "metadata": {
        "gather": {
          "logged": 1598432707604
        },
        "jupyter": {
          "outputs_hidden": false,
          "source_hidden": false
        },
        "nteract": {
          "transient": {
            "deleting": false
          }
        }
      }
    },
    {
      "cell_type": "code",
      "source": [
        "output = webservice.run(test_sample)\r\n",
        "print(output)"
      ],
      "outputs": [],
      "execution_count": null,
      "metadata": {
        "collapsed": true,
        "jupyter": {
          "source_hidden": false,
          "outputs_hidden": false
        },
        "nteract": {
          "transient": {
            "deleting": false
          }
        }
      }
    },
    {
      "cell_type": "code",
      "source": [
        "# Send a request to the web service you deployed to test it.\r\n",
        "\r\n",
        "import requests\r\n",
        "\r\n",
        "headers = {'Content-type': 'application/json'}\r\n",
        "\r\n",
        "response = requests.post(webservice.scoring_uri, test_sample, headers=headers)"
      ],
      "outputs": [],
      "execution_count": null,
      "metadata": {
        "collapsed": true,
        "jupyter": {
          "source_hidden": false,
          "outputs_hidden": false
        },
        "nteract": {
          "transient": {
            "deleting": false
          }
        }
      }
    },
    {
      "cell_type": "code",
      "source": [
        "print(response.text)"
      ],
      "outputs": [],
      "execution_count": null,
      "metadata": {
        "collapsed": true,
        "jupyter": {
          "source_hidden": false,
          "outputs_hidden": false
        },
        "nteract": {
          "transient": {
            "deleting": false
          }
        }
      }
    },
    {
      "cell_type": "code",
      "source": [
        "print(label_df)"
      ],
      "outputs": [],
      "execution_count": null,
      "metadata": {
        "collapsed": true,
        "jupyter": {
          "source_hidden": false,
          "outputs_hidden": false
        },
        "nteract": {
          "transient": {
            "deleting": false
          }
        }
      }
    },
    {
      "cell_type": "markdown",
      "source": [
        "TODO: In the cell below, print the logs of the web service and delete the service"
      ],
      "metadata": {
        "collapsed": true,
        "gather": {
          "logged": 1598432765711
        },
        "jupyter": {
          "outputs_hidden": false,
          "source_hidden": false
        },
        "nteract": {
          "transient": {
            "deleting": false
          }
        }
      }
    },
    {
      "cell_type": "code",
      "source": [
        "print(webservice.get_logs())"
      ],
      "outputs": [],
      "execution_count": null,
      "metadata": {
        "jupyter": {
          "outputs_hidden": false,
          "source_hidden": false
        },
        "nteract": {
          "transient": {
            "deleting": false
          }
        }
      }
    },
    {
      "cell_type": "code",
      "source": [
        "webservice.delete()"
      ],
      "outputs": [],
      "execution_count": null,
      "metadata": {
        "collapsed": true,
        "jupyter": {
          "source_hidden": false,
          "outputs_hidden": false
        },
        "nteract": {
          "transient": {
            "deleting": false
          }
        }
      }
    }
  ],
  "metadata": {
    "kernel_info": {
      "name": "python3-azureml"
    },
    "kernelspec": {
      "name": "python3-azureml",
      "language": "python",
      "display_name": "Python 3.6 - AzureML"
    },
    "language_info": {
      "name": "python",
      "version": "3.6.9",
      "mimetype": "text/x-python",
      "codemirror_mode": {
        "name": "ipython",
        "version": 3
      },
      "pygments_lexer": "ipython3",
      "nbconvert_exporter": "python",
      "file_extension": ".py"
    },
    "nteract": {
      "version": "nteract-front-end@1.0.0"
    }
  },
  "nbformat": 4,
  "nbformat_minor": 2
}